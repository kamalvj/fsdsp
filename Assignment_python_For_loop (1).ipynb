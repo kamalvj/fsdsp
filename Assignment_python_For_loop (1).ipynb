{
 "cells": [
  {
   "cell_type": "markdown",
   "id": "3dab5cfa-ab90-403c-962e-6a3acd8e3187",
   "metadata": {},
   "source": [
    "# Basic Level: #"
   ]
  },
  {
   "cell_type": "markdown",
   "id": "3af20137-afcc-479e-b073-698687a98d70",
   "metadata": {},
   "source": [
    "1. Write a Python program to print the numbers from 1 to 10 using a `for` loop."
   ]
  },
  {
   "cell_type": "code",
   "execution_count": 2,
   "id": "ac40a0f1-ee5f-4544-bca0-fa014d542c25",
   "metadata": {},
   "outputs": [
    {
     "name": "stdout",
     "output_type": "stream",
     "text": [
      "1\n",
      "2\n",
      "3\n",
      "4\n",
      "5\n",
      "6\n",
      "7\n",
      "8\n",
      "9\n",
      "10\n"
     ]
    }
   ],
   "source": [
    "for i in range(1,11):\n",
    "    print(i)          \n"
   ]
  },
  {
   "cell_type": "markdown",
   "id": "8c2cb362-6baa-412c-93f9-d9682795990e",
   "metadata": {},
   "source": [
    "2. Create a program that calculates the sum of all numbers in a list using a `for` loop."
   ]
  },
  {
   "cell_type": "code",
   "execution_count": 5,
   "id": "59523ad2-c652-48e5-b8e7-bc3939621624",
   "metadata": {},
   "outputs": [
    {
     "name": "stdout",
     "output_type": "stream",
     "text": [
      "74\n"
     ]
    }
   ],
   "source": [
    "total=0\n",
    "list1 = [11, 5, 17, 18, 23]\n",
    "for i in list1:\n",
    "    total=total+i\n",
    "print(total)"
   ]
  },
  {
   "cell_type": "markdown",
   "id": "b81ef4b4-b189-4bd3-93ec-ea79abf629ea",
   "metadata": {},
   "source": [
    "3. Write a program to print the characters of a string in reverse order using a `for` loop."
   ]
  },
  {
   "cell_type": "code",
   "execution_count": 7,
   "id": "df7262a9-2d04-4426-afd6-943c06a125a6",
   "metadata": {},
   "outputs": [
    {
     "data": {
      "text/plain": [
       "'sllikswP olleH'"
      ]
     },
     "execution_count": 7,
     "metadata": {},
     "output_type": "execute_result"
    }
   ],
   "source": [
    "str1=\"Hello Pwskills\"\n",
    "rev_str=\"\"\n",
    "for i in str1:\n",
    "    rev_str=i+rev_str\n",
    "rev_str\n",
    "    "
   ]
  },
  {
   "cell_type": "markdown",
   "id": "b224a414-c747-4205-bd55-c44beb20544a",
   "metadata": {},
   "source": [
    "4. Develop a program that finds the factorial of a given number using a `for` loop."
   ]
  },
  {
   "cell_type": "code",
   "execution_count": 11,
   "id": "a373d93a-bdb5-4b25-8da0-a0225b581cdc",
   "metadata": {},
   "outputs": [
    {
     "name": "stdin",
     "output_type": "stream",
     "text": [
      "enter the number 5\n"
     ]
    },
    {
     "data": {
      "text/plain": [
       "120"
      ]
     },
     "execution_count": 11,
     "metadata": {},
     "output_type": "execute_result"
    }
   ],
   "source": [
    "num= int(input(\"enter the number\"))\n",
    "fact=1\n",
    "for i in range(1,num+1):\n",
    "    fact=i*fact\n",
    "fact\n",
    "    "
   ]
  },
  {
   "cell_type": "markdown",
   "id": "58c941c1-b447-49bb-a4ee-68ecf488ab02",
   "metadata": {},
   "source": [
    "5. Create a program to print the multiplication table of a given number using a `for` loop.\n"
   ]
  },
  {
   "cell_type": "code",
   "execution_count": 13,
   "id": "be6b89e2-38d6-4c01-ad50-b1478fcfc65d",
   "metadata": {},
   "outputs": [
    {
     "name": "stdin",
     "output_type": "stream",
     "text": [
      "Please enter the number to print the multiplication table 5\n"
     ]
    },
    {
     "name": "stdout",
     "output_type": "stream",
     "text": [
      "The Multiplication of table is 5\n",
      "5 X 1 = 5\n",
      "5 X 2 = 10\n",
      "5 X 3 = 15\n",
      "5 X 4 = 20\n",
      "5 X 5 = 25\n",
      "5 X 6 = 30\n",
      "5 X 7 = 35\n",
      "5 X 8 = 40\n",
      "5 X 9 = 45\n",
      "5 X 10 = 50\n"
     ]
    }
   ],
   "source": [
    "num= int(input(\"Please enter the number to print the multiplication table\"))\n",
    "print(\"The Multiplication of table is\", num) \n",
    "for i in range(1,11):\n",
    "    print(num, 'X', i, '=', num*i)"
   ]
  },
  {
   "cell_type": "markdown",
   "id": "592a5cac-3c02-4921-af34-70ac93e716b2",
   "metadata": {},
   "source": [
    "6. Write a program that counts the number of even and odd numbers in a list using a `for` loop.\n"
   ]
  },
  {
   "cell_type": "code",
   "execution_count": 14,
   "id": "9e031d37-38d9-446c-96c6-c657353c49b6",
   "metadata": {},
   "outputs": [
    {
     "name": "stdout",
     "output_type": "stream",
     "text": [
      "Even numbers in the list:  3\n",
      "Odd numbers in the list:  4\n"
     ]
    }
   ],
   "source": [
    "list1 = [10, 21, 4, 45, 66, 93, 1]\n",
    "\n",
    "even_count, odd_count = 0, 0\n",
    "\n",
    "for num in list1:\n",
    "\n",
    "\t# checking condition\n",
    "\tif num % 2 == 0:\n",
    "\t\teven_count += 1\n",
    "\n",
    "\telse:\n",
    "\t\todd_count += 1\n",
    "\n",
    "print(\"Even numbers in the list: \", even_count)\n",
    "print(\"Odd numbers in the list: \", odd_count)\n"
   ]
  },
  {
   "cell_type": "markdown",
   "id": "01c88bd5-742f-46cd-a079-a4d078c7b0fa",
   "metadata": {},
   "source": [
    "7. Develop a program that prints the squares of numbers from 1 to 5 using a `for` loop.\n"
   ]
  },
  {
   "cell_type": "code",
   "execution_count": 15,
   "id": "2a58b42e-c6e7-4251-9417-886c88e44cb8",
   "metadata": {},
   "outputs": [
    {
     "name": "stdout",
     "output_type": "stream",
     "text": [
      "1\n",
      "4\n",
      "9\n",
      "16\n",
      "25\n"
     ]
    }
   ],
   "source": [
    "for i in range(1,6):\n",
    "    print(i*i)"
   ]
  },
  {
   "cell_type": "markdown",
   "id": "5f07fc42-3045-4125-a62b-34b5f1986d07",
   "metadata": {},
   "source": [
    "8. Create a program to find the length of a string without using the `len()` function.\n"
   ]
  },
  {
   "cell_type": "code",
   "execution_count": 23,
   "id": "862a9c1a-030a-4bf7-a46d-3db885f46de5",
   "metadata": {},
   "outputs": [
    {
     "name": "stdout",
     "output_type": "stream",
     "text": [
      "8\n"
     ]
    }
   ],
   "source": [
    "my_string='Pwskills'\n",
    "cnt=0\n",
    "for i in my_string:\n",
    "    cnt+=1\n",
    "print(cnt)"
   ]
  },
  {
   "cell_type": "markdown",
   "id": "313ccd54-9364-4e15-b5f8-28678b07a190",
   "metadata": {},
   "source": [
    "9. Write a program that calculates the average of a list of numbers using a `for` loop.\n"
   ]
  },
  {
   "cell_type": "code",
   "execution_count": 2,
   "id": "d565a8cf-e756-4a51-9041-ea3492db1a5a",
   "metadata": {},
   "outputs": [
    {
     "name": "stdin",
     "output_type": "stream",
     "text": [
      "Enter number 3\n"
     ]
    },
    {
     "name": "stdout",
     "output_type": "stream",
     "text": [
      "Average of  3 numbers is:  2.0\n"
     ]
    }
   ],
   "source": [
    "n = int(input(\"Enter number\"))\n",
    "sum1 = 0\n",
    "# loop from 1 to n\n",
    "for num in range(1, n + 1, 1):\n",
    "    sum1 = sum1 + num\n",
    "average = sum1 / n\n",
    "print(\"Average of \", n, \"numbers is: \", average)"
   ]
  },
  {
   "cell_type": "markdown",
   "id": "59d6e114-cb4a-4445-98fc-1172d63dad59",
   "metadata": {},
   "source": [
    "10. Develop a program that prints the first `n` Fibonacci numbers using a `for` loop."
   ]
  },
  {
   "cell_type": "code",
   "execution_count": 26,
   "id": "ac999bd2-8b1b-4489-9966-347976159063",
   "metadata": {},
   "outputs": [
    {
     "name": "stdin",
     "output_type": "stream",
     "text": [
      "Number of elements in Fibonacci Series, N, (N>=2) :  4\n"
     ]
    },
    {
     "name": "stdout",
     "output_type": "stream",
     "text": [
      "[0, 1, 1, 2]\n"
     ]
    }
   ],
   "source": [
    "N = int(input(\"Number of elements in Fibonacci Series, N, (N>=2) : \"))\n",
    "\n",
    "#initialize the list with starting elements: 0, 1\n",
    "fibonacciSeries = [0,1]\n",
    "\n",
    "if N>2:\n",
    "\tfor i in range(2, N):\n",
    "\t\t#next elment in series = sum of its previous two numbers\n",
    "\t\tnextElement = fibonacciSeries[i-1] + fibonacciSeries[i-2]\n",
    "\t\t#append the element to the series\n",
    "\t\tfibonacciSeries.append(nextElement)\n",
    "\n",
    "print(fibonacciSeries)"
   ]
  },
  {
   "cell_type": "markdown",
   "id": "5f1a6213-2925-4a5b-9f6c-5a89570740ba",
   "metadata": {},
   "source": [
    "# Intermediate Level: #"
   ]
  },
  {
   "cell_type": "markdown",
   "id": "529a7fa2-7c65-4049-82a7-9509fc663a6e",
   "metadata": {},
   "source": [
    "11. Write a program to check if a given list contains any duplicates using a `for` loop."
   ]
  },
  {
   "cell_type": "code",
   "execution_count": 30,
   "id": "e009f3c2-b5c3-423f-b794-09f2bef06561",
   "metadata": {},
   "outputs": [
    {
     "name": "stdout",
     "output_type": "stream",
     "text": [
      "List contains duplicate values\n"
     ]
    }
   ],
   "source": [
    "numbers = [20, 20, 30, 30, 40]\n",
    "dup_flag=0\n",
    "\n",
    "unique = []\n",
    "\n",
    "for number in numbers:\n",
    "    if number in unique:\n",
    "        dup_flag = 1\n",
    "    else:\n",
    "        unique.append(number)\n",
    "if dup_flag==1:\n",
    "    print(\"List contains duplicate values\")\n",
    "else:\n",
    "    print(\"List is Unique\")\n"
   ]
  },
  {
   "cell_type": "markdown",
   "id": "66bea3fe-72fe-4e15-8a62-57640ac8ff1f",
   "metadata": {},
   "source": [
    "12. Create a program that prints the prime numbers in a given range using a `for` loop."
   ]
  },
  {
   "cell_type": "code",
   "execution_count": 31,
   "id": "599263eb-7c45-43e9-b8dc-03c2dbe35633",
   "metadata": {},
   "outputs": [
    {
     "name": "stdin",
     "output_type": "stream",
     "text": [
      "Please, Enter the Lowest Range Value:  2\n",
      "Please, Enter the Upper Range Value:  5\n"
     ]
    },
    {
     "name": "stdout",
     "output_type": "stream",
     "text": [
      "The Prime Numbers in the range are: \n",
      "2\n",
      "3\n",
      "5\n"
     ]
    }
   ],
   "source": [
    "lower_value = int(input (\"Please, Enter the Lowest Range Value: \"))  \n",
    "upper_value = int(input (\"Please, Enter the Upper Range Value: \"))  \n",
    "  \n",
    "print (\"The Prime Numbers in the range are: \")  \n",
    "for number in range (lower_value, upper_value + 1):  \n",
    "    if number > 1:  \n",
    "        for i in range (2, number):  \n",
    "            if (number % i) == 0:  \n",
    "                break  \n",
    "        else:  \n",
    "            print (number)  "
   ]
  },
  {
   "cell_type": "markdown",
   "id": "79059c47-fe2e-4a4b-b499-dc71655705ab",
   "metadata": {},
   "source": [
    "13. Develop a program that counts the number of vowels in a string using a `for` loop."
   ]
  },
  {
   "cell_type": "code",
   "execution_count": 34,
   "id": "97098cb2-ea6c-4d32-a14e-afb4b91fbf66",
   "metadata": {},
   "outputs": [
    {
     "name": "stdout",
     "output_type": "stream",
     "text": [
      "1\n"
     ]
    }
   ],
   "source": [
    "my_string='pwskills'\n",
    "vowels=['a','e','i','o','u']\n",
    "cnt=0\n",
    "for i in my_string:\n",
    "    if i in vowels:\n",
    "        cnt +=1\n",
    "print(cnt)"
   ]
  },
  {
   "cell_type": "markdown",
   "id": "f749928e-5cdf-4472-8d69-17ea0ea13cfb",
   "metadata": {},
   "source": [
    "14. Write a program to find the maximum element in a 2D list using a nested `for` loop."
   ]
  },
  {
   "cell_type": "code",
   "execution_count": 42,
   "id": "007fad65-7c19-44d5-81a9-6baab037bb28",
   "metadata": {},
   "outputs": [
    {
     "name": "stdout",
     "output_type": "stream",
     "text": [
      "99\n"
     ]
    }
   ],
   "source": [
    "#initialize list\n",
    "lst = [[20, 49, 1, 99],[10, 5, 78, 1]]\n",
    "\n",
    "#initialize largest with first element\n",
    "largest = lst[0][0]\n",
    "\n",
    "#traverse the array\n",
    "for i in lst:\n",
    "    for j in i:\n",
    "        if j>largest:\n",
    "            largest = j\n",
    "\n",
    "print(largest)"
   ]
  },
  {
   "cell_type": "markdown",
   "id": "fc3aa9aa-7d42-4031-98b7-a70767272c41",
   "metadata": {},
   "source": [
    "15. Create a program that removes all occurrences of a specific element from a list using a `for` loop."
   ]
  },
  {
   "cell_type": "code",
   "execution_count": 43,
   "id": "363c274e-ba11-4757-bb72-a5af53aff5a7",
   "metadata": {},
   "outputs": [
    {
     "name": "stdout",
     "output_type": "stream",
     "text": [
      "list after removing elements:\n",
      "[20, 30, 40, 50]\n"
     ]
    }
   ],
   "source": [
    "# list with integer elements\n",
    "list = [10, 20, 10, 30, 10, 40, 10, 50]\n",
    "# number (n) to be removed\n",
    "n = 10\n",
    "for x in list:\n",
    "    if x == n:\n",
    "        list.remove(x)\n",
    "\n",
    "print (\"list after removing elements:\")\n",
    "print (list)\n"
   ]
  },
  {
   "cell_type": "markdown",
   "id": "8c664837-33e9-4876-a19a-0ca2d7af0145",
   "metadata": {},
   "source": [
    "16. Develop a program that generates a multiplication table for numbers from 1 to 5 using a nested `for` loop."
   ]
  },
  {
   "cell_type": "code",
   "execution_count": 53,
   "id": "2e4ed72a-078a-49ea-b549-7b7d8f6afb26",
   "metadata": {},
   "outputs": [
    {
     "name": "stdout",
     "output_type": "stream",
     "text": [
      " 1  2  3  4  5  6  7  8  9 10 \n",
      "\n",
      " 2  4  6  8 10 12 14 16 18 20 \n",
      "\n",
      " 3  6  9 12 15 18 21 24 27 30 \n",
      "\n",
      " 4  8 12 16 20 24 28 32 36 40 \n",
      "\n",
      " 5 10 15 20 25 30 35 40 45 50 \n",
      "\n"
     ]
    }
   ],
   "source": [
    "rows=5 \n",
    "columns=10 \n",
    "for i in range(1,rows+1):\n",
    "    for j in range(1,columns+1):\n",
    "        c=i*j\n",
    "        print(\"{:2d} \".format(c),end='')\n",
    "    print(\"\\n\") "
   ]
  },
  {
   "cell_type": "markdown",
   "id": "25829b87-37ea-4fab-9e19-b14059313d54",
   "metadata": {},
   "source": [
    "17. Write a program that converts a list of Fahrenheit temperatures to Celsius using a `for` loop."
   ]
  },
  {
   "cell_type": "code",
   "execution_count": 54,
   "id": "c9226b64-6330-4b0b-b401-41f4b16da593",
   "metadata": {},
   "outputs": [
    {
     "name": "stdout",
     "output_type": "stream",
     "text": [
      "[32.111111111111114, 19.444444444444443, 33.333333333333336, 37.22222222222222]\n"
     ]
    }
   ],
   "source": [
    "fah = [89.8, 67.0, 92, 99]\n",
    "\n",
    "cen = []\n",
    "for f in fah:\n",
    "    c = (f - 32) * 5 / 9\n",
    "    cen.append(c)\n",
    "\n",
    "print(cen)"
   ]
  },
  {
   "cell_type": "markdown",
   "id": "d9395a94-4e7c-472b-aaae-34bff4b3dce8",
   "metadata": {},
   "source": [
    "18. Create a program to print the common elements from two lists using a `for` loop."
   ]
  },
  {
   "cell_type": "code",
   "execution_count": 55,
   "id": "aa94fb40-fe64-4cb5-a7f9-162897ae27e9",
   "metadata": {},
   "outputs": [
    {
     "data": {
      "text/plain": [
       "[5]"
      ]
     },
     "execution_count": 55,
     "metadata": {},
     "output_type": "execute_result"
    }
   ],
   "source": [
    "a = [1, 2, 3, 4, 5]\n",
    "b = [5, 6, 7, 8, 9]\n",
    "common_element=[]\n",
    "for i in a:\n",
    "     for j in b:\n",
    "            if (i==j):\n",
    "                common_element.append(i)\n",
    "common_element"
   ]
  },
  {
   "cell_type": "markdown",
   "id": "cc6269d2-8ffc-4bc1-acee-23db9ec0d2a9",
   "metadata": {},
   "source": [
    "19. Develop a program that prints the pattern of right-angled triangles using a `for` loop. Use ‘*’ to draw the pattern."
   ]
  },
  {
   "cell_type": "code",
   "execution_count": 57,
   "id": "2a297e02-71c7-4708-999f-c6367c4b758b",
   "metadata": {},
   "outputs": [
    {
     "name": "stdin",
     "output_type": "stream",
     "text": [
      "Enter row number=\n",
      " 5\n"
     ]
    },
    {
     "name": "stdout",
     "output_type": "stream",
     "text": [
      "*\n",
      "**\n",
      "***\n",
      "****\n",
      "*****\n"
     ]
    }
   ],
   "source": [
    "x=int(input(\"Enter row number=\\n\"))\n",
    "for i in range(x):\n",
    "    for j in range(i+1):\n",
    "        print(\"*\",end='')\n",
    "    print(\"\")"
   ]
  },
  {
   "cell_type": "markdown",
   "id": "8e9d0dab-b1db-45e3-b398-930c60792e9b",
   "metadata": {},
   "source": [
    "20. Write a program to find the greatest common divisor (GCD) of two numbers using a `for` loop."
   ]
  },
  {
   "cell_type": "code",
   "execution_count": 58,
   "id": "7f7be146-f8cd-4c17-bcaa-fd4053992eaa",
   "metadata": {},
   "outputs": [
    {
     "name": "stdout",
     "output_type": "stream",
     "text": [
      "GCD of 36 and 60 is 12\n"
     ]
    }
   ],
   "source": [
    "num1 = 36\n",
    "num2 = 60\n",
    "gcd = 1\n",
    " \n",
    "for i in range(1, min(num1, num2)):\n",
    "    if num1 % i == 0 and num2 % i == 0:\n",
    "        gcd = i\n",
    "print(\"GCD of\", num1, \"and\", num2, \"is\", gcd)"
   ]
  },
  {
   "cell_type": "markdown",
   "id": "85fa0bab-0fc2-4c8e-9ee2-e5beaf431173",
   "metadata": {},
   "source": [
    "# Advance Level: "
   ]
  },
  {
   "cell_type": "markdown",
   "id": "b813f32c-28af-453b-8fb5-3d72643b59d5",
   "metadata": {},
   "source": [
    "21. Create a program that calculates the sum of the digits of numbers in a list using a list comprehension."
   ]
  },
  {
   "cell_type": "code",
   "execution_count": 9,
   "id": "57c90525-0dac-4bb0-b1f3-27dd1a86b3cd",
   "metadata": {},
   "outputs": [
    {
     "data": {
      "text/plain": [
       "40"
      ]
     },
     "execution_count": 9,
     "metadata": {},
     "output_type": "execute_result"
    }
   ],
   "source": [
    "list1 = [12, 15, 3, 10]\n",
    "sum(i for i in list1)"
   ]
  },
  {
   "cell_type": "code",
   "execution_count": null,
   "id": "d5210783-2903-41e0-b66b-67a698189c8c",
   "metadata": {},
   "outputs": [],
   "source": [
    "22. Write a program to find the prime factors of a given number using a `for` loop and list comprehension."
   ]
  },
  {
   "cell_type": "code",
   "execution_count": 13,
   "id": "b3b11786-76f4-4294-a905-613b087126b5",
   "metadata": {},
   "outputs": [
    {
     "name": "stdout",
     "output_type": "stream",
     "text": [
      "[2, 5]\n",
      "[2, 5]\n"
     ]
    }
   ],
   "source": [
    "#for loop\n",
    "def prime_fac(num):\n",
    "    a = num\n",
    "    pf = []\n",
    "    #ranges in Python don't include the last element, therefore we need a + 1 to detect also prime numbers\n",
    "    for x in range(2, a + 1):\n",
    "        #check if x is divisor and repeat\n",
    "        while a % x == 0:\n",
    "            pf.append(x)\n",
    "            a = a // x\n",
    "\n",
    "        #all factors found?\n",
    "        if a == 1:\n",
    "            #yes, return list with prime factors\n",
    "            return pf\n",
    "print(prime_fac(10))\n",
    "\n",
    "#list comprehension\n",
    "def prime(n):\n",
    "    factors =[num for num in range(2,n+1) if n%num==0]\n",
    "    prime_factors = [factor for factor in factors if all(factor%divisor!=0 for divisor in range(2,int(factor**0.5)+1))]\n",
    "    return prime_factors\n",
    "print(prime(10))"
   ]
  },
  {
   "cell_type": "markdown",
   "id": "ef1875f7-2e21-4661-b297-abce29591eeb",
   "metadata": {},
   "source": [
    "23. Develop a program that extracts unique elements from a list and stores them in a new list using a list comprehension."
   ]
  },
  {
   "cell_type": "code",
   "execution_count": 7,
   "id": "3c64bb76-9c84-4eb8-8e20-c9de00334621",
   "metadata": {},
   "outputs": [
    {
     "name": "stdout",
     "output_type": "stream",
     "text": [
      "[1, 2, 3, 4, 5, 6, 7, 8]\n"
     ]
    }
   ],
   "source": [
    "original_list = [1, 2, 3, 2, 4, 5, 3, 6, 7, 6, 8]\n",
    "#new_list = list(set([x for x in original_list]))\n",
    "l= list(set(a for a in original_list))\n",
    "print(l)"
   ]
  },
  {
   "cell_type": "markdown",
   "id": "1a2cc5d6-671c-417f-a975-4e375442b4ab",
   "metadata": {},
   "source": [
    "24. Create a program that generates a list of all palindromic numbers up to a specified limit using a list comprehension."
   ]
  },
  {
   "cell_type": "code",
   "execution_count": 12,
   "id": "b2d97ca9-aa02-4ba0-b0b1-e904dc3eca75",
   "metadata": {},
   "outputs": [
    {
     "name": "stdin",
     "output_type": "stream",
     "text": [
      "Enter the limit 50\n"
     ]
    },
    {
     "name": "stdout",
     "output_type": "stream",
     "text": [
      "[0, 1, 2, 3, 4, 5, 6, 7, 8, 9, 11, 22, 33, 44]\n"
     ]
    }
   ],
   "source": [
    "limit=int(input('Enter the limit'))\n",
    "palindrome_list=[num for num in range(limit+1) if str(num) == str(num)[::-1]]\n",
    "print(palindrome_list)"
   ]
  },
  {
   "cell_type": "markdown",
   "id": "13f6873f-e463-4ad7-8ef7-d394522b1893",
   "metadata": {},
   "source": [
    "25. Write a program to flatten a nested list using list comprehension"
   ]
  },
  {
   "cell_type": "code",
   "execution_count": 27,
   "id": "1df5159c-bc81-48a3-a322-9145911568c8",
   "metadata": {},
   "outputs": [
    {
     "name": "stdout",
     "output_type": "stream",
     "text": [
      "[1, 2, 3, 4, 5, 6, 7, 8, 9]\n"
     ]
    }
   ],
   "source": [
    "nested_list = [[1, 2, 3], [4, 5], [6, 7, 8, 9]]\n",
    "flatten_list = [list1 for l1 in nested_list for list1 in l1]\n",
    "print(flatten_list)"
   ]
  },
  {
   "cell_type": "markdown",
   "id": "80fff380-c478-41c6-b991-1296803cfdc7",
   "metadata": {},
   "source": [
    "26. Develop a program that computes the sum of even and odd numbers in a list separately using list comprehension."
   ]
  },
  {
   "cell_type": "code",
   "execution_count": 35,
   "id": "47ed4376-a406-4d0b-8aae-0c1262c34ae6",
   "metadata": {},
   "outputs": [
    {
     "name": "stdout",
     "output_type": "stream",
     "text": [
      "Sum of even numbers: 30\n",
      "Sum of odd numbers: 25\n"
     ]
    }
   ],
   "source": [
    "numbers = [1, 2, 3, 4, 5, 6, 7, 8, 9, 10]\n",
    "even_sum = sum([num for num in numbers if num % 2 == 0])\n",
    "odd_sum = sum([num for num in numbers if num % 2 != 0])\n",
    "print(\"Sum of even numbers:\", even_sum)\n",
    "print(\"Sum of odd numbers:\", odd_sum)"
   ]
  },
  {
   "cell_type": "markdown",
   "id": "0f1f244d-a374-4a5b-aaad-3d1fdc7d9303",
   "metadata": {},
   "source": [
    "27. Create a program that generates a list of squares of odd numbers between 1 and 10 using list comprehension."
   ]
  },
  {
   "cell_type": "code",
   "execution_count": 38,
   "id": "034b51e0-92a3-4a55-bebf-defd496d5e25",
   "metadata": {},
   "outputs": [
    {
     "data": {
      "text/plain": [
       "[1, 9, 25, 49, 81]"
      ]
     },
     "execution_count": 38,
     "metadata": {},
     "output_type": "execute_result"
    }
   ],
   "source": [
    "odd_num_sqr=[i**2 for i in range(1,11) if i % 2 != 0]\n",
    "odd_num_sqr"
   ]
  },
  {
   "cell_type": "markdown",
   "id": "d9590df7-7463-42ca-b565-4c509ba8a79f",
   "metadata": {},
   "source": [
    "28. Write a program that combines two lists into a dictionary using list comprehension."
   ]
  },
  {
   "cell_type": "code",
   "execution_count": 39,
   "id": "1d776b1b-0bbb-43b5-a207-afbd278ac115",
   "metadata": {},
   "outputs": [
    {
     "name": "stdout",
     "output_type": "stream",
     "text": [
      "{'key1': 1, 'key2': 2, 'key3': 3}\n"
     ]
    }
   ],
   "source": [
    "keys = ['key1', 'key2', 'key3']\n",
    "values = [1, 2, 3]\n",
    "my_dict = {keys[i]: values[i] for i in range(len(keys))}\n",
    "print(my_dict)"
   ]
  },
  {
   "cell_type": "markdown",
   "id": "0f644d9c-b15e-4570-b45f-2f0e7a5fa0b0",
   "metadata": {},
   "source": [
    "29. Develop a program that extracts the vowels from a string and stores them in a list using list comprehension."
   ]
  },
  {
   "cell_type": "code",
   "execution_count": 44,
   "id": "d24de1ee-e523-4977-bbb4-e0d7c76021cc",
   "metadata": {},
   "outputs": [
    {
     "data": {
      "text/plain": [
       "['i']"
      ]
     },
     "execution_count": 44,
     "metadata": {},
     "output_type": "execute_result"
    }
   ],
   "source": [
    "in_str='Pwskills'\n",
    "vowels =['a','e','i','o','u','A','E','I','O','U']\n",
    "vowels_words= [i for i in in_str if i in vowels]\n",
    "vowels_words"
   ]
  },
  {
   "cell_type": "markdown",
   "id": "3b17f485-a34e-41f3-a8f9-1590c5c5112c",
   "metadata": {},
   "source": [
    "30. Create a program that removes all non-numeric characters from a list of strings using list comprehension."
   ]
  },
  {
   "cell_type": "code",
   "execution_count": 45,
   "id": "913b5c8e-9d3e-4115-837d-acaa2ac67d8a",
   "metadata": {},
   "outputs": [
    {
     "name": "stdout",
     "output_type": "stream",
     "text": [
      "['123', '456', '789']\n"
     ]
    }
   ],
   "source": [
    "my_list = ['abc123', 'def456', 'ghi789']\n",
    "new_list = [''.join([char for char in string if char.isnumeric()]) for string in my_list]\n",
    "print(new_list)"
   ]
  },
  {
   "cell_type": "markdown",
   "id": "5de578f5-0538-4ea0-912b-eccdfdd4da4e",
   "metadata": {},
   "source": [
    "# Challenge Level"
   ]
  },
  {
   "cell_type": "markdown",
   "id": "d348cdb4-5c62-4645-9aed-8476487cbb98",
   "metadata": {},
   "source": [
    "31. Write a program to generate a list of prime numbers using the Sieve of Eratosthenes algorithm and list comprehension."
   ]
  },
  {
   "cell_type": "code",
   "execution_count": 47,
   "id": "a7160f94-c5f9-47ae-b093-3daa2ac21725",
   "metadata": {},
   "outputs": [
    {
     "data": {
      "text/plain": [
       "[2, 3, 5]"
      ]
     },
     "execution_count": 47,
     "metadata": {},
     "output_type": "execute_result"
    }
   ],
   "source": [
    "def sieve_of_eratosthenes(n):\n",
    "    primes = [True] * (n+1)\n",
    "    primes[0] = primes[1] = False\n",
    "    for i in range(2, int(n**0.5)+1):\n",
    "        if primes[i]:\n",
    "            primes[i*i:n+1:i] = [False] * len(primes[i*i:n+1:i])\n",
    "    return [i for i in range(2, n+1) if primes[i]]\n",
    "sieve_of_eratosthenes(5)"
   ]
  },
  {
   "cell_type": "markdown",
   "id": "555e352d-6900-46a4-90d3-306cd6e59a39",
   "metadata": {},
   "source": [
    "32. Create a program that generates a list of all Pythagorean triplets up to a specified limit using list comprehension."
   ]
  },
  {
   "cell_type": "code",
   "execution_count": 48,
   "id": "967f1913-57fd-49ba-9562-29a54e9e41ec",
   "metadata": {},
   "outputs": [
    {
     "name": "stdout",
     "output_type": "stream",
     "text": [
      "[(3, 4, 5), (6, 8, 10), (5, 12, 13), (9, 12, 15), (8, 15, 17), (12, 16, 20)]\n"
     ]
    }
   ],
   "source": [
    "limit = 20\n",
    "triplets = [(a, b, c) for c in range(1, limit+1) for b in range(1, c) for a in range(1, b) if a**2 + b**2 == c**2]\n",
    "print(triplets)"
   ]
  },
  {
   "cell_type": "markdown",
   "id": "aa74bfd3-8585-46ab-bf42-c114fc49585b",
   "metadata": {},
   "source": [
    "33. Develop a program that generates a list of all possible combinations of two lists using list comprehension."
   ]
  },
  {
   "cell_type": "code",
   "execution_count": 4,
   "id": "d79a0507-32d7-49c1-8000-7b2c2dffb70e",
   "metadata": {},
   "outputs": [
    {
     "name": "stdout",
     "output_type": "stream",
     "text": [
      "[(1, 'a'), (1, 'b'), (1, 'c'), (2, 'a'), (2, 'b'), (2, 'c'), (3, 'a'), (3, 'b'), (3, 'c')]\n"
     ]
    }
   ],
   "source": [
    "list1 = [1, 2, 3]\n",
    "list2 = ['a', 'b', 'c']\n",
    "final_combinations = [(x, y) for x in list1 for y in list2]\n",
    "print(final_combinations)"
   ]
  },
  {
   "cell_type": "markdown",
   "id": "a6cc6169-2c6a-4c74-a538-0ca4fab434da",
   "metadata": {},
   "source": [
    "34. Write a program that calculates the mean, median, and mode of a list of numbers using list comprehension."
   ]
  },
  {
   "cell_type": "code",
   "execution_count": 14,
   "id": "3e2f5c69-2dfe-4293-913d-bd6393983627",
   "metadata": {},
   "outputs": [
    {
     "name": "stdout",
     "output_type": "stream",
     "text": [
      "Mean: 5.0\n",
      "Median: 5.0\n",
      "Mode: [5]\n"
     ]
    }
   ],
   "source": [
    "# Define a list of numbers\n",
    "numbers = [1, 2, 3, 4, 5, 5, 6, 7, 8, 9]\n",
    "\n",
    "# Calculate the mean using list comprehension\n",
    "mean_of_numbers = sum(numbers) / len(numbers)\n",
    "\n",
    "# Calculate the median using list comprehension\n",
    "n = len(numbers)\n",
    "sorted_numbers = sorted(numbers)\n",
    "median_of_numbers = (sorted_numbers[n//2] + sorted_numbers[(n-1)//2]) / 2\n",
    "\n",
    "# Calculate the mode using list comprehension\n",
    "from collections import Counter\n",
    "def my_mode(sample):\n",
    "    c = Counter(sample)\n",
    "    return [k for k, v in c.items() if v == c.most_common(1)[0][1]]\n",
    "\n",
    "# Print the results\n",
    "print(\"Mean:\", mean_of_numbers)\n",
    "print(\"Median:\", median_of_numbers)\n",
    "print(\"Mode:\",  my_mode(numbers))"
   ]
  },
  {
   "cell_type": "markdown",
   "id": "4d3ae6fe-401f-4bdf-a70e-15bd4d2f7ff5",
   "metadata": {},
   "source": [
    "35. Create a program that generates Pascal's triangle up to a specified number of rows using list comprehension."
   ]
  },
  {
   "cell_type": "code",
   "execution_count": 15,
   "id": "d7412f27-b000-4605-bc00-e79030893584",
   "metadata": {},
   "outputs": [
    {
     "data": {
      "text/plain": [
       "[[1], [1, 1], [1, 2, 1], [1, 3, 3, 1], [1, 4, 6, 4, 1]]"
      ]
     },
     "execution_count": 15,
     "metadata": {},
     "output_type": "execute_result"
    }
   ],
   "source": [
    "def pascal_triangle(n):\n",
    "    triangle = [[1] * (i+1) for i in range(n)]\n",
    "    for i in range(n):\n",
    "        for j in range(1, i):\n",
    "            triangle[i][j] = triangle[i-1][j-1] + triangle[i-1][j]\n",
    "    return triangle\n",
    "pascal_triangle(5)"
   ]
  },
  {
   "cell_type": "markdown",
   "id": "4cd6b3aa-fb2d-4cba-a334-5f378d0a26b2",
   "metadata": {},
   "source": [
    "36. Develop a program that calculates the sum of the digits of a factorial of numbers from 1 to 5 using list comprehension."
   ]
  },
  {
   "cell_type": "code",
   "execution_count": 63,
   "id": "35477268-7260-4aba-a20d-2cfad8a2997a",
   "metadata": {},
   "outputs": [
    {
     "name": "stdout",
     "output_type": "stream",
     "text": [
      "[1, 2, 6, 6, 3]\n"
     ]
    }
   ],
   "source": [
    "# Define a function to calculate the factorial of a number\n",
    "def factorial(n):\n",
    "    if n == 0:\n",
    "        return 1\n",
    "    else:\n",
    "        return n * factorial(n-1)\n",
    "\n",
    "# Use list comprehension to calculate the sum of the digits of the factorial of numbers from 1 to 5\n",
    "sum_of_digits = [sum(int(digit) for digit in str(factorial(n))) for n in range(1, 6)]\n",
    "\n",
    "# Print the result\n",
    "print(sum_of_digits)"
   ]
  },
  {
   "cell_type": "markdown",
   "id": "c91fb59e-443f-4454-932b-33619b8cd60b",
   "metadata": {},
   "source": [
    "37. Write a program that finds the longest word in a sentence using list comprehension."
   ]
  },
  {
   "cell_type": "code",
   "execution_count": 65,
   "id": "5d66e391-45e4-40f2-8ff5-dca74901d46f",
   "metadata": {},
   "outputs": [
    {
     "name": "stdin",
     "output_type": "stream",
     "text": [
      "Enter a sentence:  Hello Pwskills\n"
     ]
    },
    {
     "name": "stdout",
     "output_type": "stream",
     "text": [
      "The longest word is: Pwskills\n"
     ]
    }
   ],
   "source": [
    "sentence = input(\"Enter a sentence: \")\n",
    "longest_word = max([word for word in sentence.split()], key=len)\n",
    "print(\"The longest word is:\", longest_word)"
   ]
  },
  {
   "cell_type": "markdown",
   "id": "eaf28925-5435-4c96-bf4e-1216c54d943c",
   "metadata": {},
   "source": [
    "38. Create a program that filters a list of strings to include only those with more than three vowels using list comprehension."
   ]
  },
  {
   "cell_type": "code",
   "execution_count": 68,
   "id": "7721e530-d711-43bd-85d0-e8c9b3685cbe",
   "metadata": {},
   "outputs": [
    {
     "name": "stdout",
     "output_type": "stream",
     "text": [
      "['grapefruit']\n"
     ]
    }
   ],
   "source": [
    "my_list = [\"hello\", \"world\", \"apple\", \"banana\", \"orange\", \"grapefruit\"]\n",
    "filtered_list = [string for string in my_list if len([char for char in string if char in \"aeiouAEIOU\"]) > 3]\n",
    "print(filtered_list)"
   ]
  },
  {
   "cell_type": "markdown",
   "id": "6a8983b6-c995-4f68-b34f-fce6cf54c262",
   "metadata": {},
   "source": [
    "39. Develop a program that calculates the sum of the digits of numbers from 1 to 1000 using list comprehension."
   ]
  },
  {
   "cell_type": "code",
   "execution_count": 69,
   "id": "92674233-cdcb-431f-9f7c-ceeacf599ea7",
   "metadata": {},
   "outputs": [
    {
     "name": "stdout",
     "output_type": "stream",
     "text": [
      "13501\n"
     ]
    }
   ],
   "source": [
    "# Define a function to calculate the sum of digits of a number\n",
    "def sum_of_digits(n):\n",
    "    return sum(int(d) for d in str(n))\n",
    "\n",
    "# Create a list of numbers from 1 to 1000 using list comprehension\n",
    "numbers = [i for i in range(1, 1001)]\n",
    "\n",
    "# Use list comprehension to apply the function to each number in the list\n",
    "sums_of_digits = [sum_of_digits(n) for n in numbers]\n",
    "\n",
    "# Use sum() function to find the sum of all the sums of digits\n",
    "result = sum(sums_of_digits)\n",
    "\n",
    "print(result)"
   ]
  },
  {
   "cell_type": "markdown",
   "id": "fc3a7e12-5519-4085-b932-9641d092a70e",
   "metadata": {},
   "source": [
    "40. Write a program that generates a list of prime palindromic numbers using list comprehension."
   ]
  },
  {
   "cell_type": "code",
   "execution_count": 71,
   "id": "194745e6-2795-4228-8abc-9f66c2e33c3c",
   "metadata": {},
   "outputs": [
    {
     "data": {
      "text/plain": [
       "[2,\n",
       " 3,\n",
       " 5,\n",
       " 7,\n",
       " 11,\n",
       " 101,\n",
       " 131,\n",
       " 151,\n",
       " 181,\n",
       " 191,\n",
       " 313,\n",
       " 353,\n",
       " 373,\n",
       " 383,\n",
       " 727,\n",
       " 757,\n",
       " 787,\n",
       " 797,\n",
       " 919,\n",
       " 929]"
      ]
     },
     "execution_count": 71,
     "metadata": {},
     "output_type": "execute_result"
    }
   ],
   "source": [
    "# Generate a list of prime numbers using list comprehension\n",
    "primes = [x for x in range(2, 1000) if all(x % y != 0 for y in range(2, int(x**0.5)+1))]\n",
    "\n",
    "# Filter out the palindromic numbers from the list of primes using another list comprehension\n",
    "palindromic_primes = [x for x in primes if str(x) == str(x)[::-1]]\n",
    "palindromic_primes"
   ]
  },
  {
   "cell_type": "code",
   "execution_count": null,
   "id": "9927b80e-6058-4ee3-ba80-defb39964f26",
   "metadata": {},
   "outputs": [],
   "source": []
  }
 ],
 "metadata": {
  "kernelspec": {
   "display_name": "Python 3 (ipykernel)",
   "language": "python",
   "name": "python3"
  },
  "language_info": {
   "codemirror_mode": {
    "name": "ipython",
    "version": 3
   },
   "file_extension": ".py",
   "mimetype": "text/x-python",
   "name": "python",
   "nbconvert_exporter": "python",
   "pygments_lexer": "ipython3",
   "version": "3.10.8"
  }
 },
 "nbformat": 4,
 "nbformat_minor": 5
}
