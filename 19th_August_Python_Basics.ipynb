{
 "cells": [
  {
   "cell_type": "markdown",
   "id": "6d471c3a-55d4-4593-a870-a7bf6daebb27",
   "metadata": {},
   "source": [
    "1. Declare two variables, `x` and `y`, and assign them integer values. Swap the\n",
    "values of these variables without using any temporary variable."
   ]
  },
  {
   "cell_type": "code",
   "execution_count": 21,
   "id": "193b90a0-7bdb-40ea-ae9a-b482c875b09c",
   "metadata": {},
   "outputs": [
    {
     "name": "stdout",
     "output_type": "stream",
     "text": [
      "5 7\n"
     ]
    }
   ],
   "source": [
    "x,y=7,5\n",
    "x=x+y\n",
    "y=x-y\n",
    "x=x-y\n",
    "print(x,y)"
   ]
  },
  {
   "cell_type": "markdown",
   "id": "16212c5d-e91c-489a-bb9e-9316c6f87ea9",
   "metadata": {},
   "source": [
    "2. Create a program that calculates the area of a rectangle. Take the length and\n",
    "width as inputs from the user and store them in variables. Calculate and\n",
    "display the area."
   ]
  },
  {
   "cell_type": "code",
   "execution_count": 30,
   "id": "65feedc9-a86b-42ff-99cf-7e0ba53609c7",
   "metadata": {},
   "outputs": [
    {
     "name": "stdin",
     "output_type": "stream",
     "text": [
      "Please Enter The Length Of a Rectangle:  13\n",
      "Please Enter The width Of a Rectangle:  14\n"
     ]
    },
    {
     "name": "stdout",
     "output_type": "stream",
     "text": [
      "The Area Of Rectangle is: 182\n"
     ]
    }
   ],
   "source": [
    "a=int(input(\"Please Enter The Length Of a Rectangle: \"))\n",
    "b=int(input(\"Please Enter The width Of a Rectangle: \"))\n",
    "print(\"The Area Of Rectangle is:\", a*b)"
   ]
  },
  {
   "cell_type": "markdown",
   "id": "10941369-f638-4127-9538-dc758e2b500b",
   "metadata": {},
   "source": [
    "3. Write a Python program that converts temperatures from Celsius to\n",
    "Fahrenheit. Take the temperature in Celsius as input, store it in a variable,\n",
    "convert it to Fahrenheit, and display the result."
   ]
  },
  {
   "cell_type": "code",
   "execution_count": 50,
   "id": "126213bb-c713-4833-a23d-d0e1a3dc8c09",
   "metadata": {},
   "outputs": [
    {
     "name": "stdin",
     "output_type": "stream",
     "text": [
      "Please Enter The Temperature In Celsius.):  34\n"
     ]
    },
    {
     "name": "stdout",
     "output_type": "stream",
     "text": [
      "The Temperature In Degree Is 93.2 Fahrenheit.\n"
     ]
    }
   ],
   "source": [
    "degree=int(input(\"Please Enter The Temperature In Celsius.): \"))\n",
    "fahrenheit = (degree * 1.8) + 32\n",
    "print(\"The Temperature In Degree Is\", fahrenheit,\"Fahrenheit.\")"
   ]
  },
  {
   "cell_type": "raw",
   "id": "0097d396-7789-4cc4-8efa-9cb50ff5ce45",
   "metadata": {},
   "source": [
    "TOPIC: String Based Questions"
   ]
  },
  {
   "cell_type": "markdown",
   "id": "53997e2e-f1a0-414b-aef2-d99deaa9ab27",
   "metadata": {},
   "source": [
    "1. Write a Python program that takes a string as input and prints the length of\n",
    "the string."
   ]
  },
  {
   "cell_type": "code",
   "execution_count": 52,
   "id": "e1e445ab-9d9b-444a-9c59-b2b827dba8dd",
   "metadata": {},
   "outputs": [
    {
     "name": "stdin",
     "output_type": "stream",
     "text": [
      "Please enter the string:  My Name is Hello\n"
     ]
    },
    {
     "name": "stdout",
     "output_type": "stream",
     "text": [
      "The length of the given input is: 16\n"
     ]
    }
   ],
   "source": [
    "a=input(\"Please enter the string: \")\n",
    "length=(len(a))\n",
    "print(\"The length of the given input is:\",length)"
   ]
  },
  {
   "cell_type": "markdown",
   "id": "aac00d43-c409-4886-b438-b540775f0f16",
   "metadata": {},
   "source": [
    "2. Create a program that takes a sentence from the user and counts the number\n",
    "of vowels (a, e, i, o, u) in the string."
   ]
  },
  {
   "cell_type": "code",
   "execution_count": 59,
   "id": "fda07b68-79f8-4f2a-a599-9671f770f3d0",
   "metadata": {},
   "outputs": [
    {
     "name": "stdin",
     "output_type": "stream",
     "text": [
      "Please enter the sentence:  I Am the bEst\n"
     ]
    },
    {
     "name": "stdout",
     "output_type": "stream",
     "text": [
      "No. of vowels is : 4\n"
     ]
    }
   ],
   "source": [
    "sentence = input(\"Please enter the sentence: \")\n",
    "vowels = set(\"aeiouAEIOU\")\n",
    "count = 0\n",
    "for s in sentence:\n",
    "    if s in vowels:\n",
    "        count=count+1\n",
    "print(\"No. of vowels is :\", count)\n"
   ]
  },
  {
   "cell_type": "markdown",
   "id": "d93d71de-08ee-4b31-87ac-c7f5423bfd73",
   "metadata": {},
   "source": [
    "3. Given a string, reverse the order of characters using string slicing and print\n",
    "the reversed string."
   ]
  },
  {
   "cell_type": "code",
   "execution_count": 58,
   "id": "21c0e2f1-31a1-4209-ba5c-3fb6093ec53a",
   "metadata": {},
   "outputs": [
    {
     "name": "stdout",
     "output_type": "stream",
     "text": [
      "eht\n"
     ]
    }
   ],
   "source": [
    "a = \"the\"\n",
    "print(a[::-1])"
   ]
  },
  {
   "cell_type": "markdown",
   "id": "573c9d38-16b0-4227-acc1-bc0534bb0019",
   "metadata": {},
   "source": [
    "4. Write a program that takes a string as input and checks if it is a palindrome\n",
    "(reads the same forwards and backwards)."
   ]
  },
  {
   "cell_type": "code",
   "execution_count": 70,
   "id": "b5a6d3b1-035d-4673-9a34-55a27e028873",
   "metadata": {},
   "outputs": [
    {
     "name": "stdin",
     "output_type": "stream",
     "text": [
      "Please enter the string:  Tht\n"
     ]
    },
    {
     "name": "stdout",
     "output_type": "stream",
     "text": [
      "The string is a palindrome.\n"
     ]
    }
   ],
   "source": [
    "in_str = input(\"Please enter the string: \")\n",
    "in_str=in_str.lower()\n",
    "rev_str=in_str[::-1]\n",
    "if (list (in_str) == list (rev_str)):\n",
    "    print (\"The string is a palindrome.\")\n",
    "else:\n",
    "    print (\"The string is not a palindrome.\")"
   ]
  },
  {
   "cell_type": "markdown",
   "id": "535f82eb-83e3-4641-b4bb-180edd647435",
   "metadata": {},
   "source": [
    "5. Create a program that takes a string as input and removes all the spaces from\n",
    "it. Print the modified string without spaces."
   ]
  },
  {
   "cell_type": "code",
   "execution_count": 81,
   "id": "83354b21-937d-4126-b4a6-ba7af72a3d5a",
   "metadata": {},
   "outputs": [
    {
     "name": "stdin",
     "output_type": "stream",
     "text": [
      "Please enter the string:  ho   \n"
     ]
    },
    {
     "name": "stdout",
     "output_type": "stream",
     "text": [
      "ho\n"
     ]
    }
   ],
   "source": [
    "in_str = input(\"Please enter the string: \")\n",
    "o_str=in_str.strip()\n",
    "print(o_str)"
   ]
  },
  {
   "cell_type": "code",
   "execution_count": null,
   "id": "9607cda9-8ddc-4a93-92c8-403ce1c78033",
   "metadata": {},
   "outputs": [],
   "source": []
  },
  {
   "cell_type": "code",
   "execution_count": null,
   "id": "ba0ee299-3b6d-4852-b21f-83cc1972f0b0",
   "metadata": {},
   "outputs": [],
   "source": []
  }
 ],
 "metadata": {
  "kernelspec": {
   "display_name": "Python 3 (ipykernel)",
   "language": "python",
   "name": "python3"
  },
  "language_info": {
   "codemirror_mode": {
    "name": "ipython",
    "version": 3
   },
   "file_extension": ".py",
   "mimetype": "text/x-python",
   "name": "python",
   "nbconvert_exporter": "python",
   "pygments_lexer": "ipython3",
   "version": "3.10.8"
  }
 },
 "nbformat": 4,
 "nbformat_minor": 5
}
