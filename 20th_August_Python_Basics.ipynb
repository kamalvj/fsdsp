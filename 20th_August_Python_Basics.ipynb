{
 "cells": [
  {
   "cell_type": "markdown",
   "id": "d5deb9a1-69ef-4edc-b212-1a48c288ff26",
   "metadata": {},
   "source": [
    "# TOPIC: String Based Assignment Problem #"
   ]
  },
  {
   "cell_type": "markdown",
   "id": "ce1d304d-0b33-435f-b2b4-be1160bb7065",
   "metadata": {},
   "source": [
    "1. Write a program to reverse a string."
   ]
  },
  {
   "cell_type": "code",
   "execution_count": 17,
   "id": "fda76c07-6d99-4004-9e3f-654a490b15a0",
   "metadata": {},
   "outputs": [
    {
     "name": "stdout",
     "output_type": "stream",
     "text": [
      "eht\n"
     ]
    }
   ],
   "source": [
    "a = \"the\"\n",
    "print(a[::-1])"
   ]
  },
  {
   "cell_type": "markdown",
   "id": "8a971bec-3e12-41a8-84e3-533f3a5ae0f3",
   "metadata": {},
   "source": [
    "2. Check if a string is a palindrome."
   ]
  },
  {
   "cell_type": "code",
   "execution_count": 2,
   "id": "7a1c7b01-d35d-4dd1-8df3-e0bb1c441d05",
   "metadata": {},
   "outputs": [],
   "source": [
    "in_str = input(\"Please enter the string: \")\n",
    "in_str=in_str.lower()\n",
    "rev_str=in_str[::-1]\n",
    "if (list (in_str) == list (rev_str)):\n",
    "    print (\"The string is a palindrome.\")\n",
    "else:\n",
    "    print (\"The string is not a palindrome.\")"
   ]
  },
  {
   "cell_type": "markdown",
   "id": "07ccb3c5-6714-4a2b-aa75-552fe4801bb5",
   "metadata": {},
   "source": [
    "3. Convert a string to uppercase."
   ]
  },
  {
   "cell_type": "code",
   "execution_count": 3,
   "id": "00ca8c87-beef-45a7-a15a-6d92832e533d",
   "metadata": {},
   "outputs": [],
   "source": [
    "in_str='Hello'\n",
    "out_str=in_str.upper()\n",
    "print(out_str)"
   ]
  },
  {
   "cell_type": "markdown",
   "id": "d159806e-42c9-4304-ac2c-64c677626436",
   "metadata": {},
   "source": [
    "4. Convert a string to lowercase."
   ]
  },
  {
   "cell_type": "code",
   "execution_count": 4,
   "id": "0180d596-3063-4912-aa43-439ff51d24ed",
   "metadata": {},
   "outputs": [],
   "source": [
    "in_str='Hello'\n",
    "out_str=in_str.lower()\n",
    "print(out_str)"
   ]
  },
  {
   "cell_type": "markdown",
   "id": "ebee856b-140a-4bc6-a5ea-68cc4a36b9d4",
   "metadata": {},
   "source": [
    "5. Count the number of vowels in a string."
   ]
  },
  {
   "cell_type": "code",
   "execution_count": 5,
   "id": "6c6c12c4-8d73-4712-aef2-3355c564c3de",
   "metadata": {},
   "outputs": [],
   "source": [
    "string = input(\"Please enter the string: \")\n",
    "vowels = set(\"aeiouAEIOU\")\n",
    "count = 0\n",
    "for s in string:\n",
    "    if s in vowels:\n",
    "        count=count+1\n",
    "print(\"No. of vowels is :\", count)"
   ]
  },
  {
   "cell_type": "markdown",
   "id": "fefc6044-75c7-4158-961c-c5f593b10191",
   "metadata": {},
   "source": [
    "6. Count the number of consonants in a string."
   ]
  },
  {
   "cell_type": "code",
   "execution_count": 8,
   "id": "6a5a34fc-3fab-4b69-964d-3df807ebce92",
   "metadata": {},
   "outputs": [],
   "source": [
    "string = input(\"Please enter the string: \")\n",
    "vowels = set(\"aeiouAEIOU\")\n",
    "count = 0\n",
    "for s in string:\n",
    "    if s not in vowels:\n",
    "        count=count+1\n",
    "print(\"No. of consonants is :\", count)"
   ]
  },
  {
   "cell_type": "markdown",
   "id": "2847ba75-800b-4281-afc0-d2eef94f4b82",
   "metadata": {},
   "source": [
    "7. Remove all whitespaces from a string."
   ]
  },
  {
   "cell_type": "code",
   "execution_count": 10,
   "id": "b1be28ac-6a9f-47c2-92d5-2cdebb58c5e6",
   "metadata": {},
   "outputs": [],
   "source": [
    "text = \"   Hello, World!   \"\n",
    "trimmed_text = text.strip()\n",
    "print(trimmed_text)"
   ]
  },
  {
   "cell_type": "markdown",
   "id": "457354b2-97ef-4ba5-91e3-32a608719108",
   "metadata": {},
   "source": [
    "8. Find the length of a string without using the `len()` function."
   ]
  },
  {
   "cell_type": "code",
   "execution_count": 13,
   "id": "9f2881fb-8357-4ee6-ac78-bd9deb46ad92",
   "metadata": {},
   "outputs": [],
   "source": [
    "string='hello'\n",
    "cnt=0\n",
    "for s in string:\n",
    "    cnt=cnt+1\n",
    "print(cnt) "
   ]
  },
  {
   "cell_type": "markdown",
   "id": "249da5e2-9ca2-451e-b02b-df47f529ffd1",
   "metadata": {},
   "source": [
    "9. Check if a string contains a specific word."
   ]
  },
  {
   "cell_type": "code",
   "execution_count": 14,
   "id": "7b2b0b47-0e0c-4f9c-b0db-19811cc0e068",
   "metadata": {},
   "outputs": [],
   "source": [
    "if 'Mon' in 'Monday':\n",
    "    print('Found')\n",
    "else:\n",
    "    print('Not Found')"
   ]
  },
  {
   "cell_type": "markdown",
   "id": "7bf442f0-5184-472a-9668-a34ed7fa5e39",
   "metadata": {},
   "source": [
    "10. Replace a word in a string with another word."
   ]
  },
  {
   "cell_type": "code",
   "execution_count": 15,
   "id": "d4648296-0738-4c5e-8e62-93fefaa7130c",
   "metadata": {},
   "outputs": [],
   "source": [
    "in_string='Monday'\n",
    "out_string=in_string.replace('Mon','Sun')\n",
    "print(out_string)"
   ]
  },
  {
   "cell_type": "markdown",
   "id": "29fe9852-44a2-4382-a639-c1ee0cac80df",
   "metadata": {},
   "source": [
    "11. Count the occurrences of a word in a string."
   ]
  },
  {
   "cell_type": "code",
   "execution_count": 18,
   "id": "dadc451a-cd51-4c42-ae0d-8d9a9892d89c",
   "metadata": {},
   "outputs": [],
   "source": [
    "str =\"PWSkills - A One Stop Tech Solution.\"\n",
    "word =\"PWSkills\"\n",
    "a = str.split(\" \") \n",
    "count = 0\n",
    "for i in range(0, len(a)):\n",
    "    if (word == a[i]):\n",
    "       count = count + 1\n",
    "print(count)  "
   ]
  },
  {
   "cell_type": "markdown",
   "id": "7b970543-3e87-46ca-bfe8-521acb48ada0",
   "metadata": {},
   "source": [
    "12. Find the first occurrence of a word in a string."
   ]
  },
  {
   "cell_type": "code",
   "execution_count": 20,
   "id": "616c5b83-0526-423e-a9ad-85706f170cec",
   "metadata": {},
   "outputs": [],
   "source": [
    "txt = \"Hello, welcome to my home.\"\n",
    "x = txt.find(\"e\")\n",
    "print(x)"
   ]
  },
  {
   "cell_type": "markdown",
   "id": "af4b3feb-04db-4a53-a37a-043d84a4444e",
   "metadata": {},
   "source": [
    "13. Find the last occurrence of a word in a string."
   ]
  },
  {
   "cell_type": "code",
   "execution_count": 21,
   "id": "edb0d275-61cc-48a4-8969-43991cce2996",
   "metadata": {},
   "outputs": [],
   "source": [
    "txt = \"Hello, welcome to my home.\"\n",
    "x = txt.rfind(\"e\")\n",
    "print(x)"
   ]
  },
  {
   "cell_type": "markdown",
   "id": "86c32817-9ab2-4e07-b5d5-1786954408da",
   "metadata": {},
   "source": [
    "14. Split a string into a list of words."
   ]
  },
  {
   "cell_type": "code",
   "execution_count": 22,
   "id": "f84fe95f-1ed3-46a8-8530-eecf8c7ec060",
   "metadata": {},
   "outputs": [],
   "source": [
    "txt = \"Hello World!\"\n",
    "l=txt.split()\n",
    "l"
   ]
  },
  {
   "cell_type": "markdown",
   "id": "344878fe-9336-4212-899e-ce1a749b8dc5",
   "metadata": {},
   "source": [
    "15. Join a list of words into a string."
   ]
  },
  {
   "cell_type": "code",
   "execution_count": 25,
   "id": "dbd4034d-7d27-46d6-8257-11d41ac56baf",
   "metadata": {},
   "outputs": [],
   "source": [
    "l=['Hello', 'World!']\n",
    "print(\" \".join(l))"
   ]
  },
  {
   "cell_type": "markdown",
   "id": "02d3ad79-d8c5-4f12-ab83-37778340a1b2",
   "metadata": {},
   "source": [
    "16. Convert a string where words are separated by spaces to one where words are separated by underscores."
   ]
  },
  {
   "cell_type": "code",
   "execution_count": 26,
   "id": "aecffe32-1243-49a6-9832-4bbd8d8caad4",
   "metadata": {},
   "outputs": [],
   "source": [
    "txt = \"Hello World!\"\n",
    "out=txt.replace(\" \",\"_\")\n",
    "out"
   ]
  },
  {
   "cell_type": "markdown",
   "id": "1e1647de-03cc-4864-a585-dfffa4a535db",
   "metadata": {},
   "source": [
    "17. Check if a string starts with a specific word or phrase."
   ]
  },
  {
   "cell_type": "code",
   "execution_count": 30,
   "id": "80fda888-977a-46ac-b2f2-5fb088253a4c",
   "metadata": {},
   "outputs": [],
   "source": [
    "txt = \"Hello, welcome to PWSkills.\"\n",
    "x = txt.startswith(\"Hello\")\n",
    "x"
   ]
  },
  {
   "cell_type": "markdown",
   "id": "7beed41f-547e-4f18-9722-947550592ee1",
   "metadata": {},
   "source": [
    "18. Check if a string ends with a specific word or phrase."
   ]
  },
  {
   "cell_type": "code",
   "execution_count": 37,
   "id": "5bfbb648-8cd9-4a97-8ac5-4e6c82e25573",
   "metadata": {},
   "outputs": [],
   "source": [
    "txt = \"Hello, welcome to my PWSkills.\"\n",
    "x = txt.endswith(\"PWSkills.\")\n",
    "x"
   ]
  },
  {
   "cell_type": "markdown",
   "id": "0b930d79-adae-4a8c-acee-7f289cc11000",
   "metadata": {},
   "source": [
    "19. Convert a string to title case (e.g., \"hello world\" to \"Hello World\")."
   ]
  },
  {
   "cell_type": "code",
   "execution_count": 38,
   "id": "24b2fa74-9522-4e26-a841-509560d1b900",
   "metadata": {},
   "outputs": [],
   "source": [
    "in_str=\"hello world\"\n",
    "print(in_str.title())"
   ]
  },
  {
   "cell_type": "markdown",
   "id": "f8a4cb26-c1eb-4456-af14-cdc22975e9d0",
   "metadata": {},
   "source": [
    "20. Find the longest word in a string."
   ]
  },
  {
   "cell_type": "code",
   "execution_count": 16,
   "id": "fc6640a8-51e5-4ee4-8251-0da1c929955e",
   "metadata": {},
   "outputs": [
    {
     "name": "stdout",
     "output_type": "stream",
     "text": [
      "Longest word is  PWSkills.  and its length is  9\n"
     ]
    }
   ],
   "source": [
    "txt = \"Hello welcome to the PWSkills.\"\n",
    "length=0\n",
    "w=''\n",
    "for word in txt.split():\n",
    "    if(len(word) > length):\n",
    "        length = len(word) \n",
    "        w = word\n",
    "\n",
    "print(\"Longest word is \", w, \" and its length is \", length)"
   ]
  },
  {
   "cell_type": "markdown",
   "id": "5fb92d9e-de9f-4096-824f-c4adb03f80dc",
   "metadata": {},
   "source": [
    "21. Find the shortest word in a string."
   ]
  },
  {
   "cell_type": "code",
   "execution_count": 17,
   "id": "0f12ea72-32c3-4359-8c4c-84a62c1df755",
   "metadata": {},
   "outputs": [
    {
     "name": "stdout",
     "output_type": "stream",
     "text": [
      "Longest word is  PWSkills  and its length is  8\n"
     ]
    }
   ],
   "source": [
    "txt = \"Hello welcome to the PWSkills\"\n",
    "length=0\n",
    "w=''\n",
    "for word in txt.split():\n",
    "    if(len(word) > length):\n",
    "        length = len(word) \n",
    "        w = word\n",
    "\n",
    "print(\"Longest word is \", w, \" and its length is \", length)"
   ]
  },
  {
   "cell_type": "code",
   "execution_count": 18,
   "id": "76277d2c-31c0-440b-9332-b66737e2a74f",
   "metadata": {},
   "outputs": [
    {
     "name": "stdout",
     "output_type": "stream",
     "text": [
      "Shortest word is  to  and its length is  2\n"
     ]
    }
   ],
   "source": [
    "txt = \"Hello welcome to the PWSkills.\"\n",
    "length =min([len(x) for x in txt.split()])\n",
    "w=''\n",
    "for word in txt.split():\n",
    "    if(len(word) <= length): \n",
    "        w = word\n",
    "        \n",
    "print(\"Shortest word is \", w, \" and its length is \", length)"
   ]
  },
  {
   "cell_type": "markdown",
   "id": "9a3017c9-81f7-413e-a6f3-a067ae86b4cd",
   "metadata": {},
   "source": [
    "22. Reverse the order of words in a string."
   ]
  },
  {
   "cell_type": "code",
   "execution_count": 15,
   "id": "a0abdf35-420e-468c-bb12-aeab3d68f6cd",
   "metadata": {},
   "outputs": [
    {
     "name": "stdout",
     "output_type": "stream",
     "text": [
      "dlroW olleH\n"
     ]
    }
   ],
   "source": [
    "txt = \"Hello World\" [::-1]\n",
    "print(txt)"
   ]
  },
  {
   "cell_type": "markdown",
   "id": "49f24927-5f2a-4eaf-bd68-2780f76e7d56",
   "metadata": {},
   "source": [
    "23. Check if a string is alphanumeric."
   ]
  },
  {
   "cell_type": "code",
   "execution_count": 93,
   "id": "4c89495e-5104-4bbe-a900-e86c0f986081",
   "metadata": {},
   "outputs": [],
   "source": [
    "s = 'HelloWorld2019'\n",
    "print(s.isalnum())"
   ]
  },
  {
   "cell_type": "markdown",
   "id": "efdda12e-63a0-4a07-a5a0-e8267001f76e",
   "metadata": {},
   "source": [
    "24. Extract all digits from a string."
   ]
  },
  {
   "cell_type": "code",
   "execution_count": 4,
   "id": "ff3ce460-63ad-482e-993d-5d59772144ee",
   "metadata": {},
   "outputs": [
    {
     "name": "stdout",
     "output_type": "stream",
     "text": [
      "The original string : I gave 400 rs to 4 persons\n",
      "The numbers list is : [400, 4]\n"
     ]
    }
   ],
   "source": [
    "txt = \"I gave 400 rs to 4 persons\"\n",
    "print(\"The original string : \" + txt)\n",
    "#listi=[]\n",
    "res=[]\n",
    "for i in txt.split():\n",
    "    if i.isdigit():\n",
    "        res.append(int(i)) \n",
    "        \n",
    "print(\"The numbers list is :\",''.join(str(res)))\n"
   ]
  },
  {
   "cell_type": "markdown",
   "id": "0323d7cb-d5aa-4c09-b39f-34249b0f813e",
   "metadata": {},
   "source": [
    "25. Extract all alphabets from a string."
   ]
  },
  {
   "cell_type": "code",
   "execution_count": 6,
   "id": "ba9c257f-8779-4636-b24a-11d1e448f3e7",
   "metadata": {},
   "outputs": [
    {
     "name": "stdout",
     "output_type": "stream",
     "text": [
      "Igaverstopersons\n"
     ]
    }
   ],
   "source": [
    "txt = \"I gave 400 rs to 4 persons\"\n",
    "only_alpha = \"\"\n",
    "\n",
    "for char in txt:\n",
    "    if char.isalpha():\n",
    "        only_alpha += char\n",
    "print(only_alpha)\n"
   ]
  },
  {
   "cell_type": "markdown",
   "id": "efc7dfd0-ac42-4d7e-a0b3-c6c837dca5f1",
   "metadata": {},
   "source": [
    "26. Count the number of uppercase letters in a string."
   ]
  },
  {
   "cell_type": "code",
   "execution_count": 14,
   "id": "f61e8f27-4f6a-46af-a527-03e8f4ac7cc4",
   "metadata": {},
   "outputs": [
    {
     "name": "stdout",
     "output_type": "stream",
     "text": [
      "The number of uppercase characters is: 11\n"
     ]
    }
   ],
   "source": [
    "txt = \"I GAVE 400 Apples to 4 PErsONS\"\n",
    "count1=0\n",
    "for i in txt:\n",
    "      if(i.isupper()):\n",
    "            count1=count1+1\n",
    "print(\"The number of uppercase characters is:\" , count1)"
   ]
  },
  {
   "cell_type": "markdown",
   "id": "3889eb1d-9dec-4c16-be08-8fb38ec4b38a",
   "metadata": {},
   "source": [
    "27. Count the number of lowercase letters in a string."
   ]
  },
  {
   "cell_type": "code",
   "execution_count": 19,
   "id": "ae6341e8-0c6f-4b67-b1b8-2facfcd0f8eb",
   "metadata": {},
   "outputs": [
    {
     "name": "stdout",
     "output_type": "stream",
     "text": [
      "The number of lowercase characters is: 9\n"
     ]
    }
   ],
   "source": [
    "txt = \"I GAVE 400 Apples to 4 PErsONS\"\n",
    "count1=0\n",
    "for i in txt:\n",
    "      if(i.islower()):\n",
    "            count1=count1+1\n",
    "print(\"The number of lowercase characters is:\" , count1)"
   ]
  },
  {
   "cell_type": "markdown",
   "id": "02a2e3d7-ef2e-4667-bab0-d8037056edfb",
   "metadata": {},
   "source": [
    "28. Swap the case of each character in a string."
   ]
  },
  {
   "cell_type": "code",
   "execution_count": 23,
   "id": "002662a1-97e5-4dd6-9c25-6e2c3ee79a37",
   "metadata": {},
   "outputs": [
    {
     "name": "stdout",
     "output_type": "stream",
     "text": [
      "hELLO wELCOME pWsKILLS\n"
     ]
    }
   ],
   "source": [
    "string = 'Hello Welcome PwSkills'\n",
    "print(string.swapcase())"
   ]
  },
  {
   "cell_type": "markdown",
   "id": "f8556840-dda0-4d4b-8f01-0359f5086f70",
   "metadata": {},
   "source": [
    "29. Remove a specific word from a string."
   ]
  },
  {
   "cell_type": "code",
   "execution_count": 22,
   "id": "2ab97cbd-5fe0-4c77-9ad3-d88effe8acb9",
   "metadata": {},
   "outputs": [
    {
     "name": "stdout",
     "output_type": "stream",
     "text": [
      " Welcome PwSkills\n"
     ]
    }
   ],
   "source": [
    "string = 'Hello Welcome PwSkills'\n",
    "character = 'Hello'\n",
    "string=string.replace(character, '')\n",
    "print(string) \n"
   ]
  },
  {
   "cell_type": "markdown",
   "id": "6ef7260c-4a36-42ea-a3f4-74b8e090ce47",
   "metadata": {},
   "source": [
    "30. Check if a string is a valid email address."
   ]
  },
  {
   "cell_type": "code",
   "execution_count": 28,
   "id": "d4d33d46-ac71-4abc-9120-8eacafb85d71",
   "metadata": {},
   "outputs": [
    {
     "name": "stdout",
     "output_type": "stream",
     "text": [
      "Valid Email\n"
     ]
    }
   ],
   "source": [
    "import re\n",
    "regex = r'\\b[A-Za-z0-9._%+-]+@[A-Za-z0-9.-]+\\.[A-Z|a-z]{2,7}\\b'\n",
    "email='atul@gmail.com'\n",
    "if(re.fullmatch(regex, email)):\n",
    "    print(\"Valid Email\")\n",
    "else:\n",
    "    print(\"Invalid Email\")"
   ]
  },
  {
   "cell_type": "markdown",
   "id": "388f0938-0ca0-4f6a-9cd1-e893fe623c9d",
   "metadata": {},
   "source": [
    "31. Extract the username from an email address string."
   ]
  },
  {
   "cell_type": "code",
   "execution_count": 50,
   "id": "b040e3c3-1ede-4b73-ad4c-667abae4eb83",
   "metadata": {},
   "outputs": [
    {
     "name": "stdout",
     "output_type": "stream",
     "text": [
      "The username is atulkpandey\n"
     ]
    }
   ],
   "source": [
    "email='atulkpandey@gmail.com'\n",
    "len_user=email.index('@')\n",
    "final=email[:len_user]\n",
    "print(\"The username is\", final)"
   ]
  },
  {
   "cell_type": "markdown",
   "id": "61ef5b84-acd1-4ebd-883c-c3c9f55904ac",
   "metadata": {},
   "source": [
    "32. Extract the domain name from an email address string."
   ]
  },
  {
   "cell_type": "code",
   "execution_count": 4,
   "id": "f32c7f63-d00c-40d0-ad41-3dc63c841aab",
   "metadata": {},
   "outputs": [
    {
     "name": "stdout",
     "output_type": "stream",
     "text": [
      "The username is gmail.com\n"
     ]
    }
   ],
   "source": [
    "email='atulkpandey@gmail.com'\n",
    "res = email[email.index('@') + 1 : ]\n",
    "print(\"The username is\", res)"
   ]
  },
  {
   "cell_type": "markdown",
   "id": "d3943849-210e-4849-8be4-3e432f795f18",
   "metadata": {},
   "source": [
    "33. Replace multiple spaces in a string with a single space."
   ]
  },
  {
   "cell_type": "code",
   "execution_count": 2,
   "id": "87c72496-8816-4a98-8b0e-716840486e40",
   "metadata": {},
   "outputs": [
    {
     "name": "stdout",
     "output_type": "stream",
     "text": [
      "welcome to pwskills python course\n"
     ]
    }
   ],
   "source": [
    "string = 'welcome    to  pwskills      python      course'\n",
    "\n",
    "out_string = \" \".join(string.split())\n",
    "print(out_string)"
   ]
  },
  {
   "cell_type": "markdown",
   "id": "6a3944fc-814e-4e8c-887b-b2c746bed6bc",
   "metadata": {},
   "source": [
    "34. Check if a string is a valid URL."
   ]
  },
  {
   "cell_type": "code",
   "execution_count": 1,
   "id": "450a5956-397b-463c-b504-01157f8fa42b",
   "metadata": {},
   "outputs": [
    {
     "name": "stdout",
     "output_type": "stream",
     "text": [
      "Collecting validators\n",
      "  Downloading validators-0.21.2-py3-none-any.whl (25 kB)\n",
      "Installing collected packages: validators\n",
      "Successfully installed validators-0.21.2\n",
      "Note: you may need to restart the kernel to use updated packages.\n"
     ]
    }
   ],
   "source": [
    "pip install validators"
   ]
  },
  {
   "cell_type": "code",
   "execution_count": 7,
   "id": "fc3bf637-3420-476f-923d-38f3c908935c",
   "metadata": {},
   "outputs": [
    {
     "name": "stdout",
     "output_type": "stream",
     "text": [
      "URL is invalid\n"
     ]
    }
   ],
   "source": [
    "import validators\n",
    "validation = validators.url(\"http:/www.google.com\")\n",
    "if validation:\n",
    "    print(\"URL is valid\")\n",
    "else:\n",
    "    print(\"URL is invalid\")"
   ]
  },
  {
   "cell_type": "markdown",
   "id": "486734a4-98ba-4a8e-bd7f-d52416adb8ae",
   "metadata": {},
   "source": [
    "35. Extract the protocol (http or https) from a URL string."
   ]
  },
  {
   "cell_type": "code",
   "execution_count": 8,
   "id": "3e7314dc-a8eb-4593-b992-5b1d9bb20fc9",
   "metadata": {},
   "outputs": [
    {
     "name": "stdout",
     "output_type": "stream",
     "text": [
      "www.example.test\n"
     ]
    }
   ],
   "source": [
    "from urllib.parse import urlparse\n",
    "\n",
    "domain = urlparse('http://www.example.test/foo/bar').netloc\n",
    "print(domain)"
   ]
  },
  {
   "cell_type": "markdown",
   "id": "de16f593-f5f9-4be7-8467-45177d3dfa9a",
   "metadata": {},
   "source": [
    "36. Find the frequency of each character in a string."
   ]
  },
  {
   "cell_type": "code",
   "execution_count": 10,
   "id": "7052cbcc-fc24-4361-bb4f-a7caf2ab1766",
   "metadata": {},
   "outputs": [
    {
     "name": "stdout",
     "output_type": "stream",
     "text": [
      "Count of all characters in pwskills is :\n",
      " {'p': 1, 'w': 1, 's': 2, 'k': 1, 'i': 1, 'l': 2}\n"
     ]
    }
   ],
   "source": [
    "in_str='pwskills'\n",
    "all_freq = {}\n",
    "for i in in_str:\n",
    "    if i in all_freq:\n",
    "        all_freq[i] += 1\n",
    "    else:\n",
    "        all_freq[i] = 1\n",
    " \n",
    "# printing result\n",
    "print(\"Count of all characters in pwskills is :\\n \"\n",
    "      + str(all_freq))"
   ]
  },
  {
   "cell_type": "markdown",
   "id": "19ae29c4-c3ea-4fab-ba04-53b6f31d487b",
   "metadata": {},
   "source": [
    "37. Remove all punctuation from a string."
   ]
  },
  {
   "cell_type": "code",
   "execution_count": 12,
   "id": "c77134c9-5cc3-455e-8a19-b6988bc726fb",
   "metadata": {},
   "outputs": [
    {
     "name": "stdout",
     "output_type": "stream",
     "text": [
      "pwskills is best for  python \n"
     ]
    }
   ],
   "source": [
    "import string\n",
    "\n",
    "in_str = 'pwskills, is best: for ! python ;'\n",
    "\n",
    "out_str = in_str.translate(str.maketrans('', '', string.punctuation))\n",
    "print(out_str)\n"
   ]
  },
  {
   "cell_type": "markdown",
   "id": "19547510-1241-4f79-a8a4-5804a5e101b0",
   "metadata": {},
   "source": [
    "38. Check if a string contains only digits."
   ]
  },
  {
   "cell_type": "code",
   "execution_count": 13,
   "id": "f7ce884c-61d0-4bf0-bb39-99c32bb66352",
   "metadata": {},
   "outputs": [
    {
     "name": "stdout",
     "output_type": "stream",
     "text": [
      "Initial Strings :  223344556789 abc231igh\n",
      "String1 contains all numbers\n",
      "String2 doesn't contains all numbers\n"
     ]
    }
   ],
   "source": [
    "in_string1 = '223344556789'\n",
    "in_string2 = 'abc231igh'\n",
    "\n",
    "# printing initial string\n",
    "print(\"Initial Strings : \", in_string1, in_string2)\n",
    "\n",
    "# Using isdigit()\n",
    "if in_string1.isdigit():\n",
    "\tprint(\"String1 contains all numbers\")\n",
    "else:\n",
    "\tprint(\"String1 doesn't contains all numbers\")\n",
    "\n",
    "if in_string2.isdigit():\n",
    "\tprint(\"String2 contains all numbers\")\n",
    "else:\n",
    "\tprint(\"String2 doesn't contains all numbers\")\n"
   ]
  },
  {
   "cell_type": "markdown",
   "id": "2ce1e799-3903-453a-843c-e7dc41936618",
   "metadata": {},
   "source": [
    "39. Check if a string contains only alphabets."
   ]
  },
  {
   "cell_type": "code",
   "execution_count": 14,
   "id": "cb715fff-9149-4d03-973a-b05e8a8c50fd",
   "metadata": {},
   "outputs": [
    {
     "data": {
      "text/plain": [
       "True"
      ]
     },
     "execution_count": 14,
     "metadata": {},
     "output_type": "execute_result"
    }
   ],
   "source": [
    "in_str1='pwskills'\n",
    "out1 = in_str1.isalpha()\n",
    "out1"
   ]
  },
  {
   "cell_type": "markdown",
   "id": "76b7732c-022e-4d85-96e6-8bb9efb9f8dd",
   "metadata": {},
   "source": [
    "40. Convert a string to a list of characters."
   ]
  },
  {
   "cell_type": "code",
   "execution_count": 15,
   "id": "e9738f0a-6915-4628-892d-db8d09641ed7",
   "metadata": {},
   "outputs": [
    {
     "name": "stdout",
     "output_type": "stream",
     "text": [
      "['p', 'w', 's', 'k', 'i', 'l', 'l', 's']\n"
     ]
    }
   ],
   "source": [
    "string = \"pwskills\"\n",
    "print([*string])\n"
   ]
  },
  {
   "cell_type": "markdown",
   "id": "aa7ac459-a3eb-47da-9d06-328c6b50e696",
   "metadata": {},
   "source": [
    "41. Check if two strings are anagrams."
   ]
  },
  {
   "cell_type": "code",
   "execution_count": 21,
   "id": "a33a9fbb-4167-46be-b1ff-16e60157379e",
   "metadata": {},
   "outputs": [
    {
     "name": "stdout",
     "output_type": "stream",
     "text": [
      "The strings are anagrams.\n"
     ]
    }
   ],
   "source": [
    "s1='listen'\n",
    "s2='silent'\n",
    "if(sorted(s1)== sorted(s2)):\n",
    "    print(\"The strings are anagrams.\")\n",
    "else:\n",
    "    print(\"The strings aren't anagrams.\")"
   ]
  },
  {
   "cell_type": "markdown",
   "id": "7712e088-2e2d-4455-b0ab-44d67cfb5e03",
   "metadata": {},
   "source": [
    "42. Encode a string using a Caesar cipher."
   ]
  },
  {
   "cell_type": "code",
   "execution_count": 26,
   "id": "a67e0645-3a09-44c8-b241-b80a485ef59c",
   "metadata": {},
   "outputs": [
    {
     "name": "stdout",
     "output_type": "stream",
     "text": [
      "************ Caesar Cipher *************\n"
     ]
    },
    {
     "name": "stdin",
     "output_type": "stream",
     "text": [
      "Enter the word:  Hello World\n"
     ]
    },
    {
     "name": "stdout",
     "output_type": "stream",
     "text": [
      "Word: Hello World\n",
      "Encoded word: Mjqqt Btwqi\n"
     ]
    }
   ],
   "source": [
    "import string\n",
    "import sys\n",
    "\n",
    "# The word to be encoded shifts by 5 to the right, while the word to be decoded shifts by 5 to the left.\n",
    "shift = 5\n",
    "\n",
    "print(' Caesar Cipher '.center(40, '*'))\n",
    "word = input('Enter the word: ')\n",
    "\n",
    "\n",
    "# ENCODING FUNCTION\n",
    "def encode_words(words, shifts):\n",
    "    \"\"\"This encodes a word using Caesar cipher.\"\"\"\n",
    "\n",
    "    # Variable for storing the encoded word.\n",
    "    encoded_word = ''\n",
    "\n",
    "    for i in words:\n",
    "\n",
    "        # Check for space and tab\n",
    "        if ord(i) == 32 or ord(i) == 9:\n",
    "            shifted_word = ord(i)\n",
    "\n",
    "        # Check for punctuations\n",
    "        elif i in string.punctuation:\n",
    "            shifted_word = ord(i)\n",
    "\n",
    "        # Check if the character is lowercase or uppercase\n",
    "        elif i.islower():\n",
    "            shifted_word = ord(i) + shifts\n",
    "\n",
    "            # Lowercase spans from 97 to 122 (decimal) on the ASCII table\n",
    "            # If the chars exceeds 122, we get the number it uses to exceed it and add to 96 (the character before a)\n",
    "            if shifted_word > 122:\n",
    "                shifted_word = (shifted_word - 122) + 96\n",
    "\n",
    "        else:\n",
    "            shifted_word = ord(i) + shifts\n",
    "\n",
    "            # Uppercase spans from 65 to 90 (decimal) on the ASCII table\n",
    "            # If the chars exceeds 90, we get the number it uses to exceed it and add to 64 (the character before A)\n",
    "            if shifted_word > 90:\n",
    "                shifted_word = (shifted_word - 90) + 64\n",
    "\n",
    "        encoded_word = encoded_word + chr(shifted_word)\n",
    "\n",
    "    print('Word:', word)\n",
    "    print('Encoded word:', encoded_word)\n",
    "encode_words(word,shift)"
   ]
  },
  {
   "cell_type": "markdown",
   "id": "bf213605-0726-4001-bc71-eca3fa338fa7",
   "metadata": {},
   "source": [
    "43. Decode a Caesar cipher encoded string."
   ]
  },
  {
   "cell_type": "code",
   "execution_count": 27,
   "id": "d4abbe9f-4cfe-423e-b5fe-98e22191807f",
   "metadata": {},
   "outputs": [
    {
     "name": "stdin",
     "output_type": "stream",
     "text": [
      "Enter the word:  Mjqqt Btwqi\n"
     ]
    },
    {
     "name": "stdout",
     "output_type": "stream",
     "text": [
      "Word: Mjqqt Btwqi\n",
      "Decoded word: Hello World\n"
     ]
    }
   ],
   "source": [
    "import string\n",
    "import sys\n",
    "\n",
    "# The word to be encoded shifts by 5 to the right, while the word to be decoded shifts by 5 to the left.\n",
    "shift = 5\n",
    "word = input('Enter the word: ')\n",
    "# DECODING FUNCTION\n",
    "def decode_words(words, shifts):\n",
    "    \"\"\"This decodes a word using Caesar cipher\"\"\"\n",
    "\n",
    "    # Variable for storing the decoded word.\n",
    "    decoded_word = ''\n",
    "\n",
    "    for i in words:\n",
    "\n",
    "        # Check for space and tab\n",
    "        if ord(i) == 32 or ord(i) == 9:\n",
    "            shifted_word = ord(i)\n",
    "\n",
    "        # Check for punctuations\n",
    "        elif i in string.punctuation:\n",
    "            shifted_word = ord(i)\n",
    "\n",
    "        # Check if the character is lowercase or uppercase\n",
    "        elif i.islower():\n",
    "            shifted_word = ord(i) - shifts\n",
    "\n",
    "            # If the char is less 122, we get difference subtract from 123 (the character after z)\n",
    "            if shifted_word < 97:\n",
    "                shifted_word = (shifted_word - 97) + 123\n",
    "\n",
    "        else:\n",
    "            shifted_word = ord(i) - shifts\n",
    "\n",
    "            # If the char is less 65, we get difference and subtract from 91 (the character after Z)\n",
    "            if shifted_word < 65:\n",
    "                shifted_word = (shifted_word - 65) + 91\n",
    "\n",
    "        decoded_word = decoded_word + chr(shifted_word)\n",
    "\n",
    "    print('Word:', word)\n",
    "    print('Decoded word:', decoded_word)\n",
    "\n",
    "decode_words(word,shift)\n"
   ]
  },
  {
   "cell_type": "markdown",
   "id": "a675fbd5-ad77-413b-87c3-34d1dbbd33cf",
   "metadata": {},
   "source": [
    "44. Find the most frequent word in a string."
   ]
  },
  {
   "cell_type": "code",
   "execution_count": 28,
   "id": "26c854d1-81cf-4e3e-be19-91da86b6e846",
   "metadata": {},
   "outputs": [
    {
     "name": "stdout",
     "output_type": "stream",
     "text": [
      "The list is :\n",
      "['python is best for coders', 'python is fun', 'python is easy to learn']\n",
      "The word that has the maximum frequency :\n",
      "python\n"
     ]
    }
   ],
   "source": [
    "from collections import defaultdict\n",
    "my_list = [\"python is best for coders\", \"python is fun\", \"python is easy to learn\"]\n",
    "\n",
    "print(\"The list is :\")\n",
    "print(my_list)\n",
    "\n",
    "my_temp = defaultdict(int)\n",
    "\n",
    "for sub in my_list:\n",
    "   for word in sub.split():\n",
    "      my_temp[word] += 1\n",
    "\n",
    "result = max(my_temp, key=my_temp.get)\n",
    "\n",
    "print(\"The word that has the maximum frequency :\")\n",
    "print(result)"
   ]
  },
  {
   "cell_type": "markdown",
   "id": "fc7c4b3a-ce1e-4433-ac16-c342c183a9f4",
   "metadata": {},
   "source": [
    "45. Find all unique words in a string."
   ]
  },
  {
   "cell_type": "code",
   "execution_count": 29,
   "id": "0ef0ca22-c2cd-4c76-9a38-f9bfeef83057",
   "metadata": {},
   "outputs": [
    {
     "name": "stdout",
     "output_type": "stream",
     "text": [
      "{'three', 'four'}\n",
      "2\n"
     ]
    }
   ],
   "source": [
    "in_str = 'three three three four'\n",
    "\n",
    "unique_words = set(in_str.split())\n",
    "print(unique_words)  \n",
    "\n",
    "length = len(unique_words)\n",
    "print(length)  \n"
   ]
  },
  {
   "cell_type": "markdown",
   "id": "ab3ddb59-02d1-4568-b619-98d6110d254b",
   "metadata": {},
   "source": [
    "46. Count the number of syllables in a string."
   ]
  },
  {
   "cell_type": "code",
   "execution_count": 30,
   "id": "01b8fd3c-aa7c-46d7-a382-0145d405ee72",
   "metadata": {},
   "outputs": [
    {
     "name": "stdin",
     "output_type": "stream",
     "text": [
      "Enter the word: HELOO\n"
     ]
    },
    {
     "name": "stdout",
     "output_type": "stream",
     "text": [
      "The number of syllables in the word is: \n",
      "3\n"
     ]
    }
   ],
   "source": [
    "word=input(\"Enter the word:\")\n",
    "syllable_count=0\n",
    "for w in word:\n",
    "      if(w=='a' or w=='e' or w=='i' or w=='o' or w=='u' or w=='A' or w=='E' or w=='I' or w=='O' or w=='U'):\n",
    "            syllable_count=syllable_count+1\n",
    "print(\"The number of syllables in the word is: \")\n",
    "print(syllable_count)"
   ]
  },
  {
   "cell_type": "markdown",
   "id": "7d84054f-7b84-4cb4-9a90-0eb79b1ec10b",
   "metadata": {},
   "source": [
    "47. Check if a string contains any special characters."
   ]
  },
  {
   "cell_type": "code",
   "execution_count": 32,
   "id": "20850650-95c6-4556-a2a2-658c78b824f8",
   "metadata": {},
   "outputs": [
    {
     "name": "stdout",
     "output_type": "stream",
     "text": [
      "String is not accepted.\n"
     ]
    }
   ],
   "source": [
    "# contains any special character\n",
    "\n",
    "# import required package\n",
    "import re\n",
    "\n",
    "# Function checks if the string\n",
    "# contains any special character\n",
    "def run(string):\n",
    "\n",
    "\t# Make own character set and pass\n",
    "\t# this as argument in compile method\n",
    "\tregex = re.compile('[@_!#$%^&*()<>?/\\|}{~:]')\n",
    "\t\n",
    "\t# Pass the string in search\n",
    "\t# method of regex object.\n",
    "\tif(regex.search(string) == None):\n",
    "\t\tprint(\"String is accepted\")\n",
    "\t\t\n",
    "\telse:\n",
    "\t\tprint(\"String is not accepted.\")\n",
    "\t\n",
    "\n",
    "# Driver Code\n",
    "if __name__ == '__main__' :\n",
    "\t\n",
    "\t# Enter the string\n",
    "\tstring = \"pw$Skill$s\"\n",
    "\t\n",
    "\t# calling run function\n",
    "\trun(string)\n"
   ]
  },
  {
   "cell_type": "markdown",
   "id": "90e37cf5-b9f2-4489-a5cc-142ec8c29737",
   "metadata": {},
   "source": [
    "48. Remove the nth word from a string."
   ]
  },
  {
   "cell_type": "code",
   "execution_count": 36,
   "id": "cddb9fea-3164-4558-a8b9-51834abf5631",
   "metadata": {},
   "outputs": [
    {
     "name": "stdin",
     "output_type": "stream",
     "text": [
      "Enter the sring: Hello world\n",
      "Enter the index of the character to remove: 2\n"
     ]
    },
    {
     "name": "stdout",
     "output_type": "stream",
     "text": [
      "Modified string:\n",
      "Helo world\n"
     ]
    }
   ],
   "source": [
    "def remove(string, n):  \n",
    "      first = string[:n]   \n",
    "      last = string[n+1:]  \n",
    "      return first + last\n",
    "string=input(\"Enter the sring:\")\n",
    "n=int(input(\"Enter the index of the character to remove:\"))\n",
    "print(\"Modified string:\")\n",
    "print(remove(string, n))"
   ]
  },
  {
   "cell_type": "markdown",
   "id": "84617449-d170-46c2-aca6-d3062c188291",
   "metadata": {},
   "source": [
    "49. Insert a word at the nth position in a string."
   ]
  },
  {
   "cell_type": "code",
   "execution_count": 40,
   "id": "a916564f-34ff-43d7-84c8-1f911e4f3a53",
   "metadata": {},
   "outputs": [
    {
     "name": "stdin",
     "output_type": "stream",
     "text": [
      "Enter the sring: hello world\n",
      "Enter the word your\n",
      "Enter the index of the character to add: 3\n"
     ]
    },
    {
     "name": "stdout",
     "output_type": "stream",
     "text": [
      "Adding your at 3 th index of an input string:\n",
      " helyourlo world\n"
     ]
    }
   ],
   "source": [
    "string=input(\"Enter the sring:\")\n",
    "w=input(\"Enter the word\")\n",
    "n=int(input(\"Enter the index of the character to add:\"))\n",
    "out_string=string[:n] + w + string[n:]\n",
    "\n",
    "# adding character 'p' at a specific position i.e, at index 9\n",
    "\n",
    "# printing the resultant string \n",
    "print(\"Adding\",w, \"at\",n,\"th index of an input string:\\n\", out_string)"
   ]
  },
  {
   "cell_type": "markdown",
   "id": "b274629e-e4ab-4cfe-9d0a-7f1ebe17e5a9",
   "metadata": {},
   "source": [
    "50. Convert a CSV string to a list of lists."
   ]
  },
  {
   "cell_type": "code",
   "execution_count": 37,
   "id": "3040fba2-f639-460e-9223-8af68772be3a",
   "metadata": {},
   "outputs": [
    {
     "name": "stdout",
     "output_type": "stream",
     "text": [
      "['apple', 'banana', 'cherry']\n"
     ]
    }
   ],
   "source": [
    "x = 'apple,banana,cherry'\n",
    "output = x.split(',')\n",
    "print(output)"
   ]
  },
  {
   "cell_type": "markdown",
   "id": "58544704-153a-4ec9-96cb-dc64c5ed0f80",
   "metadata": {},
   "source": [
    "# List Based Practice Problem: #"
   ]
  },
  {
   "cell_type": "markdown",
   "id": "d3d517d6-104d-46b9-98b7-0607d1a59637",
   "metadata": {},
   "source": [
    "1. Create a list with integers from 1 to 10."
   ]
  },
  {
   "cell_type": "code",
   "execution_count": 44,
   "id": "c8988d8b-9953-4a41-8a20-f4acd3719033",
   "metadata": {},
   "outputs": [
    {
     "name": "stdout",
     "output_type": "stream",
     "text": [
      "[1, 2, 3, 4, 5, 6, 7, 8, 9, 10]\n"
     ]
    }
   ],
   "source": [
    "list_of_numbers = list(range(1, 11))\n",
    "print(list_of_numbers) "
   ]
  },
  {
   "cell_type": "markdown",
   "id": "be2ab285-59e1-44ce-9134-1dcc9ee2b64b",
   "metadata": {},
   "source": [
    "2. Find the length of a list without using the `len()` function."
   ]
  },
  {
   "cell_type": "code",
   "execution_count": 45,
   "id": "cc77cfc2-488d-420d-a240-7c7249040f2f",
   "metadata": {},
   "outputs": [
    {
     "name": "stdout",
     "output_type": "stream",
     "text": [
      "The length of a list is 5\n"
     ]
    }
   ],
   "source": [
    "l = [1, 2, 3, 4, 5]\n",
    "count = 0\n",
    "for i in l:\n",
    "   count = count + 1\n",
    "print(\"The length of a list is\", count)"
   ]
  },
  {
   "cell_type": "markdown",
   "id": "a8f41ca6-05ef-4a25-bbe7-0a464b846820",
   "metadata": {},
   "source": [
    "3. Append an element to the end of a list."
   ]
  },
  {
   "cell_type": "code",
   "execution_count": 46,
   "id": "b275cf8f-c9f3-4edb-b920-61df238a5e86",
   "metadata": {},
   "outputs": [
    {
     "name": "stdout",
     "output_type": "stream",
     "text": [
      "Current Fruits List ['Apple', 'Banana']\n"
     ]
    },
    {
     "name": "stdin",
     "output_type": "stream",
     "text": [
      "Please enter a fruit name:\n",
      " Mango\n"
     ]
    },
    {
     "name": "stdout",
     "output_type": "stream",
     "text": [
      "Updated Fruits List ['Apple', 'Banana', 'Mango']\n"
     ]
    }
   ],
   "source": [
    "fruit_list = [\"Apple\", \"Banana\"]\n",
    "print(f'Current Fruits List {fruit_list}')\n",
    "new_fruit = input(\"Please enter a fruit name:\\n\")\n",
    "fruit_list.append(new_fruit)\n",
    "print(f'Updated Fruits List {fruit_list}')"
   ]
  },
  {
   "cell_type": "markdown",
   "id": "176039f2-3446-4cf2-9027-8ca3f7e22751",
   "metadata": {},
   "source": [
    "4. Insert an element at a specific index in a list."
   ]
  },
  {
   "cell_type": "code",
   "execution_count": 49,
   "id": "d529b36f-5cdf-4725-9a75-5772afff3f0d",
   "metadata": {},
   "outputs": [
    {
     "name": "stdout",
     "output_type": "stream",
     "text": [
      "[1, 2, 3, 13, 4, 5, 6]\n"
     ]
    }
   ],
   "source": [
    "list1 = [ 1, 2, 3, 4, 5, 6 ]\n",
    "item = 13\n",
    "pos = 3\n",
    "list1.insert(pos, item)\n",
    "print(list1)\n"
   ]
  },
  {
   "cell_type": "markdown",
   "id": "050ce3fb-4169-4a9b-a18c-063b9071c55c",
   "metadata": {},
   "source": [
    "5. Remove an element from a list by its value."
   ]
  },
  {
   "cell_type": "code",
   "execution_count": 52,
   "id": "16635013-3211-41a3-bab1-588c66b4f000",
   "metadata": {},
   "outputs": [
    {
     "name": "stdout",
     "output_type": "stream",
     "text": [
      "[1, 2, 4, 5, 6]\n"
     ]
    }
   ],
   "source": [
    "list1 = [ 1, 2, 3, 4, 5, 6 ]\n",
    "value = 3\n",
    "list1.remove(value)\n",
    "print(list1)"
   ]
  },
  {
   "cell_type": "markdown",
   "id": "b978124b-85a8-421e-b177-5310b4faee3a",
   "metadata": {},
   "source": [
    "6. Remove an element from a list by its index."
   ]
  },
  {
   "cell_type": "code",
   "execution_count": 54,
   "id": "2ce87ac6-d757-4dbd-8494-c2796b465abd",
   "metadata": {},
   "outputs": [
    {
     "name": "stdout",
     "output_type": "stream",
     "text": [
      "[1, 2, 3, 5, 6]\n"
     ]
    }
   ],
   "source": [
    "list1 = [ 1, 2, 3, 4, 5, 6 ]\n",
    "index = 3\n",
    "list1.pop(index)\n",
    "print(list1)"
   ]
  },
  {
   "cell_type": "markdown",
   "id": "53ec2402-afbc-4717-b94f-23296c79b565",
   "metadata": {},
   "source": [
    "7. Check if an element exists in a list."
   ]
  },
  {
   "cell_type": "code",
   "execution_count": 55,
   "id": "adb664ae-eb68-4c12-89d6-ac3fbf7efd13",
   "metadata": {},
   "outputs": [
    {
     "name": "stdout",
     "output_type": "stream",
     "text": [
      "exist\n"
     ]
    }
   ],
   "source": [
    "lst = [ 1, 2, 3, 4, 5, 6 ]\n",
    "i=3\n",
    "if i in lst:\n",
    "    print(\"exist\")\n",
    "else:\n",
    "    print(\"not exist\")"
   ]
  },
  {
   "cell_type": "markdown",
   "id": "4d654749-fdc7-4442-bc56-2dc5eb0931e1",
   "metadata": {},
   "source": [
    "\n",
    "8. Find the index of the first occurrence of an element in a list."
   ]
  },
  {
   "cell_type": "code",
   "execution_count": 56,
   "id": "8fd393c7-26d8-4296-abd1-08629dfbdc68",
   "metadata": {},
   "outputs": [
    {
     "data": {
      "text/plain": [
       "2"
      ]
     },
     "execution_count": 56,
     "metadata": {},
     "output_type": "execute_result"
    }
   ],
   "source": [
    "lst = [ 1, 2, 3, 4, 5, 6, 3 ]\n",
    "lst.index(3)"
   ]
  },
  {
   "cell_type": "markdown",
   "id": "ae7f8b8a-c4bc-4e08-b46f-ca36d33d6521",
   "metadata": {},
   "source": [
    "9. Count the occurrences of an element in a list."
   ]
  },
  {
   "cell_type": "code",
   "execution_count": 59,
   "id": "8183afcc-930c-454b-be4a-d0514a1c60e3",
   "metadata": {},
   "outputs": [
    {
     "name": "stdout",
     "output_type": "stream",
     "text": [
      "8 has occurred 5 times\n"
     ]
    }
   ],
   "source": [
    "def countX(lst, x):\n",
    "\tcount = 0\n",
    "\tfor ele in lst:\n",
    "\t\tif (ele == x):\n",
    "\t\t\tcount = count + 1\n",
    "\treturn count\n",
    "lst = [8, 6, 8, 10, 8, 20, 10, 8, 8]\n",
    "x = 8\n",
    "print('{} has occurred {} times'.format(x,countX(lst, x)))\n"
   ]
  },
  {
   "cell_type": "markdown",
   "id": "ec2d32bf-7dc6-4b12-8d83-72d672efc837",
   "metadata": {},
   "source": [
    "10. Reverse the order of elements in a list."
   ]
  },
  {
   "cell_type": "code",
   "execution_count": 72,
   "id": "06f864b4-fa51-4b58-85d4-19c03452cfef",
   "metadata": {},
   "outputs": [
    {
     "name": "stdout",
     "output_type": "stream",
     "text": [
      "[6, 5, 4, 3, 2, 1]\n"
     ]
    }
   ],
   "source": [
    "lst = [ 1, 2, 3, 4, 5, 6 ]\n",
    "lst.reverse()\n",
    "print(lst)"
   ]
  },
  {
   "cell_type": "markdown",
   "id": "bb86044a-3477-4efa-9363-2478e069b052",
   "metadata": {},
   "source": [
    "11. Sort a list in ascending order."
   ]
  },
  {
   "cell_type": "code",
   "execution_count": 74,
   "id": "196f0eb3-555c-4e8b-90e3-7e88b4d3cc80",
   "metadata": {},
   "outputs": [
    {
     "name": "stdout",
     "output_type": "stream",
     "text": [
      "[1, 2, 3, 4, 5, 6]\n"
     ]
    }
   ],
   "source": [
    "lst = [ 1, 2, 3, 4, 5, 6 ]\n",
    "lst.sort(reverse=False)\n",
    "print(lst)"
   ]
  },
  {
   "cell_type": "markdown",
   "id": "bd096ec5-846b-4993-b769-9df784096a12",
   "metadata": {},
   "source": [
    "12. Sort a list in descending order."
   ]
  },
  {
   "cell_type": "code",
   "execution_count": 75,
   "id": "04636937-c840-43ab-9d2c-5eff838f3722",
   "metadata": {},
   "outputs": [
    {
     "name": "stdout",
     "output_type": "stream",
     "text": [
      "[6, 5, 4, 3, 2, 1]\n"
     ]
    }
   ],
   "source": [
    "lst = [ 1, 2, 3, 4, 5, 6 ]\n",
    "lst.sort(reverse=True)\n",
    "print(lst)"
   ]
  },
  {
   "cell_type": "markdown",
   "id": "7361987b-f5ec-43f4-9c93-8b85dd59b7a7",
   "metadata": {},
   "source": [
    "13. Create a list of even numbers from 1 to 20."
   ]
  },
  {
   "cell_type": "code",
   "execution_count": 83,
   "id": "269201eb-876e-4652-b5bb-6decb4f7d94d",
   "metadata": {},
   "outputs": [
    {
     "name": "stdout",
     "output_type": "stream",
     "text": [
      "[0, 2, 4, 6, 8, 10, 12, 14, 16, 18]\n"
     ]
    }
   ],
   "source": [
    "num=[]\n",
    "for x in range(20):\n",
    "    if x%2==0:\n",
    "        num.append(x)\n",
    "print(num)\n"
   ]
  },
  {
   "cell_type": "markdown",
   "id": "7ee959ce-7201-4b79-a62c-5901276db997",
   "metadata": {},
   "source": [
    "14. Create a list of odd numbers from 1 to 20."
   ]
  },
  {
   "cell_type": "code",
   "execution_count": 84,
   "id": "006d58b5-b0c7-424a-8cca-28c07717d1f2",
   "metadata": {},
   "outputs": [
    {
     "name": "stdout",
     "output_type": "stream",
     "text": [
      "[1, 3, 5, 7, 9, 11, 13, 15, 17, 19]\n"
     ]
    }
   ],
   "source": [
    "num=[]\n",
    "for x in range(20):\n",
    "    if x%2!=0:\n",
    "        num.append(x)\n",
    "print(num)"
   ]
  },
  {
   "cell_type": "markdown",
   "id": "ae767f9c-6eb5-42e8-be79-d9151decacfa",
   "metadata": {},
   "source": [
    "15. Find the sum of all elements in a list."
   ]
  },
  {
   "cell_type": "code",
   "execution_count": 88,
   "id": "b1809c5f-e090-4f3f-9421-d5e849e23785",
   "metadata": {},
   "outputs": [
    {
     "name": "stdout",
     "output_type": "stream",
     "text": [
      "21\n"
     ]
    }
   ],
   "source": [
    "sum_lst=0\n",
    "lst = [ 1, 2, 3, 4, 5, 6 ]\n",
    "for a in lst:\n",
    "    sum_lst+=a\n",
    "print(sum_lst)"
   ]
  },
  {
   "cell_type": "markdown",
   "id": "a01933bb-d7f7-4209-87cb-e9409101737b",
   "metadata": {},
   "source": [
    "16. Find the maximum value in a list."
   ]
  },
  {
   "cell_type": "code",
   "execution_count": 91,
   "id": "71b21c83-c35f-43de-9fa1-4df436bdce9c",
   "metadata": {},
   "outputs": [
    {
     "name": "stdout",
     "output_type": "stream",
     "text": [
      "6\n"
     ]
    }
   ],
   "source": [
    "lst = [ 1, 2, 3, 4, 5, 6 ]\n",
    "print(max(lst))"
   ]
  },
  {
   "cell_type": "markdown",
   "id": "e38606b6-7bf8-4c41-9efb-722989527a59",
   "metadata": {},
   "source": [
    "17. Find the minimum value in a list."
   ]
  },
  {
   "cell_type": "code",
   "execution_count": 92,
   "id": "c540321f-d733-4d0c-9470-bf8e783f3ed3",
   "metadata": {},
   "outputs": [
    {
     "name": "stdout",
     "output_type": "stream",
     "text": [
      "1\n"
     ]
    }
   ],
   "source": [
    "lst = [ 1, 2, 3, 4, 5, 6 ]\n",
    "print(min(lst))"
   ]
  },
  {
   "cell_type": "markdown",
   "id": "883338f2-7e46-4673-9bdf-c94ff6de617f",
   "metadata": {},
   "source": [
    "18. Create a list of squares of numbers from 1 to 10."
   ]
  },
  {
   "cell_type": "code",
   "execution_count": 95,
   "id": "12fe4924-87b3-49c4-b423-7383385460f4",
   "metadata": {},
   "outputs": [
    {
     "name": "stdout",
     "output_type": "stream",
     "text": [
      "[1, 4, 9, 16, 25, 36, 49, 64, 81, 100]\n"
     ]
    }
   ],
   "source": [
    "num=[]\n",
    "for x in range(1,11):\n",
    "    x=x*x\n",
    "    num.append(x)\n",
    "print(num)\n"
   ]
  },
  {
   "cell_type": "markdown",
   "id": "f4da2321-401a-46c4-9e03-83a552705529",
   "metadata": {},
   "source": [
    "19. Create a list of random numbers."
   ]
  },
  {
   "cell_type": "code",
   "execution_count": 97,
   "id": "2a306b7f-b4ce-4082-a61b-76682d1dc993",
   "metadata": {},
   "outputs": [
    {
     "name": "stdout",
     "output_type": "stream",
     "text": [
      "[2, 27, 29, 8, 4]\n"
     ]
    }
   ],
   "source": [
    "import random\n",
    "randomlist = []\n",
    "for i in range(0,5):\n",
    "    n = random.randint(1,30)\n",
    "    randomlist.append(n)\n",
    "print(randomlist)"
   ]
  },
  {
   "cell_type": "markdown",
   "id": "f40f0fd2-efd1-4665-bf2a-1569c3052724",
   "metadata": {},
   "source": [
    "20. Remove duplicates from a list."
   ]
  },
  {
   "cell_type": "code",
   "execution_count": 99,
   "id": "52a16997-f6f0-4ccf-96cd-a8f52ea0b6dc",
   "metadata": {},
   "outputs": [
    {
     "data": {
      "text/plain": [
       "[1, 2, 3, 4, 5, 6]"
      ]
     },
     "execution_count": 99,
     "metadata": {},
     "output_type": "execute_result"
    }
   ],
   "source": [
    "lst = [ 1, 2, 3, 4, 5, 6, 1, 3 ]\n",
    "uniq_list=list(set(lst))\n",
    "uniq_list"
   ]
  },
  {
   "cell_type": "markdown",
   "id": "e21939c6-2989-4be7-91c4-c8b68a543757",
   "metadata": {},
   "source": [
    "21. Find the common elements between two lists."
   ]
  },
  {
   "cell_type": "code",
   "execution_count": 100,
   "id": "94f7059b-8c46-49ca-b94b-601633c3f211",
   "metadata": {},
   "outputs": [
    {
     "name": "stdout",
     "output_type": "stream",
     "text": [
      "{5}\n",
      "No common elements\n"
     ]
    }
   ],
   "source": [
    "def common_member(a, b):\n",
    "\ta_set = set(a)\n",
    "\tb_set = set(b)\n",
    "\n",
    "\tif (a_set & b_set):\n",
    "\t\tprint(a_set & b_set)\n",
    "\telse:\n",
    "\t\tprint(\"No common elements\")\n",
    "\t\t\n",
    "\n",
    "a = [1, 2, 3, 4, 5]\n",
    "b = [5, 6, 7, 8, 9]\n",
    "common_member(a, b)\n",
    "\n",
    "a = [1, 2, 3, 4, 5]\n",
    "b = [6, 7, 8, 9]\n",
    "common_member(a, b)\n"
   ]
  },
  {
   "cell_type": "markdown",
   "id": "73e39410-2c7b-4c3a-89fd-79ed62c7a861",
   "metadata": {},
   "source": [
    "22. Find the difference between two lists."
   ]
  },
  {
   "cell_type": "code",
   "execution_count": 101,
   "id": "f15e8200-9d9b-4ca9-bf95-a495c1c90c32",
   "metadata": {},
   "outputs": [
    {
     "name": "stdout",
     "output_type": "stream",
     "text": [
      "[10, 15, 20, 30]\n"
     ]
    }
   ],
   "source": [
    "li1 = [10, 15, 20, 25, 30, 35, 40]\n",
    "li2 = [25, 40, 35]\n",
    "\n",
    "temp3 = []\n",
    "for element in li1:\n",
    "\tif element not in li2:\n",
    "\t\ttemp3.append(element)\n",
    "\n",
    "print(temp3)\n"
   ]
  },
  {
   "cell_type": "markdown",
   "id": "e4159a81-c3c1-4230-bcb1-c4a47c05e357",
   "metadata": {},
   "source": [
    "23. Merge two lists."
   ]
  },
  {
   "cell_type": "code",
   "execution_count": 103,
   "id": "896ab084-44db-4c10-8693-5402e40e6e83",
   "metadata": {},
   "outputs": [
    {
     "data": {
      "text/plain": [
       "[1, 2, 3, 4, 5]"
      ]
     },
     "execution_count": 103,
     "metadata": {},
     "output_type": "execute_result"
    }
   ],
   "source": [
    "lst1=[ 1, 2, 3 ]\n",
    "lst2=[ 4, 5 ]\n",
    "lst3=lst1+lst2\n",
    "lst3"
   ]
  },
  {
   "cell_type": "markdown",
   "id": "efbcaef3-c7b6-4f42-b04b-312c6a743318",
   "metadata": {},
   "source": [
    "24. Multiply all elements in a list by 2."
   ]
  },
  {
   "cell_type": "code",
   "execution_count": 108,
   "id": "55818bf8-6b68-45de-a90a-48534568ebb8",
   "metadata": {},
   "outputs": [
    {
     "data": {
      "text/plain": [
       "[2, 4, 6]"
      ]
     },
     "execution_count": 108,
     "metadata": {},
     "output_type": "execute_result"
    }
   ],
   "source": [
    "list1=[ 1, 2, 3 ]\n",
    "finl_list=[]\n",
    "for a in list1:\n",
    "    a=a*2\n",
    "    finl_list.append(a)\n",
    "finl_list\n"
   ]
  },
  {
   "cell_type": "markdown",
   "id": "d5c6fe94-4a88-469b-aead-c04ee1e609c7",
   "metadata": {},
   "source": [
    "25. Filter out all even numbers from a list."
   ]
  },
  {
   "cell_type": "code",
   "execution_count": 109,
   "id": "c6f5daa9-01ce-40e1-af10-36c8185cc885",
   "metadata": {},
   "outputs": [
    {
     "name": "stdout",
     "output_type": "stream",
     "text": [
      "Original List : [2, 5, 7, 8, 10, 13, 16]\n",
      "Filtered List : [2, 8, 10, 16]\n"
     ]
    }
   ],
   "source": [
    "def even(x):\n",
    "    return x % 2 == 0\n",
    " \n",
    "a = [2, 5, 7, 8, 10, 13, 16]\n",
    " \n",
    "result = filter(even, a)\n",
    "print('Original List :', a)\n",
    "print('Filtered List :', list(result))"
   ]
  },
  {
   "cell_type": "markdown",
   "id": "db92e309-c637-4671-8193-c5200590648b",
   "metadata": {},
   "source": [
    "26. Convert a list of strings to a list of integers."
   ]
  },
  {
   "cell_type": "code",
   "execution_count": 119,
   "id": "19ab7939-02a7-4682-ac9a-4c9b0fd0b288",
   "metadata": {},
   "outputs": [
    {
     "name": "stdout",
     "output_type": "stream",
     "text": [
      "Modified list is :  [1, 4, 3, 6, 7]\n"
     ]
    }
   ],
   "source": [
    "test_list = ['1', '4', '3', '6', '7']\n",
    "for i in range(0, len(test_list)):\n",
    "\ttest_list[i] = int(test_list[i])\n",
    "print(\"Modified list is : \",test_list)"
   ]
  },
  {
   "cell_type": "markdown",
   "id": "2215cfd6-a517-46db-b1d3-54059f5e9870",
   "metadata": {},
   "source": [
    "27. Convert a list of integers to a list of strings."
   ]
  },
  {
   "cell_type": "code",
   "execution_count": 120,
   "id": "165d8d19-ad21-4b9b-8fdf-7512ff17a950",
   "metadata": {},
   "outputs": [
    {
     "name": "stdout",
     "output_type": "stream",
     "text": [
      "Modified list is :  ['1', '4', '3', '6', '7']\n"
     ]
    }
   ],
   "source": [
    "test_list = [ 1, 4, 3, 6, 7 ]\n",
    "for i in range(0, len(test_list)):\n",
    "\ttest_list[i] = str(test_list[i])\n",
    "print(\"Modified list is : \", test_list)"
   ]
  },
  {
   "cell_type": "markdown",
   "id": "ac710314-043f-4c52-9827-7ecfc7c19318",
   "metadata": {},
   "source": [
    "test_list = ['1', '4', '3', '6', '7']\n",
    "for i in range(0, len(test_list)):\n",
    "\ttest_list[i] = int(test_list[i])\n",
    "print(\"Modified list is : \",test_list)28. Flatten a nested list."
   ]
  },
  {
   "cell_type": "code",
   "execution_count": 121,
   "id": "7c18ad97-cf90-478c-8906-ce63a10206fd",
   "metadata": {},
   "outputs": [
    {
     "name": "stdout",
     "output_type": "stream",
     "text": [
      "[1, 2, 3, 4, 5, 6, 7]\n"
     ]
    }
   ],
   "source": [
    "my_list = [[1], [2, 3], [4, 5, 6, 7]]\n",
    "\n",
    "flat_list = []\n",
    "for sublist in my_list:\n",
    "    for num in sublist:\n",
    "        flat_list.append(num)\n",
    "\n",
    "print(flat_list)"
   ]
  },
  {
   "cell_type": "markdown",
   "id": "264ef0f5-2ddb-4967-8de7-d31ccf30b7d6",
   "metadata": {},
   "source": [
    "29. Create a list of the first 10 Fibonacci numbers."
   ]
  },
  {
   "cell_type": "code",
   "execution_count": 122,
   "id": "04e8bade-ce03-4655-9f5e-b9632573fbe7",
   "metadata": {},
   "outputs": [
    {
     "name": "stdout",
     "output_type": "stream",
     "text": [
      "First 10 Fibonacci numbers:\n",
      "[0, 1, 1, 2, 3, 5, 8, 13, 21, 34, 55]\n"
     ]
    }
   ],
   "source": [
    "def fibonacci_nums(n):\n",
    "  if n <= 0:\n",
    "    return [0]\n",
    "  sequence = [0, 1]\n",
    "  while len(sequence) <= n:\n",
    "    next_value = sequence[len(sequence) - 1] + sequence[len(sequence) - 2]\n",
    "    sequence.append(next_value)\n",
    "  return sequence\n",
    "print(\"First 10 Fibonacci numbers:\")\n",
    "print(fibonacci_nums(10))"
   ]
  },
  {
   "cell_type": "markdown",
   "id": "f6c99d61-17b3-494e-bf07-1a957edaa386",
   "metadata": {},
   "source": [
    "30. Check if a list is sorted."
   ]
  },
  {
   "cell_type": "code",
   "execution_count": 123,
   "id": "a33f7c70-c784-4f79-be02-ec21a0b2d62b",
   "metadata": {},
   "outputs": [
    {
     "name": "stdout",
     "output_type": "stream",
     "text": [
      "Given list :  [11, 23, 42, 51, 67]\n",
      "Yes, List is sorted.\n"
     ]
    }
   ],
   "source": [
    "listA = [11,23,42,51,67]\n",
    "print(\"Given list : \",listA)\n",
    "listA_copy = listA[:]\n",
    "listA_copy.sort()\n",
    "if (listA == listA_copy):\n",
    "   print(\"Yes, List is sorted.\")\n",
    "else:\n",
    "   print(\"No, List is not sorted.\")\n"
   ]
  },
  {
   "cell_type": "markdown",
   "id": "1912fde8-1bfe-4655-951d-6fe512187f2a",
   "metadata": {},
   "source": [
    "31. Rotate a list to the left by `n` positions."
   ]
  },
  {
   "cell_type": "code",
   "execution_count": 132,
   "id": "28f94d48-2d00-47d7-8e9a-8de792602b9b",
   "metadata": {},
   "outputs": [
    {
     "name": "stdout",
     "output_type": "stream",
     "text": [
      "Original List Items Before Left Rotating\n",
      "[1, 2, 3, 4, 5, 6]\n",
      "Final List Items After Left Rotating\n",
      "[3, 4, 5, 6, 1, 2]\n"
     ]
    }
   ],
   "source": [
    "ln = 2\n",
    "list_1 = [1, 2, 3, 4, 5, 6]\n",
    "\n",
    "print('Original List Items Before Left Rotating')\n",
    "print(list_1)\n",
    "\n",
    "for i in range(n):\n",
    "    firstValue = list_1[0]\n",
    "    for j in range(len(list_1) - 1):\n",
    "        list_1[j] = list_1[j + 1]\n",
    "    list_1[len(list_1) - 1] = firstValue\n",
    "\n",
    "print('Final List Items After Left Rotating')\n",
    "print(list_1)"
   ]
  },
  {
   "cell_type": "code",
   "execution_count": 131,
   "id": "b706e5ee-8397-414b-a6f9-254791665a04",
   "metadata": {},
   "outputs": [
    {
     "name": "stdout",
     "output_type": "stream",
     "text": [
      "[5, 6, 1, 2, 3, 4]\n"
     ]
    }
   ],
   "source": [
    "def rightRotate(lists, num):\n",
    "\toutput_list = []\n",
    "\tfor item in range(len(lists) - num, len(lists)):\n",
    "\t\toutput_list.append(lists[item])\n",
    "\n",
    "\t# Will add the values before\n",
    "\t# n to the end of new list\n",
    "\tfor item in range(0, len(lists) - num):\n",
    "\t\toutput_list.append(lists[item])\n",
    "\n",
    "\treturn output_list\n",
    "\n",
    "n = 2\n",
    "list_1 = [1, 2, 3, 4, 5, 6]\n",
    "\n",
    "print(rightRotate(list_1, n))\n"
   ]
  },
  {
   "cell_type": "markdown",
   "id": "97b724da-b054-454c-936e-807b106c485f",
   "metadata": {},
   "source": [
    "32. Rotate a list to the right by `n` positions."
   ]
  },
  {
   "cell_type": "markdown",
   "id": "431d7fd8-5e88-499b-a431-2667512d102f",
   "metadata": {},
   "source": [
    "33. Create a list of prime numbers up to 50."
   ]
  },
  {
   "cell_type": "code",
   "execution_count": 131,
   "id": "691c7931-a5a4-47a7-a514-1eff4afd3ed1",
   "metadata": {},
   "outputs": [
    {
     "data": {
      "text/plain": [
       "[2, 3, 5, 7, 11, 13, 17, 19, 23, 29, 31, 37, 41, 43, 47]"
      ]
     },
     "execution_count": 131,
     "metadata": {},
     "output_type": "execute_result"
    }
   ],
   "source": [
    "n=50\n",
    "prime_list=[]\n",
    "for i in range(2,n+1):\n",
    "    flag=0\n",
    "    for j in range(2,int(i/2)+1):\n",
    "        if(i%j==0):\n",
    "            flag=1\n",
    "            break  \n",
    "    if(flag==0):\n",
    "        prime_list.append(i)\n",
    "prime_list\n",
    "        \n",
    "        "
   ]
  },
  {
   "cell_type": "markdown",
   "id": "f360de60-6e7f-4521-a975-4360a315e26f",
   "metadata": {},
   "source": [
    "34. Split a list into chunks of size `n`."
   ]
  },
  {
   "cell_type": "code",
   "execution_count": 135,
   "id": "4aff5c0a-ee21-4a64-b4d8-63d45ec7091e",
   "metadata": {},
   "outputs": [
    {
     "name": "stdout",
     "output_type": "stream",
     "text": [
      "[1, 2, 3]\n",
      "[4, 5, 6]\n",
      "[7, 8, 9]\n"
     ]
    }
   ],
   "source": [
    "my_list = [1, 2, 3, 4, 5, 6, 7, 8, 9]\n",
    "start = 0\n",
    "end = len(my_list)\n",
    "step = 3\n",
    "for i in range(start, end, step):\n",
    "\tx = i\n",
    "\tprint(my_list[x:x+step])\n"
   ]
  },
  {
   "cell_type": "markdown",
   "id": "7d86f87a-40fd-4b7c-bb57-30f145f6019e",
   "metadata": {},
   "source": [
    "35. Find the second largest number in a list."
   ]
  },
  {
   "cell_type": "code",
   "execution_count": 136,
   "id": "07c947f4-e733-4def-acea-5ebbc631dddd",
   "metadata": {},
   "outputs": [
    {
     "name": "stdout",
     "output_type": "stream",
     "text": [
      "Second largest element is: 45\n"
     ]
    }
   ],
   "source": [
    "list1 = [10, 20, 20, 4, 45, 45, 45, 99, 99]\n",
    "list2 = list(set(list1))\n",
    "list2.sort()\n",
    "print(\"Second largest element is:\", list2[-2])\n"
   ]
  },
  {
   "cell_type": "markdown",
   "id": "c30b8e5f-3c5d-4431-9e54-89b7f4470a02",
   "metadata": {},
   "source": [
    "\n",
    "36. Replace every element in a list with its square."
   ]
  },
  {
   "cell_type": "code",
   "execution_count": 138,
   "id": "16357ee6-33bb-4edb-8999-bd8479437c55",
   "metadata": {},
   "outputs": [
    {
     "name": "stdout",
     "output_type": "stream",
     "text": [
      "[1, 4, 9, 16, 25]\n"
     ]
    }
   ],
   "source": [
    "def square_list(list_1):\n",
    "    for i in range(len(list_1)):\n",
    "        list_1[i] = list_1[i]**2\n",
    "        \n",
    "my_list = [1, 2, 3, 4, 5]\n",
    "square_list(my_list)\n",
    "print(my_list)"
   ]
  },
  {
   "cell_type": "markdown",
   "id": "346696f0-9442-402e-b3e7-d7ab79395db8",
   "metadata": {},
   "source": [
    "37. Convert a list to a dictionary where list elements become keys and their indices become values."
   ]
  },
  {
   "cell_type": "code",
   "execution_count": 140,
   "id": "086ccfd4-9751-4a94-bdcc-4d19347d162b",
   "metadata": {},
   "outputs": [
    {
     "name": "stdout",
     "output_type": "stream",
     "text": [
      "{0: 'abc', 1: 'xyz', 2: 'def', 3: 'jkl'}\n"
     ]
    }
   ],
   "source": [
    "list1 = ['abc', 'xyz', 'def', 'jkl']\n",
    "\n",
    "list_dict = {}\n",
    "for i, itm in enumerate(list1):\n",
    "    list_dict[i] = itm\n",
    "\n",
    "print(list_dict)\n"
   ]
  },
  {
   "cell_type": "markdown",
   "id": "2e2efcd8-b8ea-483e-8c4d-1e4126541eaa",
   "metadata": {},
   "source": [
    "38. Shuffle the elements of a list randomly."
   ]
  },
  {
   "cell_type": "code",
   "execution_count": 141,
   "id": "45bbe036-bf8c-4b95-9979-2c9fca30cc40",
   "metadata": {},
   "outputs": [
    {
     "name": "stdout",
     "output_type": "stream",
     "text": [
      "The original list is : [1, 4, 5, 6, 3]\n",
      "The shuffled list is : [6, 1, 4, 5, 3]\n"
     ]
    }
   ],
   "source": [
    "import random\n",
    "test_list = [1, 4, 5, 6, 3]\n",
    "\n",
    "print(\"The original list is : \" + str(test_list))\n",
    "\n",
    "random.shuffle(test_list)\n",
    "\n",
    "print(\"The shuffled list is : \" + str(test_list))\n"
   ]
  },
  {
   "cell_type": "markdown",
   "id": "af8d5505-f452-4385-bef7-b2fe9346768f",
   "metadata": {},
   "source": [
    "39. Create a list of the first 10 factorial numbers."
   ]
  },
  {
   "cell_type": "code",
   "execution_count": 7,
   "id": "5df4a583-e19f-4f04-aaf0-593dfa964521",
   "metadata": {},
   "outputs": [
    {
     "data": {
      "text/plain": [
       "[1, 2, 6, 24, 120, 720, 5040, 40320, 362880, 3628800]"
      ]
     },
     "execution_count": 7,
     "metadata": {},
     "output_type": "execute_result"
    }
   ],
   "source": [
    "def factorial(n):\n",
    "    fact = 1\n",
    "    for factor in range(1, n + 1):\n",
    "        fact *= factor\n",
    "    return fact\n",
    "\n",
    "my_list = list(range(1, 11))\n",
    "my_factorials = [factorial(x) for x in my_list]\n",
    "my_factorials"
   ]
  },
  {
   "cell_type": "markdown",
   "id": "c7869a43-dcb8-41a1-b2e0-6915bf7dec41",
   "metadata": {},
   "source": [
    "40. Check if two lists have at least one element in common."
   ]
  },
  {
   "cell_type": "code",
   "execution_count": 9,
   "id": "41fd95ff-9353-46c1-b9a0-7adb1ac48259",
   "metadata": {},
   "outputs": [
    {
     "data": {
      "text/plain": [
       "'Common Element Found'"
      ]
     },
     "execution_count": 9,
     "metadata": {},
     "output_type": "execute_result"
    }
   ],
   "source": [
    "def cmn(l1, l2):\n",
    "    cmnt = \"Common Element Not Found\"\n",
    "    for i in l1:\n",
    "        for j in l2:\n",
    "            if i == j:\n",
    "                cmnt=\"Common Element Found\"\n",
    "                return cmnt\n",
    "    return cmnt\n",
    "l1=[ 1,2,3,4]\n",
    "l2=[4,5,6,7]\n",
    "cmn(l1,l2)\n"
   ]
  },
  {
   "cell_type": "markdown",
   "id": "93ab3fe9-cf4a-44e6-b2d9-3ce3c22ac6d5",
   "metadata": {},
   "source": [
    "41. Remove all elements from a list."
   ]
  },
  {
   "cell_type": "code",
   "execution_count": 12,
   "id": "4ee33dbe-650e-4e18-bf8f-d64dd13392ed",
   "metadata": {},
   "outputs": [
    {
     "data": {
      "text/plain": [
       "[]"
      ]
     },
     "execution_count": 12,
     "metadata": {},
     "output_type": "execute_result"
    }
   ],
   "source": [
    "l1=[ 1,2,3,4]\n",
    "l1.clear()\n",
    "l1"
   ]
  },
  {
   "cell_type": "markdown",
   "id": "470702bf-1096-438f-95ff-b8caec0a385b",
   "metadata": {},
   "source": [
    "42. Replace negative numbers in a list with 0."
   ]
  },
  {
   "cell_type": "code",
   "execution_count": 13,
   "id": "952c6841-9de4-4016-8b98-57037812b581",
   "metadata": {},
   "outputs": [
    {
     "name": "stdout",
     "output_type": "stream",
     "text": [
      "The original list is : [5, 6, -3, -8, 9, 11, -12, 2]\n",
      "List after filtering : [5, 6, 9, 11, 2]\n"
     ]
    }
   ],
   "source": [
    "test_list = [5, 6, -3, -8, 9, 11, -12, 2]\n",
    "print(\"The original list is : \" + str(test_list))\n",
    "res = [ele for ele in test_list if ele > 0]\n",
    "print(\"List after filtering : \" + str(res))\n"
   ]
  },
  {
   "cell_type": "markdown",
   "id": "fef2ef66-86e5-484f-8158-cd85669d5a41",
   "metadata": {},
   "source": [
    "43. Convert a string into a list of words."
   ]
  },
  {
   "cell_type": "code",
   "execution_count": 15,
   "id": "daec16b5-e0a6-46ae-8622-d1723d8e745d",
   "metadata": {},
   "outputs": [
    {
     "data": {
      "text/plain": [
       "['Welcome', 'to', 'the', 'pwskills']"
      ]
     },
     "execution_count": 15,
     "metadata": {},
     "output_type": "execute_result"
    }
   ],
   "source": [
    "in_str=\"Welcome to the pwskills\"\n",
    "in_str=in_str.split()\n",
    "in_str"
   ]
  },
  {
   "cell_type": "markdown",
   "id": "a5d37ab2-770d-48ec-8668-a591292d30b0",
   "metadata": {},
   "source": [
    "44. Convert a list of words into a string."
   ]
  },
  {
   "cell_type": "code",
   "execution_count": 17,
   "id": "f19896ca-6baa-4845-abfd-f476d0ecec2e",
   "metadata": {},
   "outputs": [
    {
     "data": {
      "text/plain": [
       "'Welcome to the pwskills'"
      ]
     },
     "execution_count": 17,
     "metadata": {},
     "output_type": "execute_result"
    }
   ],
   "source": [
    "in_str=['Welcome', 'to', 'the', 'pwskills']\n",
    "in_str=\" \".join(in_str)\n",
    "in_str"
   ]
  },
  {
   "cell_type": "markdown",
   "id": "80bc609f-1159-418f-bdab-5c8110a68c26",
   "metadata": {},
   "source": [
    "45. Create a list of the first `n` powers of 2."
   ]
  },
  {
   "cell_type": "code",
   "execution_count": 20,
   "id": "14397df7-7a91-4048-bbfd-be6c80770176",
   "metadata": {},
   "outputs": [
    {
     "name": "stdout",
     "output_type": "stream",
     "text": [
      "[2, 4, 8, 16]\n"
     ]
    }
   ],
   "source": [
    "def squares(n):\n",
    "    power = n\n",
    "    square_list = []\n",
    "    for i in range(1,n+1):\n",
    "        square_list.append(2 ** i)\n",
    "    return square_list\n",
    "print(squares(4))"
   ]
  },
  {
   "cell_type": "markdown",
   "id": "4b7a60af-7952-4433-ace8-279be0f30438",
   "metadata": {},
   "source": [
    "46. Find the longest string in a list of strings."
   ]
  },
  {
   "cell_type": "code",
   "execution_count": 21,
   "id": "25a81ce0-bdb8-4e41-8855-500c65858777",
   "metadata": {},
   "outputs": [
    {
     "name": "stdout",
     "output_type": "stream",
     "text": [
      "The original list : ['pwskills', 'is', 'best', 'for', 'python']\n",
      "Maximum length string is : pwskills\n"
     ]
    }
   ],
   "source": [
    "test_list = ['pwskills', 'is', 'best', 'for', 'python']\n",
    "print(\"The original list : \" + str(test_list))\n",
    "res = max(test_list, key = len)\n",
    "print(\"Maximum length string is : \" + res)\n"
   ]
  },
  {
   "cell_type": "markdown",
   "id": "7ed2e917-7c92-4e9d-a970-f275dd66e690",
   "metadata": {},
   "source": [
    "47. Find the shortest string in a list of strings."
   ]
  },
  {
   "cell_type": "code",
   "execution_count": 23,
   "id": "89eaef59-d8ca-488d-b944-c6df372a5f97",
   "metadata": {},
   "outputs": [
    {
     "name": "stdout",
     "output_type": "stream",
     "text": [
      "The original list : ['pwskills', 'is', 'best', 'for', 'python']\n",
      "Minimum length string is : is\n"
     ]
    }
   ],
   "source": [
    "test_list = ['pwskills', 'is' , 'best', 'for', 'python']\n",
    "print(\"The original list : \" + str(test_list))\n",
    "res = min(test_list, key = len)\n",
    "print(\"Minimum length string is : \" + res)\n"
   ]
  },
  {
   "cell_type": "markdown",
   "id": "e4f52753-346d-414f-b353-e47b93740ad9",
   "metadata": {},
   "source": [
    "48. Create a list of the first `n` triangular numbers."
   ]
  },
  {
   "cell_type": "code",
   "execution_count": null,
   "id": "6aabbb44-b5d0-4bce-8997-7bb3487fd71f",
   "metadata": {},
   "outputs": [
    {
     "data": {
      "text/plain": [
       "[1, 3, 6, 10, 15, 21, 28, 36, 45, 55]"
      ]
     },
     "execution_count": 28,
     "metadata": {},
     "output_type": "execute_result"
    }
   ],
   "source": [
    "def triangular_series( n ):\n",
    "    l = []\n",
    "    j = 1\n",
    "    k = 1\n",
    "    for i in range(1, n + 1):\n",
    "        l.append(k)\n",
    "        j = j + 1\n",
    "        k = k + j        \n",
    "    return(l)\n",
    "n = 10\n",
    "triangular_series(n)"
   ]
  },
  {
   "cell_type": "markdown",
   "id": "faf8e3bb-9cee-4c81-a8b1-9cd0ba7bc606",
   "metadata": {},
   "source": [
    "49. Check if a list contains another list as a subsequence."
   ]
  },
  {
   "cell_type": "code",
   "execution_count": 28,
   "id": "97919abd-2d32-4520-9e98-1fc69d32bd35",
   "metadata": {},
   "outputs": [
    {
     "name": "stdout",
     "output_type": "stream",
     "text": [
      "Yes, list is subset of other.\n"
     ]
    }
   ],
   "source": [
    "list1 = [9, 4, 5, 8, 10]\n",
    "list2 = [10, 5, 4]\n",
    "\n",
    "\n",
    "a = 0\n",
    "if(all(i in list1 for i in list2)):\n",
    "\ta = 1\n",
    "\n",
    "if (a):\n",
    "\tprint(\"Yes, list is subset of other.\")\n",
    "else:\n",
    "\tprint(\"No, list is not subset of other.\")\n"
   ]
  },
  {
   "cell_type": "markdown",
   "id": "0e929494-1509-44b6-9f2f-2f492e37328a",
   "metadata": {},
   "source": [
    "50. Swap two elements in a list by their indices."
   ]
  },
  {
   "cell_type": "code",
   "execution_count": 29,
   "id": "86ca6dcd-f64b-4df8-9bb9-2797087f9d84",
   "metadata": {},
   "outputs": [
    {
     "name": "stdout",
     "output_type": "stream",
     "text": [
      "[19, 65, 23, 90]\n"
     ]
    }
   ],
   "source": [
    "def swp(list, pos1, pos2):\n",
    "\t\n",
    "\tlist[pos1], list[pos2] = list[pos2], list[pos1]\n",
    "\treturn list\n",
    "\n",
    "List = [23, 65, 19, 90]\n",
    "pos1, pos2 = 1, 3\n",
    "\n",
    "print(swp(List, pos1-1, pos2-1))\n"
   ]
  },
  {
   "cell_type": "markdown",
   "id": "f21f4c09-dcef-417b-acbb-aa4db1321758",
   "metadata": {},
   "source": [
    "# Tuple Based Practice Problem : #"
   ]
  },
  {
   "cell_type": "markdown",
   "id": "f217dc7f-2213-4ba0-b46a-b01cbda19258",
   "metadata": {},
   "source": [
    "1. Create a tuple with integers from 1 to 5."
   ]
  },
  {
   "cell_type": "code",
   "execution_count": 4,
   "id": "cd39a289-1fc8-4a34-9707-ec2f2fed984d",
   "metadata": {},
   "outputs": [
    {
     "name": "stdout",
     "output_type": "stream",
     "text": [
      "<class 'tuple'>\n",
      "(0, 1, 2, 3, 4, 5)\n"
     ]
    }
   ],
   "source": [
    "tupl=(0,1,2,3,4,5)\n",
    "print(type(tupl))\n",
    "print(tupl)"
   ]
  },
  {
   "cell_type": "markdown",
   "id": "fe9e287d-6613-42c3-837a-f1e0e856feee",
   "metadata": {},
   "source": [
    "2. Access the third element of a tuple."
   ]
  },
  {
   "cell_type": "code",
   "execution_count": 10,
   "id": "8a53273f-c700-48e8-85fb-6cee712a6d9f",
   "metadata": {},
   "outputs": [
    {
     "data": {
      "text/plain": [
       "7"
      ]
     },
     "execution_count": 10,
     "metadata": {},
     "output_type": "execute_result"
    }
   ],
   "source": [
    "tupl=(0,1,7,3,4,5)\n",
    "tupl[2]"
   ]
  },
  {
   "cell_type": "markdown",
   "id": "c95bbc2e-9f2a-4a0e-8429-113fb300e073",
   "metadata": {},
   "source": [
    "3. Find the length of a tuple without using the `len()` function."
   ]
  },
  {
   "cell_type": "code",
   "execution_count": 14,
   "id": "1baf0f28-13d9-4d68-aecf-f159d31e3c15",
   "metadata": {},
   "outputs": [],
   "source": [
    "tupl=(0,1,7,3,4,5)\n",
    "cnt=0\n",
    "for i in tupl:\n",
    "    cnt+=1\n"
   ]
  },
  {
   "cell_type": "markdown",
   "id": "66282b36-a056-4f7c-8a88-6bb9554042fd",
   "metadata": {},
   "source": [
    "4. Count the occurrences of an element in a tuple."
   ]
  },
  {
   "cell_type": "code",
   "execution_count": 19,
   "id": "f9f41dda-f0f8-4536-923c-638f2c8551e9",
   "metadata": {},
   "outputs": [
    {
     "name": "stdout",
     "output_type": "stream",
     "text": [
      "Number of Occurrences of  2  =  3\n"
     ]
    }
   ],
   "source": [
    "tupl = (1, 2, 3, 4, 2, 2, 7, 8)\n",
    "a=2\n",
    "count = 0\n",
    "for ele in tupl:\n",
    "    if (ele == a):\n",
    "        count = count + 1\n",
    "        \n",
    "print(\"Number of Occurrences of \",a,\" = \",count)"
   ]
  },
  {
   "cell_type": "markdown",
   "id": "b8e81e7a-c0c3-4919-924a-266ba7b47354",
   "metadata": {},
   "source": [
    "5. Find the index of the first occurrence of an element in a tuple."
   ]
  },
  {
   "cell_type": "code",
   "execution_count": 25,
   "id": "9b8e6a0a-288b-4286-807a-031a2c965777",
   "metadata": {},
   "outputs": [
    {
     "name": "stdout",
     "output_type": "stream",
     "text": [
      "Index of the first Occurrences of element  2  is =  3\n"
     ]
    }
   ],
   "source": [
    "tupl = (1, 4, 3, 2, 3, 4, 2, 2, 7, 8)\n",
    "a=2\n",
    "i=tupl.index(2)\n",
    "\n",
    "print(\"Index of the first Occurrences of element \",a,\" is = \",i)"
   ]
  },
  {
   "cell_type": "markdown",
   "id": "834628a1-61ae-4911-8c43-63221acb971a",
   "metadata": {},
   "source": [
    "6. Check if an element exists in a tuple."
   ]
  },
  {
   "cell_type": "code",
   "execution_count": 26,
   "id": "b9183fb1-4cb4-4cd9-843d-6cee28a73b34",
   "metadata": {},
   "outputs": [
    {
     "name": "stdout",
     "output_type": "stream",
     "text": [
      "exist\n"
     ]
    }
   ],
   "source": [
    "tupl = (1, 4, 3, 2, 3, 4, 2, 2, 7, 8)\n",
    "a=4\n",
    "if a in tupl:\n",
    "    print(\"exist\")\n",
    "else:\n",
    "    print(\"not exist\")"
   ]
  },
  {
   "cell_type": "markdown",
   "id": "c539726b-0142-4cb7-9331-633e4eca6d57",
   "metadata": {},
   "source": [
    "7. Convert a tuple to a list."
   ]
  },
  {
   "cell_type": "code",
   "execution_count": 28,
   "id": "e6aba538-9b84-4291-b9c1-1c075b88473b",
   "metadata": {},
   "outputs": [
    {
     "data": {
      "text/plain": [
       "list"
      ]
     },
     "execution_count": 28,
     "metadata": {},
     "output_type": "execute_result"
    }
   ],
   "source": [
    "tupl = (1, 4, 3, 2, 3, 4, 2, 2, 7, 8)\n",
    "tupl=list(tupl)\n",
    "type(tupl)"
   ]
  },
  {
   "cell_type": "markdown",
   "id": "767954fa-b70d-4975-b105-8c5f76022846",
   "metadata": {},
   "source": [
    "8. Convert a list to a tuple."
   ]
  },
  {
   "cell_type": "code",
   "execution_count": 29,
   "id": "e256275c-05fe-4163-ba0f-ac6810138860",
   "metadata": {},
   "outputs": [
    {
     "data": {
      "text/plain": [
       "list"
      ]
     },
     "execution_count": 30,
     "metadata": {},
     "output_type": "execute_result"
    }
   ],
   "source": [
    "list1 = [1, 4, 3, 2, 3, 4, 2, 2, 7, 8]\n",
    "list1 = tuple(list1)\n",
    "type(list1)"
   ]
  },
  {
   "cell_type": "markdown",
   "id": "b8023f2f-b90e-4fcc-8c3d-64c93052cb55",
   "metadata": {},
   "source": [
    "9. Unpack the elements of a tuple into variables."
   ]
  },
  {
   "cell_type": "code",
   "execution_count": 33,
   "id": "607c01f5-4ebb-43bc-9fae-c130cbc6fd23",
   "metadata": {},
   "outputs": [
    {
     "name": "stdout",
     "output_type": "stream",
     "text": [
      "MNNIT Allahabad\n",
      "5000\n",
      "Engineering\n"
     ]
    }
   ],
   "source": [
    "a = (\"MNNIT Allahabad\", 5000, \"Engineering\")\n",
    "(college, student, type_ofcollege) = a\n",
    "print(college)\n",
    "print(student)\n",
    "print(type_ofcollege)\n"
   ]
  },
  {
   "cell_type": "markdown",
   "id": "a77d52eb-ee99-4251-923f-4491dcd591d9",
   "metadata": {},
   "source": [
    "10. Create a tuple of even numbers from 1 to 10."
   ]
  },
  {
   "cell_type": "code",
   "execution_count": 59,
   "id": "4a4e7158-9afa-4439-b3f0-e8eb17bca84a",
   "metadata": {},
   "outputs": [
    {
     "name": "stdout",
     "output_type": "stream",
     "text": [
      "(2, 4, 6, 8)\n"
     ]
    }
   ],
   "source": [
    "num=[]\n",
    "for x in range(1,10):\n",
    "    if x%2==0:\n",
    "        num.append(x)\n",
    "        \n",
    "tupl=tuple(num)\n",
    "print(tupl)\n"
   ]
  },
  {
   "cell_type": "markdown",
   "id": "7620f754-0c99-4e49-a891-d4c45b478408",
   "metadata": {},
   "source": [
    "11. Create a tuple of odd numbers from 1 to 10."
   ]
  },
  {
   "cell_type": "code",
   "execution_count": 60,
   "id": "4f5705d3-002a-4dc8-a231-0a6e0dc8a6ba",
   "metadata": {},
   "outputs": [
    {
     "name": "stdout",
     "output_type": "stream",
     "text": [
      "(1, 3, 5, 7, 9)\n"
     ]
    }
   ],
   "source": [
    "num=[]\n",
    "for x in range(1,10):\n",
    "    if x%2!=0:\n",
    "        num.append(x)\n",
    "        \n",
    "tupl=tuple(num)\n",
    "print(tupl)\n"
   ]
  },
  {
   "cell_type": "markdown",
   "id": "374e13e4-c926-4f32-853d-fd0061cc29ac",
   "metadata": {},
   "source": [
    "12. Concatenate two tuples."
   ]
  },
  {
   "cell_type": "code",
   "execution_count": 61,
   "id": "b50bca23-e140-44ae-b8bb-8144c032f7fd",
   "metadata": {},
   "outputs": [
    {
     "data": {
      "text/plain": [
       "(0, 2, 4, 6, 8, 1, 3, 5, 7, 9)"
      ]
     },
     "execution_count": 61,
     "metadata": {},
     "output_type": "execute_result"
    }
   ],
   "source": [
    "tupl1=(0, 2, 4, 6, 8)\n",
    "tupl2=(1, 3, 5, 7, 9)\n",
    "tupl3=tupl1+tupl2\n",
    "tupl3"
   ]
  },
  {
   "cell_type": "markdown",
   "id": "c10e9997-6cd8-4f69-9468-9a64d9bd3afc",
   "metadata": {},
   "source": [
    "13. Repeat a tuple three times."
   ]
  },
  {
   "cell_type": "code",
   "execution_count": 63,
   "id": "f7a5d999-da43-4f1b-9f84-8f4a470db0eb",
   "metadata": {},
   "outputs": [
    {
     "data": {
      "text/plain": [
       "(0, 2, 4, 6, 8, 0, 2, 4, 6, 8, 0, 2, 4, 6, 8)"
      ]
     },
     "execution_count": 63,
     "metadata": {},
     "output_type": "execute_result"
    }
   ],
   "source": [
    "tupl1=(0, 2, 4, 6, 8) *3\n",
    "tupl1"
   ]
  },
  {
   "cell_type": "markdown",
   "id": "273e1d53-8fa5-4936-b3b4-c655a6015a9c",
   "metadata": {},
   "source": [
    "14. Check if a tuple is empty."
   ]
  },
  {
   "cell_type": "code",
   "execution_count": 64,
   "id": "3f4545a6-171a-43f7-9253-0ae6c90a6c98",
   "metadata": {},
   "outputs": [
    {
     "name": "stdout",
     "output_type": "stream",
     "text": [
      "The tuple is not empty\n"
     ]
    }
   ],
   "source": [
    "tupl1=(0, 2, 4, 6, 8)\n",
    "if len(tupl1) == 0:\n",
    "    print(\"The tuple is empty\")\n",
    "else:\n",
    "    print(\"The tuple is not empty\")\n"
   ]
  },
  {
   "cell_type": "markdown",
   "id": "87875607-391f-4899-9d63-f9b8f894ad7d",
   "metadata": {},
   "source": [
    "15. Create a nested tuple."
   ]
  },
  {
   "cell_type": "code",
   "execution_count": 71,
   "id": "d7ea7b7a-9658-4705-bf93-878dbe9329f3",
   "metadata": {},
   "outputs": [
    {
     "data": {
      "text/plain": [
       "((0, 2, 4, 6, 8), (1, 3, 5, 7, 9), ('a', 'e', 'i', 'o', 'u'))"
      ]
     },
     "execution_count": 71,
     "metadata": {},
     "output_type": "execute_result"
    }
   ],
   "source": [
    "tupl1=(0, 2, 4, 6, 8)\n",
    "tupl2=(1, 3, 5, 7, 9)\n",
    "tupl=('a', 'e', 'i', 'o', 'u')\n",
    "tupl3=((tupl1, )+(tupl2, )+(tupl, ))\n",
    "tupl3\n"
   ]
  },
  {
   "cell_type": "markdown",
   "id": "eda86db1-3e16-4003-b058-9dd34d7c3187",
   "metadata": {},
   "source": [
    "16. Access the first element of a nested tuple."
   ]
  },
  {
   "cell_type": "code",
   "execution_count": 74,
   "id": "98488946-7321-4c5e-b923-e905160c0773",
   "metadata": {},
   "outputs": [
    {
     "name": "stdout",
     "output_type": "stream",
     "text": [
      "(0, 2, 4, 6, 8)\n"
     ]
    }
   ],
   "source": [
    "tupl=((0, 2, 4, 6, 8), (1, 3, 5, 7, 9), ('a', 'e', 'i', 'o', 'u'))\n",
    "print(tupl[0])"
   ]
  },
  {
   "cell_type": "markdown",
   "id": "2507a9bb-1c0f-4d21-8684-03b279ebd65e",
   "metadata": {},
   "source": [
    "17. Create a tuple with a single element."
   ]
  },
  {
   "cell_type": "code",
   "execution_count": 75,
   "id": "0fcaae64-7de0-4ac5-81d2-2f4a5cd55e63",
   "metadata": {},
   "outputs": [
    {
     "data": {
      "text/plain": [
       "('apple',)"
      ]
     },
     "execution_count": 75,
     "metadata": {},
     "output_type": "execute_result"
    }
   ],
   "source": [
    "singl_tupl=(\"apple\",)\n",
    "singl_tupl"
   ]
  },
  {
   "cell_type": "markdown",
   "id": "914543cd-9567-48c4-8175-f3864f1c624b",
   "metadata": {},
   "source": [
    "18. Compare two tuples."
   ]
  },
  {
   "cell_type": "code",
   "execution_count": 77,
   "id": "fdd87e9c-e46d-4ff2-810e-d2c3f4fc23a2",
   "metadata": {},
   "outputs": [
    {
     "data": {
      "text/plain": [
       "False"
      ]
     },
     "execution_count": 77,
     "metadata": {},
     "output_type": "execute_result"
    }
   ],
   "source": [
    "tuple1 = (2, 4, 6)\n",
    "tuple2 = (2, 4, 6)\n",
    "result = tuple1 != tuple2\n",
    "result"
   ]
  },
  {
   "cell_type": "markdown",
   "id": "ee276782-08c0-482b-8832-ccf218f07865",
   "metadata": {},
   "source": [
    "19. Delete a tuple."
   ]
  },
  {
   "cell_type": "code",
   "execution_count": 78,
   "id": "f5c2c9ee-d82f-41c1-9462-5477b1ccc3c9",
   "metadata": {},
   "outputs": [
    {
     "name": "stdout",
     "output_type": "stream",
     "text": [
      "((0, 2, 4, 6, 8), (1, 3, 5, 7, 9), ('a', 'e', 'i', 'o', 'u'))\n",
      "After deleting the tuple:\n"
     ]
    },
    {
     "ename": "NameError",
     "evalue": "name 'tup' is not defined",
     "output_type": "error",
     "traceback": [
      "\u001b[0;31m---------------------------------------------------------------------------\u001b[0m",
      "\u001b[0;31mNameError\u001b[0m                                 Traceback (most recent call last)",
      "Cell \u001b[0;32mIn[78], line 5\u001b[0m\n\u001b[1;32m      3\u001b[0m \u001b[38;5;28;01mdel\u001b[39;00m(tup)\n\u001b[1;32m      4\u001b[0m \u001b[38;5;28mprint\u001b[39m(\u001b[38;5;124m\"\u001b[39m\u001b[38;5;124mAfter deleting the tuple:\u001b[39m\u001b[38;5;124m\"\u001b[39m)\n\u001b[0;32m----> 5\u001b[0m \u001b[38;5;28mprint\u001b[39m(\u001b[43mtup\u001b[49m)\n",
      "\u001b[0;31mNameError\u001b[0m: name 'tup' is not defined"
     ]
    }
   ],
   "source": [
    "tup=((0, 2, 4, 6, 8), (1, 3, 5, 7, 9), ('a', 'e', 'i', 'o', 'u'))\n",
    "print(tup)\n",
    "del(tup)\n",
    "print(\"After deleting the tuple:\")\n",
    "print(tup)"
   ]
  },
  {
   "cell_type": "markdown",
   "id": "41d74515-f041-42a6-b979-2fbb321f0412",
   "metadata": {},
   "source": [
    "20. Slice a tuple."
   ]
  },
  {
   "cell_type": "code",
   "execution_count": 79,
   "id": "c0381bb8-3b98-4a90-9ab9-f2c95645d254",
   "metadata": {},
   "outputs": [
    {
     "name": "stdout",
     "output_type": "stream",
     "text": [
      "('a', 'b', 'c', 'd', 'e', 'f')\n",
      "('b', 'd', 'f', 'h')\n",
      "('j', 'h')\n"
     ]
    }
   ],
   "source": [
    "tuple= ('a','b','c','d','e','f','g','h','i','j')\n",
    "print(tuple[0:6])\n",
    "print(tuple[1:9:2])\n",
    "print(tuple[-1:-5:-2])"
   ]
  },
  {
   "cell_type": "markdown",
   "id": "593ebf6c-167a-46a3-a588-6df9a646635a",
   "metadata": {},
   "source": [
    "21. Find the maximum value in a tuple."
   ]
  },
  {
   "cell_type": "code",
   "execution_count": 80,
   "id": "27caadae-1fe8-4b81-8467-f8f8fe7b2417",
   "metadata": {},
   "outputs": [
    {
     "data": {
      "text/plain": [
       "8"
      ]
     },
     "execution_count": 80,
     "metadata": {},
     "output_type": "execute_result"
    }
   ],
   "source": [
    "tupl1=(0, 2, 4, 6, 8)\n",
    "max(tupl1)"
   ]
  },
  {
   "cell_type": "markdown",
   "id": "1dde58b5-ca62-4bf7-9b07-888ab40d7e17",
   "metadata": {},
   "source": [
    "22. Find the minimum value in a tuple."
   ]
  },
  {
   "cell_type": "code",
   "execution_count": 82,
   "id": "bbeec8ad-6e4a-47ed-9538-46b77e127fd7",
   "metadata": {},
   "outputs": [
    {
     "data": {
      "text/plain": [
       "0"
      ]
     },
     "execution_count": 82,
     "metadata": {},
     "output_type": "execute_result"
    }
   ],
   "source": [
    "tupl1=(0, 2, 4, 6, 8)\n",
    "min(tupl1)"
   ]
  },
  {
   "cell_type": "markdown",
   "id": "fe423d71-5682-403b-b527-352ad78b1561",
   "metadata": {},
   "source": [
    "23. Convert a string to a tuple of characters."
   ]
  },
  {
   "cell_type": "code",
   "execution_count": 106,
   "id": "88210b19-c1e3-44ae-8e66-1f3f5ec3b78c",
   "metadata": {},
   "outputs": [
    {
     "data": {
      "text/plain": [
       "('H', 'e', 'l', 'l', 'o', ' ', 'w', 'o', 'r', 'l', 'd')"
      ]
     },
     "execution_count": 106,
     "metadata": {},
     "output_type": "execute_result"
    }
   ],
   "source": [
    "string=\"Hello world\"\n",
    "lst=[]\n",
    "for char in string:\n",
    "    lst.append(char)\n",
    "tupl=tuple(lst)\n",
    "tupl\n"
   ]
  },
  {
   "cell_type": "markdown",
   "id": "8a9bfc59-eee1-48c3-8b9d-fe674695b534",
   "metadata": {},
   "source": [
    "24. Convert a tuple of characters to a string."
   ]
  },
  {
   "cell_type": "code",
   "execution_count": 113,
   "id": "88f1d894-899a-41f9-918a-305b72468f89",
   "metadata": {},
   "outputs": [
    {
     "data": {
      "text/plain": [
       "'Hello world'"
      ]
     },
     "execution_count": 113,
     "metadata": {},
     "output_type": "execute_result"
    }
   ],
   "source": [
    "final=''\n",
    "str_tupl=('H', 'e', 'l', 'l', 'o', ' ', 'w', 'o', 'r', 'l', 'd')\n",
    "for item in str_tupl:\n",
    "    final = final + item\n",
    "final"
   ]
  },
  {
   "cell_type": "markdown",
   "id": "cf5d12d7-a3e8-495f-9a15-aa8e69f19fce",
   "metadata": {},
   "source": [
    "25. Create a tuple from multiple data types."
   ]
  },
  {
   "cell_type": "code",
   "execution_count": 114,
   "id": "b2483f2f-1e71-47ec-b2d9-f2bb0689bb2a",
   "metadata": {},
   "outputs": [
    {
     "name": "stdout",
     "output_type": "stream",
     "text": [
      "(1, 2, 3, 2.1, 4.3, 'hello', 'd')\n",
      "<class 'tuple'>\n"
     ]
    }
   ],
   "source": [
    "tupl=(1,2,3,2.1,4.3,\"hello\",'d')\n",
    "print(tupl)\n",
    "print(type(tupl))"
   ]
  },
  {
   "cell_type": "markdown",
   "id": "c60ca55d-aaa5-4df2-a432-83ca0cdf9843",
   "metadata": {},
   "source": [
    "26. Check if two tuples are identical."
   ]
  },
  {
   "cell_type": "code",
   "execution_count": 115,
   "id": "a5b77f0c-dca8-4f2c-810d-a2cc0f4bf3b1",
   "metadata": {},
   "outputs": [
    {
     "name": "stdout",
     "output_type": "stream",
     "text": [
      "Are tuple lists identical ? : True\n"
     ]
    }
   ],
   "source": [
    "test_list1 = [(10, 4), (2, 5)]\n",
    "test_list2 = [(10, 4), (2, 5)]\n",
    "res = test_list1 == test_list2\n",
    "print(\"Are tuple lists identical ? : \" + str(res))"
   ]
  },
  {
   "cell_type": "markdown",
   "id": "d5361b1e-122a-4581-9f61-dcacd8415494",
   "metadata": {},
   "source": [
    "27. Sort the elements of a tuple."
   ]
  },
  {
   "cell_type": "code",
   "execution_count": 118,
   "id": "dba38f9e-8893-4fea-a1e5-49865fae7a31",
   "metadata": {},
   "outputs": [
    {
     "data": {
      "text/plain": [
       "[0, 0, 0, 2, 2, 2, 4, 4, 4, 6, 6, 6, 8, 8, 8]"
      ]
     },
     "execution_count": 118,
     "metadata": {},
     "output_type": "execute_result"
    }
   ],
   "source": [
    "tupl=(0, 2, 4, 6, 8, 0, 2, 4, 6, 8, 0, 2, 4, 6, 8)\n",
    "sorted(tupl)"
   ]
  },
  {
   "cell_type": "markdown",
   "id": "c9d5820a-b30b-424b-8f45-402925a17a80",
   "metadata": {},
   "source": [
    "28. Convert a tuple of integers to a tuple of strings."
   ]
  },
  {
   "cell_type": "code",
   "execution_count": 125,
   "id": "2fd7c97a-1652-4cab-97bc-484ab728163d",
   "metadata": {},
   "outputs": [
    {
     "data": {
      "text/plain": [
       "('0', '2', '4', '6', '8', '0', '2', '4', '6', '8', '0', '2', '4', '6', '8')"
      ]
     },
     "execution_count": 125,
     "metadata": {},
     "output_type": "execute_result"
    }
   ],
   "source": [
    "tupl=(0, 2, 4, 6, 8, 0, 2, 4, 6, 8, 0, 2, 4, 6, 8)\n",
    "lst=[]\n",
    "for i in tupl:\n",
    "    lst.append(str(i))\n",
    "str_tupl=tuple(lst)\n",
    "str_tupl"
   ]
  },
  {
   "cell_type": "markdown",
   "id": "23306ddc-2210-4ed9-b9c2-fc3bcc04f687",
   "metadata": {},
   "source": [
    "29. Convert a tuple of strings to a tuple of integers."
   ]
  },
  {
   "cell_type": "code",
   "execution_count": 126,
   "id": "6cd55b25-40d1-4b34-819a-e78606c4b2b6",
   "metadata": {},
   "outputs": [
    {
     "data": {
      "text/plain": [
       "(0, 2, 4, 6, 8, 0, 2, 4, 6, 8, 0, 2, 4, 6, 8)"
      ]
     },
     "execution_count": 126,
     "metadata": {},
     "output_type": "execute_result"
    }
   ],
   "source": [
    "tupl2=('0', '2', '4', '6', '8', '0', '2', '4', '6', '8', '0', '2', '4', '6', '8')\n",
    "lst=[]\n",
    "for i in tupl:\n",
    "    lst.append(int(i))\n",
    "int_tupl=tuple(lst)\n",
    "int_tupl"
   ]
  },
  {
   "cell_type": "markdown",
   "id": "004e43d2-4b69-4f4c-b047-b1483021c77c",
   "metadata": {},
   "source": [
    "30. Merge two tuples."
   ]
  },
  {
   "cell_type": "code",
   "execution_count": 127,
   "id": "4faab075-2882-4720-b0be-4b562c01d495",
   "metadata": {},
   "outputs": [
    {
     "name": "stdout",
     "output_type": "stream",
     "text": [
      "('a', 'b', 'c', 1, 2, 3)\n"
     ]
    }
   ],
   "source": [
    "tuple1 = (\"a\", \"b\" , \"c\")\n",
    "tuple2 = (1, 2, 3)\n",
    "\n",
    "tuple3 = tuple1 + tuple2\n",
    "print(tuple3)"
   ]
  },
  {
   "cell_type": "markdown",
   "id": "c166448a-2289-4916-bc8a-e81b0fb1b4ac",
   "metadata": {},
   "source": [
    "31. Flatten a nested tuple."
   ]
  },
  {
   "cell_type": "code",
   "execution_count": 128,
   "id": "c0c3c501-23b4-45ec-b8af-a23bf90a57fa",
   "metadata": {},
   "outputs": [
    {
     "name": "stdout",
     "output_type": "stream",
     "text": [
      "The original tuple : ((4, 5), ((4, 7), (8, 9), (10, 11)), ((9, 10), (3, 4)))\n",
      "The flattened tuple : (4, 5, 4, 7, 8, 9, 10, 11, 9, 10, 3, 4)\n"
     ]
    }
   ],
   "source": [
    "from functools import reduce\n",
    "\n",
    "def flatten_tuple(nested_tuple):\n",
    "\tdef reducer(acc, val):\n",
    "\t\tif isinstance(val, tuple):\n",
    "\t\t\treturn acc + flatten_tuple(val)\n",
    "\t\telse:\n",
    "\t\t\treturn acc + (val,)\n",
    "\n",
    "\treturn reduce(reducer, nested_tuple, ())\n",
    "\n",
    "# initializing tuple\n",
    "test_tuple = ((4, 5), ((4, 7), (8, 9), (10, 11)), (((9, 10), (3, 4))))\n",
    "\n",
    "# printing original tuple\n",
    "print(\"The original tuple : \" + str(test_tuple))\n",
    "\n",
    "# flatten nested tuples using reduce() function\n",
    "res = flatten_tuple(test_tuple)\n",
    "\n",
    "# printing result\n",
    "print(\"The flattened tuple : \" + str(res))\n"
   ]
  },
  {
   "cell_type": "markdown",
   "id": "d07db4fc-9c99-48b5-93b8-a48e0392a2ee",
   "metadata": {},
   "source": [
    "32. Create a tuple of the first 5 prime numbers."
   ]
  },
  {
   "cell_type": "code",
   "execution_count": 133,
   "id": "155cda41-7617-4e8b-b7ed-07aa65de6445",
   "metadata": {},
   "outputs": [
    {
     "data": {
      "text/plain": [
       "(2, 3, 5)"
      ]
     },
     "execution_count": 133,
     "metadata": {},
     "output_type": "execute_result"
    }
   ],
   "source": [
    "n=5\n",
    "prime_list=[]\n",
    "for i in range(2,n+1):\n",
    "    flag=0\n",
    "    for j in range(2,int(i/2)+1):\n",
    "        if(i%j==0):\n",
    "            flag=1\n",
    "            break  \n",
    "    if(flag==0):\n",
    "        prime_list.append(i)\n",
    "prime_tuple=tuple(prime_list)\n",
    "prime_tuple     \n",
    "        "
   ]
  },
  {
   "cell_type": "markdown",
   "id": "305231fe-1038-4eb2-92f3-f754fb3c4734",
   "metadata": {},
   "source": [
    "33. Check if a tuple is a palindrome."
   ]
  },
  {
   "cell_type": "code",
   "execution_count": 137,
   "id": "fde66441-cace-4a00-9795-4fdd585179eb",
   "metadata": {},
   "outputs": [
    {
     "name": "stdout",
     "output_type": "stream",
     "text": [
      "palindrome\n"
     ]
    }
   ],
   "source": [
    "my_tupl=(77, 1, 65, 65, 1, 77)\n",
    "if my_tupl == my_tupl[::-1]:\n",
    "    print(\"palindrome\")\n",
    "else:\n",
    "    print(\"not palindrome\")\n"
   ]
  },
  {
   "cell_type": "markdown",
   "id": "d91fe971-806d-4253-97ab-da059a76cd3e",
   "metadata": {},
   "source": [
    "34. Create a tuple of squares of numbers from 1 to 5."
   ]
  },
  {
   "cell_type": "code",
   "execution_count": 141,
   "id": "6a253d21-784c-4ae5-bbc1-6230a2fa8c29",
   "metadata": {},
   "outputs": [
    {
     "data": {
      "text/plain": [
       "(1, 4, 9, 16, 25)"
      ]
     },
     "execution_count": 141,
     "metadata": {},
     "output_type": "execute_result"
    }
   ],
   "source": [
    "num=[]\n",
    "for x in range(1,6):\n",
    "    x=x*x\n",
    "    num.append(x)\n",
    "sq_tuple=tuple(num)\n",
    "sq_tuple"
   ]
  },
  {
   "cell_type": "markdown",
   "id": "7d65f738-068a-4cea-b8c4-c8276a0a9568",
   "metadata": {},
   "source": [
    "35. Filter out all even numbers from a tuple."
   ]
  },
  {
   "cell_type": "code",
   "execution_count": 142,
   "id": "8e4f7df3-9fb3-4a9f-bb03-064b9490bb86",
   "metadata": {},
   "outputs": [
    {
     "data": {
      "text/plain": [
       "(4, 16)"
      ]
     },
     "execution_count": 142,
     "metadata": {},
     "output_type": "execute_result"
    }
   ],
   "source": [
    "tupl=(1, 4, 9, 16, 25)\n",
    "lst=[]\n",
    "for i in tupl:\n",
    "    if i%2==0:\n",
    "        lst.append(i)\n",
    "even_tupl=tuple(lst)\n",
    "even_tupl        "
   ]
  },
  {
   "cell_type": "markdown",
   "id": "b39e7a21-38c5-4278-a9c2-052892793204",
   "metadata": {},
   "source": [
    "36. Multiply all elements in a tuple by 2."
   ]
  },
  {
   "cell_type": "code",
   "execution_count": 143,
   "id": "d4184dfe-93fc-41ca-b429-402d8f8eb8ec",
   "metadata": {},
   "outputs": [
    {
     "data": {
      "text/plain": [
       "(2, 8, 18, 32, 50)"
      ]
     },
     "execution_count": 143,
     "metadata": {},
     "output_type": "execute_result"
    }
   ],
   "source": [
    "tupl=(1, 4, 9, 16, 25)\n",
    "lst=[]\n",
    "for i in tupl:\n",
    "    i=i*2\n",
    "    lst.append(i)\n",
    "tupl=tuple(lst)\n",
    "tupl        "
   ]
  },
  {
   "cell_type": "markdown",
   "id": "f13b0601-c359-4981-ac52-fe2203d96bff",
   "metadata": {},
   "source": [
    "37. Create a tuple of random numbers."
   ]
  },
  {
   "cell_type": "code",
   "execution_count": 145,
   "id": "f12c506d-a499-49e2-87cc-5739d871b666",
   "metadata": {},
   "outputs": [
    {
     "data": {
      "text/plain": [
       "(17, 17, 13, 20, 26)"
      ]
     },
     "execution_count": 145,
     "metadata": {},
     "output_type": "execute_result"
    }
   ],
   "source": [
    "import random\n",
    "randomlist = []\n",
    "for i in range(0,5):\n",
    "    n = random.randint(1,30)\n",
    "    randomlist.append(n)\n",
    "randomtuple=tuple(randomlist)\n",
    "randomtuple"
   ]
  },
  {
   "cell_type": "markdown",
   "id": "448bbaaf-3bdd-4ac5-9d5d-bf4349a83bc5",
   "metadata": {},
   "source": [
    "38. Check if a tuple is sorted."
   ]
  },
  {
   "cell_type": "code",
   "execution_count": 151,
   "id": "eb474654-d95e-45f3-8493-17d78c6844d6",
   "metadata": {},
   "outputs": [
    {
     "name": "stdout",
     "output_type": "stream",
     "text": [
      "True\n"
     ]
    }
   ],
   "source": [
    "def is_tuple_sorted(t):\n",
    "    for i in range(1, len(t)):\n",
    "        if t[i] > t[i-1]:\n",
    "            return False\n",
    "    return True\n",
    "t = (5, 4, 3, 2, 1)\n",
    "print(is_tuple_sorted(t))"
   ]
  },
  {
   "cell_type": "markdown",
   "id": "15d32f06-7827-4324-8bdb-cad3a6e60f90",
   "metadata": {},
   "source": [
    "39. Rotate a tuple to the left by `n` positions."
   ]
  },
  {
   "cell_type": "code",
   "execution_count": 155,
   "id": "adcc8522-9c5c-43e2-9684-f623ed9ec601",
   "metadata": {},
   "outputs": [
    {
     "name": "stdout",
     "output_type": "stream",
     "text": [
      "Original tuple Items Before Left Rotating\n",
      "[1, 2, 3, 4, 5, 6]\n",
      "Final tuple Items After Left Rotating\n"
     ]
    },
    {
     "data": {
      "text/plain": [
       "(3, 4, 5, 6, 1, 2)"
      ]
     },
     "execution_count": 155,
     "metadata": {},
     "output_type": "execute_result"
    }
   ],
   "source": [
    "ln = 2\n",
    "tupl = (1, 2, 3, 4, 5, 6)\n",
    "tupl=list(tupl)\n",
    "\n",
    "print('Original tuple Items Before Left Rotating')\n",
    "print(tupl)\n",
    "\n",
    "for i in range(n):\n",
    "    firstValue = tupl[0]\n",
    "    for j in range(len(tupl) - 1):\n",
    "        tupl[j] = tupl[j + 1]\n",
    "    tupl[len(tupl) - 1] = firstValue\n",
    "\n",
    "print('Final tuple Items After Left Rotating')\n",
    "tuple(tupl)"
   ]
  },
  {
   "cell_type": "markdown",
   "id": "736a79bc-08c8-4923-b361-66d85bf28095",
   "metadata": {},
   "source": [
    "40. Rotate a tuple to the right by `n` positions."
   ]
  },
  {
   "cell_type": "code",
   "execution_count": 156,
   "id": "4e02a0ee-12da-424b-b817-8b3ee772f03f",
   "metadata": {},
   "outputs": [
    {
     "name": "stdout",
     "output_type": "stream",
     "text": [
      "(5, 6, 1, 2, 3, 4)\n"
     ]
    }
   ],
   "source": [
    "def rightRotate(lists, num):\n",
    "\toutput_list = []\n",
    "\tfor item in range(len(lists) - num, len(lists)):\n",
    "\t\toutput_list.append(lists[item])\n",
    "\n",
    "\t# Will add the values before\n",
    "\t# n to the end of new list\n",
    "\tfor item in range(0, len(lists) - num):\n",
    "\t\toutput_list.append(lists[item])\n",
    "\n",
    "\treturn tuple(output_list)\n",
    "\n",
    "n = 2\n",
    "tupl=(1, 2, 3, 4, 5, 6)\n",
    "list_1 = list(tupl)\n",
    "\n",
    "print(rightRotate(list_1, n))\n"
   ]
  },
  {
   "cell_type": "markdown",
   "id": "8c882c96-201a-40cc-8738-71b0ec2dda64",
   "metadata": {},
   "source": [
    "41. Create a tuple of the first 5 Fibonacci numbers."
   ]
  },
  {
   "cell_type": "code",
   "execution_count": 158,
   "id": "9d880a14-d8ee-411a-a7cf-e3187939bd46",
   "metadata": {},
   "outputs": [
    {
     "name": "stdout",
     "output_type": "stream",
     "text": [
      "First 5 Fibonacci numbers:\n",
      "(0, 1, 1, 2, 3, 5)\n"
     ]
    }
   ],
   "source": [
    "def fibonacci_nums(n):\n",
    "  if n <= 0:\n",
    "    return [0]\n",
    "  sequence = [0, 1]\n",
    "  while len(sequence) <= n:\n",
    "    next_value = sequence[len(sequence) - 1] + sequence[len(sequence) - 2]\n",
    "    sequence.append(next_value)\n",
    "  return tuple(sequence)\n",
    "print(\"First 5 Fibonacci numbers:\")\n",
    "print(fibonacci_nums(5))"
   ]
  },
  {
   "cell_type": "markdown",
   "id": "89b78cbd-0c84-4677-b901-85a4c24e2e5b",
   "metadata": {},
   "source": [
    "42. Create a tuple from user input."
   ]
  },
  {
   "cell_type": "code",
   "execution_count": 160,
   "id": "ab1a3429-83ab-4f9e-b008-e189518909f0",
   "metadata": {},
   "outputs": [
    {
     "name": "stdin",
     "output_type": "stream",
     "text": [
      "Enter space-separated words:  1 2 3 4 5 6 6\n"
     ]
    },
    {
     "name": "stdout",
     "output_type": "stream",
     "text": [
      "('1', '2', '3', '4', '5', '6', '6')\n"
     ]
    }
   ],
   "source": [
    "my_tuple = tuple(input('Enter space-separated words: ').split())\n",
    "\n",
    "print(my_tuple)"
   ]
  },
  {
   "cell_type": "markdown",
   "id": "d5cff9e3-6eb5-4787-aee4-ed7795e22bdb",
   "metadata": {},
   "source": [
    "43. Swap two elements in a tuple."
   ]
  },
  {
   "cell_type": "code",
   "execution_count": 164,
   "id": "2675ff66-a646-46cd-bf61-7266f4cab459",
   "metadata": {},
   "outputs": [
    {
     "data": {
      "text/plain": [
       "('title',\n",
       " 'email',\n",
       " 'password1',\n",
       " 'password2',\n",
       " 'first_name',\n",
       " 'last_name',\n",
       " 'next',\n",
       " 'newsletter')"
      ]
     },
     "execution_count": 164,
     "metadata": {},
     "output_type": "execute_result"
    }
   ],
   "source": [
    "i = ('title', 'email', 'password2', 'password1', 'first_name', 'last_name', 'next', 'newsletter')\n",
    "i=list(i)\n",
    "a, b = i.index('password2'), i.index('password1')\n",
    "i[b], i[a] = i[a], i[b]\n",
    "i=tuple(i)\n",
    "i"
   ]
  },
  {
   "cell_type": "markdown",
   "id": "14048ae9-2b87-4f33-8d01-5b938d1a3140",
   "metadata": {},
   "source": [
    "44. Reverse the elements of a tuple."
   ]
  },
  {
   "cell_type": "code",
   "execution_count": 165,
   "id": "480c1229-bffa-4d82-ae4c-6accac3893ee",
   "metadata": {},
   "outputs": [
    {
     "data": {
      "text/plain": [
       "('newsletter',\n",
       " 'next',\n",
       " 'last_name',\n",
       " 'first_name',\n",
       " 'password1',\n",
       " 'password2',\n",
       " 'email',\n",
       " 'title')"
      ]
     },
     "execution_count": 165,
     "metadata": {},
     "output_type": "execute_result"
    }
   ],
   "source": [
    "i = ('title', 'email', 'password2', 'password1', 'first_name', 'last_name', 'next', 'newsletter')\n",
    "i[::-1]"
   ]
  },
  {
   "cell_type": "markdown",
   "id": "4203dd89-d2ab-4c27-b430-57acdc756365",
   "metadata": {},
   "source": [
    "45. Create a tuple of the first `n` powers of 2."
   ]
  },
  {
   "cell_type": "code",
   "execution_count": 166,
   "id": "3e8887e2-0037-40ef-89c3-e130bda93db6",
   "metadata": {},
   "outputs": [
    {
     "name": "stdout",
     "output_type": "stream",
     "text": [
      "(2, 4, 8, 16)\n"
     ]
    }
   ],
   "source": [
    "def squares(n):\n",
    "    power = n\n",
    "    square_list = []\n",
    "    for i in range(1,n+1):\n",
    "        square_list.append(2 ** i)\n",
    "    return tuple(square_list)\n",
    "print(squares(4))"
   ]
  },
  {
   "cell_type": "markdown",
   "id": "d0cf4c8b-2d00-46d1-acf4-0e58c81915a1",
   "metadata": {},
   "source": [
    "46. Find the longest string in a tuple of strings."
   ]
  },
  {
   "cell_type": "code",
   "execution_count": 169,
   "id": "fe4c247c-3046-4f50-badd-a4fe122ed116",
   "metadata": {},
   "outputs": [
    {
     "name": "stdout",
     "output_type": "stream",
     "text": [
      "The original tuple is : ('pwskills', 'is', 'best', 'for', 'python')\n",
      "Maximum length string is : pwskills\n"
     ]
    }
   ],
   "source": [
    "test_tupl=('pwskills', 'is', 'best', 'for', 'python')\n",
    "test_list = list(test_tupl)\n",
    "print(\"The original tuple is : \" + str(test_tupl))\n",
    "res = max(test_list, key = len)\n",
    "print(\"Maximum length string is : \" + res)\n"
   ]
  },
  {
   "cell_type": "markdown",
   "id": "e262def4-cd96-4b84-b6f9-f05e212c6721",
   "metadata": {},
   "source": [
    "47. Find the shortest string in a tuple of strings."
   ]
  },
  {
   "cell_type": "code",
   "execution_count": 3,
   "id": "62a557e3-d74e-47b3-8821-2585bd824f0a",
   "metadata": {},
   "outputs": [
    {
     "name": "stdout",
     "output_type": "stream",
     "text": [
      "The original tuple is : ('pwskills', 'is', 'best', 'for', 'python')\n",
      "Minimum length string is : is\n"
     ]
    }
   ],
   "source": [
    "test_tupl=('pwskills', 'is', 'best', 'for', 'python')\n",
    "test_list = list(test_tupl)\n",
    "print(\"The original tuple is : \" + str(test_tupl))\n",
    "res = min(test_list, key = len)\n",
    "print(\"Minimum length string is : \" + res)\n"
   ]
  },
  {
   "cell_type": "markdown",
   "id": "47b221ba-8d68-41f9-95de-b1203f965ab6",
   "metadata": {},
   "source": [
    "48. Create a tuple of the first `n` triangular numbers."
   ]
  },
  {
   "cell_type": "code",
   "execution_count": 29,
   "id": "3a92cd3a-53af-4f7b-869d-3fc5cfa65a0a",
   "metadata": {},
   "outputs": [
    {
     "data": {
      "text/plain": [
       "(1, 3, 6, 10, 15, 21, 28, 36, 45, 55)"
      ]
     },
     "execution_count": 29,
     "metadata": {},
     "output_type": "execute_result"
    }
   ],
   "source": [
    "def triangular_series( n ):\n",
    "    l = []\n",
    "    j = 1\n",
    "    k = 1\n",
    "    for i in range(1, n + 1):\n",
    "        l.append(k)\n",
    "        j = j + 1\n",
    "        k = k + j        \n",
    "    return(tuple(l))\n",
    "n = 10\n",
    "triangular_series(n)"
   ]
  },
  {
   "cell_type": "markdown",
   "id": "831d592a-ed31-4059-a606-c2b5816f3f0c",
   "metadata": {},
   "source": [
    "49. Check if a tuple contains another tuple as a subsequence."
   ]
  },
  {
   "cell_type": "code",
   "execution_count": 30,
   "id": "d418f737-f7d4-4141-a32d-8d516c9f2343",
   "metadata": {},
   "outputs": [
    {
     "name": "stdout",
     "output_type": "stream",
     "text": [
      "Is 2nd tuple subset of 1st ? : True\n"
     ]
    }
   ],
   "source": [
    "test_tup1 = (10, 4, 5, 6)\n",
    "test_tup2 = (5, 10)\n",
    "res = set(test_tup2).issubset(test_tup1)\n",
    "print(\"Is 2nd tuple subset of 1st ? : \" + str(res))\n"
   ]
  },
  {
   "cell_type": "markdown",
   "id": "97444022-472b-46b7-91e9-4d075d57f0f0",
   "metadata": {},
   "source": [
    "50. Create a tuple of alternating 1s and 0s of length `n`."
   ]
  },
  {
   "cell_type": "code",
   "execution_count": 34,
   "id": "c7479328-17c1-41df-8dda-4a9f57e94b68",
   "metadata": {},
   "outputs": [
    {
     "data": {
      "text/plain": [
       "(1, 0, 1, 0, 1, 0, 1)"
      ]
     },
     "execution_count": 34,
     "metadata": {},
     "output_type": "execute_result"
    }
   ],
   "source": [
    "result = []\n",
    "length = 7\n",
    "for i in range(length):\n",
    "    if i % 2 == 0:\n",
    "        result.append(1)\n",
    "    else:\n",
    "        result.append(0)\n",
    "\n",
    "# printing the result\n",
    "tupl=tuple(result)\n",
    "tupl"
   ]
  },
  {
   "cell_type": "markdown",
   "id": "10bffd7f-13ef-458b-98c4-aa3f98609b30",
   "metadata": {},
   "source": [
    "# Set Based Practice Problem : #"
   ]
  },
  {
   "cell_type": "markdown",
   "id": "6e9b9c79-5b07-4b1b-b911-424cb8e7f555",
   "metadata": {},
   "source": [
    "1. Create a set with integers from 1 to 5."
   ]
  },
  {
   "cell_type": "code",
   "execution_count": 36,
   "id": "0d4cf2fb-145f-4977-918a-3f16395736dc",
   "metadata": {},
   "outputs": [
    {
     "name": "stdout",
     "output_type": "stream",
     "text": [
      "{0, 1, 2, 3, 4}\n"
     ]
    }
   ],
   "source": [
    "n = 5\n",
    "my_set = set(range(n))\n",
    "print(my_set)"
   ]
  },
  {
   "cell_type": "markdown",
   "id": "3e47a220-2d38-40ae-97d0-7f988e2634c4",
   "metadata": {},
   "source": [
    "2. Add an element to a set."
   ]
  },
  {
   "cell_type": "code",
   "execution_count": 37,
   "id": "2cecff00-efa2-4884-a68a-e6fe1f5030b1",
   "metadata": {},
   "outputs": [
    {
     "data": {
      "text/plain": [
       "{0, 1, 2, 3, 4, 5}"
      ]
     },
     "execution_count": 37,
     "metadata": {},
     "output_type": "execute_result"
    }
   ],
   "source": [
    "my_set={0, 1, 2, 3, 4}\n",
    "my_set.add(5)\n",
    "my_set"
   ]
  },
  {
   "cell_type": "markdown",
   "id": "4974df95-77e6-4579-918a-892625bf7377",
   "metadata": {},
   "source": [
    "3. Remove an element from a set."
   ]
  },
  {
   "cell_type": "code",
   "execution_count": 39,
   "id": "5b3f4369-8f0d-4387-a76e-2d28f409a8ca",
   "metadata": {},
   "outputs": [
    {
     "data": {
      "text/plain": [
       "{1, 2, 3, 4, 5}"
      ]
     },
     "execution_count": 39,
     "metadata": {},
     "output_type": "execute_result"
    }
   ],
   "source": [
    "my_set={0, 1, 2, 3, 4, 5}\n",
    "my_set.pop()\n",
    "my_set"
   ]
  },
  {
   "cell_type": "markdown",
   "id": "8119e48d-5859-42bc-8f2f-b5b782c003e6",
   "metadata": {},
   "source": [
    "4. Check if an element exists in a set."
   ]
  },
  {
   "cell_type": "code",
   "execution_count": 43,
   "id": "0f8bf12b-acf5-4192-89c0-62d57263a175",
   "metadata": {},
   "outputs": [
    {
     "name": "stdout",
     "output_type": "stream",
     "text": [
      "exixts\n"
     ]
    }
   ],
   "source": [
    "my_set={0, 1, 2, 3, 4, 5}\n",
    "if 5 in my_set:\n",
    "    print(\"exixts\")\n",
    "else:\n",
    "    print(\"not exists\")"
   ]
  },
  {
   "cell_type": "markdown",
   "id": "411b5109-06f5-4f03-9693-936cae44225b",
   "metadata": {},
   "source": [
    "5. Find the length of a set without using the `len()` function."
   ]
  },
  {
   "cell_type": "code",
   "execution_count": 47,
   "id": "bc93d8ed-c5bc-456f-aeda-1ade720cbde2",
   "metadata": {},
   "outputs": [
    {
     "data": {
      "text/plain": [
       "6"
      ]
     },
     "execution_count": 47,
     "metadata": {},
     "output_type": "execute_result"
    }
   ],
   "source": [
    "my_set={0, 1, 2, 3, 4, 5}\n",
    "cnt=0\n",
    "for i in my_set:\n",
    "    cnt+=1\n",
    "cnt    "
   ]
  },
  {
   "cell_type": "markdown",
   "id": "d721e495-085f-43fc-9bdb-246f49432b40",
   "metadata": {},
   "source": [
    "6. Clear all elements from a set."
   ]
  },
  {
   "cell_type": "code",
   "execution_count": 48,
   "id": "19cd8390-d770-4d92-9db9-b068df98010f",
   "metadata": {},
   "outputs": [],
   "source": [
    "my_set={0, 1, 2, 3, 4, 5}\n",
    "my_set.clear()"
   ]
  },
  {
   "cell_type": "markdown",
   "id": "8be0efb9-7c2f-4835-8af5-8c154daa448a",
   "metadata": {},
   "source": [
    "7. Create a set of even numbers from 1 to 10."
   ]
  },
  {
   "cell_type": "code",
   "execution_count": 57,
   "id": "074af884-1dc9-4e15-8b80-13a21995657e",
   "metadata": {},
   "outputs": [
    {
     "data": {
      "text/plain": [
       "{2, 4, 6, 8}"
      ]
     },
     "execution_count": 57,
     "metadata": {},
     "output_type": "execute_result"
    }
   ],
   "source": [
    "num=[]\n",
    "for x in range(1,10):\n",
    "    if x%2==0:\n",
    "        num.append(x)\n",
    "    my_set=set(num)\n",
    "my_set\n"
   ]
  },
  {
   "cell_type": "markdown",
   "id": "b67528b4-a610-4a49-8a25-9cb9f823d2dd",
   "metadata": {},
   "source": [
    "8. Create a set of odd numbers from 1 to 10."
   ]
  },
  {
   "cell_type": "code",
   "execution_count": 58,
   "id": "271848f8-c8d7-441f-924d-7c83646fda15",
   "metadata": {},
   "outputs": [
    {
     "data": {
      "text/plain": [
       "{1, 3, 5, 7, 9}"
      ]
     },
     "execution_count": 58,
     "metadata": {},
     "output_type": "execute_result"
    }
   ],
   "source": [
    "num=[]\n",
    "for x in range(1,10):\n",
    "    if x%2!=0:\n",
    "        num.append(x)\n",
    "    my_set=set(num)\n",
    "my_set\n"
   ]
  },
  {
   "cell_type": "markdown",
   "id": "5dc4241e-7429-44c5-96ad-c6068eeb3c92",
   "metadata": {},
   "source": [
    "9. Find the union of two sets."
   ]
  },
  {
   "cell_type": "code",
   "execution_count": 61,
   "id": "866c3072-4918-4214-88b1-b9c784c8c713",
   "metadata": {},
   "outputs": [
    {
     "data": {
      "text/plain": [
       "{1, 2, 3, 4, 5, 6, 7, 8, 9}"
      ]
     },
     "execution_count": 61,
     "metadata": {},
     "output_type": "execute_result"
    }
   ],
   "source": [
    "my_set1={2, 4, 6, 8}\n",
    "my_set2={1, 3, 5, 7, 9}\n",
    "my_set1.union(my_set2)"
   ]
  },
  {
   "cell_type": "markdown",
   "id": "db06e5df-e3ec-42a8-89c3-ab5577690c65",
   "metadata": {},
   "source": [
    "10. Find the intersection of two sets."
   ]
  },
  {
   "cell_type": "code",
   "execution_count": 63,
   "id": "f5075568-df88-403a-94ef-20d33d146e33",
   "metadata": {},
   "outputs": [
    {
     "data": {
      "text/plain": [
       "{2, 4, 6, 8}"
      ]
     },
     "execution_count": 63,
     "metadata": {},
     "output_type": "execute_result"
    }
   ],
   "source": [
    "my_set1={2, 4, 6, 8}\n",
    "my_set2={1, 2, 3, 4, 5, 6, 7, 8, 9}\n",
    "my_set2.intersection(my_set1)"
   ]
  },
  {
   "cell_type": "markdown",
   "id": "c7e908a3-7097-4028-9f52-3eedee40a50b",
   "metadata": {},
   "source": [
    "11. Find the difference between two sets."
   ]
  },
  {
   "cell_type": "code",
   "execution_count": 66,
   "id": "602e1b78-d751-4eca-8a33-e91229e890f2",
   "metadata": {},
   "outputs": [
    {
     "data": {
      "text/plain": [
       "{1, 3, 5, 7, 9}"
      ]
     },
     "execution_count": 66,
     "metadata": {},
     "output_type": "execute_result"
    }
   ],
   "source": [
    "my_set1={2, 4, 6, 8}\n",
    "my_set2={1, 2, 3, 4, 5, 6, 7, 8, 9}\n",
    "my_set2.difference(my_set1)"
   ]
  },
  {
   "cell_type": "markdown",
   "id": "f1b3fb4a-76c5-450b-8ae9-cc6aa0bd561d",
   "metadata": {},
   "source": [
    "12. Check if a set is a subset of another set."
   ]
  },
  {
   "cell_type": "code",
   "execution_count": 68,
   "id": "8b822ad9-cc13-43f4-891c-ee6468157e27",
   "metadata": {},
   "outputs": [
    {
     "data": {
      "text/plain": [
       "True"
      ]
     },
     "execution_count": 68,
     "metadata": {},
     "output_type": "execute_result"
    }
   ],
   "source": [
    "my_set1={2, 4, 6, 8}\n",
    "my_set2={1, 2, 3, 4, 5, 6, 7, 8, 9}\n",
    "my_set1.issubset(my_set2)"
   ]
  },
  {
   "cell_type": "markdown",
   "id": "b0980dcb-c789-40cf-ae82-d1bedbd5663b",
   "metadata": {},
   "source": [
    "13. Check if a set is a superset of another set."
   ]
  },
  {
   "cell_type": "code",
   "execution_count": 69,
   "id": "8d0f211a-5c8d-483b-a67f-49cbea436a2c",
   "metadata": {},
   "outputs": [
    {
     "data": {
      "text/plain": [
       "True"
      ]
     },
     "execution_count": 69,
     "metadata": {},
     "output_type": "execute_result"
    }
   ],
   "source": [
    "my_set1={2, 4, 6, 8}\n",
    "my_set2={1, 2, 3, 4, 5, 6, 7, 8, 9}\n",
    "my_set2.issuperset(my_set1)"
   ]
  },
  {
   "cell_type": "markdown",
   "id": "a056ad7f-8889-4294-aa14-62c865eb81f4",
   "metadata": {},
   "source": [
    "14. Create a set from a list."
   ]
  },
  {
   "cell_type": "code",
   "execution_count": 70,
   "id": "2e71388f-110a-43bc-bde3-36c1eb4c437a",
   "metadata": {},
   "outputs": [
    {
     "data": {
      "text/plain": [
       "{1, 2, 3, 4, 5, 6, 7, 8, 9}"
      ]
     },
     "execution_count": 70,
     "metadata": {},
     "output_type": "execute_result"
    }
   ],
   "source": [
    "my_list=[1, 2, 3, 4, 5, 6, 7, 8, 9]\n",
    "my_set=set(my_list)\n",
    "my_set"
   ]
  },
  {
   "cell_type": "markdown",
   "id": "d4f8104a-6003-419e-a6f0-949824ea2e8c",
   "metadata": {},
   "source": [
    "15. Convert a set to a list."
   ]
  },
  {
   "cell_type": "code",
   "execution_count": 72,
   "id": "b243c037-1000-4b98-801e-d750420961fa",
   "metadata": {},
   "outputs": [
    {
     "data": {
      "text/plain": [
       "[1, 2, 3, 4, 5, 6, 7, 8, 9]"
      ]
     },
     "execution_count": 72,
     "metadata": {},
     "output_type": "execute_result"
    }
   ],
   "source": [
    "my_set={1, 2, 3, 4, 5, 6, 7, 8, 9}\n",
    "my_list=list(my_list)\n",
    "my_list"
   ]
  },
  {
   "cell_type": "markdown",
   "id": "0e0dc81e-1adc-4f1b-86f3-32b62712ba4c",
   "metadata": {},
   "source": [
    "16. Remove a random element from a set."
   ]
  },
  {
   "cell_type": "code",
   "execution_count": 81,
   "id": "47191be4-1db3-42ac-9452-3a953b05a5d8",
   "metadata": {},
   "outputs": [
    {
     "name": "stderr",
     "output_type": "stream",
     "text": [
      "/tmp/ipykernel_5536/296177229.py:3: DeprecationWarning: Sampling from a set deprecated\n",
      "since Python 3.9 and will be removed in a subsequent version.\n",
      "  e=random.sample(my_set,1)[0]\n"
     ]
    },
    {
     "data": {
      "text/plain": [
       "{1, 2, 3, 4, 6, 7, 8, 9}"
      ]
     },
     "execution_count": 81,
     "metadata": {},
     "output_type": "execute_result"
    }
   ],
   "source": [
    "import random\n",
    "my_set={1, 2, 3, 4, 5, 6, 7, 8, 9}\n",
    "e=random.sample(my_set,1)[0]\n",
    "my_set.remove(e)\n",
    "my_set\n"
   ]
  },
  {
   "cell_type": "markdown",
   "id": "19bbe0fc-9029-4498-ac85-f83bcdb9e723",
   "metadata": {},
   "source": [
    "17. Pop an element from a set."
   ]
  },
  {
   "cell_type": "code",
   "execution_count": 75,
   "id": "a75332b9-741c-4173-906d-6550ef04b206",
   "metadata": {},
   "outputs": [
    {
     "data": {
      "text/plain": [
       "{2, 3, 4, 5, 6, 7, 8, 9}"
      ]
     },
     "execution_count": 75,
     "metadata": {},
     "output_type": "execute_result"
    }
   ],
   "source": [
    "my_set={1, 2, 3, 4, 5, 6, 7, 8, 9}\n",
    "my_set.pop()\n",
    "my_set"
   ]
  },
  {
   "cell_type": "markdown",
   "id": "62782dba-9a50-4121-ad5a-1da2338341b9",
   "metadata": {},
   "source": [
    "18. Check if two sets have no elements in common."
   ]
  },
  {
   "cell_type": "code",
   "execution_count": 85,
   "id": "4b628273-b663-4bb5-b9d2-a32330c4591f",
   "metadata": {},
   "outputs": [
    {
     "name": "stdout",
     "output_type": "stream",
     "text": [
      "common elements present\n"
     ]
    }
   ],
   "source": [
    "my_set1={2, 41, 61, 81}\n",
    "my_set2={1, 2, 3, 4, 5, 6, 7, 8, 9}\n",
    "if my_set1.isdisjoint(my_set2):\n",
    "    print(\"no common elements present\")\n",
    "else:\n",
    "    print(\"common elements present\")"
   ]
  },
  {
   "cell_type": "markdown",
   "id": "486d1854-e4b3-4b3f-a81e-05bc73042eac",
   "metadata": {},
   "source": [
    "19. Find the symmetric difference between two sets."
   ]
  },
  {
   "cell_type": "code",
   "execution_count": 88,
   "id": "2b59b765-5c4c-486d-bcd8-d6ab820bf9fc",
   "metadata": {},
   "outputs": [
    {
     "data": {
      "text/plain": [
       "{1, 3, 5, 7, 8, 9, 81}"
      ]
     },
     "execution_count": 88,
     "metadata": {},
     "output_type": "execute_result"
    }
   ],
   "source": [
    "my_set1={2, 4, 6, 81}\n",
    "my_set2={1, 2, 3, 4, 5, 6, 7, 8, 9}\n",
    "my_set1.symmetric_difference(my_set2)"
   ]
  },
  {
   "cell_type": "markdown",
   "id": "1505ada6-666f-40f7-b9f1-b3a89babdb6a",
   "metadata": {},
   "source": [
    "20. Update a set with elements from another set."
   ]
  },
  {
   "cell_type": "code",
   "execution_count": 90,
   "id": "f249a97a-ddaa-4573-be07-e24e3c82d247",
   "metadata": {},
   "outputs": [
    {
     "data": {
      "text/plain": [
       "{1, 2, 3, 4, 5, 6, 7, 8, 9, 41, 61, 81}"
      ]
     },
     "execution_count": 90,
     "metadata": {},
     "output_type": "execute_result"
    }
   ],
   "source": [
    "my_set1={2, 41, 61, 81}\n",
    "my_set2={1, 2, 3, 4, 5, 6, 7, 8, 9}\n",
    "my_set2.update(my_set1)\n",
    "my_set2"
   ]
  },
  {
   "cell_type": "markdown",
   "id": "bfdb2d58-9606-4fb8-8c79-d04da83a4de3",
   "metadata": {},
   "source": [
    "21. Create a set of the first 5 prime numbers."
   ]
  },
  {
   "cell_type": "code",
   "execution_count": 93,
   "id": "0b2afa06-7c85-4dc0-8ff5-443d148b2278",
   "metadata": {},
   "outputs": [
    {
     "data": {
      "text/plain": [
       "{2, 3, 5}"
      ]
     },
     "execution_count": 93,
     "metadata": {},
     "output_type": "execute_result"
    }
   ],
   "source": [
    "n=5\n",
    "prime_list=[]\n",
    "for i in range(2,n+1):\n",
    "    flag=0\n",
    "    for j in range(2,int(i/2)+1):\n",
    "        if(i%j==0):\n",
    "            flag=1\n",
    "            break  \n",
    "    if(flag==0):\n",
    "        prime_list.append(i)\n",
    "prime_set=set(prime_list)\n",
    "prime_set     \n",
    "        "
   ]
  },
  {
   "cell_type": "markdown",
   "id": "4f7816d4-8cac-4fd0-b943-2dd7a411bd1c",
   "metadata": {},
   "source": [
    "22. Check if two sets are identical."
   ]
  },
  {
   "cell_type": "code",
   "execution_count": 95,
   "id": "0ebebfc1-b9f7-417e-9bac-d168d033b79e",
   "metadata": {},
   "outputs": [
    {
     "name": "stdout",
     "output_type": "stream",
     "text": [
      "Set1 and Set2 are ientical?  True\n"
     ]
    }
   ],
   "source": [
    "my_set1={2, 41, 61, 81}\n",
    "my_set2={2, 41, 61, 81}\n",
    "print(\"Set1 and Set2 are ientical? \",my_set1 == my_set2)"
   ]
  },
  {
   "cell_type": "markdown",
   "id": "0696ddf7-c597-4344-933e-95d8ab99c91f",
   "metadata": {},
   "source": [
    "23. Create a frozen set."
   ]
  },
  {
   "cell_type": "code",
   "execution_count": 97,
   "id": "4282e884-8560-4838-84d8-b73669b0d879",
   "metadata": {},
   "outputs": [
    {
     "data": {
      "text/plain": [
       "frozenset({'a', 'e', 'i', 'o', 'u'})"
      ]
     },
     "execution_count": 97,
     "metadata": {},
     "output_type": "execute_result"
    }
   ],
   "source": [
    "vowl_set={'a' ,'e', 'i', 'o', 'u'}\n",
    "frz_set=frozenset(vowl_set)\n",
    "frz_set"
   ]
  },
  {
   "cell_type": "markdown",
   "id": "1e84b06b-0e5d-4397-b404-2c823e94471f",
   "metadata": {},
   "source": [
    "24. Check if a set is disjoint with another set."
   ]
  },
  {
   "cell_type": "code",
   "execution_count": 99,
   "id": "f2db34ae-d963-4553-8758-9687320a110a",
   "metadata": {},
   "outputs": [
    {
     "data": {
      "text/plain": [
       "False"
      ]
     },
     "execution_count": 99,
     "metadata": {},
     "output_type": "execute_result"
    }
   ],
   "source": [
    "my_set1={2, 41, 61, 81}\n",
    "my_set2={2, 41, 61, 81}\n",
    "my_set1.isdisjoint(my_set2)"
   ]
  },
  {
   "cell_type": "markdown",
   "id": "d993ddcd-7a31-4636-81c2-3685fe484779",
   "metadata": {},
   "source": [
    "25. Create a set of squares of numbers from 1 to 5."
   ]
  },
  {
   "cell_type": "code",
   "execution_count": 102,
   "id": "0a977335-81db-4a8c-be95-bbdc43d439fc",
   "metadata": {},
   "outputs": [
    {
     "data": {
      "text/plain": [
       "{1, 4, 9, 16, 25}"
      ]
     },
     "execution_count": 102,
     "metadata": {},
     "output_type": "execute_result"
    }
   ],
   "source": [
    "num=[]\n",
    "for x in range(1,6):\n",
    "    x=x*x\n",
    "    num.append(x)\n",
    "sq_set=set(num)\n",
    "sq_set"
   ]
  },
  {
   "cell_type": "markdown",
   "id": "d42f7d2b-f011-4b2f-9f9c-216dfd837ba1",
   "metadata": {},
   "source": [
    "26. Filter out all even numbers from a set."
   ]
  },
  {
   "cell_type": "code",
   "execution_count": 112,
   "id": "440c7fd4-45de-4ca8-985a-3e5c99e3fb1c",
   "metadata": {},
   "outputs": [
    {
     "data": {
      "text/plain": [
       "{1, 3, 5}"
      ]
     },
     "execution_count": 112,
     "metadata": {},
     "output_type": "execute_result"
    }
   ],
   "source": [
    "set_1 = {1, 2, 3, 4, 5, 6}\n",
    "\n",
    "out = []\n",
    "\n",
    "for num in set_1:\n",
    "\n",
    "\t# checking condition\n",
    "\tif num % 2 == 0:\n",
    "\t\tout.append(num)\n",
    "out=set(out)\n",
    "\n",
    "set_1.difference(out)"
   ]
  },
  {
   "cell_type": "markdown",
   "id": "35085078-3cbe-485a-8571-87115733c342",
   "metadata": {},
   "source": [
    "27. Multiply all elements in a set by 2."
   ]
  },
  {
   "cell_type": "code",
   "execution_count": 116,
   "id": "4cee44f2-0e12-4bb8-bf74-713e06f3d89f",
   "metadata": {},
   "outputs": [
    {
     "data": {
      "text/plain": [
       "{2, 4, 6, 8, 10, 12}"
      ]
     },
     "execution_count": 116,
     "metadata": {},
     "output_type": "execute_result"
    }
   ],
   "source": [
    "set_1 = {1, 2, 3, 4, 5, 6}\n",
    "list_1=[]\n",
    "for i in set_1:\n",
    "    i *=2\n",
    "    list_1.append(i)\n",
    "set_2=set(list_1)\n",
    "set_2\n"
   ]
  },
  {
   "cell_type": "markdown",
   "id": "72a9664f-747a-4f6c-a291-b33535b65c3a",
   "metadata": {},
   "source": [
    "28. Create a set of random numbers."
   ]
  },
  {
   "cell_type": "code",
   "execution_count": 117,
   "id": "de9bfa8f-869f-4c83-b59c-909a849cfb19",
   "metadata": {},
   "outputs": [
    {
     "data": {
      "text/plain": [
       "{2, 9, 15, 16, 21}"
      ]
     },
     "execution_count": 117,
     "metadata": {},
     "output_type": "execute_result"
    }
   ],
   "source": [
    "import random\n",
    "randomlist = []\n",
    "for i in range(0,5):\n",
    "    n = random.randint(1,30)\n",
    "    randomlist.append(n)\n",
    "randomset=set(randomlist)\n",
    "randomset"
   ]
  },
  {
   "cell_type": "markdown",
   "id": "e4f557d2-41b3-4127-9b1b-7ae8c6b9f484",
   "metadata": {},
   "source": [
    "29. Check if a set is empty."
   ]
  },
  {
   "cell_type": "code",
   "execution_count": 119,
   "id": "0210ba58-29f3-4ac1-b9ad-a99589ae29e8",
   "metadata": {},
   "outputs": [
    {
     "name": "stdout",
     "output_type": "stream",
     "text": [
      "Not Empty\n"
     ]
    }
   ],
   "source": [
    "my_set1={2, 9, 15, 16, 21}\n",
    "if len(my_set) > 0:\n",
    "    print(\"Not Empty\")\n",
    "else:\n",
    "    print(\"empty\")"
   ]
  },
  {
   "cell_type": "markdown",
   "id": "f1f9ec7d-5a7e-4bb5-8b91-de590dcb73e7",
   "metadata": {},
   "source": [
    "30. Create a nested set (hint: use frozenset)."
   ]
  },
  {
   "cell_type": "code",
   "execution_count": 121,
   "id": "97b26b7b-0c8d-42b3-8d69-7208e6cec54e",
   "metadata": {},
   "outputs": [
    {
     "data": {
      "text/plain": [
       "{frozenset({3, 4}), frozenset({1, 2})}"
      ]
     },
     "execution_count": 121,
     "metadata": {},
     "output_type": "execute_result"
    }
   ],
   "source": [
    "s = set([frozenset([1,2]), frozenset([3,4])])\n",
    "s"
   ]
  },
  {
   "cell_type": "markdown",
   "id": "3f5a7a1e-b357-4d15-bdc7-8f95b5767dbc",
   "metadata": {},
   "source": [
    "31. Remove an element from a set using the discard method."
   ]
  },
  {
   "cell_type": "code",
   "execution_count": 126,
   "id": "a36a6c44-9e4c-42c8-bca3-26fea239f31f",
   "metadata": {},
   "outputs": [
    {
     "data": {
      "text/plain": [
       "{1, 3, 4, 6, 7, 8, 9}"
      ]
     },
     "execution_count": 126,
     "metadata": {},
     "output_type": "execute_result"
    }
   ],
   "source": [
    "my_set={1, 2, 3, 4, 6, 7, 8, 9}\n",
    "my_set.discard(2)\n",
    "my_set"
   ]
  },
  {
   "cell_type": "markdown",
   "id": "2185b344-5a5c-458b-bca7-2634acf0f4ba",
   "metadata": {},
   "source": [
    "32. Compare two sets."
   ]
  },
  {
   "cell_type": "code",
   "execution_count": 127,
   "id": "301ec9d7-f746-4e92-bf00-86f8cdc88036",
   "metadata": {},
   "outputs": [
    {
     "name": "stdout",
     "output_type": "stream",
     "text": [
      "Set1 and Set2 equal?  True\n",
      "Set1 and Set3 equal?  False\n"
     ]
    }
   ],
   "source": [
    "myset1 = {12,90,43,56}\n",
    "myset2 = {43,56,12,90}\n",
    "myset3 = {43,56,12}\n",
    "\n",
    "print(\"Set1 and Set2 equal? \",myset1 == myset2)\n",
    "print(\"Set1 and Set3 equal? \",myset1 == myset3)"
   ]
  },
  {
   "cell_type": "markdown",
   "id": "ada2fa69-a477-462c-8988-19766f72ad6c",
   "metadata": {},
   "source": [
    "33. Create a set from a string."
   ]
  },
  {
   "cell_type": "code",
   "execution_count": 130,
   "id": "3edeadb5-4c23-4829-95e5-d463a074712a",
   "metadata": {},
   "outputs": [
    {
     "data": {
      "text/plain": [
       "{' ', 'H', 'P', 'e', 'i', 'k', 'l', 'o', 's', 'w'}"
      ]
     },
     "execution_count": 130,
     "metadata": {},
     "output_type": "execute_result"
    }
   ],
   "source": [
    "my_str=\"Hello Pwskills\"\n",
    "my_set=set(my_str)\n",
    "my_set"
   ]
  },
  {
   "cell_type": "markdown",
   "id": "4b8c1197-17ee-4402-b9c1-046e223679d5",
   "metadata": {},
   "source": [
    "34. Convert a set of strings to a set of integers."
   ]
  },
  {
   "cell_type": "code",
   "execution_count": 133,
   "id": "e42f4256-b1e1-4685-b640-cc7d3c146994",
   "metadata": {},
   "outputs": [
    {
     "name": "stdout",
     "output_type": "stream",
     "text": [
      "Modified set is :  {1, 3, 4, 6, 7}\n"
     ]
    }
   ],
   "source": [
    "test_set = {'1', '4', '3', '6', '7'}\n",
    "test_list=list(test_set)\n",
    "for i in range(0, len(test_list)):\n",
    "\ttest_list[i] = int(test_list[i])\n",
    "print(\"Modified set is : \",set(test_list))"
   ]
  },
  {
   "cell_type": "markdown",
   "id": "c6325fd5-1929-4e24-a126-58ff8baec7db",
   "metadata": {},
   "source": [
    "35. Convert a set of integers to a set of strings."
   ]
  },
  {
   "cell_type": "code",
   "execution_count": 135,
   "id": "69af1f12-cf57-4f19-a6d8-88c72182d4a9",
   "metadata": {},
   "outputs": [
    {
     "name": "stdout",
     "output_type": "stream",
     "text": [
      "Modified set is :  {'7', '3', '1', '6', '4'}\n"
     ]
    }
   ],
   "source": [
    "test_set = {1, 3, 4, 6, 7}\n",
    "test_list=list(test_set)\n",
    "for i in range(0, len(test_list)):\n",
    "\ttest_list[i] = str(test_list[i])\n",
    "print(\"Modified set is : \",set(test_list))"
   ]
  },
  {
   "cell_type": "markdown",
   "id": "f7f9cd78-991e-4769-b5f4-ef80e2715bf2",
   "metadata": {},
   "source": [
    "36. Create a set from a tuple."
   ]
  },
  {
   "cell_type": "code",
   "execution_count": 8,
   "id": "6cf61af3-fda5-456d-9111-894f92dd8e8e",
   "metadata": {},
   "outputs": [
    {
     "name": "stdout",
     "output_type": "stream",
     "text": [
      "{1, 2, 3, 4, 6}\n"
     ]
    }
   ],
   "source": [
    "my_tuple=(1, 3, 4, 6, 2 )\n",
    "my_set=set(my_tuple)\n",
    "type(my_set)\n",
    "print(my_set)"
   ]
  },
  {
   "cell_type": "markdown",
   "id": "49238243-2ea4-4e2f-a240-07c330773308",
   "metadata": {},
   "source": [
    "37. Convert a set to a tuple."
   ]
  },
  {
   "cell_type": "code",
   "execution_count": 11,
   "id": "7a0157c6-0175-406e-b854-ae499fafbc5a",
   "metadata": {},
   "outputs": [
    {
     "data": {
      "text/plain": [
       "(1, 3, 4, 6, 2)"
      ]
     },
     "execution_count": 11,
     "metadata": {},
     "output_type": "execute_result"
    }
   ],
   "source": [
    "my_set={1, 2, 3, 4, 6}\n",
    "my_typle=tuple(my_set)\n",
    "my_tuple"
   ]
  },
  {
   "cell_type": "markdown",
   "id": "c07af553-a516-45be-8c7d-593cc5c5de62",
   "metadata": {},
   "source": [
    "38. Find the maximum value in a set."
   ]
  },
  {
   "cell_type": "code",
   "execution_count": 12,
   "id": "7a0f9c5a-cb97-4302-b315-eceb59651218",
   "metadata": {},
   "outputs": [
    {
     "data": {
      "text/plain": [
       "6"
      ]
     },
     "execution_count": 12,
     "metadata": {},
     "output_type": "execute_result"
    }
   ],
   "source": [
    "my_set={1, 2, 3, 4, 6}\n",
    "max(my_set)"
   ]
  },
  {
   "cell_type": "markdown",
   "id": "20a1ba6e-15b2-4783-9002-c1f60cf13df4",
   "metadata": {},
   "source": [
    "39. Find the minimum value in a set."
   ]
  },
  {
   "cell_type": "code",
   "execution_count": 13,
   "id": "fbb71976-745c-4ef6-9e64-0ddc57d119d0",
   "metadata": {},
   "outputs": [
    {
     "data": {
      "text/plain": [
       "1"
      ]
     },
     "execution_count": 13,
     "metadata": {},
     "output_type": "execute_result"
    }
   ],
   "source": [
    "my_set={1, 2, 3, 4, 6}\n",
    "min(my_set)"
   ]
  },
  {
   "cell_type": "markdown",
   "id": "d122e23c-9d2f-4737-addb-47ae9a11d82b",
   "metadata": {},
   "source": [
    "40. Create a set from user input."
   ]
  },
  {
   "cell_type": "code",
   "execution_count": 14,
   "id": "a2926a78-7385-4137-8288-5b645a659934",
   "metadata": {},
   "outputs": [
    {
     "name": "stdin",
     "output_type": "stream",
     "text": [
      "Enter space-separated words:  hi pwskills\n"
     ]
    },
    {
     "name": "stdout",
     "output_type": "stream",
     "text": [
      "{'pwskills', 'hi'}\n"
     ]
    }
   ],
   "source": [
    "my_set = set(input('Enter space-separated words: ').split())\n",
    "\n",
    "print(my_set)"
   ]
  },
  {
   "cell_type": "markdown",
   "id": "67c966d2-ec89-4205-9dba-345a8e863909",
   "metadata": {},
   "source": [
    "41. Check if the intersection of two sets is empty."
   ]
  },
  {
   "cell_type": "code",
   "execution_count": 21,
   "id": "668644fa-6d8a-4985-a745-efaf4d22681e",
   "metadata": {},
   "outputs": [
    {
     "name": "stdout",
     "output_type": "stream",
     "text": [
      "not empty\n"
     ]
    }
   ],
   "source": [
    "set1 = {1, 2, 3, 4, 6}\n",
    "set2 = {7, 8, 0, 4}\n",
    "\n",
    "if len(set(set1.intersection(set2))) > 0:\n",
    "    print(\"not empty\")\n",
    "else:\n",
    "    print(\"empty\")\n"
   ]
  },
  {
   "cell_type": "markdown",
   "id": "147e69d7-5a99-41ae-a19a-c4201bcde3bd",
   "metadata": {},
   "source": [
    "42. Create a set of the first 5 Fibonacci numbers."
   ]
  },
  {
   "cell_type": "code",
   "execution_count": 22,
   "id": "f82ec4e5-28aa-4596-b5d2-d407db843f3d",
   "metadata": {},
   "outputs": [
    {
     "name": "stdout",
     "output_type": "stream",
     "text": [
      "First 5 Fibonacci numbers:\n",
      "{0, 1, 2, 3, 5}\n"
     ]
    }
   ],
   "source": [
    "def fibonacci_nums(n):\n",
    "  if n <= 0:\n",
    "    return [0]\n",
    "  sequence = [0, 1]\n",
    "  while len(sequence) <= n:\n",
    "    next_value = sequence[len(sequence) - 1] + sequence[len(sequence) - 2]\n",
    "    sequence.append(next_value)\n",
    "  return set(sequence)\n",
    "print(\"First 5 Fibonacci numbers:\")\n",
    "print(fibonacci_nums(5))"
   ]
  },
  {
   "cell_type": "markdown",
   "id": "5d652127-68c0-4897-b333-c9bab24fc2f2",
   "metadata": {},
   "source": [
    "43. Remove duplicates from a list using sets."
   ]
  },
  {
   "cell_type": "code",
   "execution_count": 26,
   "id": "de2daf4d-3447-49c6-9fe0-acabf337e8fc",
   "metadata": {},
   "outputs": [
    {
     "data": {
      "text/plain": [
       "[1, 2, 3]"
      ]
     },
     "execution_count": 26,
     "metadata": {},
     "output_type": "execute_result"
    }
   ],
   "source": [
    "my_list=[ 1, 2, 1, 3, 2]\n",
    "my_set=set(my_list)\n",
    "my_list=list(my_set)\n",
    "my_list"
   ]
  },
  {
   "cell_type": "markdown",
   "id": "1e417637-bc4e-4513-a10b-ed251687a5a6",
   "metadata": {},
   "source": [
    "44. Check if two sets have the same elements, regardless of their count."
   ]
  },
  {
   "cell_type": "code",
   "execution_count": 34,
   "id": "74854625-4cce-4691-9e7d-540b55af1d20",
   "metadata": {},
   "outputs": [
    {
     "data": {
      "text/plain": [
       "True"
      ]
     },
     "execution_count": 34,
     "metadata": {},
     "output_type": "execute_result"
    }
   ],
   "source": [
    "set1={ 1, 2, 1, 3, 2 }\n",
    "set2={ 1, 2, 3 }\n",
    "set1 == set2\n"
   ]
  },
  {
   "cell_type": "markdown",
   "id": "5f52a9c7-511d-417c-9dec-5a5fea950903",
   "metadata": {},
   "source": [
    "45. Create a set of the first `n` powers of 2."
   ]
  },
  {
   "cell_type": "code",
   "execution_count": 41,
   "id": "130cbd22-5cd6-49a6-9510-b968f5ac49e7",
   "metadata": {},
   "outputs": [
    {
     "name": "stdout",
     "output_type": "stream",
     "text": [
      "[2, 4, 8, 16]\n"
     ]
    }
   ],
   "source": [
    "def squares(n):\n",
    "    power = n\n",
    "    square_list = []\n",
    "    for i in range(1,n+1):\n",
    "        square_list.append(2 ** i)\n",
    "    return sorted(set(square_list))\n",
    "print(squares(4))"
   ]
  },
  {
   "cell_type": "markdown",
   "id": "3985eab6-2486-4169-bb9a-78e0aa639667",
   "metadata": {},
   "source": [
    "46. Find the common elements between a set and a list."
   ]
  },
  {
   "cell_type": "code",
   "execution_count": 43,
   "id": "50e472b0-b5ea-4cf3-8b44-2acd16b0f82a",
   "metadata": {},
   "outputs": [
    {
     "data": {
      "text/plain": [
       "{1}"
      ]
     },
     "execution_count": 43,
     "metadata": {},
     "output_type": "execute_result"
    }
   ],
   "source": [
    "my_list=[1, 2, 3]\n",
    "my_list=set(my_list)\n",
    "my_set={1, 4, 5}\n",
    "my_set.intersection(my_list)"
   ]
  },
  {
   "cell_type": "markdown",
   "id": "ccb96785-de13-4587-b16c-206f1fb096d8",
   "metadata": {},
   "source": [
    "47. Create a set of the first `n` triangular numbers."
   ]
  },
  {
   "cell_type": "code",
   "execution_count": 44,
   "id": "1218b9e5-50a7-431d-96dc-4f5ede2673ae",
   "metadata": {},
   "outputs": [
    {
     "data": {
      "text/plain": [
       "{1, 3, 6, 10, 15, 21, 28, 36, 45, 55}"
      ]
     },
     "execution_count": 44,
     "metadata": {},
     "output_type": "execute_result"
    }
   ],
   "source": [
    "def triangular_series( n ):\n",
    "    l = []\n",
    "    j = 1\n",
    "    k = 1\n",
    "    for i in range(1, n + 1):\n",
    "        l.append(k)\n",
    "        j = j + 1\n",
    "        k = k + j        \n",
    "    return(set(l))\n",
    "n = 10\n",
    "triangular_series(n)"
   ]
  },
  {
   "cell_type": "markdown",
   "id": "cc6ec8d3-09b7-4d04-8034-3f7b94985aaf",
   "metadata": {},
   "source": [
    "48. Check if a set contains another set as a subset."
   ]
  },
  {
   "cell_type": "code",
   "execution_count": 46,
   "id": "aa600804-8379-487a-b310-17c5b9cfaffa",
   "metadata": {},
   "outputs": [
    {
     "name": "stdout",
     "output_type": "stream",
     "text": [
      "True\n"
     ]
    }
   ],
   "source": [
    "s1 = {1, 2, 3, 4, 5}\n",
    "s2 = {4, 5}\n",
    "print(s2.issubset(s1))"
   ]
  },
  {
   "cell_type": "markdown",
   "id": "dad4ec8c-7d34-4d79-ae0f-4116bd4d2f82",
   "metadata": {},
   "source": [
    "49. Create a set of alternating 1s and 0s of length `n`."
   ]
  },
  {
   "cell_type": "code",
   "execution_count": 47,
   "id": "6720ff9e-c5e8-4289-9420-5e302558eb1b",
   "metadata": {},
   "outputs": [
    {
     "data": {
      "text/plain": [
       "{0, 1}"
      ]
     },
     "execution_count": 47,
     "metadata": {},
     "output_type": "execute_result"
    }
   ],
   "source": [
    "result = []\n",
    "length = 7\n",
    "for i in range(length):\n",
    "    if i % 2 == 0:\n",
    "        result.append(1)\n",
    "    else:\n",
    "        result.append(0)\n",
    "\n",
    "# printing the result\n",
    "set_alter=set(result)\n",
    "set_alter"
   ]
  },
  {
   "cell_type": "markdown",
   "id": "3a72c194-b6c2-44ee-87e4-52ed648cf2ec",
   "metadata": {},
   "source": [
    "50. Merge multiple sets into one."
   ]
  },
  {
   "cell_type": "code",
   "execution_count": 50,
   "id": "1c671f3e-3ed8-4a9b-9eb6-f88b4bc215b2",
   "metadata": {},
   "outputs": [
    {
     "data": {
      "text/plain": [
       "{1, 2, 3, 4, 5, 11, 12, 15, 47, 51}"
      ]
     },
     "execution_count": 50,
     "metadata": {},
     "output_type": "execute_result"
    }
   ],
   "source": [
    "s1 = {1, 2, 3, 4, 5}\n",
    "s2 = {47, 51, 15}\n",
    "s3={11, 12}\n",
    "(s1.union(s2)).union(s3)"
   ]
  }
 ],
 "metadata": {
  "kernelspec": {
   "display_name": "Python 3 (ipykernel)",
   "language": "python",
   "name": "python3"
  },
  "language_info": {
   "codemirror_mode": {
    "name": "ipython",
    "version": 3
   },
   "file_extension": ".py",
   "mimetype": "text/x-python",
   "name": "python",
   "nbconvert_exporter": "python",
   "pygments_lexer": "ipython3",
   "version": "3.10.8"
  }
 },
 "nbformat": 4,
 "nbformat_minor": 5
}
