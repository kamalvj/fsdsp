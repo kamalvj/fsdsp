{
 "cells": [
  {
   "cell_type": "markdown",
   "id": "65cab28d-d9ba-423d-a053-51844921d8d0",
   "metadata": {},
   "source": [
    "# For Loop :-"
   ]
  },
  {
   "cell_type": "markdown",
   "id": "de168085-2861-4ea0-bd86-6772fb3374ee",
   "metadata": {},
   "source": [
    "1.\tWrite a Python program to print numbers from 1 to 10 using a for loop."
   ]
  },
  {
   "cell_type": "code",
   "execution_count": 1,
   "id": "272afe01-3f84-4899-9203-8ce9cb58d835",
   "metadata": {},
   "outputs": [
    {
     "name": "stdout",
     "output_type": "stream",
     "text": [
      "1\n",
      "2\n",
      "3\n",
      "4\n",
      "5\n",
      "6\n",
      "7\n",
      "8\n",
      "9\n",
      "10\n"
     ]
    }
   ],
   "source": [
    "for i in range (1,11):\n",
    "    print(i)"
   ]
  },
  {
   "cell_type": "markdown",
   "id": "5812b9a2-c67c-493b-8e00-a517e15c8aea",
   "metadata": {},
   "source": [
    "2.\tExplain the difference between a for loop and a while loop in Python."
   ]
  },
  {
   "cell_type": "code",
   "execution_count": 8,
   "id": "d6d535e3-06f1-4add-b6c8-e062b386a0b5",
   "metadata": {},
   "outputs": [
    {
     "name": "stdout",
     "output_type": "stream",
     "text": [
      "0\n",
      "1\n",
      "2\n",
      "3\n",
      "4\n",
      "0\n",
      "1\n",
      "2\n",
      "3\n",
      "4\n"
     ]
    }
   ],
   "source": [
    "'''\n",
    "For Loop: \n",
    "1. For loop is used to iterate over a sequence of items.\n",
    "2. For loops are designed for iterating over a sequence of items. Eg. list, tuple, etc.\n",
    "3. For loop require a sequence to iterate over.\n",
    "4. For loop is typically used for iterating over a fixed sequence of items.\n",
    "5. For loop is more efficient than a while loop when iterating over sequences, \n",
    "   since the number of iterations is predetermined and the loop can be optimized accordingly.\n",
    "   \n",
    "While Loop:\n",
    "1. While loop is used to repeatedly execute a block of statements while a condition is true.\n",
    "2. While loop is used when the number of iterations is not known in advance or \n",
    "   when we want to repeat a block of code until a certain condition is met. \n",
    "3. While the loop requires an initial condition that is tested at the beginning of the loop.\n",
    "4. While loop is used for more complex control flow situations.\n",
    "5. While a loop may be more efficient in certain situations where the condition being tested can be evaluated quickly.\n",
    "'''\n",
    "\n",
    "\n",
    "\n",
    "\n",
    "for i in range(5):\n",
    "    print(i)  # This will print numbers 0 through 4\n",
    "    \n",
    "count = 0\n",
    "while count < 5:\n",
    "    print(count)  # This will print numbers 0 through 4\n",
    "    count += 1"
   ]
  },
  {
   "cell_type": "markdown",
   "id": "00b2ea83-5d9a-435d-ae76-eb6048885c1f",
   "metadata": {},
   "source": [
    "3. Write a Python program to calculate the sum of all numbers from 1 to 100 using a for loop."
   ]
  },
  {
   "cell_type": "code",
   "execution_count": 2,
   "id": "705c08df-a226-4936-955c-c8afe37a1823",
   "metadata": {},
   "outputs": [
    {
     "name": "stdout",
     "output_type": "stream",
     "text": [
      "sum from 1 to 100 is  5050\n"
     ]
    }
   ],
   "source": [
    "sum =0\n",
    "for i in range(1,101):\n",
    "    sum+=i    \n",
    "print(\"sum from 1 to 100 is \",sum)"
   ]
  },
  {
   "cell_type": "markdown",
   "id": "1a3523f7-6ae8-4c41-b876-eb69368cddf6",
   "metadata": {},
   "source": [
    "4. How do you iterate through a list using a for loop in Python?"
   ]
  },
  {
   "cell_type": "code",
   "execution_count": 3,
   "id": "407f4e50-eff5-4941-9e90-ff5bb1a6f4a3",
   "metadata": {},
   "outputs": [
    {
     "name": "stdout",
     "output_type": "stream",
     "text": [
      "1\n",
      "2\n",
      "3\n",
      "4\n",
      "5\n"
     ]
    }
   ],
   "source": [
    "list1= [1,2,3,4,5]\n",
    "for l in list1:\n",
    "    print(l)    "
   ]
  },
  {
   "cell_type": "markdown",
   "id": "27ecfd5c-ac10-4f78-8ea3-9c867be9fda7",
   "metadata": {},
   "source": [
    "5. Write a Python program to find the product of all elements in a list using a for loop."
   ]
  },
  {
   "cell_type": "code",
   "execution_count": 4,
   "id": "3c1064bd-be17-419e-b576-d05fa5043cab",
   "metadata": {},
   "outputs": [
    {
     "name": "stdout",
     "output_type": "stream",
     "text": [
      "The product of all elements in the list is: 720\n"
     ]
    }
   ],
   "source": [
    "numbers = [2, 4, 3, 6, 5]\n",
    "product = 1\n",
    "for num in numbers:\n",
    "    product *= num\n",
    "print(f\"The product of all elements in the list is: {product}\")"
   ]
  },
  {
   "cell_type": "markdown",
   "id": "62c34eac-d8f9-46e6-8722-ee3268f87970",
   "metadata": {},
   "source": [
    "6. Create a Python program that prints all even numbers from 1 to 20 using a for loop."
   ]
  },
  {
   "cell_type": "code",
   "execution_count": 5,
   "id": "02713f7a-a738-4bd2-ac31-9b0b74ba037b",
   "metadata": {},
   "outputs": [
    {
     "name": "stdout",
     "output_type": "stream",
     "text": [
      "2\n",
      "4\n",
      "6\n",
      "8\n",
      "10\n",
      "12\n",
      "14\n",
      "16\n",
      "18\n",
      "20\n"
     ]
    }
   ],
   "source": [
    "for i in range(1,21):\n",
    "    if i%2==0:\n",
    "        print(i)"
   ]
  },
  {
   "cell_type": "markdown",
   "id": "8654ff26-e568-4106-a102-4fd6e44dec01",
   "metadata": {},
   "source": [
    "7. Write a Python program that calculates the factorial of a number using a for loop."
   ]
  },
  {
   "cell_type": "code",
   "execution_count": 10,
   "id": "d999e232-df70-475a-858d-2ab264ce5203",
   "metadata": {},
   "outputs": [
    {
     "name": "stdin",
     "output_type": "stream",
     "text": [
      "enter number to find factorial 5\n"
     ]
    },
    {
     "name": "stdout",
     "output_type": "stream",
     "text": [
      "The factorial of 5 is: 120\n"
     ]
    }
   ],
   "source": [
    "fact = 1\n",
    "num = int(input(\"enter number to find factorial\"))\n",
    "for i in range(1, num+1):\n",
    "    fact =fact * i\n",
    "print(f\"The factorial of {num} is: {fact}\")"
   ]
  },
  {
   "cell_type": "markdown",
   "id": "d47d3463-fdf2-4605-9521-28b35a352572",
   "metadata": {},
   "source": [
    "8. How can you iterate through the characters of a string using a for loop in Python?"
   ]
  },
  {
   "cell_type": "code",
   "execution_count": 11,
   "id": "8a9692f1-72a3-4555-a713-7100460764d1",
   "metadata": {},
   "outputs": [
    {
     "name": "stdout",
     "output_type": "stream",
     "text": [
      "P\n",
      "w\n",
      "s\n",
      "k\n",
      "i\n",
      "l\n",
      "l\n",
      "s\n"
     ]
    }
   ],
   "source": [
    "in_string=\"Pwskills\"\n",
    "for i in in_string:\n",
    "    print(i)"
   ]
  },
  {
   "cell_type": "markdown",
   "id": "029496a9-5966-4dcd-ba50-aab0a9a2885f",
   "metadata": {},
   "source": [
    "9. Write a Python program to find the largest number in a list using a for loop."
   ]
  },
  {
   "cell_type": "code",
   "execution_count": 13,
   "id": "1f3a6fbb-be01-40df-9937-55f1cf685684",
   "metadata": {},
   "outputs": [
    {
     "name": "stdout",
     "output_type": "stream",
     "text": [
      "76\n"
     ]
    }
   ],
   "source": [
    "l = [2,3,4,56,67,76, 56]\n",
    "largest=0\n",
    "for i  in l:\n",
    "    if i > largest:\n",
    "        largest = i\n",
    "print(largest)"
   ]
  },
  {
   "cell_type": "markdown",
   "id": "4f0f0340-5d2c-4e0e-ae28-e4b71133601f",
   "metadata": {},
   "source": [
    "10. Create a Python program that prints the Fibonacci sequence up to a specified limit using a for loop."
   ]
  },
  {
   "cell_type": "code",
   "execution_count": 19,
   "id": "6619f2f8-2b03-4a85-be94-7df1bfc3f9bf",
   "metadata": {},
   "outputs": [
    {
     "name": "stdin",
     "output_type": "stream",
     "text": [
      "Enter the limit for the fibonacci sequence:  7\n"
     ]
    },
    {
     "name": "stdout",
     "output_type": "stream",
     "text": [
      "0 1 1 2 3 5 8 "
     ]
    }
   ],
   "source": [
    "a, b = 0, 1\n",
    "fib_limit = int(input(\"Enter the limit for the fibonacci sequence: \"))\n",
    "for i in range(1, fib_limit+1):\n",
    "    print(a, end = \" \")\n",
    "    a,b =b, a+b"
   ]
  },
  {
   "cell_type": "markdown",
   "id": "5f64999b-488f-4ed3-8ff8-156cb9bc75dc",
   "metadata": {},
   "source": [
    "11. Write a Python program to count the number of vowels in a given string using a for loop."
   ]
  },
  {
   "cell_type": "code",
   "execution_count": 20,
   "id": "f1f798a7-3bd2-429a-907f-ccc69639ab4f",
   "metadata": {},
   "outputs": [
    {
     "name": "stdout",
     "output_type": "stream",
     "text": [
      "total vowels in given string is: 1\n"
     ]
    }
   ],
   "source": [
    "str1= \"Pwskills\"\n",
    "vowels = 0\n",
    "for vowel in str1:\n",
    "    if vowel in \"aeiou\":\n",
    "        vowels+=1\n",
    "print(\"total vowels in given string is:\",vowels)"
   ]
  },
  {
   "cell_type": "markdown",
   "id": "40157683-396e-4a1c-bedb-4369e7fbfad4",
   "metadata": {},
   "source": [
    "12. Create a Python program that generates a multiplication table for a given number using a for loop."
   ]
  },
  {
   "cell_type": "code",
   "execution_count": 23,
   "id": "efafc89a-1ff0-4f6d-a88c-2ede157a4599",
   "metadata": {},
   "outputs": [
    {
     "name": "stdin",
     "output_type": "stream",
     "text": [
      "enter number 7\n"
     ]
    },
    {
     "name": "stdout",
     "output_type": "stream",
     "text": [
      "7 * 1 = 7\n",
      "7 * 2 = 14\n",
      "7 * 3 = 21\n",
      "7 * 4 = 28\n",
      "7 * 5 = 35\n",
      "7 * 6 = 42\n",
      "7 * 7 = 49\n",
      "7 * 8 = 56\n",
      "7 * 9 = 63\n",
      "7 * 10 = 70\n"
     ]
    }
   ],
   "source": [
    "num= int(input(\"enter number\"))\n",
    "for i in range(1,11):\n",
    "    print(f\"{num} * {i} = {num * i}\")"
   ]
  },
  {
   "cell_type": "markdown",
   "id": "8f2678f2-2c97-457e-a2d8-94873a132e6d",
   "metadata": {},
   "source": [
    "13.\tWrite a Python program to reverse a list using a for loop."
   ]
  },
  {
   "cell_type": "code",
   "execution_count": 34,
   "id": "7e4b98d3-5599-4b17-aa96-0d040bc53bcb",
   "metadata": {},
   "outputs": [
    {
     "name": "stdout",
     "output_type": "stream",
     "text": [
      "reverse list = [5, 4, 3, 2, 1]\n"
     ]
    }
   ],
   "source": [
    "orig_list = [1, 2, 3, 4, 5]\n",
    "rev_list = []\n",
    "for i in orig_list:\n",
    "    rev_list=[i] + rev_list\n",
    "print(\"reverse list =\",rev_list)    "
   ]
  },
  {
   "cell_type": "markdown",
   "id": "c34cf455-8b22-418f-99c1-72ed6685442f",
   "metadata": {},
   "source": [
    "14.\tWrite a Python program to find the common elements between two lists using a for loop."
   ]
  },
  {
   "cell_type": "code",
   "execution_count": 13,
   "id": "10b9c7b8-c98d-41c9-bdae-a51622dc41bc",
   "metadata": {},
   "outputs": [
    {
     "name": "stdout",
     "output_type": "stream",
     "text": [
      "List 1: [1, 2, 3, 4, 5]\n",
      "List 2: [4, 5, 6, 7, 8]\n",
      "Common elements: [4, 5]\n"
     ]
    }
   ],
   "source": [
    "list1 = [1, 2, 3, 4, 5]\n",
    "list2 = [4, 5, 6, 7, 8]\n",
    "common_elements = []\n",
    "for item in list1:\n",
    "    if item in list2 and item not in common_elements:\n",
    "        common_elements.append(item)\n",
    "print(\"List 1:\", list1)\n",
    "print(\"List 2:\", list2)\n",
    "print(\"Common elements:\", common_elements)\n"
   ]
  },
  {
   "cell_type": "markdown",
   "id": "cd3eec98-3378-4e4b-af35-33da6386dc9c",
   "metadata": {},
   "source": [
    "15.\tExplain how to use a for loop to iterate through the keys and values of a dictionary in Python."
   ]
  },
  {
   "cell_type": "code",
   "execution_count": 16,
   "id": "e0f5e957-1a1d-4d01-92dd-3e8735071258",
   "metadata": {},
   "outputs": [
    {
     "name": "stdout",
     "output_type": "stream",
     "text": [
      "a\n",
      "b\n",
      "c\n",
      "1\n",
      "2\n",
      "3\n",
      "Key: a, Value: 1\n",
      "Key: b, Value: 2\n",
      "Key: c, Value: 3\n"
     ]
    }
   ],
   "source": [
    "dictionary = {'a': 1, 'b': 2, 'c': 3}\n",
    "\n",
    "for key in dictionary:\n",
    "    print(key)\n",
    "for value in dictionary.values():\n",
    "    print(value)\n",
    "for key, value in dictionary.items():\n",
    "    print(f\"Key: {key}, Value: {value}\")"
   ]
  },
  {
   "cell_type": "markdown",
   "id": "186bba33-c986-4b8e-b953-4a76ee9dca0a",
   "metadata": {},
   "source": [
    "16. Write a Python program to find the GCD (Greatest Common Divisor) of two numbers using a for loop."
   ]
  },
  {
   "cell_type": "code",
   "execution_count": 1,
   "id": "789f053f-e760-40c9-8862-71679cca152b",
   "metadata": {},
   "outputs": [
    {
     "name": "stdin",
     "output_type": "stream",
     "text": [
      "Enter the first number:  30\n",
      "Enter the second number:  6004\n"
     ]
    },
    {
     "name": "stdout",
     "output_type": "stream",
     "text": [
      "The GCD of 30 and 6004 is: 2\n"
     ]
    }
   ],
   "source": [
    "num1 = int(input(\"Enter the first number: \"))\n",
    "num2 = int(input(\"Enter the second number: \"))\n",
    "min_num = min(num1, num2)\n",
    "gcd = 1 \n",
    "for i in range(min_num, 0, -1):  \n",
    "    if num1 % i == 0 and num2 % i == 0:  \n",
    "        gcd = i\n",
    "        break  \n",
    "print(f\"The GCD of {num1} and {num2} is: {gcd}\")\n"
   ]
  },
  {
   "cell_type": "markdown",
   "id": "f210c733-be92-4cfb-995a-35eb6a6f6fc3",
   "metadata": {},
   "source": [
    "17. Create a Python program that checks if a string is a palindrome using a for loop."
   ]
  },
  {
   "cell_type": "code",
   "execution_count": 3,
   "id": "5f46e905-df03-46a4-9c72-0247d0f2b0af",
   "metadata": {},
   "outputs": [
    {
     "name": "stdin",
     "output_type": "stream",
     "text": [
      "Enter a string:  agjhgsadjd\n"
     ]
    },
    {
     "name": "stdout",
     "output_type": "stream",
     "text": [
      "'agjhgsadjd' is not a palindrome.\n"
     ]
    }
   ],
   "source": [
    "input_string = input(\"Enter a string: \").lower()\n",
    "is_palindrome = True\n",
    "for i in range(len(input_string) // 2):\n",
    "    if input_string[i] != input_string[-(i+1)]:\n",
    "        is_palindrome = False\n",
    "        break\n",
    "print(f\"'{input_string}' is a palindrome.\") if is_palindrome else print(f\"'{input_string}' is not a palindrome.\")\n",
    "\n"
   ]
  },
  {
   "cell_type": "markdown",
   "id": "31090a77-7364-477c-a415-d84ac025489a",
   "metadata": {},
   "source": [
    "18. Write a Python program to remove duplicates from a list using a for loop."
   ]
  },
  {
   "cell_type": "code",
   "execution_count": 35,
   "id": "f4691d45-7751-49b7-b9bc-b0a49b750319",
   "metadata": {},
   "outputs": [
    {
     "name": "stdout",
     "output_type": "stream",
     "text": [
      "[1, 2, 3, 4, 5]\n"
     ]
    }
   ],
   "source": [
    "in_list   = [1, 2, 2, 3, 4, 4, 5, 5, 5]\n",
    "uniq_list = []\n",
    "for i in in_list:\n",
    "    if i not in uniq_list:\n",
    "        uniq_list.append(i)\n",
    "print(uniq_list)\n",
    "    "
   ]
  },
  {
   "cell_type": "markdown",
   "id": "64a1abc9-d9c3-4101-87ac-8e5d4cd6a643",
   "metadata": {},
   "source": [
    "19. Create a Python program that counts the number of words in a sentence using a for loop."
   ]
  },
  {
   "cell_type": "code",
   "execution_count": 36,
   "id": "34ffa050-9a8b-470c-ac89-e948381e98c2",
   "metadata": {},
   "outputs": [
    {
     "name": "stdin",
     "output_type": "stream",
     "text": [
      "Enter a sentence:  Hello Van\n"
     ]
    },
    {
     "name": "stdout",
     "output_type": "stream",
     "text": [
      "The number of words in the sentence is: 2\n"
     ]
    }
   ],
   "source": [
    "sentence = input(\"Enter a sentence: \")\n",
    "word_count = 0\n",
    "words = sentence.split()\n",
    "for w in words:\n",
    "    word_count += 1\n",
    "print(f\"The number of words in the sentence is: {word_count}\")\n"
   ]
  },
  {
   "cell_type": "markdown",
   "id": "17cdc94c-c164-492d-bc94-9683096b710e",
   "metadata": {},
   "source": [
    "20.\tWrite a Python program to find the sum of all odd numbers from 1 to 50 using a for loop."
   ]
  },
  {
   "cell_type": "code",
   "execution_count": 7,
   "id": "346030e9-b659-44f9-ba2f-e098937f3b17",
   "metadata": {},
   "outputs": [
    {
     "name": "stdout",
     "output_type": "stream",
     "text": [
      "1\n",
      "3\n",
      "5\n",
      "7\n",
      "9\n",
      "11\n",
      "13\n",
      "15\n",
      "17\n",
      "19\n",
      "21\n",
      "23\n",
      "25\n",
      "27\n",
      "29\n",
      "31\n",
      "33\n",
      "35\n",
      "37\n",
      "39\n",
      "41\n",
      "43\n",
      "45\n",
      "47\n",
      "49\n"
     ]
    }
   ],
   "source": [
    "for i in range(1,51):\n",
    "    if i %2 != 0:\n",
    "        print(i)"
   ]
  },
  {
   "cell_type": "markdown",
   "id": "cfdfc7f6-b28e-4dd9-ba01-2bc964425e3f",
   "metadata": {},
   "source": [
    "21. Write a Python program that checks if a given year is a leap year using a for loop."
   ]
  },
  {
   "cell_type": "code",
   "execution_count": 10,
   "id": "bb2924f5-e898-45d7-8a36-45dccf4895de",
   "metadata": {},
   "outputs": [
    {
     "name": "stdin",
     "output_type": "stream",
     "text": [
      "enter year to check leap year 2024\n"
     ]
    },
    {
     "name": "stdout",
     "output_type": "stream",
     "text": [
      "2024 is a leap year\n"
     ]
    }
   ],
   "source": [
    "year = int(input(\"enter year to check leap year\"))\n",
    "\n",
    "if (year%4 == 0 and year %100 !=0 ) or (year %400 == 0):\n",
    "    print(f\"{year} is a leap year\")\n",
    "    \n",
    "else:\n",
    "    print(f\"{year} is not a leap year\")"
   ]
  },
  {
   "cell_type": "markdown",
   "id": "e4d1dbd6-5a7a-44fa-ac5e-b432cabb1418",
   "metadata": {},
   "source": [
    "22. Create a Python program that calculates the square root of a number using a for loop."
   ]
  },
  {
   "cell_type": "code",
   "execution_count": 11,
   "id": "ce42d978-7d21-44f0-a942-ab4addd9e3ab",
   "metadata": {},
   "outputs": [
    {
     "name": "stdin",
     "output_type": "stream",
     "text": [
      "Enter a number:  324\n"
     ]
    },
    {
     "name": "stdout",
     "output_type": "stream",
     "text": [
      "The approximate integer square root of 324 is 18\n"
     ]
    }
   ],
   "source": [
    "num = int(input(\"Enter a number: \"))\n",
    "approximate_root = None\n",
    "for i in range(num+1):  \n",
    "    if i * i == num:\n",
    "        approximate_root = i\n",
    "        break\n",
    "    elif i * i > num:\n",
    "        approximate_root = i - 1\n",
    "        break\n",
    "print(f\"The approximate integer square root of {num} is {approximate_root}\")\n",
    "\n"
   ]
  },
  {
   "cell_type": "markdown",
   "id": "9024accc-4a97-443b-937e-541166641835",
   "metadata": {},
   "source": [
    "23.\tWrite a Python program to find the LCM (Least Common Multiple) of two numbers using a for loop."
   ]
  },
  {
   "cell_type": "code",
   "execution_count": 7,
   "id": "f09afdad-e291-45b6-9222-a250b6534ce7",
   "metadata": {},
   "outputs": [
    {
     "name": "stdin",
     "output_type": "stream",
     "text": [
      "Enter the first number:  1\n",
      "Enter the second number:  2\n"
     ]
    },
    {
     "name": "stdout",
     "output_type": "stream",
     "text": [
      "The LCM of 1 and 2 is: 2\n"
     ]
    }
   ],
   "source": [
    "num1 = int(input(\"Enter the first number: \"))\n",
    "num2 = int(input(\"Enter the second number: \"))\n",
    "for lcm in range(max(num1, num2), num1*num2 + 1):\n",
    "    if lcm % num1 == 0 and lcm % num2 == 0:\n",
    "        break\n",
    "\n",
    "print(f\"The LCM of {num1} and {num2} is: {lcm}\")\n"
   ]
  },
  {
   "cell_type": "markdown",
   "id": "80e3fea1-82ee-47ef-abe4-74abc1b5f02b",
   "metadata": {},
   "source": [
    "# If else :-"
   ]
  },
  {
   "cell_type": "markdown",
   "id": "12491083-cccb-4c43-8765-e51fe641a33b",
   "metadata": {},
   "source": [
    "1. Write a Python program to check if a number is positive, negative, or zero using an if-else statement."
   ]
  },
  {
   "cell_type": "code",
   "execution_count": 1,
   "id": "0b1c3a3e-e358-4fea-97d5-e57f6ebcce49",
   "metadata": {},
   "outputs": [
    {
     "name": "stdin",
     "output_type": "stream",
     "text": [
      "enter the number 4\n"
     ]
    },
    {
     "name": "stdout",
     "output_type": "stream",
     "text": [
      "number is positive\n"
     ]
    }
   ],
   "source": [
    "num= int(input(\"enter the number\"))\n",
    "if num>0 :\n",
    "    print(\"number is positive\")    \n",
    "elif num<0 :\n",
    "    print(\"number is negative\")\n",
    "else :\n",
    "    print(\"number is Zero\")"
   ]
  },
  {
   "cell_type": "markdown",
   "id": "c2b17035-4361-4b65-b453-e2704174a034",
   "metadata": {},
   "source": [
    "2. Create a Python program that checks if a given number is even or odd using an if-else statement."
   ]
  },
  {
   "cell_type": "code",
   "execution_count": 2,
   "id": "bf586443-01a6-4e25-85fc-5a8b168c4d54",
   "metadata": {},
   "outputs": [
    {
     "name": "stdin",
     "output_type": "stream",
     "text": [
      "enter number to check odd or even 3\n"
     ]
    },
    {
     "name": "stdout",
     "output_type": "stream",
     "text": [
      "3 is an odd number\n"
     ]
    }
   ],
   "source": [
    "num = int(input(\"enter number to check odd or even\"))\n",
    "if num%2 == 0 :\n",
    "    print(f\"{num} is an even number\")\n",
    "else :\n",
    "    print(f\"{num} is an odd number\")"
   ]
  },
  {
   "cell_type": "markdown",
   "id": "d3743025-b0bd-42da-a20e-b5acf2a4a748",
   "metadata": {},
   "source": [
    "3. How can you use nested if-else statements in Python, and provide an example?"
   ]
  },
  {
   "cell_type": "code",
   "execution_count": 3,
   "id": "362cafc6-d5af-4ae2-a4fb-e740f95e32bf",
   "metadata": {},
   "outputs": [
    {
     "name": "stdin",
     "output_type": "stream",
     "text": [
      "Enter your grade:  43\n"
     ]
    },
    {
     "name": "stdout",
     "output_type": "stream",
     "text": [
      "You have a grade below C.\n",
      "Consider seeking help in areas you're struggling with.\n"
     ]
    }
   ],
   "source": [
    "\"\"\"Here's an example to illustrate nested if-else statements. \n",
    "Let's consider a scenario where we are categorizing the academic performance of students based on their grades:\n",
    "\"\"\"\n",
    "grade = float(input(\"Enter your grade: \"))\n",
    "\n",
    "if grade >= 90:\n",
    "    print(\"You have an A grade.\")\n",
    "    if grade >= 95:\n",
    "        print(\"You've performed exceptionally well!\")\n",
    "    else:\n",
    "        print(\"You've done great, keep it up!\")\n",
    "elif 80 <= grade < 90:\n",
    "    print(\"You have a B grade.\")\n",
    "    if grade >= 85:\n",
    "        print(\"You are close to an A. Push a bit more!\")\n",
    "    else:\n",
    "        print(\"A solid performance!\")\n",
    "elif 70 <= grade < 80:\n",
    "    print(\"You have a C grade.\")\n",
    "    if grade >= 75:\n",
    "        print(\"You're on your way to a B. Keep working hard!\")\n",
    "    else:\n",
    "        print(\"Consider reviewing the topics you're unsure about.\")\n",
    "else:\n",
    "    print(\"You have a grade below C.\")\n",
    "    print(\"Consider seeking help in areas you're struggling with.\")"
   ]
  },
  {
   "cell_type": "markdown",
   "id": "2f9237a4-01a6-4e57-9eca-13acc9881fb5",
   "metadata": {},
   "source": [
    "4. Write a Python program to determine the largest of three numbers using if-else."
   ]
  },
  {
   "cell_type": "code",
   "execution_count": 4,
   "id": "d83331a0-2337-4419-920a-0c6fc60b23d6",
   "metadata": {},
   "outputs": [
    {
     "name": "stdin",
     "output_type": "stream",
     "text": [
      "Enter the first number:  32\n",
      "Enter the second number:  3\n",
      "Enter the third number:  3\n"
     ]
    },
    {
     "name": "stdout",
     "output_type": "stream",
     "text": [
      "The largest number is 32.0\n"
     ]
    }
   ],
   "source": [
    "num1 = float(input(\"Enter the first number: \"))\n",
    "num2 = float(input(\"Enter the second number: \"))\n",
    "num3 = float(input(\"Enter the third number: \"))\n",
    "if num1 >= num2 and num1 >= num3:\n",
    "    largest = num1\n",
    "elif num2 >= num1 and num2 >= num3:\n",
    "    largest = num2\n",
    "else:\n",
    "    largest = num3\n",
    "print(f\"The largest number is {largest}\")"
   ]
  },
  {
   "cell_type": "markdown",
   "id": "a4d55200-d822-4dee-908a-cb43e0615a53",
   "metadata": {},
   "source": [
    "5. Write a Python program that calculates the absolute value of a number using if-else."
   ]
  },
  {
   "cell_type": "code",
   "execution_count": 5,
   "id": "b96c66fe-ad8b-433a-9d07-8b9442fee33b",
   "metadata": {},
   "outputs": [
    {
     "name": "stdin",
     "output_type": "stream",
     "text": [
      "Enter a number:  -1\n"
     ]
    },
    {
     "name": "stdout",
     "output_type": "stream",
     "text": [
      "The absolute value of -1.0 is 1.0.\n"
     ]
    }
   ],
   "source": [
    "number = float(input(\"Enter a number: \"))\n",
    "if number < 0:\n",
    "    absolute_value = -number\n",
    "else:\n",
    "    absolute_value = number\n",
    "print(f\"The absolute value of {number} is {absolute_value}.\")\n"
   ]
  },
  {
   "cell_type": "markdown",
   "id": "7764ca3b-4251-4b60-8981-eb1df2764dc5",
   "metadata": {},
   "source": [
    "6. Create a Python program that checks if a given character is a vowel or consonant using if-else."
   ]
  },
  {
   "cell_type": "code",
   "execution_count": 6,
   "id": "e550170f-330d-4be6-aff9-f3c1f38c9bf9",
   "metadata": {},
   "outputs": [
    {
     "name": "stdout",
     "output_type": "stream",
     "text": [
      "b  is a consonant\n"
     ]
    }
   ],
   "source": [
    "char = \"b\"\n",
    "if char in \"aeiou\":\n",
    "    print(char,\" is a vowel\")\n",
    "if char not in \"aeiou\":\n",
    "    print(char,\" is a consonant\")"
   ]
  },
  {
   "cell_type": "markdown",
   "id": "7caf2bb2-6abd-4929-adb0-0d0a887d1ec9",
   "metadata": {},
   "source": [
    "7. Write a Python program to determine if a user is eligible to vote based on their age using if-else."
   ]
  },
  {
   "cell_type": "code",
   "execution_count": null,
   "id": "2d883b10-0640-4955-b28f-4f8ab9117d46",
   "metadata": {},
   "outputs": [],
   "source": [
    "age = int(input(\"enter your age\"))\n",
    "if age>=18 :\n",
    "    print(\"you are eligible to vote\")\n",
    "else :\n",
    "    print(\"you are not eligible to vote\")"
   ]
  },
  {
   "cell_type": "markdown",
   "id": "77ba196b-13a2-4cbe-89ca-07acfb8263d4",
   "metadata": {},
   "source": [
    "8. Create a Python program that calculates the discount amount based on the purchase amount using if-else."
   ]
  },
  {
   "cell_type": "code",
   "execution_count": 9,
   "id": "6a368f7d-3b1b-4d06-beb8-69931bd70009",
   "metadata": {},
   "outputs": [
    {
     "name": "stdin",
     "output_type": "stream",
     "text": [
      "Enter the purchase amount:  54\n"
     ]
    },
    {
     "name": "stdout",
     "output_type": "stream",
     "text": [
      "No discount for purchases below $100.\n",
      "Your final price after discount is 54.0\n"
     ]
    }
   ],
   "source": [
    "amount = float(input(\"Enter the purchase amount: \"))\n",
    "if amount > 1000:\n",
    "    discount = amount * 0.20\n",
    "    print(f\"You get a 20% discount of ${discount:.2f}!\")\n",
    "elif amount > 500:\n",
    "    discount = amount * 0.10\n",
    "    print(f\"You get a 10% discount of ${discount:.2f}!\")\n",
    "elif amount > 100:\n",
    "    discount = amount * 0.05\n",
    "    print(f\"You get a 5% discount of ${discount:.2f}!\")\n",
    "else:\n",
    "    discount = 0\n",
    "    print(\"No discount for purchases below $100.\")\n",
    "final_price = amount - discount\n",
    "print(f\"Your final price after discount is {final_price}\")\n"
   ]
  },
  {
   "cell_type": "markdown",
   "id": "891ad9f8-aa4c-40e4-bec7-96546bddf588",
   "metadata": {},
   "source": [
    "9. Get the number from the user"
   ]
  },
  {
   "cell_type": "code",
   "execution_count": 11,
   "id": "20b52fbc-a36e-4dee-80ea-6274256f2e7d",
   "metadata": {},
   "outputs": [
    {
     "name": "stdin",
     "output_type": "stream",
     "text": [
      "Enter a number:  32\n",
      "Enter the lower limit of the range:  2\n",
      "Enter the upper limit of the range:  3\n"
     ]
    },
    {
     "name": "stdout",
     "output_type": "stream",
     "text": [
      "The number 32.0 is not within the range 2.0 to 3.0.\n"
     ]
    }
   ],
   "source": [
    "number = float(input(\"Enter a number: \"))\n",
    "\n",
    "# Specify the range\n",
    "lower_limit = float(input(\"Enter the lower limit of the range: \"))\n",
    "upper_limit = float(input(\"Enter the upper limit of the range: \"))\n",
    "\n",
    "# Check if the number is within the range\n",
    "if lower_limit <= number <= upper_limit:\n",
    "    print(f\"The number {number} is within the range {lower_limit} to {upper_limit}.\")\n",
    "else:\n",
    "    print(f\"The number {number} is not within the range {lower_limit} to {upper_limit}.\")\n",
    "\n"
   ]
  },
  {
   "cell_type": "markdown",
   "id": "1b869ca5-687e-4b1f-a281-d4a752b0c619",
   "metadata": {},
   "source": [
    "10. Create a Python program that determines the grade of a student based on their score using if-else."
   ]
  },
  {
   "cell_type": "code",
   "execution_count": 10,
   "id": "50670b89-a876-4de9-81df-4f53d33e7882",
   "metadata": {},
   "outputs": [
    {
     "name": "stdin",
     "output_type": "stream",
     "text": [
      "Enter the student's score (0-100):  34\n"
     ]
    },
    {
     "name": "stdout",
     "output_type": "stream",
     "text": [
      "The student's grade is: F\n"
     ]
    }
   ],
   "source": [
    "score = float(input(\"Enter the student's score (0-100): \"))\n",
    "if score >= 90:\n",
    "    grade = 'A'\n",
    "elif score >= 80:\n",
    "    grade = 'B'\n",
    "elif score >= 70:\n",
    "    grade = 'C'\n",
    "elif score >= 60:\n",
    "    grade = 'D'\n",
    "else:\n",
    "    grade = 'F'\n",
    "print(f\"The student's grade is: {grade}\")"
   ]
  },
  {
   "cell_type": "markdown",
   "id": "d77ae499-d9ba-4d7a-b822-4de721db0149",
   "metadata": {},
   "source": [
    "11. Write a Python program to check if a string is empty or not using if-else."
   ]
  },
  {
   "cell_type": "code",
   "execution_count": 16,
   "id": "2e6379e4-4c6b-43fb-a361-2e808ad92c55",
   "metadata": {},
   "outputs": [
    {
     "name": "stdin",
     "output_type": "stream",
     "text": [
      "Enter a string:  ew\n"
     ]
    },
    {
     "name": "stdout",
     "output_type": "stream",
     "text": [
      "The string is not empty.\n"
     ]
    }
   ],
   "source": [
    "\n",
    "# Get the string from the user\n",
    "user_string = input(\"Enter a string: \")\n",
    "\n",
    "# Check if the string is empty based on its length\n",
    "if len(user_string) == 0:\n",
    "    print(\"The string is empty.\")\n",
    "else:\n",
    "    print(\"The string is not empty.\")\n"
   ]
  },
  {
   "cell_type": "markdown",
   "id": "865ff5e3-da2e-46ea-8e66-a30ef6da7f6f",
   "metadata": {},
   "source": [
    "12. Create a Python program that identifies the type of a triangle (e.g., equilateral, isosceles, or scalene) based on input values using if-else.\n"
   ]
  },
  {
   "cell_type": "code",
   "execution_count": 12,
   "id": "bf6de270-4c51-43d4-91d5-f376727a8ea2",
   "metadata": {},
   "outputs": [
    {
     "name": "stdin",
     "output_type": "stream",
     "text": [
      "Enter the length of the first side:  3\n",
      "Enter the length of the second side:  3\n",
      "Enter the length of the third side:  3\n"
     ]
    },
    {
     "name": "stdout",
     "output_type": "stream",
     "text": [
      "The triangle is Equilateral.\n"
     ]
    }
   ],
   "source": [
    "side1 = float(input(\"Enter the length of the first side: \"))\n",
    "side2 = float(input(\"Enter the length of the second side: \"))\n",
    "side3 = float(input(\"Enter the length of the third side: \"))\n",
    "if side1 == side2 == side3:\n",
    "    print(\"The triangle is Equilateral.\")\n",
    "elif side1 == side2 or side1 == side3 or side2 == side3:\n",
    "    print(\"The triangle is Isosceles.\")\n",
    "else:\n",
    "    print(\"The triangle is Scalene.\")\n"
   ]
  },
  {
   "cell_type": "markdown",
   "id": "9d1711f2-6c52-4c85-a05d-d80ca776421d",
   "metadata": {},
   "source": [
    "13. Write a Python program to determine the day of the week based on a user-provided number using if-else."
   ]
  },
  {
   "cell_type": "code",
   "execution_count": 13,
   "id": "3a8e9ca4-735c-4006-b7f0-4f1de0ae1070",
   "metadata": {},
   "outputs": [
    {
     "name": "stdin",
     "output_type": "stream",
     "text": [
      "Enter a number between 1 and 7 (1 for Monday, 2 for Tuesday, etc.):  3\n"
     ]
    },
    {
     "name": "stdout",
     "output_type": "stream",
     "text": [
      "Wednesday\n"
     ]
    }
   ],
   "source": [
    "day_num = int(input(\"Enter a number between 1 and 7 (1 for Monday, 2 for Tuesday, etc.): \"))\n",
    "if day_num == 1:\n",
    "    print(\"Monday\")\n",
    "elif day_num == 2:\n",
    "    print(\"Tuesday\")\n",
    "elif day_num == 3:\n",
    "    print(\"Wednesday\")\n",
    "elif day_num == 4:\n",
    "    print(\"Thursday\")\n",
    "elif day_num == 5:\n",
    "    print(\"Friday\")\n",
    "elif day_num == 6:\n",
    "    print(\"Saturday\")\n",
    "elif day_num == 7:\n",
    "    print(\"Sunday\")\n",
    "else:\n",
    "    print(\"Invalid number! Please enter a number between 1 and 7.\")"
   ]
  },
  {
   "cell_type": "markdown",
   "id": "cb259416-3043-475f-8a82-95749ce00f4a",
   "metadata": {},
   "source": [
    "14. Create a Python program that checks if a given year is a leap year using both if-else and a function."
   ]
  },
  {
   "cell_type": "code",
   "execution_count": 14,
   "id": "abca34aa-bbaf-4476-8db1-bd5cdbeef663",
   "metadata": {},
   "outputs": [
    {
     "name": "stdin",
     "output_type": "stream",
     "text": [
      "enter year to check leap year 2000\n"
     ]
    },
    {
     "name": "stdout",
     "output_type": "stream",
     "text": [
      "2000 is a leap year\n"
     ]
    }
   ],
   "source": [
    "\n",
    "year = int(input(\"enter year to check leap year\"))\n",
    "\n",
    "if (year%4 == 0 and year %100 !=0 ) or (year %400 == 0):\n",
    "    print(f\"{year} is a leap year\")\n",
    "    \n",
    "else:\n",
    "    print(f\"{year} is not a leap year\")\n"
   ]
  },
  {
   "cell_type": "markdown",
   "id": "08de5931-2138-4980-8b15-a3d4e3818e52",
   "metadata": {},
   "source": [
    "15. How do you use the \"assert\" statement in Python to add debugging checks within if-else blocks?"
   ]
  },
  {
   "cell_type": "code",
   "execution_count": 18,
   "id": "f7b7b25e-777d-4a94-b526-712d33059675",
   "metadata": {},
   "outputs": [
    {
     "name": "stdin",
     "output_type": "stream",
     "text": [
      "Enter a number between 1 and 10:  6\n"
     ]
    },
    {
     "name": "stdout",
     "output_type": "stream",
     "text": [
      "The number is greater than 5\n"
     ]
    }
   ],
   "source": [
    "\n",
    "x = int(input(\"Enter a number between 1 and 10: \"))\n",
    "\n",
    "if x > 5:\n",
    "    # Check that the number is indeed greater than 5\n",
    "    assert x > 5, \"Number is not greater than 5\"\n",
    "    print(\"The number is greater than 5\")\n",
    "else:\n",
    "    # Check that the number is 5 or less\n",
    "    assert x <= 5, \"Number is greater than 5\"\n",
    "    print(\"The number is 5 or less\")\n"
   ]
  },
  {
   "cell_type": "markdown",
   "id": "b95dd22c-3dac-4257-a038-e0d2fd706ea8",
   "metadata": {},
   "source": [
    "16. Create a Python program that determines the eligibility of a person for a senior citizen discount based on age using if-else."
   ]
  },
  {
   "cell_type": "code",
   "execution_count": 42,
   "id": "1ff5505f-db73-4504-a54f-4ed7fc2c420d",
   "metadata": {},
   "outputs": [
    {
     "name": "stdin",
     "output_type": "stream",
     "text": [
      "Enter your age:  59\n"
     ]
    },
    {
     "name": "stdout",
     "output_type": "stream",
     "text": [
      "You are not eligible for a senior citizen discount.\n"
     ]
    }
   ],
   "source": [
    "age = int(input(\"Enter your age: \"))\n",
    "age >= 60  \n",
    "if age >= 60:\n",
    "    print(\"You are eligible for a senior citizen discount.\")\n",
    "else:\n",
    "    print(\"You are not eligible for a senior citizen discount.\")\n"
   ]
  },
  {
   "cell_type": "markdown",
   "id": "050fac25-33d6-4234-ade3-182395bc9131",
   "metadata": {},
   "source": [
    "17. Write a Python program to categorize a given character as uppercase, lowercase, or neither using if-else."
   ]
  },
  {
   "cell_type": "code",
   "execution_count": 45,
   "id": "fef2974e-7896-4a89-afa1-d3eabb9308a9",
   "metadata": {},
   "outputs": [
    {
     "name": "stdin",
     "output_type": "stream",
     "text": [
      "Enter a single character:  Q\n"
     ]
    },
    {
     "name": "stdout",
     "output_type": "stream",
     "text": [
      "The character 'Q' is an Uppercase letter.\n"
     ]
    }
   ],
   "source": [
    "char = input(\"Enter a single character: \")\n",
    "if char.isupper():\n",
    "    print(f\"The character '{char}' is an Uppercase letter.\")\n",
    "elif char.islower():\n",
    "    print(f\"The character '{char}' is a Lowercase letter.\")\n",
    "else:\n",
    "    print(f\"The character '{char}' is a neither.\")"
   ]
  },
  {
   "cell_type": "markdown",
   "id": "e1ee791b-0a3c-465a-b1bb-bbd69cfd7762",
   "metadata": {},
   "source": [
    "18. Write a Python program to determine the roots of a quadratic equation using if-else."
   ]
  },
  {
   "cell_type": "code",
   "execution_count": 21,
   "id": "6a7f853d-19c3-4bc3-b580-8359630a8ab7",
   "metadata": {},
   "outputs": [
    {
     "name": "stdin",
     "output_type": "stream",
     "text": [
      "Enter the coefficient a:  4\n",
      "Enter the coefficient b:  4\n",
      "Enter the coefficient c:  4\n"
     ]
    },
    {
     "name": "stdout",
     "output_type": "stream",
     "text": [
      "The roots are complex (not real).\n"
     ]
    }
   ],
   "source": [
    "a = float(input(\"Enter the coefficient a: \"))\n",
    "b = float(input(\"Enter the coefficient b: \"))\n",
    "c = float(input(\"Enter the coefficient c: \"))\n",
    "discriminant = b**2 - 4*a*c\n",
    "\n",
    "# Determine the nature of the roots and calculate them\n",
    "if discriminant > 0:\n",
    "    root1 = (-b + discriminant**0.5) / (2*a)\n",
    "    root2 = (-b - discriminant**0.5) / (2*a)\n",
    "    print(f\"Two distinct real roots: {root1} and {root2}\")\n",
    "\n",
    "elif discriminant == 0:\n",
    "    root = -b / (2*a)\n",
    "    print(f\"One real root: {root}\")\n",
    "\n",
    "else:\n",
    "    print(\"The roots are complex (not real).\")"
   ]
  },
  {
   "cell_type": "markdown",
   "id": "8849e8b9-48dc-4511-8dae-6f2327c61c50",
   "metadata": {},
   "source": [
    "19. Create a Python program that checks if a given year is a century year or not using if-else."
   ]
  },
  {
   "cell_type": "code",
   "execution_count": 48,
   "id": "d8009882-6997-4897-baa8-f70159958c9c",
   "metadata": {},
   "outputs": [
    {
     "name": "stdin",
     "output_type": "stream",
     "text": [
      "Enter a year:  2000\n"
     ]
    },
    {
     "name": "stdout",
     "output_type": "stream",
     "text": [
      "2000 is a century year.\n"
     ]
    }
   ],
   "source": [
    "year = int(input(\"Enter a year: \"))\n",
    "if year % 100 == 0:\n",
    "    print(f\"{year} is a century year.\")\n",
    "else:\n",
    "    print(f\"{year} is not a century year.\")\n"
   ]
  },
  {
   "cell_type": "markdown",
   "id": "033c4f75-dd7a-4468-85a2-5ea9173fe589",
   "metadata": {},
   "source": [
    "20.\tWrite a Python program to determine if a given number is a perfect square using if-else."
   ]
  },
  {
   "cell_type": "code",
   "execution_count": 27,
   "id": "acdc94ef-1d3f-4b62-8d68-8ec408d28b17",
   "metadata": {},
   "outputs": [
    {
     "name": "stdin",
     "output_type": "stream",
     "text": [
      "Enter a number:  4\n"
     ]
    },
    {
     "name": "stdout",
     "output_type": "stream",
     "text": [
      "4 is a perfect square.\n"
     ]
    }
   ],
   "source": [
    "\n",
    "num = int(input(\"Enter a number: \"))\n",
    "sqrt = num ** 0.5\n",
    "if round(sqrt) ** 2 == num:\n",
    "    print(f\"{num} is a perfect square.\")\n",
    "else:\n",
    "    print(f\"{num} is not a perfect square.\")\n"
   ]
  },
  {
   "cell_type": "markdown",
   "id": "b69c6d01-355e-4b1e-91b9-d840b338698d",
   "metadata": {},
   "source": [
    "21.\tExplain the purpose of the \"continue\" and \"break\" statements within if-else loops."
   ]
  },
  {
   "cell_type": "code",
   "execution_count": null,
   "id": "e731b2ad-7192-4731-8bb1-0424cab9a7f3",
   "metadata": {},
   "outputs": [],
   "source": [
    "'''\n",
    "break is used to exit a loop completely.\n",
    "continue is used to skip the current iteration and proceed to the next one.\n",
    "When a break statement is encountered inside a loop, \n",
    "the loop terminates immediately, and program control proceeds to the next statement following the loop.\n",
    "\n",
    "'''\n",
    "for i in range(5):\n",
    "    if i == 3:\n",
    "        break\n",
    "    print(i) #In the above code, the loop breaks when i equals 3, so numbers after 2 are not printed.\n",
    "\n",
    "'''When a continue statement is encountered inside a loop, \n",
    "the current iteration of the loop is terminated immediately, and the loop's next iteration begins.\n",
    "\n",
    "'''\n",
    "for i in range(5):\n",
    "    if i == 3:\n",
    "        continue\n",
    "    print(i) #In the above code, when i equals 3, the print(i) statement is skipped due to the continue statement, but the loop continues with the next iteration.\n",
    "\n",
    "\n"
   ]
  },
  {
   "cell_type": "markdown",
   "id": "a3815798-b108-4d41-93ab-a70911028e4c",
   "metadata": {},
   "source": [
    "22.\tCreate a Python program that calculates the BMI (Body Mass Index) of a person based on their weight and height using if-else.\n"
   ]
  },
  {
   "cell_type": "code",
   "execution_count": 23,
   "id": "a19001be-42fa-4812-891b-d60446fb3769",
   "metadata": {},
   "outputs": [
    {
     "name": "stdin",
     "output_type": "stream",
     "text": [
      "Enter your weight in kilograms:  2123\n",
      "Enter your height in meters:  2\n"
     ]
    },
    {
     "name": "stdout",
     "output_type": "stream",
     "text": [
      "Your BMI is 530.75. You are classified as Obese.\n"
     ]
    }
   ],
   "source": [
    "weight = float(input(\"Enter your weight in kilograms: \"))\n",
    "height = float(input(\"Enter your height in meters: \"))\n",
    "bmi = weight / (height ** 2)\n",
    "if bmi < 18.5:\n",
    "    print(f\"Your BMI is {bmi:.2f}. You are classified as Underweight.\")\n",
    "elif 18.5 <= bmi < 25:\n",
    "    print(f\"Your BMI is {bmi:.2f}. You are classified as Normal weight.\")\n",
    "elif 25 <= bmi < 30:\n",
    "    print(f\"Your BMI is {bmi:.2f}. You are classified as Overweight.\")\n",
    "else:\n",
    "    print(f\"Your BMI is {bmi:.2f}. You are classified as Obese.\")"
   ]
  },
  {
   "cell_type": "markdown",
   "id": "c376aeb0-e3c7-45e9-84d6-7fc94b369423",
   "metadata": {},
   "source": [
    "23.\tHow can you use the \"filter()\" function with if-else statements to filter elements from a list?\n"
   ]
  },
  {
   "cell_type": "code",
   "execution_count": 31,
   "id": "363b4542-7aa7-4958-8f87-a357e955a9ab",
   "metadata": {},
   "outputs": [
    {
     "name": "stdout",
     "output_type": "stream",
     "text": [
      "['apple', 'grape', 'elephant']\n"
     ]
    }
   ],
   "source": [
    "'''The filter() function in Python allows you to filter elements from an iterable (like a list) \n",
    "based on a function that returns True or False for each element. '''\n",
    "#Filtering out all strings in a list that have a length less than 5:\n",
    "words = ['apple', 'bat', 'grape', 'ant', 'elephant']\n",
    "def longer_than_four(word):\n",
    "    if len(word) >= 5:\n",
    "        return True\n",
    "    else:\n",
    "        return False\n",
    "\n",
    "long_words = list(filter(longer_than_four, words))\n",
    "print(long_words)"
   ]
  },
  {
   "cell_type": "markdown",
   "id": "4a24de5d-4445-424d-b811-69415b6d0add",
   "metadata": {},
   "source": [
    "24.\tWrite a Python program to determine if a given number is prime or not using if-else.\n"
   ]
  },
  {
   "cell_type": "code",
   "execution_count": 24,
   "id": "a3538ad4-3606-4c5f-9aa9-6f14ce19a02a",
   "metadata": {},
   "outputs": [
    {
     "name": "stdin",
     "output_type": "stream",
     "text": [
      "Enter the number:  34\n"
     ]
    },
    {
     "name": "stdout",
     "output_type": "stream",
     "text": [
      "34 is not a prime number.\n"
     ]
    }
   ],
   "source": [
    "num = int(input(\"Enter the number: \"))\n",
    "if num < 2:\n",
    "    print(f\"{num} is not a prime number.\")\n",
    "else:\n",
    "    is_prime = True\n",
    "    for i in range(2, num):\n",
    "        if num % i == 0:\n",
    "            is_prime = False\n",
    "            break\n",
    "    if is_prime:\n",
    "        print(f\"{num} is a prime number.\")\n",
    "    else:\n",
    "        print(f\"{num} is not a prime number.\")"
   ]
  },
  {
   "cell_type": "markdown",
   "id": "3e99ddfd-2889-428a-9ba4-31f4ce701854",
   "metadata": {},
   "source": [
    "# Map :-"
   ]
  },
  {
   "cell_type": "markdown",
   "id": "bf38d5f9-3efa-40f9-9a1a-6717b24cd1f1",
   "metadata": {},
   "source": [
    "1.\tExplain the purpose of the `map()` function in Python and provide an example of how it can be used to apply a function to each element of an iterable."
   ]
  },
  {
   "cell_type": "code",
   "execution_count": 10,
   "id": "774db3cb-de79-4d65-8378-a944d54b1cbc",
   "metadata": {},
   "outputs": [
    {
     "name": "stdout",
     "output_type": "stream",
     "text": [
      "[1, 4, 9, 16, 25]\n"
     ]
    }
   ],
   "source": [
    "'''The map() function in Python is used to apply a function to all items in an input list (or any iterable). \n",
    "This is particularly useful when you want to transform the contents of a list without \n",
    "resorting to explicit loops. The function returns an iterator that can be converted \n",
    "into other iterable data types like lists, sets, etc.\n",
    "\n",
    "Example:\n",
    "\n",
    "Suppose you have a list of numbers, and you want to square each number in the list. \n",
    "Instead of using a loop to accomplish this, you can use the map() function:\n",
    "'''\n",
    "# A simple function to square a number\n",
    "def square(n):\n",
    "    return n * n\n",
    "\n",
    "# List of numbers\n",
    "numbers = [1, 2, 3, 4, 5]\n",
    "\n",
    "# Use map to apply the 'square' function to each element of 'numbers'\n",
    "squared_numbers = map(square, numbers)\n",
    "\n",
    "# Convert the result back to a list and print\n",
    "print(list(squared_numbers))   # Output: [1, 4, 9, 16, 25]\n"
   ]
  },
  {
   "cell_type": "markdown",
   "id": "32d05eeb-9021-402c-82c4-229a2aa29806",
   "metadata": {},
   "source": [
    "2.\tWrite a Python program that uses the `map()` function to square each element of a list of numbers."
   ]
  },
  {
   "cell_type": "code",
   "execution_count": 9,
   "id": "be80817a-018f-4ba7-8c67-8258465d541f",
   "metadata": {},
   "outputs": [
    {
     "data": {
      "text/plain": [
       "[1, 4, 9, 16, 25]"
      ]
     },
     "execution_count": 9,
     "metadata": {},
     "output_type": "execute_result"
    }
   ],
   "source": [
    "numbers = [1, 2, 3, 4, 5]\n",
    "squared_numbers = [*map(lambda x : x ** 2, numbers)]\n",
    "squared_numbers"
   ]
  },
  {
   "cell_type": "markdown",
   "id": "fecd9875-20d5-4461-b9fd-3f053991a74b",
   "metadata": {},
   "source": [
    "3.\tHow does the `map()` function differ from a list comprehension in Python, and when would you choose one over the other?\n"
   ]
  },
  {
   "cell_type": "code",
   "execution_count": 11,
   "id": "93b169b5-2e71-4947-9d5c-e01e2e14c33e",
   "metadata": {},
   "outputs": [
    {
     "name": "stdout",
     "output_type": "stream",
     "text": [
      "[4, 16, 36, 64]\n",
      "[4, 16, 36, 64]\n"
     ]
    }
   ],
   "source": [
    "''' The map() function and list comprehensions are both tools in Python for generating lists\n",
    "through some form of transformation or filtering.\n",
    "However, they have different syntactical and functional characteristics.'''\n",
    "\n",
    "#Certainly! Let's consider a simple example where we want to square all even numbers from a given list.\n",
    "\n",
    "#Using map():\n",
    "numbers = [1, 2, 3, 4, 5, 6, 7, 8, 9]\n",
    "squared_evens_map = map(lambda x: x**2, filter(lambda x: x % 2 == 0, numbers))\n",
    "print(list(squared_evens_map))  \n",
    "\n",
    "#Using List Comprehension:\n",
    "squared_evens_list_comp = [x**2 for x in numbers if x % 2 == 0]\n",
    "print(squared_evens_list_comp)  # Output: [4, 16, 36, 64]"
   ]
  },
  {
   "cell_type": "markdown",
   "id": "6cbe04a8-1017-4cde-bfbd-480f825f2968",
   "metadata": {},
   "source": [
    "4. Create a Python program that uses the `map()` function to convert a list of names to uppercase."
   ]
  },
  {
   "cell_type": "code",
   "execution_count": 14,
   "id": "843d0660-e731-4a74-82ba-5db0ec591c3f",
   "metadata": {},
   "outputs": [
    {
     "data": {
      "text/plain": [
       "['SUDHANSHU', 'KRISH', 'IMRAN']"
      ]
     },
     "execution_count": 14,
     "metadata": {},
     "output_type": "execute_result"
    }
   ],
   "source": [
    "l = [\"sudhanshu\",\"krish\",\"imran\"]\n",
    "upper_list= list(map(lambda a: a.upper(), l))\n",
    "upper_list"
   ]
  },
  {
   "cell_type": "markdown",
   "id": "25769c32-4e9d-4e7b-9c94-3d6141a9fc2e",
   "metadata": {},
   "source": [
    "5.\tWrite a Python program that uses the `map()` function to calculate the length of each word in a list of strings."
   ]
  },
  {
   "cell_type": "code",
   "execution_count": 16,
   "id": "5e1eb431-fa8a-4ba9-9fab-69f6fded2ae3",
   "metadata": {},
   "outputs": [
    {
     "data": {
      "text/plain": [
       "[9, 5, 6]"
      ]
     },
     "execution_count": 16,
     "metadata": {},
     "output_type": "execute_result"
    }
   ],
   "source": [
    "l = [\"sudhanshu\",\"krish\",\"imraan\"]\n",
    "len_word= [*map( lambda x : len(x), l) ]\n",
    "len_word"
   ]
  },
  {
   "cell_type": "markdown",
   "id": "f9ad5b3f-9e84-4bfe-b37b-4d9e789fad67",
   "metadata": {},
   "source": [
    "6.\tHow can you use the `map()` function to apply a custom function to elements of multiple lists simultaneously in Python?\n"
   ]
  },
  {
   "cell_type": "code",
   "execution_count": 8,
   "id": "db8a2330-a913-4254-aa66-a733f5a0c580",
   "metadata": {},
   "outputs": [
    {
     "name": "stdout",
     "output_type": "stream",
     "text": [
      "[11, 22, 33, 44]\n"
     ]
    }
   ],
   "source": [
    "list1 = [1, 2, 3, 4]\n",
    "list2 = [10, 20, 30, 40]\n",
    "result_lambda = map(lambda x, y: x + y, list1, list2)\n",
    "print(list(result_lambda))  # Output: [11, 22, 33, 44]"
   ]
  },
  {
   "cell_type": "markdown",
   "id": "827ad793-41a9-4da9-a147-9271c19bf48f",
   "metadata": {},
   "source": [
    "7.\tCreate a Python program that uses `map()` to convert a list of temperatures from Celsius to Fahrenheit."
   ]
  },
  {
   "cell_type": "code",
   "execution_count": 17,
   "id": "2d3f3650-0c2c-4415-9a4f-f24281c54a52",
   "metadata": {},
   "outputs": [
    {
     "data": {
      "text/plain": [
       "[32.0, 50.0, 68.0, 86.0, 104.0, 122.0]"
      ]
     },
     "execution_count": 17,
     "metadata": {},
     "output_type": "execute_result"
    }
   ],
   "source": [
    "ctemp = [0,10,20,30,40,50]\n",
    "list(map(lambda a:( (a * 1.8) + 32),ctemp))"
   ]
  },
  {
   "cell_type": "markdown",
   "id": "e4bc1690-f6d6-4bb6-b6c2-6d3ff7c9e88f",
   "metadata": {},
   "source": [
    "8.\tWrite a Python program that uses the `map()` function to round each element of a list of floating-point numbers to the nearest integer."
   ]
  },
  {
   "cell_type": "code",
   "execution_count": 2,
   "id": "6fef3b59-747e-401e-8f93-d5676aacaca7",
   "metadata": {},
   "outputs": [
    {
     "data": {
      "text/plain": [
       "[1, 3, 3, 5, 6]"
      ]
     },
     "execution_count": 2,
     "metadata": {},
     "output_type": "execute_result"
    }
   ],
   "source": [
    "float_numbers = [1.2, 2.7, 3.1, 4.8, 5.5]\n",
    "round_list = [*map( lambda x: round(x),float_numbers)]\n",
    "round_list"
   ]
  },
  {
   "cell_type": "markdown",
   "id": "a007adb1-e6cb-474d-98d9-1e7883d47598",
   "metadata": {},
   "source": [
    "# Reduce :-"
   ]
  },
  {
   "cell_type": "markdown",
   "id": "25a6b7af-39de-47df-85f9-606adbefe587",
   "metadata": {},
   "source": [
    "1.\tWhat is the `reduce()` function in Python, and what module should you import to use it? Provide an example of its basic usage.\n"
   ]
  },
  {
   "cell_type": "code",
   "execution_count": 9,
   "id": "cb7ef7c3-3034-4d7f-9627-37ec5b640f22",
   "metadata": {},
   "outputs": [
    {
     "name": "stdout",
     "output_type": "stream",
     "text": [
      "120\n"
     ]
    }
   ],
   "source": [
    "'''The reduce() function is a part of Python's functools module. \n",
    "It's used to apply a particular function passed in its argument to all the list elements mentioned in the sequence passed along. Essentially, \n",
    "it continually applies a function to the elements of a sequence, reducing the sequence to a single value.\n",
    "\n",
    "reduce() =  apply a function to an iterable and reduce it to a single cumulative value.\n",
    "            performs function on first two elements and repeats process until 1 value remains.\n",
    "'''\n",
    "from functools import reduce\n",
    "numbers = [1, 2, 3, 4, 5]\n",
    "result = reduce((lambda x, y: x * y), numbers)\n",
    "print(result) "
   ]
  },
  {
   "cell_type": "markdown",
   "id": "07272950-85e1-417b-9a8d-d9327fbe742f",
   "metadata": {},
   "source": [
    "2. Write a Python program that uses the `reduce()` function to find the product of all elements in a list."
   ]
  },
  {
   "cell_type": "code",
   "execution_count": 12,
   "id": "c7de2e88-d47e-4307-87ba-0c32817ebe90",
   "metadata": {},
   "outputs": [
    {
     "name": "stdout",
     "output_type": "stream",
     "text": [
      "product of allelements of list is  120\n"
     ]
    }
   ],
   "source": [
    "from functools import reduce\n",
    "l= [1,2,3,4,5]\n",
    "prod = reduce( lambda x , y: x * y, l) \n",
    "print(\"product of allelements of list is \", prod)"
   ]
  },
  {
   "cell_type": "markdown",
   "id": "40f574a7-96b5-42df-a463-26755481eb40",
   "metadata": {},
   "source": [
    "3. Create a Python program that uses `reduce()` to find the maximum element in a list of numbers."
   ]
  },
  {
   "cell_type": "code",
   "execution_count": 17,
   "id": "51bdc1d3-e721-4ee8-8e0e-95ce5ee54fda",
   "metadata": {},
   "outputs": [
    {
     "data": {
      "text/plain": [
       "54"
      ]
     },
     "execution_count": 17,
     "metadata": {},
     "output_type": "execute_result"
    }
   ],
   "source": [
    "from functools import reduce\n",
    "l= [3,3,6,7,3,54]\n",
    "max_element = reduce( lambda x , y : x if x > y else y , l)\n",
    "max_element"
   ]
  },
  {
   "cell_type": "markdown",
   "id": "53a7b992-b460-4c8f-a6c7-c7c734b7e024",
   "metadata": {},
   "source": [
    "4. How can you use the `reduce()` function to concatenate a list of strings into a single string?"
   ]
  },
  {
   "cell_type": "code",
   "execution_count": 24,
   "id": "ef7ca564-37fe-4b63-b725-07e31159e257",
   "metadata": {},
   "outputs": [
    {
     "data": {
      "text/plain": [
       "'sudhanshukrishimraan'"
      ]
     },
     "execution_count": 24,
     "metadata": {},
     "output_type": "execute_result"
    }
   ],
   "source": [
    "from functools import reduce\n",
    "l = [\"sudhanshu\",\"krish\",\"imraan\"]\n",
    "reduce( lambda x , y, : x + y, l)"
   ]
  },
  {
   "cell_type": "markdown",
   "id": "8df62917-4508-4e11-a1fc-f83be8709380",
   "metadata": {},
   "source": [
    "5. Write a Python program that calculates the factorial of a number using the `reduce()` function."
   ]
  },
  {
   "cell_type": "code",
   "execution_count": 25,
   "id": "13720cf5-11a4-4893-a64a-331547ca6097",
   "metadata": {},
   "outputs": [
    {
     "data": {
      "text/plain": [
       "120"
      ]
     },
     "execution_count": 25,
     "metadata": {},
     "output_type": "execute_result"
    }
   ],
   "source": [
    "from functools import reduce\n",
    "n=5\n",
    "fact = 1\n",
    "fact = reduce( lambda x,  fact, : fact * x, range(1, n+1))\n",
    "fact"
   ]
  },
  {
   "cell_type": "markdown",
   "id": "564f1a9d-6b93-424b-af87-ec2650bb9815",
   "metadata": {},
   "source": [
    "6. Create a Python program that uses `reduce()` to find the GCD (Greatest Common Divisor) of a list of numbers."
   ]
  },
  {
   "cell_type": "code",
   "execution_count": 19,
   "id": "0e96ea0e-280e-464a-b8f2-70f5434e079c",
   "metadata": {},
   "outputs": [
    {
     "name": "stdout",
     "output_type": "stream",
     "text": [
      "The GCD of the numbers is: 12\n"
     ]
    }
   ],
   "source": [
    "from functools import reduce\n",
    "import math\n",
    "numbers = [24, 36, 48]\n",
    "result = reduce(math.gcd, numbers)\n",
    "print(f\"The GCD of the numbers is: {result}\")  \n"
   ]
  },
  {
   "cell_type": "markdown",
   "id": "774aad2f-ac17-454f-97f2-5ce199a1ba0e",
   "metadata": {},
   "source": [
    "7. Write a Python program that uses the `reduce()` function to find the sum of the digits of a given number."
   ]
  },
  {
   "cell_type": "code",
   "execution_count": 43,
   "id": "cc9cba4e-6cd8-4c41-b378-b3688a5a2e19",
   "metadata": {},
   "outputs": [
    {
     "name": "stdout",
     "output_type": "stream",
     "text": [
      "The sum of the digits of 12345 is: 15\n"
     ]
    }
   ],
   "source": [
    "from functools import reduce\n",
    "in_num = 12345\n",
    "digits_sum=reduce(lambda a , b, : a + b, [int(i) for i in str(in_num)])\n",
    "print(f\"The sum of the digits of {in_num} is: {digits_sum}\") "
   ]
  },
  {
   "cell_type": "markdown",
   "id": "f4b12607-da08-449a-8bb6-40ffe9d1cf61",
   "metadata": {},
   "source": [
    "# Filter :-"
   ]
  },
  {
   "cell_type": "markdown",
   "id": "0305ca92-fec1-4d86-9e3d-8eb62ecc4b0b",
   "metadata": {},
   "source": [
    "1. Explain the purpose of the `filter()` function in Python and provide an example of how it can be used to filter elements from an iterable.\n"
   ]
  },
  {
   "cell_type": "code",
   "execution_count": 21,
   "id": "eb928d53-339d-4a53-a0fe-e5f9ceeb360c",
   "metadata": {},
   "outputs": [
    {
     "name": "stdout",
     "output_type": "stream",
     "text": [
      "[2, 4, 6, 8, 10]\n"
     ]
    }
   ],
   "source": [
    "'''The filter() function in Python is used to filter the elements of an iterable based on\n",
    "a function that tests each element in the iterable to be true or not. \n",
    "The function returns an iterator from elements of the iterable for which the function returns true.\n",
    "\n",
    "In simpler terms, filter(function, iterable) will return all items from the iterable for \n",
    "which the function returns True.\n",
    "\n",
    "Example:\n",
    "\n",
    "Let's say you have a list of numbers and you want to filter out only the even numbers:'''\n",
    "numbers = [1, 2, 3, 4, 5, 6, 7, 8, 9, 10]\n",
    "def is_even(n):\n",
    "    return n % 2 == 0\n",
    "even_numbers = filter(is_even, numbers)\n",
    "print(list(even_numbers)) \n"
   ]
  },
  {
   "cell_type": "markdown",
   "id": "bf67ffef-d197-4f07-bc9f-e45c4362e23e",
   "metadata": {},
   "source": [
    "2.\tWrite a Python program that uses the `filter()` function to select even numbers from a list of integers.\n"
   ]
  },
  {
   "cell_type": "code",
   "execution_count": 49,
   "id": "79f6b3d5-8d94-461a-9875-e0d7f5513cd9",
   "metadata": {},
   "outputs": [
    {
     "name": "stdout",
     "output_type": "stream",
     "text": [
      "[2, 4, 6, 8, 10]\n"
     ]
    }
   ],
   "source": [
    "numbers = [1, 2, 3, 4, 5, 6, 7, 8, 9, 10]\n",
    "even_numbers = filter( lambda x : x % 2 == 0, numbers)\n",
    "print(list(even_numbers)) \n"
   ]
  },
  {
   "cell_type": "markdown",
   "id": "441179a4-f353-45a0-be7f-14098c463bc1",
   "metadata": {},
   "source": [
    "3.\tCreate a Python program that uses the `filter()` function to select names that start with a specific letter from a list of strings."
   ]
  },
  {
   "cell_type": "code",
   "execution_count": 50,
   "id": "0fb6dc48-36b6-45e5-867a-1e3c085e7b37",
   "metadata": {},
   "outputs": [
    {
     "data": {
      "text/plain": [
       "['sudhanshu']"
      ]
     },
     "execution_count": 50,
     "metadata": {},
     "output_type": "execute_result"
    }
   ],
   "source": [
    "l = ['sudhanshu', 'krish', 'imraan']\n",
    "list(filter(lambda a : a[0]== 's',l))"
   ]
  },
  {
   "cell_type": "markdown",
   "id": "044cbe1d-bd61-4220-8605-955a54ad5617",
   "metadata": {},
   "source": [
    "4.\tWrite a Python program that uses the `filter()` function to select prime numbers from a list of integers.\n"
   ]
  },
  {
   "cell_type": "code",
   "execution_count": 26,
   "id": "66826031-52d8-4fd7-9968-27b51cf7e1bf",
   "metadata": {},
   "outputs": [
    {
     "name": "stdout",
     "output_type": "stream",
     "text": [
      "[2, 3, 5, 7, 11, 13]\n"
     ]
    }
   ],
   "source": [
    "numbers = [2, 3, 4, 5, 6, 7, 8, 9, 10, 11, 12, 13, 14, 15]\n",
    "prime_numbers = filter(lambda n: n > 1 and all(n % i != 0 for i in range(2, int(n**0.5) + 1)),numbers)\n",
    "print(list(prime_numbers)) \n"
   ]
  },
  {
   "cell_type": "markdown",
   "id": "e8aa9938-61d6-4f8d-a543-7cef8c3552b8",
   "metadata": {},
   "source": [
    "5.\tHow can you use the `filter()` function to remove None values from a list in Python?\n"
   ]
  },
  {
   "cell_type": "code",
   "execution_count": 28,
   "id": "da21e9af-0eab-4b3f-a504-f3a43988c4ef",
   "metadata": {},
   "outputs": [
    {
     "data": {
      "text/plain": [
       "[1, 2, 3, 4]"
      ]
     },
     "execution_count": 28,
     "metadata": {},
     "output_type": "execute_result"
    }
   ],
   "source": [
    "l= [1,2, None,3,4]\n",
    "list(filter(lambda a: a!= None,l))"
   ]
  },
  {
   "cell_type": "markdown",
   "id": "a0497449-ba42-426c-8543-275b5ca801c3",
   "metadata": {},
   "source": [
    "6.\tCreate a Python program that uses `filter()` to select words longer than a certain length from a list of strings."
   ]
  },
  {
   "cell_type": "code",
   "execution_count": 54,
   "id": "00452e70-aa99-4341-9a0a-60dcfd3be5e9",
   "metadata": {},
   "outputs": [
    {
     "data": {
      "text/plain": [
       "['sudhanshu', 'imraan']"
      ]
     },
     "execution_count": 54,
     "metadata": {},
     "output_type": "execute_result"
    }
   ],
   "source": [
    "l = ['sudhanshu', 'krish', 'imraan']\n",
    "n = 5\n",
    "[*filter(lambda a: len(a) > n , l )] \n",
    "#"
   ]
  },
  {
   "cell_type": "markdown",
   "id": "42702e3f-8532-4b1f-8eae-af22ef4b2cee",
   "metadata": {},
   "source": [
    "7.\tWrite a Python program that uses the `filter()` function to select elements greater than a specified threshold from a list of values.\n"
   ]
  },
  {
   "cell_type": "code",
   "execution_count": 31,
   "id": "9a8c8089-7930-4ee8-9d07-c4bfd496b29e",
   "metadata": {},
   "outputs": [
    {
     "data": {
      "text/plain": [
       "[35, 40, 45, 50]"
      ]
     },
     "execution_count": 31,
     "metadata": {},
     "output_type": "execute_result"
    }
   ],
   "source": [
    "values = [10, 15, 20, 25, 30, 35, 40, 45, 50]\n",
    "threshold = 30\n",
    "list(filter(lambda x: x > threshold, values))\n"
   ]
  },
  {
   "cell_type": "markdown",
   "id": "4f1bc3cb-36fa-443b-81f6-09f568135bd8",
   "metadata": {},
   "source": [
    "# Recursion:-"
   ]
  },
  {
   "cell_type": "markdown",
   "id": "8d047723-9634-4b99-bd80-7a10e18a74f3",
   "metadata": {},
   "source": [
    "1.\tExplain the concept of recursion in Python. How does it differ from iteration?"
   ]
  },
  {
   "cell_type": "code",
   "execution_count": 32,
   "id": "57561458-2255-4081-bbab-e681a81166d8",
   "metadata": {},
   "outputs": [
    {
     "name": "stdout",
     "output_type": "stream",
     "text": [
      "120\n"
     ]
    }
   ],
   "source": [
    "'''ecursion is a programming technique where a function calls itself, either directly or indirectly, \n",
    "in order to solve a larger problem by breaking it down into smaller, more manageable sub-problems.\n",
    "It's often used for tasks that can be defined in terms of similar, simpler sub-tasks, \n",
    "like the classic examples of computing factorials or Fibonacci numbers.'''\n",
    "def factorial_recursive(n):\n",
    "    if n == 0:\n",
    "        return 1\n",
    "    else:\n",
    "        return n * factorial_recursive(n - 1)\n",
    "print(factorial_recursive(5)) "
   ]
  },
  {
   "cell_type": "markdown",
   "id": "9b41b448-e9a0-47e6-9b78-f2ef64976321",
   "metadata": {},
   "source": [
    "2. Write a Python program to calculate the factorial of a number using recursion.\n"
   ]
  },
  {
   "cell_type": "code",
   "execution_count": 33,
   "id": "fdcd0e9d-b29e-4d41-85a3-a79631e2e902",
   "metadata": {},
   "outputs": [
    {
     "name": "stdout",
     "output_type": "stream",
     "text": [
      "120\n"
     ]
    }
   ],
   "source": [
    "def factorial_recursive(n):\n",
    "    if n == 0:\n",
    "        return 1\n",
    "    else:\n",
    "        return n * factorial_recursive(n - 1)\n",
    "print(factorial_recursive(5)) "
   ]
  },
  {
   "cell_type": "markdown",
   "id": "0862a7bb-3a9f-4913-b239-0e2888eef976",
   "metadata": {},
   "source": [
    "3.\tCreate a recursive Python function to find the nth Fibonacci number."
   ]
  },
  {
   "cell_type": "code",
   "execution_count": 55,
   "id": "8f472b3c-afb5-4dbf-9dcf-a50fd4e3927a",
   "metadata": {},
   "outputs": [
    {
     "name": "stdout",
     "output_type": "stream",
     "text": [
      "5\n",
      "13\n"
     ]
    }
   ],
   "source": [
    "def fibonacci_recursive(n):\n",
    "    # Base cases\n",
    "    if n == 0:\n",
    "        return 0\n",
    "    elif n == 1:\n",
    "        return 1\n",
    "    else:\n",
    "        return fibonacci_recursive(n - 1) + fibonacci_recursive(n - 2)\n",
    "\n",
    "print(fibonacci_recursive(5)) \n",
    "print(fibonacci_recursive(7))  \n"
   ]
  },
  {
   "cell_type": "markdown",
   "id": "731c148c-5e33-457b-94d2-e070cd1e414f",
   "metadata": {},
   "source": [
    "4.\tWrite a recursive Python function to calculate the sum of all elements in a list."
   ]
  },
  {
   "cell_type": "code",
   "execution_count": 56,
   "id": "20727e78-af2f-432b-a63f-1602ae25dd40",
   "metadata": {},
   "outputs": [
    {
     "name": "stdout",
     "output_type": "stream",
     "text": [
      "Sum of the list is: 15\n"
     ]
    }
   ],
   "source": [
    "\n",
    "def recursive_sum(lst):\n",
    "    if not lst:\n",
    "        return 0\n",
    "    return lst[0] + recursive_sum(lst[1:])\n",
    "\n",
    "# Test the function\n",
    "numbers = [1, 2, 3, 4, 5]\n",
    "print(f\"Sum of the list is: {recursive_sum(numbers)}\")\n",
    "\n",
    "    "
   ]
  },
  {
   "cell_type": "markdown",
   "id": "58637d80-dff4-4170-abe8-22bb349c4d9d",
   "metadata": {},
   "source": [
    "5. How can you prevent a recursive function from running indefinitely, causing a stack overflow error?\n"
   ]
  },
  {
   "cell_type": "code",
   "execution_count": 39,
   "id": "48e08fa9-a72a-4d78-bea6-ae5096e08e5e",
   "metadata": {},
   "outputs": [
    {
     "data": {
      "text/plain": [
       "5"
      ]
     },
     "execution_count": 39,
     "metadata": {},
     "output_type": "execute_result"
    }
   ],
   "source": [
    "def fibonacci(n):\n",
    "    if n <= 1:\n",
    "        return n\n",
    "    return fibonacci(n - 1) + fibonacci(n - 2)\n",
    "fibonacci(5)\n",
    "#For fibonacci(5), this function would make multiple redundant calls, which makes it highly inefficient for larger n."
   ]
  },
  {
   "cell_type": "markdown",
   "id": "df47485f-b93d-4011-9aff-a8884428a11d",
   "metadata": {},
   "source": [
    "6.\tCreate a recursive Python function to find the greatest common divisor (GCD) of two numbers using the Euclidean algorithm.\n"
   ]
  },
  {
   "cell_type": "code",
   "execution_count": 40,
   "id": "958b9307-2dcd-43df-8a7a-201135635dce",
   "metadata": {},
   "outputs": [
    {
     "name": "stdout",
     "output_type": "stream",
     "text": [
      "The GCD of 56 and 98 is: 14\n"
     ]
    }
   ],
   "source": [
    "def gcd(a, b):\n",
    "    if b == 0:\n",
    "        return a\n",
    "    return gcd(b, a % b)\n",
    "a = 56\n",
    "b = 98\n",
    "print(f\"The GCD of {a} and {b} is: {gcd(a, b)}\")  \n"
   ]
  },
  {
   "cell_type": "markdown",
   "id": "f1ec2485-71fc-4f87-8eb5-d9559b514f76",
   "metadata": {},
   "source": [
    "7.\tWrite a recursive Python function to reverse a string."
   ]
  },
  {
   "cell_type": "code",
   "execution_count": 41,
   "id": "35d452be-ad67-46b2-88de-3005ef0b652d",
   "metadata": {},
   "outputs": [
    {
     "name": "stdout",
     "output_type": "stream",
     "text": [
      "Original: hello\n",
      "Reversed: olleh\n"
     ]
    }
   ],
   "source": [
    "def reverse_string(s):\n",
    "    if len(s) <= 1:\n",
    "        return s\n",
    "    return s[-1] + reverse_string(s[:-1])\n",
    "string = \"hello\"\n",
    "print(f\"Original: {string}\")\n",
    "print(f\"Reversed: {reverse_string(string)}\")\n"
   ]
  },
  {
   "cell_type": "markdown",
   "id": "c16b3dd3-bb2d-43f4-b5c7-4e10c21c0d16",
   "metadata": {},
   "source": [
    "8.\tCreate a recursive Python function to calculate the power of a number (x^n)."
   ]
  },
  {
   "cell_type": "code",
   "execution_count": 58,
   "id": "787f2280-0904-4373-b4ed-59016f18494f",
   "metadata": {},
   "outputs": [
    {
     "name": "stdout",
     "output_type": "stream",
     "text": [
      "2 raised to the power 3 is: 8\n"
     ]
    }
   ],
   "source": [
    "def power_optimized(x, n):\n",
    "    if n == 0:\n",
    "        return 1\n",
    "    elif n < 0:\n",
    "        return 1 / power_optimized(x, -n)\n",
    "    elif n % 2 == 0:\n",
    "        half_power = power_optimized(x, n // 2)\n",
    "        return half_power * half_power\n",
    "    else:\n",
    "        return x * power_optimized(x, n - 1)\n",
    "x = 2\n",
    "n = 3\n",
    "print(f\"{x} raised to the power {n} is: {power_optimized(x, n)}\") \n"
   ]
  },
  {
   "cell_type": "markdown",
   "id": "14cda8c8-7f6a-4dfd-9a6f-15f783bcf78f",
   "metadata": {},
   "source": [
    "9.\tWrite a recursive Python function to find all permutations of a given string."
   ]
  },
  {
   "cell_type": "code",
   "execution_count": 46,
   "id": "24740979-5692-4802-93ff-51790b36a92f",
   "metadata": {},
   "outputs": [
    {
     "name": "stdout",
     "output_type": "stream",
     "text": [
      "Permutations of ac are:\n",
      "['ac', 'ca']\n"
     ]
    }
   ],
   "source": [
    "def get_permutations(s):\n",
    "    if len(s) <= 1:\n",
    "        return [s]\n",
    "    permutations = []\n",
    "    for i in range(len(s)):\n",
    "        current_char = s[i]\n",
    "        remaining_chars = s[:i] + s[i+1:]\n",
    "        for p in get_permutations(remaining_chars):\n",
    "            permutations.append(current_char + p)\n",
    "            \n",
    "    return permutations\n",
    "\n",
    "string = \"ac\"\n",
    "print(f\"Permutations of {string} are:\")\n",
    "print(get_permutations(string))\n"
   ]
  },
  {
   "cell_type": "markdown",
   "id": "1b921d8d-567a-464c-9c5e-31b4682ac1b3",
   "metadata": {},
   "source": [
    "10.\tWrite a recursive Python function to check if a string is a palindrome."
   ]
  },
  {
   "cell_type": "code",
   "execution_count": 60,
   "id": "8f8cd502-ab5c-4190-9c8e-3ae6159b0561",
   "metadata": {},
   "outputs": [
    {
     "name": "stdout",
     "output_type": "stream",
     "text": [
      "'civic' is a palindrome.\n"
     ]
    }
   ],
   "source": [
    "def is_palindrome(s):\n",
    "    if len(s) <= 1:\n",
    "        return True\n",
    "    if s[0] != s[-1]:\n",
    "        return False\n",
    "    return is_palindrome(s[1:-1])\n",
    "test_string = \"civic\"\n",
    "if is_palindrome(test_string):\n",
    "    print(f\"'{test_string}' is a palindrome.\")\n",
    "else:\n",
    "    print(f\"'{test_string}' is not a palindrome.\")\n"
   ]
  },
  {
   "cell_type": "markdown",
   "id": "35705bc9-7e47-47a1-afa3-521f8a428961",
   "metadata": {},
   "source": [
    "11. Create a recursive Python function to generate all possible combinations of a list of elements."
   ]
  },
  {
   "cell_type": "code",
   "execution_count": 48,
   "id": "1989b368-8cbf-42af-a3ba-1b878e0abfad",
   "metadata": {},
   "outputs": [
    {
     "name": "stdout",
     "output_type": "stream",
     "text": [
      "Combinations of [1, 2, 3] are:\n",
      "[[], [3], [2], [3, 2], [1], [3, 1], [2, 1], [3, 2, 1]]\n"
     ]
    }
   ],
   "source": [
    "def combinations(lst):\n",
    "    if not lst:\n",
    "        return [[]]\n",
    "    first_elem = lst[0]\n",
    "    sub_combinations = combinations(lst[1:])\n",
    "    next_combinations = [comb + [first_elem] for comb in sub_combinations]\n",
    "    \n",
    "    return sub_combinations + next_combinations\n",
    "elements = [1, 2, 3]\n",
    "print(f\"Combinations of {elements} are:\")\n",
    "print(combinations(elements))\n"
   ]
  },
  {
   "cell_type": "markdown",
   "id": "0e890a90-11c6-4e28-b0bf-465d443c2add",
   "metadata": {},
   "source": [
    "# Basics of Functions:"
   ]
  },
  {
   "cell_type": "markdown",
   "id": "790ffc4c-46df-4931-bccb-087d614f27b2",
   "metadata": {},
   "source": [
    "1.\tWhat is a function in Python, and why is it used?"
   ]
  },
  {
   "cell_type": "code",
   "execution_count": 61,
   "id": "5108c8eb-e3b6-49ef-8ee2-c0b0a6ef9349",
   "metadata": {},
   "outputs": [
    {
     "data": {
      "text/plain": [
       "'A function in Python is a block of organized, \\nreusable code that performs a specific task or set of tasks. \\nFunctions help in breaking down larger programs into smaller, \\nmodular chunks, making them easier to manage, debug, and understand.\\n'"
      ]
     },
     "execution_count": 61,
     "metadata": {},
     "output_type": "execute_result"
    }
   ],
   "source": [
    "'''A function in Python is a block of organized, \n",
    "reusable code that performs a specific task or set of tasks. \n",
    "Functions help in breaking down larger programs into smaller, \n",
    "modular chunks, making them easier to manage, debug, and understand.\n",
    "'''"
   ]
  },
  {
   "cell_type": "markdown",
   "id": "ba429840-6d43-42e4-809d-8226bfcdfa29",
   "metadata": {},
   "source": [
    "2. How do you define a function in Python? Provide an example.\n"
   ]
  },
  {
   "cell_type": "code",
   "execution_count": 64,
   "id": "73293dfd-fda7-4fc6-bd7e-e7a3b794a08b",
   "metadata": {},
   "outputs": [
    {
     "name": "stdout",
     "output_type": "stream",
     "text": [
      "Hello, Pwskills. Good Morning!!!\n"
     ]
    }
   ],
   "source": [
    "def greet(name):\n",
    "    \"\"\"This function greets the person passed in as a parameter.\"\"\"\n",
    "    return \"Hello, \" + name + \". Good Morning!!!\"\n",
    "\n",
    "# Usage\n",
    "print(greet(\"Pwskills\"))\n"
   ]
  },
  {
   "cell_type": "markdown",
   "id": "0010bef1-8c13-48a3-9e92-6abe20baafa1",
   "metadata": {},
   "source": [
    "3. Explain the difference between a function definition and a function call."
   ]
  },
  {
   "cell_type": "code",
   "execution_count": 36,
   "id": "f5009d5a-e6ec-4bff-80fb-3861f7b5b6a7",
   "metadata": {},
   "outputs": [
    {
     "name": "stdout",
     "output_type": "stream",
     "text": [
      "8\n"
     ]
    }
   ],
   "source": [
    "'''A function definition lays out the structure and operations of the function, essentially describing \"what\" it does and \"how\" it does it.\n",
    "A function call is an actual invocation of the function, making the function execute its defined tasks.\n",
    "'''\n",
    "def add(a, b):\n",
    "    return a + b\n",
    "\n",
    "sum_result = add(5, 3)\n",
    "print(sum_result)  # Outputs: 8\n"
   ]
  },
  {
   "cell_type": "markdown",
   "id": "c6cfaa32-ad8c-48df-9620-b554260ca0bb",
   "metadata": {},
   "source": [
    "4.\tWrite a Python program that defines a function to calculate the sum of two numbers and then calls the function."
   ]
  },
  {
   "cell_type": "code",
   "execution_count": 37,
   "id": "d0db3569-e6c0-4b7b-b628-214e1f23fd06",
   "metadata": {},
   "outputs": [
    {
     "name": "stdout",
     "output_type": "stream",
     "text": [
      "8\n"
     ]
    }
   ],
   "source": [
    "def add(a, b):\n",
    "    return a + b\n",
    "\n",
    "sum_result = add(5, 3)\n",
    "print(sum_result)"
   ]
  },
  {
   "cell_type": "markdown",
   "id": "1f9a8a3b-89e5-441e-b041-3d8af240dc3c",
   "metadata": {},
   "source": [
    "5.\tWhat is a function signature, and what information does it typically include?"
   ]
  },
  {
   "cell_type": "code",
   "execution_count": 38,
   "id": "3a5dcc05-08cf-4bd6-87bc-4d2a1eb0e842",
   "metadata": {},
   "outputs": [
    {
     "data": {
      "text/plain": [
       "3"
      ]
     },
     "execution_count": 38,
     "metadata": {},
     "output_type": "execute_result"
    }
   ],
   "source": [
    "'''A function signature defines the interface through which a function can be called. \n",
    "It provides essential details about the function, \n",
    "allowing users (and tools like type checkers or IDEs) to understand how to invoke the function correctly.\n",
    "\n",
    "A function signature typically includes:\n",
    "Function Name,Parameters (or Arguments),Return Type,Modifiers\n",
    "'''\n",
    "def add(a: int, b: int = 5) -> int:\n",
    "    return a + b\n",
    "\n",
    "add(1,2)"
   ]
  },
  {
   "cell_type": "markdown",
   "id": "73292b49-26a9-42fd-92be-f263b245321b",
   "metadata": {},
   "source": [
    "6. Create a Python function that takes two arguments and returns their product."
   ]
  },
  {
   "cell_type": "code",
   "execution_count": 39,
   "id": "36ed79b8-f5d5-4edd-acae-6d263d57c867",
   "metadata": {},
   "outputs": [
    {
     "name": "stdout",
     "output_type": "stream",
     "text": [
      "product is  15\n"
     ]
    }
   ],
   "source": [
    "def prod(a, b):\n",
    "    return a * b\n",
    "\n",
    "result = prod(5, 3)\n",
    "print(\"product is \",result)"
   ]
  },
  {
   "cell_type": "markdown",
   "id": "4f203dab-8927-41bf-ad8e-7058a4b6230c",
   "metadata": {},
   "source": [
    "# Function Parameters and Arguments:"
   ]
  },
  {
   "cell_type": "markdown",
   "id": "ab0fce08-a989-48dd-813d-debfa0186626",
   "metadata": {},
   "source": [
    "1. Explain the concepts of formal parameters and actual arguments in Python functions."
   ]
  },
  {
   "cell_type": "code",
   "execution_count": 67,
   "id": "ecc8ea44-4a40-416b-8d2c-f4addc0830fd",
   "metadata": {},
   "outputs": [
    {
     "name": "stdout",
     "output_type": "stream",
     "text": [
      "Hello Vandana, you are 53 years old.\n"
     ]
    }
   ],
   "source": [
    "'''Formal parameters, often simply called \"parameters,\"\n",
    "are the variables that are defined in a function's declaration. '''\n",
    "def greet(name, age): #Here, name and age are formal parameters.\n",
    "    print(f\"Hello {name}, you are {age} years old.\")\n",
    "#Actual arguments, often just called \"arguments,\" are the specific values or references that are passed to a function when it is called. These values are then matched with the function's formal parameters, and the function is executed with these values.\n",
    "\n",
    "greet(\"Vandana\", 53) #Here, \"Alice\" and 30 are actual arguments. "
   ]
  },
  {
   "cell_type": "markdown",
   "id": "75af13b0-b317-45c6-88b1-87c2d2357848",
   "metadata": {},
   "source": [
    "2. Write a Python program that defines a function with default argument values."
   ]
  },
  {
   "cell_type": "code",
   "execution_count": 69,
   "id": "d79c7bbc-591c-4993-8f55-5dc66577360e",
   "metadata": {},
   "outputs": [
    {
     "name": "stdout",
     "output_type": "stream",
     "text": [
      "Hello, How are you!\n",
      "Hello, Vandana!\n",
      "Welcome, Meenu!\n",
      "Hi Vandana JAin, How are you!\n"
     ]
    }
   ],
   "source": [
    "def greet(name=\"How are you\", message=\"Hello\"):\n",
    "    print(f\"{message}, {name}!\")\n",
    "\n",
    "# Test the function with different scenarios:\n",
    "\n",
    "# Use both default values\n",
    "greet()  # Output: Hello, User!\n",
    "\n",
    "# Provide only the name argument, use default message\n",
    "greet(\"Vandana\")  # Output: Hello, Alice!\n",
    "\n",
    "# Provide both arguments, overriding defaults\n",
    "greet(\"Meenu\", \"Welcome\")  # Output: Welcome, Bob!\n",
    "\n",
    "# Provide only the message argument, use default name\n",
    "greet(message=\"Hi Vandana JAin\")  # Output: Hi, User!\n"
   ]
  },
  {
   "cell_type": "markdown",
   "id": "03139dab-4ca0-4646-81ff-bb56295ea3b9",
   "metadata": {},
   "source": [
    "3.\tHow do you use keyword arguments in Python function calls? Provide an example."
   ]
  },
  {
   "cell_type": "code",
   "execution_count": 73,
   "id": "05ddb9a4-d00c-43dd-ba69-413c70d3362d",
   "metadata": {},
   "outputs": [
    {
     "name": "stdout",
     "output_type": "stream",
     "text": [
      "\n",
      "I have a Dog.\n",
      "My Dog's name is Ronnie.\n",
      "\n",
      "I have a Horse.\n",
      "My Horse's name is Jack.\n",
      "\n",
      "I have a Cat.\n",
      "My Cat's name is Kia.\n"
     ]
    }
   ],
   "source": [
    "def describe_pet(animal_type, pet_name):\n",
    "    \"\"\"Display information about a pet.\"\"\"\n",
    "    print(f\"\\nI have a {animal_type}.\")\n",
    "    print(f\"My {animal_type}'s name is {pet_name}.\")\n",
    "\n",
    "# Positional arguments (traditional way)\n",
    "describe_pet(\"Dog\", \"Ronnie\")\n",
    "\n",
    "# Keyword arguments\n",
    "describe_pet(animal_type=\"Horse\", pet_name=\"Jack\")\n",
    "describe_pet(pet_name=\"Kia\", animal_type=\"Cat\")  # Notice the order can be changed\n"
   ]
  },
  {
   "cell_type": "markdown",
   "id": "803aba0e-d501-4804-bc4a-1233e28058d8",
   "metadata": {},
   "source": [
    "4.\tCreate a Python function that accepts a variable number of arguments and calculates their sum."
   ]
  },
  {
   "cell_type": "code",
   "execution_count": 52,
   "id": "1fbb51df-bbe0-4d71-98fe-af591eadb337",
   "metadata": {},
   "outputs": [
    {
     "name": "stdout",
     "output_type": "stream",
     "text": [
      "6\n",
      "15\n",
      "0\n"
     ]
    }
   ],
   "source": [
    "def calculate_sum(*args):\n",
    "    return sum(args)\n",
    "\n",
    "# Test the function\n",
    "print(calculate_sum(1, 2, 3))  # Output: 6\n",
    "print(calculate_sum(1, 2, 3, 4, 5))  # Output: 15\n",
    "print(calculate_sum())  # Output: 0\n"
   ]
  },
  {
   "cell_type": "markdown",
   "id": "0bb5d6d3-8f46-4971-a771-df35fadcf006",
   "metadata": {},
   "source": [
    "5.\tWhat is the purpose of the `*args` and `**kwargs` syntax in function parameter lists?\n"
   ]
  },
  {
   "cell_type": "code",
   "execution_count": 76,
   "id": "07f14703-785a-4c47-8c76-18d8064c78ee",
   "metadata": {},
   "outputs": [
    {
     "name": "stdout",
     "output_type": "stream",
     "text": [
      "(21, 22, 23)\n",
      "{'sub1': 94, 'sub2': 95}\n"
     ]
    }
   ],
   "source": [
    "#The *args syntax allows a function to accept a variable number of positional arguments, \n",
    "#while **kwargs allows a function to accept a variable number of keyword (named) \n",
    "def example_function(*args, **kwargs):\n",
    "    print(args)  # tuple of positional arguments\n",
    "    print(kwargs)  # dictionary of keyword arguments\n",
    "\n",
    "example_function(21, 22, 23, sub1=94, sub2=95)  # Outputs: (1, 2, 3)  {'a': 4, 'b': 5}\n"
   ]
  },
  {
   "cell_type": "markdown",
   "id": "44bae6cc-2a78-4f12-b18e-ad155e047570",
   "metadata": {},
   "source": [
    "# Return Values and Scoping:"
   ]
  },
  {
   "cell_type": "markdown",
   "id": "21f78d2c-5d1a-4f72-8ed5-d5776f1fe511",
   "metadata": {},
   "source": [
    "1. Describe the role of the `return` statement in Python functions and provide examples."
   ]
  },
  {
   "cell_type": "code",
   "execution_count": 79,
   "id": "be7be574-bfb8-4b54-9c0e-ee28627cae5e",
   "metadata": {},
   "outputs": [
    {
     "name": "stdout",
     "output_type": "stream",
     "text": [
      "77\n"
     ]
    }
   ],
   "source": [
    "#The return statement in Python functions is used to send a result back to the caller and terminate the function's execution.\n",
    "def add(a, b):\n",
    "    return a + b\n",
    "\n",
    "addition = add(34, 43)  # result will be assigned the value 7\n",
    "print(addition)\n"
   ]
  },
  {
   "cell_type": "markdown",
   "id": "f2644bd0-b0f6-4838-a5f2-658a5f7b2129",
   "metadata": {},
   "source": [
    "2. Explain the concept of variable scope in Python, including local and global variables."
   ]
  },
  {
   "cell_type": "code",
   "execution_count": 80,
   "id": "505bbd81-c0e3-445f-8224-2df747578d39",
   "metadata": {},
   "outputs": [
    {
     "name": "stdout",
     "output_type": "stream",
     "text": [
      "51\n",
      "101\n"
     ]
    }
   ],
   "source": [
    "'''In Python, the scope determines the visibility of a variable: \n",
    "\"local\" variables are defined within a function and only accessible inside it, \n",
    "while \"global\" variables are defined outside any function and are accessible throughout the module.\n",
    "'''\n",
    "a = 101  # global variable\n",
    "\n",
    "def example_function():\n",
    "    y = 51  # local variable\n",
    "    print(y)\n",
    "\n",
    "example_function()  \n",
    "print(a)  "
   ]
  },
  {
   "cell_type": "markdown",
   "id": "e9b9e497-8a65-4bfa-93d8-13bd0fbe0e69",
   "metadata": {},
   "source": [
    "3. Write a Python program that demonstrates the use of global variables within functions."
   ]
  },
  {
   "cell_type": "code",
   "execution_count": 56,
   "id": "788f41cb-d03b-4f67-a60e-c8f326dfb160",
   "metadata": {},
   "outputs": [
    {
     "name": "stdout",
     "output_type": "stream",
     "text": [
      "Counter value: 1\n",
      "Counter value: 2\n",
      "Counter reset!\n",
      "Counter value: 1\n"
     ]
    }
   ],
   "source": [
    "counter = 0\n",
    "\n",
    "def increment_counter():\n",
    "    global counter  # Declare 'counter' as a global variable to modify it\n",
    "    counter += 1\n",
    "    print(f\"Counter value: {counter}\")\n",
    "\n",
    "def reset_counter():\n",
    "    global counter  # Declare 'counter' as a global variable to modify it\n",
    "    counter = 0\n",
    "    print(\"Counter reset!\")\n",
    "\n",
    "# Test the functions\n",
    "increment_counter()  # Outputs: Counter value: 1\n",
    "increment_counter()  # Outputs: Counter value: 2\n",
    "reset_counter()      # Outputs: Counter reset!\n",
    "increment_counter()  # Outputs: Counter value: 1\n"
   ]
  },
  {
   "cell_type": "markdown",
   "id": "0c3bb64a-98c5-4727-b855-36d5e24be108",
   "metadata": {},
   "source": [
    "4. Create a Python function that calculates the factorial of a number and returns it."
   ]
  },
  {
   "cell_type": "code",
   "execution_count": 81,
   "id": "5afecbda-bcfb-40f3-a4e0-f507a2c1d25a",
   "metadata": {},
   "outputs": [
    {
     "name": "stdout",
     "output_type": "stream",
     "text": [
      "Factorial of 5 is: 120\n"
     ]
    }
   ],
   "source": [
    "def factorial(n):\n",
    "    result = 1\n",
    "    for i in range(1, n + 1):\n",
    "        result *= i\n",
    "    return result\n",
    "num = 5\n",
    "print(f\"Factorial of {num} is: {factorial(num)}\")  \n"
   ]
  },
  {
   "cell_type": "markdown",
   "id": "4a660b17-91c7-42db-be86-f99587a5d705",
   "metadata": {},
   "source": [
    "5. How can you access variables defined outside a function from within the function?"
   ]
  },
  {
   "cell_type": "code",
   "execution_count": 58,
   "id": "c6554570-9ac8-41e3-b5ff-c07d9936231a",
   "metadata": {},
   "outputs": [
    {
     "name": "stdout",
     "output_type": "stream",
     "text": [
      "I'm a global variable\n",
      "Modified global variable\n"
     ]
    }
   ],
   "source": [
    "# Global variable\n",
    "var = \"I'm a global variable\"\n",
    "\n",
    "def display_var():\n",
    "    # Directly referencing the global variable to read its value\n",
    "    print(var)\n",
    "\n",
    "def modify_var():\n",
    "    global var  # Declare 'var' as global to modify it\n",
    "    var = \"Modified global variable\"\n",
    "\n",
    "display_var()  # Outputs: I'm a global variable\n",
    "modify_var()\n",
    "display_var()  # Outputs: Modified global variable\n"
   ]
  },
  {
   "cell_type": "markdown",
   "id": "44411284-969e-4410-b2b0-2315c765c622",
   "metadata": {},
   "source": [
    "# Lambda Functions and Higher-Order Functions:"
   ]
  },
  {
   "cell_type": "markdown",
   "id": "43486de2-bb99-4640-ae2f-207eb98db711",
   "metadata": {},
   "source": [
    "1. What are lambda functions in Python, and when are they typically used?"
   ]
  },
  {
   "cell_type": "code",
   "execution_count": null,
   "id": "1622ffa8-c8fd-4607-bb16-e3f1e453c234",
   "metadata": {},
   "outputs": [
    {
     "name": "stdout",
     "output_type": "stream",
     "text": [
      "25\n"
     ]
    }
   ],
   "source": [
    "#Lambda functions in Python are small, anonymous, one-liner functions defined using the lambda keyword, typically used for short, simple operations.\n",
    "square = lambda x: x ** 2\n",
    "print(square(5))  "
   ]
  },
  {
   "cell_type": "markdown",
   "id": "44620e36-abd0-471a-a7d9-8d0224de4b5b",
   "metadata": {},
   "source": [
    "2. Write a Python program that uses lambda functions to sort a list of tuples based on the second element."
   ]
  },
  {
   "cell_type": "code",
   "execution_count": 82,
   "id": "3813cda1-7a8a-4830-b79f-f341c8bdd3f1",
   "metadata": {},
   "outputs": [
    {
     "name": "stdout",
     "output_type": "stream",
     "text": [
      "Original List: [(1, 3), (3, 2), (2, 5), (4, 1)]\n",
      "Sorted List: [(4, 1), (3, 2), (1, 3), (2, 5)]\n"
     ]
    }
   ],
   "source": [
    "tuples_list = [(1, 3), (3, 2), (2, 5), (4, 1)]\n",
    "sorted_list = sorted(tuples_list, key=lambda x: x[1])\n",
    "\n",
    "print(f\"Original List: {tuples_list}\")\n",
    "print(f\"Sorted List: {sorted_list}\")\n"
   ]
  },
  {
   "cell_type": "markdown",
   "id": "7250336c-c86e-42d6-9c9a-1fa0db68b2f7",
   "metadata": {},
   "source": [
    "3. Explain the concept of higher-order functions in Python, and provide an example."
   ]
  },
  {
   "cell_type": "code",
   "execution_count": null,
   "id": "2174dd84-56ae-40d5-a46f-c0d695937e1b",
   "metadata": {},
   "outputs": [],
   "source": [
    "#Higher-order functions in Python are functions that accept other functions as arguments or return functions as results.\n",
    "print(list(map(lambda x: x**2, [1, 2, 3, 4]))) "
   ]
  },
  {
   "cell_type": "markdown",
   "id": "aece452f-5694-416a-9930-e2941594728a",
   "metadata": {},
   "source": [
    "4. Create a Python function that takes a list of numbers and a function as arguments, applying the function to each element in the list."
   ]
  },
  {
   "cell_type": "code",
   "execution_count": 134,
   "id": "df1fc35a-8784-4d4e-832c-965f695f116e",
   "metadata": {},
   "outputs": [
    {
     "name": "stdout",
     "output_type": "stream",
     "text": [
      "[1, 4, 9, 16, 25]\n"
     ]
    }
   ],
   "source": [
    "#example 1\n",
    "def apply_function_to_list(numbers, func):\n",
    "    results = []\n",
    "    for num in numbers:\n",
    "        result = func(num)\n",
    "        results.append(result)\n",
    "    return results\n",
    "\n",
    "numbers = [1, 2, 3, 4, 5]\n",
    "\n",
    "def square(x):\n",
    "    return x * x\n",
    "\n",
    "result = apply_function_to_list(numbers, square)\n",
    "print(result)"
   ]
  },
  {
   "cell_type": "code",
   "execution_count": 135,
   "id": "6cd8e5d5-1e3e-4e09-aff1-cadfc555b119",
   "metadata": {},
   "outputs": [
    {
     "name": "stdout",
     "output_type": "stream",
     "text": [
      "The reverse list is =  [3, 2, 1]\n"
     ]
    }
   ],
   "source": [
    "# example 2\n",
    "#function definition\n",
    "def rev_list(*params):\n",
    "    rev_list = []\n",
    "    for num in params[::-1]:\n",
    "        rev_list.append(num)\n",
    "    print(\"The reverse list is = \", rev_list) \n",
    "\n",
    "def func(add,l):\n",
    "    rev_list(*l)\n",
    "    \n",
    "\n",
    "l = [1,2,3]\n",
    "\n",
    "func(add, l)\n",
    "\n"
   ]
  },
  {
   "cell_type": "markdown",
   "id": "ba5b18ed-45ad-4436-94bb-d1c1d1ab75bd",
   "metadata": {},
   "source": [
    "# Built-in Functions:"
   ]
  },
  {
   "cell_type": "markdown",
   "id": "720e6ffc-19f8-43c4-ac6a-ba51e74562e1",
   "metadata": {},
   "source": [
    "1.\tDescribe the role of built-in functions like `len()`, `max()`, and `min()` in Python."
   ]
  },
  {
   "cell_type": "code",
   "execution_count": 60,
   "id": "c35fad8e-f912-4bb0-a113-4e32232f87fa",
   "metadata": {},
   "outputs": [
    {
     "name": "stdout",
     "output_type": "stream",
     "text": [
      "List: [4, 15, 9, 2, 8]\n",
      "Length of the list: 5\n",
      "Largest number: 15\n",
      "Smallest number: 2\n"
     ]
    }
   ],
   "source": [
    "'''In Python, len() returns the number of items in an object,\n",
    "while max() and min() return the largest and smallest values \n",
    "from an iterable or set of arguments, respectively.\n",
    "'''\n",
    "numbers = [4, 15, 9, 2, 8]\n",
    "length = len(numbers)  # Get the number of items in the list\n",
    "largest = max(numbers)  # Get the largest number in the list\n",
    "smallest = min(numbers)  # Get the smallest number in the list\n",
    "print(f\"List: {numbers}\")\n",
    "print(f\"Length of the list: {length}\")\n",
    "print(f\"Largest number: {largest}\")\n",
    "print(f\"Smallest number: {smallest}\")\n"
   ]
  },
  {
   "cell_type": "markdown",
   "id": "8d8b7da0-d8f6-4de8-a9fa-a054a9e283ad",
   "metadata": {},
   "source": [
    "2.\tWrite a Python program that uses the `map()` function to apply a function to each element of a list."
   ]
  },
  {
   "cell_type": "code",
   "execution_count": 61,
   "id": "51de0eb4-f008-4139-ace8-5d15e47991eb",
   "metadata": {},
   "outputs": [
    {
     "name": "stdout",
     "output_type": "stream",
     "text": [
      "Original numbers: [1, 2, 3, 4, 5]\n",
      "Squared numbers: [1, 4, 9, 16, 25]\n"
     ]
    }
   ],
   "source": [
    "def square(n):\n",
    "    \"\"\"Return the square of n.\"\"\"\n",
    "    return n ** 2\n",
    "numbers = [1, 2, 3, 4, 5]\n",
    "squared_numbers = list(map(square, numbers))\n",
    "print(f\"Original numbers: {numbers}\")\n",
    "print(f\"Squared numbers: {squared_numbers}\")\n"
   ]
  },
  {
   "cell_type": "markdown",
   "id": "29b3c0ac-68aa-4759-bd7a-284c49b38efa",
   "metadata": {},
   "source": [
    "3.\tHow does the `filter()` function work in Python, and when would you use it?"
   ]
  },
  {
   "cell_type": "code",
   "execution_count": 62,
   "id": "49880fc4-9b5b-40dd-8554-8d509afdbe6f",
   "metadata": {},
   "outputs": [
    {
     "name": "stdout",
     "output_type": "stream",
     "text": [
      "Original numbers: [1, 2, 3, 4, 5, 6, 7, 8, 9, 10]\n",
      "Even numbers: [2, 4, 6, 8, 10]\n"
     ]
    }
   ],
   "source": [
    "#filter out only the even numbers:\n",
    "def is_even(n):\n",
    "    \"\"\"Return True if n is even, else False.\"\"\"\n",
    "    return n % 2 == 0\n",
    "numbers = [1, 2, 3, 4, 5, 6, 7, 8, 9, 10]\n",
    "even_numbers = list(filter(is_even, numbers))\n",
    "print(f\"Original numbers: {numbers}\")\n",
    "print(f\"Even numbers: {even_numbers}\")"
   ]
  },
  {
   "cell_type": "markdown",
   "id": "40af7fea-5dbc-4b4a-81cb-3a024b0b9780",
   "metadata": {},
   "source": [
    "4. Create a Python program that uses the `reduce()` function to find the product of all elements in a list."
   ]
  },
  {
   "cell_type": "code",
   "execution_count": 63,
   "id": "df6c22dd-8278-4f18-907b-29f155cbd75f",
   "metadata": {},
   "outputs": [
    {
     "name": "stdout",
     "output_type": "stream",
     "text": [
      "List: [1, 2, 3, 4, 5]\n",
      "Product of all elements: 120\n"
     ]
    }
   ],
   "source": [
    "from functools import reduce\n",
    "def multiply(x, y):\n",
    "    \"\"\"Return the product of x and y.\"\"\"\n",
    "    return x * y\n",
    "numbers = [1, 2, 3, 4, 5]\n",
    "product = reduce(multiply, numbers)\n",
    "print(f\"List: {numbers}\")\n",
    "print(f\"Product of all elements: {product}\")\n"
   ]
  },
  {
   "cell_type": "markdown",
   "id": "5bbac4fc-3bed-4b14-afd6-2d4b79485f0c",
   "metadata": {},
   "source": [
    "# Function Documentation and Best Practices:"
   ]
  },
  {
   "cell_type": "markdown",
   "id": "edf2e53a-61ef-45b7-a882-0e217baf0a2d",
   "metadata": {},
   "source": [
    "1.\tExplain the purpose of docstrings in Python functions and how to write them."
   ]
  },
  {
   "cell_type": "code",
   "execution_count": 5,
   "id": "4ca2b2ca-b187-475a-a533-07abc08cd925",
   "metadata": {},
   "outputs": [
    {
     "name": "stdout",
     "output_type": "stream",
     "text": [
      "This is an example function's docstring.\n"
     ]
    }
   ],
   "source": [
    "'''Docstrings in Python provide a concise explanation of a function's purpose and usage, and are placed immediately after the function\n",
    "header within triple quotes. They can be accessed using the help() function or the .__doc__ attribute.'''\n",
    "\n",
    "def example_function():\n",
    "    \"\"\"This is an example function's docstring.\"\"\"\n",
    "    pass\n",
    "\n",
    "print(example_function.__doc__)  # Outputs: This is an example function's docstring.\n"
   ]
  },
  {
   "cell_type": "markdown",
   "id": "c49e1d69-34f1-4ad4-bcc1-0ba7380d89c5",
   "metadata": {},
   "source": [
    "2.\tDescribe some best practices for naming functions and variables in Python, including naming conventions and guidelines.\n"
   ]
  },
  {
   "cell_type": "code",
   "execution_count": null,
   "id": "0c83d0c6-df92-40cb-84ec-f430a29f431c",
   "metadata": {},
   "outputs": [],
   "source": [
    "'''\n",
    "Certainly! Here are some best practices for naming functions and variables in Python:\n",
    "\n",
    "Descriptive Names: Choose names that describe the purpose or meaning of the variable or function. For instance, word_list is more descriptive than wl.\n",
    "\n",
    "Use Lowercase for Variables and Functions: Names should be in lowercase, with words separated by underscores. For example: calculate_average, user_name.\n",
    "\n",
    "Avoid Using Built-in Names: Do not override Python built-in names, such as list, str, or max.\n",
    "\n",
    "Avoid Single-letter Variables: Except for common usage, like i, j, k in loops, or x, y, z in mathematical operations.\n",
    "\n",
    "Use Uppercase for Constants: Constants should be in uppercase with underscores separating words, e.g., PI_VALUE or MAX_LENGTH.\n",
    "\n",
    "Function Names Should Indicate Actions: Since functions typically perform actions, their names often have verbs, e.g., calculate_sum or print_message.\n",
    "\n",
    "Avoid Using Abbreviations: Unless they're widely accepted, like num for number or info for information.\n",
    "\n",
    "Use CamelCase for Classes: Class names should start with an uppercase letter, and every new word should also begin\n",
    "\n",
    "\n",
    "\n",
    "\n",
    "'''"
   ]
  }
 ],
 "metadata": {
  "kernelspec": {
   "display_name": "Python 3 (ipykernel)",
   "language": "python",
   "name": "python3"
  },
  "language_info": {
   "codemirror_mode": {
    "name": "ipython",
    "version": 3
   },
   "file_extension": ".py",
   "mimetype": "text/x-python",
   "name": "python",
   "nbconvert_exporter": "python",
   "pygments_lexer": "ipython3",
   "version": "3.10.8"
  }
 },
 "nbformat": 4,
 "nbformat_minor": 5
}
