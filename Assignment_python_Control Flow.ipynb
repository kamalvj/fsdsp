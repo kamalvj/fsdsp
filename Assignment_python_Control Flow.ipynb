{
 "cells": [
  {
   "cell_type": "markdown",
   "id": "16ad784b-940d-4e09-87e1-f3f23d14c704",
   "metadata": {},
   "source": [
    "## Basic If-Else Statements:"
   ]
  },
  {
   "cell_type": "markdown",
   "id": "c4f5475c-5ef5-4b0a-97bf-d6df583e2992",
   "metadata": {},
   "source": [
    "1. Write a Python program to check if a given number is positive or negative."
   ]
  },
  {
   "cell_type": "code",
   "execution_count": null,
   "id": "8780779b-959a-4221-9e94-5b6b1c501196",
   "metadata": {},
   "outputs": [],
   "source": [
    "in_num =int(input('Please enter the number'))\n",
    "if in_num>0:\n",
    "    print('Number is positive')\n",
    "else:\n",
    "    print('Number is negative')"
   ]
  },
  {
   "cell_type": "markdown",
   "id": "d5b5e60c-fc41-4f11-afc5-740a7c09b8ea",
   "metadata": {},
   "source": [
    "2. Create a program that determines if a person is eligible to vote based on their age."
   ]
  },
  {
   "cell_type": "code",
   "execution_count": null,
   "id": "7584210e-985d-46ee-a0c7-3b04b7eb9cee",
   "metadata": {},
   "outputs": [],
   "source": [
    "in_age = int(input('Please enter the age'))\n",
    "if in_age >= 18:\n",
    "    print('The person is eligible to Vote!')\n",
    "else:\n",
    "    print('The person is not eligible to Vote!')"
   ]
  },
  {
   "cell_type": "markdown",
   "id": "7f6b6228-5f85-44d9-bd65-cadfca5ad737",
   "metadata": {},
   "source": [
    "3. Develop a program to find the maximum of two numbers using if-else statements."
   ]
  },
  {
   "cell_type": "code",
   "execution_count": null,
   "id": "d1e8c3d7-ee29-49e0-836e-2bb38754c526",
   "metadata": {},
   "outputs": [],
   "source": [
    "num1 = int(input('Enter 1st number'))\n",
    "num2 = int(input('Enter 2nd number'))\n",
    "if num1>num2:\n",
    "    print(f'{num1} is greater than {num2}')\n",
    "else:\n",
    "    print('{} is greater than {}'.format(num2,num1))"
   ]
  },
  {
   "cell_type": "markdown",
   "id": "c9031e87-0dca-44f4-ab6b-de7c43252825",
   "metadata": {},
   "source": [
    "4. Write a Python script to classify a given year as a leap year or not."
   ]
  },
  {
   "cell_type": "code",
   "execution_count": null,
   "id": "6cc9ce0f-a940-4cdc-b4f7-a1b41d279100",
   "metadata": {},
   "outputs": [],
   "source": [
    "year = int(input('Enter year you want to check'))\n",
    "if year%100 == 0:\n",
    "    if year%400 == 0:\n",
    "        print(f'{year} is a leap year')\n",
    "    else:\n",
    "        print(f'{year} is not a leap year')\n",
    "else:\n",
    "    if year%4 ==0:\n",
    "        print(f'{year} is a leap year')\n",
    "    else:\n",
    "        print(f'{year} is not a leap year') \n"
   ]
  },
  {
   "cell_type": "markdown",
   "id": "a0b3fe20-5d04-4174-826c-2e3ffb60e5f9",
   "metadata": {},
   "source": [
    "5. Create a program that checks whether a character is a vowel or a consonant."
   ]
  },
  {
   "cell_type": "code",
   "execution_count": null,
   "id": "f0ef535e-a3c8-4249-b3ae-8879ab4bcb46",
   "metadata": {},
   "outputs": [],
   "source": [
    "char = input('Enter a character')\n",
    "if char == 'a' or char=='e' or char=='i' or char =='o' or char== 'u':\n",
    "    print(f'{char} is a vowel')\n",
    "else:\n",
    "    print(f'{char} is a constant')\n"
   ]
  },
  {
   "cell_type": "markdown",
   "id": "5544ac71-4d57-44b4-aea5-d82e9f0b08fc",
   "metadata": {},
   "source": [
    "6. Implement a program to determine whether a given number is even or odd."
   ]
  },
  {
   "cell_type": "code",
   "execution_count": null,
   "id": "4207ac90-05b1-4fd1-a8f0-27e7a09271e2",
   "metadata": {},
   "outputs": [],
   "source": [
    "num = int(input('Enter a number'))\n",
    "if num%2==0:\n",
    "    print(f'{num} is even')\n",
    "else:\n",
    "    print(f'{num} is odd')\n"
   ]
  },
  {
   "cell_type": "markdown",
   "id": "d0ebeea5-964e-463a-9c5d-2c863c2a044a",
   "metadata": {},
   "source": [
    "7. Write a Python function to calculate the absolute value of a number without using the `abs()` function."
   ]
  },
  {
   "cell_type": "code",
   "execution_count": null,
   "id": "67fba215-2513-4814-baeb-2e7c758a5dbb",
   "metadata": {},
   "outputs": [],
   "source": [
    "num = int(input('Enter a number'))\n",
    "if num>=0:\n",
    "    print(f'absolute value is {num}')\n",
    "else:\n",
    "    print(f'absolute value is {-num}')"
   ]
  },
  {
   "cell_type": "markdown",
   "id": "d59fb38a-6421-4bfc-a379-3a0a65344221",
   "metadata": {},
   "source": [
    "8. Develop a program that determines the largest of three given numbers using if-else statements."
   ]
  },
  {
   "cell_type": "code",
   "execution_count": null,
   "id": "214a9b51-def6-4493-b072-b8f0990063e8",
   "metadata": {},
   "outputs": [],
   "source": [
    "num1 = int(input('Enter 1st number'))\n",
    "num2 = int(input('Enter 2nd number'))\n",
    "num3 = int(input('Enter 3rd number'))\n",
    "if num1>num2 and num1>num3:\n",
    "    print(f'{num1} is largest number')\n",
    "else:\n",
    "    if num2>num3:\n",
    "        print(f'{num2} is largest number')\n",
    "    else:\n",
    "        print(f'{num3} is largest number')\n"
   ]
  },
  {
   "cell_type": "markdown",
   "id": "8773182e-fa3f-489a-85f0-0deb64e8ea76",
   "metadata": {},
   "source": [
    "9. Create a program that checks if a given string is a palindrome."
   ]
  },
  {
   "cell_type": "code",
   "execution_count": null,
   "id": "2b460b6d-1648-485e-9bfd-9f1d81cb7288",
   "metadata": {},
   "outputs": [],
   "source": [
    "pal = input('Enter a string')\n",
    "pal = pal.upper()\n",
    "pal_rev = pal[::-1]   # reverse a string\n",
    "\n",
    "if pal_rev==pal:\n",
    "    print('It is a palindrome string')\n",
    "else:\n",
    "    print('It is not a palindrome string')\n",
    "    "
   ]
  },
  {
   "cell_type": "markdown",
   "id": "bc986098-9144-4119-a339-2b3d2a151ad3",
   "metadata": {},
   "source": [
    "10. Write a Python program to calculate the grade based on a student's score."
   ]
  },
  {
   "cell_type": "code",
   "execution_count": null,
   "id": "78d03f02-4664-448a-b16d-ad7a01a5d513",
   "metadata": {},
   "outputs": [],
   "source": [
    "#A for >90 percentage\n",
    "#B for >80 %\n",
    "#C for > 70%\n",
    "#D for >60%\n",
    "#F for other\n",
    "#total score = 500\n",
    "\n",
    "score = int(input('Enter the score of students (max 500)'))\n",
    "per =(score/500)*100\n",
    "if per>90:\n",
    "    print('Grade is A')\n",
    "elif per >80:\n",
    "    print('Grade is B')\n",
    "elif per>70:\n",
    "    print('Grade is C')\n",
    "elif per>60:\n",
    "    print('Grade is D')\n",
    "else:\n",
    "    print('Grade is F')\n",
    "    "
   ]
  },
  {
   "cell_type": "markdown",
   "id": "fb06e4e7-f0ff-4f49-9197-6961ed53fd29",
   "metadata": {},
   "source": [
    "## Nested If-Else Statements:"
   ]
  },
  {
   "cell_type": "markdown",
   "id": "1b4b9817-c33c-418e-ae66-008e7b512e94",
   "metadata": {},
   "source": [
    "11. Write a program to find the largest among three numbers using nested if-else statements."
   ]
  },
  {
   "cell_type": "code",
   "execution_count": null,
   "id": "bd2f8216-6db4-4fcc-b837-a8c530064c2a",
   "metadata": {},
   "outputs": [],
   "source": [
    "num1 = int(input('Enter 1st number'))\n",
    "num2 = int(input('Enter 2nd number'))\n",
    "num3 = int(input('Enter 3rd number'))\n",
    "if num1>num2 and num1>num3:\n",
    "    print(f'{num1} is largest number')\n",
    "else:\n",
    "    if num2>num3:\n",
    "        print(f'{num2} is largest number')\n",
    "    else:\n",
    "        print(f'{num3} is largest number')\n"
   ]
  },
  {
   "cell_type": "markdown",
   "id": "b8362ce0-246d-4ba2-aeda-663f19f98af2",
   "metadata": {},
   "source": [
    "12. Implement a program to determine if a triangle is equilateral, isosceles, or scalene."
   ]
  },
  {
   "cell_type": "code",
   "execution_count": null,
   "id": "e691d9d9-749d-496d-9f26-88782969802a",
   "metadata": {},
   "outputs": [],
   "source": [
    "#input sides of a triangle\n",
    "s1 = int(input('Enter 1st side'))\n",
    "s2 = int(input('Enter 2nd side'))\n",
    "s3 = int(input('Enter 3rd side'))\n",
    "\n",
    "if s1==s2 and s1==s3:\n",
    "    print('Triangle is equilateral')\n",
    "elif s1==s2 or s2==s3 or s3==s1:\n",
    "    print('Triangle is isosceles')\n",
    "else:\n",
    "    print('Triangle is scalene')"
   ]
  },
  {
   "cell_type": "markdown",
   "id": "6c5c83eb-2a67-48fc-81d4-5e075ac87fbe",
   "metadata": {},
   "source": [
    "13. Develop a program that checks if a year is a leap year and also if it is a century year."
   ]
  },
  {
   "cell_type": "code",
   "execution_count": null,
   "id": "f8fd393b-3dd5-4517-bd80-4686d08302be",
   "metadata": {},
   "outputs": [],
   "source": [
    "year = int(input('Enter year you want to check'))\n",
    "if year%100 == 0:\n",
    "    print(f'{year} is a century year')\n",
    "    if year%400 == 0:\n",
    "        print(f'{year} is a leap year')\n",
    "    else:\n",
    "        print(f'{year} is not a leap year')\n",
    "else:\n",
    "    print(f'{year} is not a century year')\n",
    "    if year%4 ==0:\n",
    "        print(f'{year} is a leap year')\n",
    "    else:\n",
    "        print(f'{year} is not a leap year') "
   ]
  },
  {
   "cell_type": "markdown",
   "id": "044e3312-183c-4911-af67-fa4b1d60644f",
   "metadata": {},
   "source": [
    "14. Write a Python script to determine if a number is positive, negative, or zero."
   ]
  },
  {
   "cell_type": "code",
   "execution_count": null,
   "id": "583138cf-d1ac-42be-96ad-a0a1e694313d",
   "metadata": {},
   "outputs": [],
   "source": [
    "num =int(input('Enter the number'))\n",
    "if num>0:\n",
    "    print('Number is positive')\n",
    "elif num==0:\n",
    "    print('Number is zero')\n",
    "else:\n",
    "    print('Number is negative')"
   ]
  },
  {
   "cell_type": "markdown",
   "id": "ab64aa38-7e37-458d-8438-2d248e060067",
   "metadata": {},
   "source": [
    "15. Create a program to check if a person is a teenager (between 13 and 19 years old)."
   ]
  },
  {
   "cell_type": "code",
   "execution_count": null,
   "id": "a3f37b83-78fa-4f2a-ad76-86b9ceb61e6c",
   "metadata": {},
   "outputs": [],
   "source": [
    "age = int(input('Enter age'))\n",
    "\n",
    "if age > 13 and age <19:\n",
    "    print('Teenager')\n",
    "else:\n",
    "    print('not a teenager')"
   ]
  },
  {
   "cell_type": "markdown",
   "id": "b35f6e1b-df41-45cf-b4f5-6154a1280727",
   "metadata": {},
   "source": [
    "16. Develop a program that determines the type of angle based on its measure (acute, obtuse, or right)."
   ]
  },
  {
   "cell_type": "code",
   "execution_count": null,
   "id": "cfeae17c-153e-4f4a-a5cf-4ef4a5cc9ed2",
   "metadata": {},
   "outputs": [],
   "source": [
    "angle = int(input('Enter angle in degrees (between 0 and 180)'))\n",
    "\n",
    "if angle < 90:\n",
    "    print('It is an acute angle')\n",
    "elif angle==90:\n",
    "    print('It is right angle')\n",
    "else:\n",
    "    print('It is obtuse angle')"
   ]
  },
  {
   "cell_type": "markdown",
   "id": "19e97033-4a19-404f-ae49-b22c1e588b50",
   "metadata": {},
   "source": [
    "17. Write a Python program to calculate the roots of a quadratic equation."
   ]
  },
  {
   "cell_type": "code",
   "execution_count": null,
   "id": "6a7757af-66e5-4a72-9a0b-dfd5145af9a6",
   "metadata": {},
   "outputs": [],
   "source": [
    "# Solve the quadratic equation ax**2 + bx + c = 0\n",
    "\n",
    "# import complex math module\n",
    "import cmath\n",
    "\n",
    "#input coefficients of standard quadratic\n",
    "#1 -1 -6\n",
    "a= int(input('Enter 1st coeff'))\n",
    "b = int(input('Enter 2nd coeff'))\n",
    "c = int(input('Enter 3rd coeff'))\n",
    "# calculate the discriminant\n",
    "d = (b**2) - (4*a*c)\n",
    "\n",
    "# find two solutions\n",
    "sol1 = (-b-cmath.sqrt(d))/(2*a)\n",
    "sol2 = (-b+cmath.sqrt(d))/(2*a)\n",
    "\n",
    "print('The solution are {0} and {1}'.format(sol1,sol2))"
   ]
  },
  {
   "cell_type": "markdown",
   "id": "e1c52e3c-e764-4679-8ca6-d8d709f6a934",
   "metadata": {},
   "source": [
    "18. Implement a program to determine the day of the week based on a user-provided number (1 for Monday, 2\n",
    "for Tuesday, etc.)."
   ]
  },
  {
   "cell_type": "code",
   "execution_count": null,
   "id": "77cdece4-43ba-427c-8faa-bc9c586c30b0",
   "metadata": {},
   "outputs": [],
   "source": [
    "num = int(input('Enter a number'))\n",
    "if num == 1:\n",
    "    print('Monday')\n",
    "elif num==2:\n",
    "    print('Tueday')\n",
    "elif num==3:\n",
    "    print('Wednesday')\n",
    "elif num==4:\n",
    "    print('Thursday')\n",
    "elif num==5:\n",
    "    print('Friday')\n",
    "elif num==6:\n",
    "    print('Saturday')\n",
    "elif num==7:\n",
    "    print('Sunday')"
   ]
  },
  {
   "cell_type": "markdown",
   "id": "47a3a797-864f-44da-a068-fa482dce431c",
   "metadata": {},
   "source": [
    "19. Create a program that determines if a year is a leap year and also if it is evenly divisible by 400."
   ]
  },
  {
   "cell_type": "code",
   "execution_count": null,
   "id": "f477ded5-7592-4084-ba75-853e687cf5ab",
   "metadata": {},
   "outputs": [],
   "source": [
    "year = int(input('Enter year you want to check'))\n",
    "if year%100 == 0:\n",
    "    if year%400 == 0:\n",
    "        print(f'{year} is a leap year and divisible by 400')\n",
    "    else:\n",
    "        print(f'{year} is not a leap year and NOT divisible by 400')\n",
    "else:\n",
    "    if year%4 ==0:\n",
    "        print(f'{year} is a leap year and NOT divisible by 400')\n",
    "    else:\n",
    "        print(f'{year} is not a leap year and NOT divisible by 400') "
   ]
  },
  {
   "cell_type": "markdown",
   "id": "40f31899-4769-408f-b1b1-66360f155ce0",
   "metadata": {},
   "source": [
    "20. Develop a program that checks if a given number is prime or not using nested if-else statements."
   ]
  },
  {
   "cell_type": "code",
   "execution_count": null,
   "id": "2c6328a0-a8dc-46c1-9f00-b14e6eb64e7a",
   "metadata": {},
   "outputs": [],
   "source": [
    "num = int(input('Enter a number'))\n",
    "c=0\n",
    "if num!=1:\n",
    "    for i in range(1,num):\n",
    "        if num%i==0:\n",
    "            c=c+1\n",
    "    if c>2:\n",
    "        print(f'{num} is not Prime')\n",
    "    else:\n",
    "        print(f'{num} is Prime')\n",
    "else:\n",
    "    print(f'{num} is not prime')\n",
    "    \n"
   ]
  },
  {
   "cell_type": "markdown",
   "id": "26c513c2-4c08-4e30-bddc-d304b92253e2",
   "metadata": {},
   "source": [
    "## Elif Statements:"
   ]
  },
  {
   "cell_type": "markdown",
   "id": "c76863e2-5303-4ba2-9fcd-43c0ec8b8076",
   "metadata": {},
   "source": [
    "21. Write a Python program to assign grades based on different ranges of scores using elif statements."
   ]
  },
  {
   "cell_type": "code",
   "execution_count": null,
   "id": "44501d41-d230-45de-a05a-63757c0e110f",
   "metadata": {},
   "outputs": [],
   "source": [
    "#A for >90 percentage\n",
    "#B for >80 %\n",
    "#C for > 70%\n",
    "#D for >60%\n",
    "#F for other\n",
    "#total score = 500\n",
    "\n",
    "score = int(input('Enter the score of students (max 500)'))\n",
    "per =(score/500)*100\n",
    "if per>90:\n",
    "    print('Grade is A')\n",
    "elif per >80:\n",
    "    print('Grade is B')\n",
    "elif per>70:\n",
    "    print('Grade is C')\n",
    "elif per>60:\n",
    "    print('Grade is D')\n",
    "else:\n",
    "    print('Grade is F')"
   ]
  },
  {
   "cell_type": "markdown",
   "id": "122b5f69-c465-4b6b-ace0-a364d72155a0",
   "metadata": {},
   "source": [
    "22. Implement a program to determine the type of a triangle based on its angles."
   ]
  },
  {
   "cell_type": "code",
   "execution_count": null,
   "id": "86696af9-cd56-45b4-b643-169ac4b6e0c2",
   "metadata": {},
   "outputs": [],
   "source": [
    "a1 = int(input('Enter angle in degrees (between 0 and 180)'))\n",
    "a2 = int(input('Enter angle in degrees (between 0 and 180)'))\n",
    "a3 = int(input('Enter angle in degrees (between 0 and 180)'))\n",
    "l=[a1,a2,a3]\n",
    "l.sort()\n",
    "angle = l[-1]\n",
    "if angle < 90:\n",
    "    print('It is an acute angled triangle')\n",
    "elif angle==90:\n",
    "    print('It is right angled trianle')\n",
    "else:\n",
    "    print('It is obtuse angled triangle')"
   ]
  },
  {
   "cell_type": "markdown",
   "id": "a93f94af-72db-41df-a939-d47504a61b99",
   "metadata": {},
   "source": [
    "23. Develop a program to categorize a given person's BMI into underweight, normal, overweight, or obese using\n",
    "elif statements."
   ]
  },
  {
   "cell_type": "code",
   "execution_count": null,
   "id": "60b8ea17-114f-452f-bed4-dfb07536a312",
   "metadata": {},
   "outputs": [],
   "source": [
    "bmi = float(input(\"Enter the person's BMI index\"))\n",
    "if bmi<18.5:\n",
    "    print('Underweight')\n",
    "elif bmi>=18.5 and bmi<25:\n",
    "    print('Normal')\n",
    "elif bmi>=25 and bmi<30:\n",
    "    print('Overweight')\n",
    "else:\n",
    "    print('Obese')\n",
    "\n",
    "                  "
   ]
  },
  {
   "cell_type": "markdown",
   "id": "7937a282-3d92-4eb1-b1a5-6ea7e7727313",
   "metadata": {},
   "source": [
    "24. Create a program that determines whether a given number is positive, negative, or zero using elif\n",
    "statements."
   ]
  },
  {
   "cell_type": "code",
   "execution_count": null,
   "id": "30edf2db-613c-440c-ba91-3907713d7128",
   "metadata": {},
   "outputs": [],
   "source": [
    "num =int(input('Enter the number'))\n",
    "if num>0:\n",
    "    print('Number is positive')\n",
    "elif num==0:\n",
    "    print('Number is zero')\n",
    "else:\n",
    "    print('Number is negative')"
   ]
  },
  {
   "cell_type": "markdown",
   "id": "cd02103a-7e7c-499d-88eb-4898cf6521cb",
   "metadata": {},
   "source": [
    "25. Write a Python script to determine the type of a character (uppercase, lowercase, or special) using elif\n",
    "statements."
   ]
  },
  {
   "cell_type": "code",
   "execution_count": null,
   "id": "be37bc82-b039-4436-acb3-32f59f587cc8",
   "metadata": {},
   "outputs": [],
   "source": [
    "char = input('Enter the character')\n",
    "if char.isupper() == True:\n",
    "    print('It is uppercase')\n",
    "elif char.islower() == True:\n",
    "    print('It is lower case')\n",
    "else:\n",
    "    print('It is a special character')"
   ]
  },
  {
   "cell_type": "markdown",
   "id": "965684cb-06d8-40a9-be5a-3f7983891b0e",
   "metadata": {},
   "source": [
    "26. Implement a program to calculate the discounted price based on different purchase amounts using elif\n",
    "statements."
   ]
  },
  {
   "cell_type": "code",
   "execution_count": null,
   "id": "6cfae768-8762-47ab-8058-1ab2f8f5f1c8",
   "metadata": {},
   "outputs": [],
   "source": [
    "#price<100: No discount\n",
    "#100<price<=200: 5% discount\n",
    "#else 10% discount\n",
    "\n",
    "price = float(input('Enter the price'))\n",
    "if price <=100:\n",
    "    print(f'The discounted price is {price}')\n",
    "elif price>100 and price<=200:\n",
    "    print(f'The discounted price is {0.95*price}')\n",
    "else:\n",
    "    print(f'The discounted price is {0.90*price}')"
   ]
  },
  {
   "cell_type": "markdown",
   "id": "68e238b9-a463-4059-a1ed-7568fec0d4b8",
   "metadata": {},
   "source": [
    "27. Develop a program to calculate the electricity bill based on different consumption slabs using elif\n",
    "statements."
   ]
  },
  {
   "cell_type": "code",
   "execution_count": null,
   "id": "06d32851-6bd1-44a1-9f4c-ed053c7b9cf0",
   "metadata": {},
   "outputs": [],
   "source": [
    "kwh = float(input('Enter kWh consumed'))\n",
    "\n",
    "fc = 50                    \n",
    "if kwh<=100:             #Rs6/kWh upto 100kWh\n",
    "    print(f'{fc+(6*kwh)} is the total cost')\n",
    "elif kwh>100 and kwh<200:  #Rs 10/kWh \n",
    "    print(f'{fc+(10*kwh)} is the total cost')\n",
    "else:                       #Rs 20/kWh\n",
    "    print(f'{fc+(20*kwh)} is the total cost')\n"
   ]
  },
  {
   "cell_type": "markdown",
   "id": "ae7a5ec9-7e00-4f2d-9fff-5164102c1f14",
   "metadata": {},
   "source": [
    "28. Create a program to determine the type of quadrilateral based on its angles and sides using elif statements."
   ]
  },
  {
   "cell_type": "code",
   "execution_count": null,
   "id": "e9f810ae-eb66-45ce-8a6b-05fb4171639a",
   "metadata": {},
   "outputs": [],
   "source": [
    "# Input the sides and angles of the quadrilateral\n",
    "side1 = float(input(\"Enter the length of side 1: \"))\n",
    "side2 = float(input(\"Enter the length of side 2: \"))\n",
    "side3 = float(input(\"Enter the length of side 3: \"))\n",
    "side4 = float(input(\"Enter the length of side 4: \"))\n",
    "angle1 = float(input(\"Enter the measure of angle 1: \"))\n",
    "angle2 = float(input(\"Enter the measure of angle 2: \"))\n",
    "angle3 = float(input(\"Enter the measure of angle 3: \"))\n",
    "angle4 = float(input(\"Enter the measure of angle 4: \"))\n",
    "\n",
    "# Check if it is a quadrilateral\n",
    "if side1 + side2 + side3 > side4 and side2 + side3 + side4 > side1 and side3 + side4 + side1 > side2:\n",
    "    # Check for each type of quadrilateral\n",
    "    if side1 == side2 == side3 == side4 and angle1 == angle2 == angle3 == angle4 == 90:\n",
    "        print(\"Square\")\n",
    "    elif side1 == side3 and side2 == side4 and angle1 == angle3 and angle2 == angle4 == 90:\n",
    "        print(\"Rectangle\")\n",
    "    elif side1 == side2 == side3 == side4 and angle1 == angle3 and angle2 == angle4:\n",
    "        print(\"Rhombus\")\n",
    "    elif side1 == side3 and side2 == side4 and angle1 == angle3 or angle2 == angle4:\n",
    "        print(\"Parallelogram\")\n",
    "    elif side1 == side3 or side2 == side4:\n",
    "        print(\"Trapezoid\")\n",
    "    elif side1 == side2 and side3 == side4 or side1 == side3 and side2 == side4 or side1 == side4 and side2 == side3:\n",
    "        print(\"Kite\")\n",
    "    else:\n",
    "        print(\"Quadrilateral but not a specific type\")\n",
    "else:\n",
    "    print(\"Not a quadrilateral\")\n",
    "    \n",
    "\n",
    "    \n"
   ]
  },
  {
   "cell_type": "markdown",
   "id": "0d7f71de-33de-493e-9011-9bf80f233a55",
   "metadata": {},
   "source": [
    "29. Write a Python script to determine the season based on a user-provided month using elif statements."
   ]
  },
  {
   "cell_type": "code",
   "execution_count": null,
   "id": "e1733e53-8753-424f-aab2-92061acfd367",
   "metadata": {},
   "outputs": [],
   "source": [
    "m = int(input('Enter the month number'))  #take user input of month\n",
    "#m=m.lower()\n",
    "#month = ['january','february','march','april','may','june','july','august','september','october','november','december']\n",
    "if m<3 or m>8:\n",
    "    print('winter')\n",
    "elif m>2 and m<5:\n",
    "    print('Spring')\n",
    "else:\n",
    "    print('Summer')\n",
    "    "
   ]
  },
  {
   "cell_type": "markdown",
   "id": "f6d06fab-3f32-4ce1-983e-8abb51f89148",
   "metadata": {},
   "source": [
    "30. Implement a program to determine the type of a year (leap or common) and month (30 or 31 days) using\n",
    "elif statements."
   ]
  },
  {
   "cell_type": "code",
   "execution_count": null,
   "id": "cb2302a9-dd8f-43f8-90cf-c2e80184473c",
   "metadata": {},
   "outputs": [],
   "source": [
    "year = int(input('Enter the year'))\n",
    "month = int(input('Enter month number'))\n",
    "\n",
    "if year%100 == 0:\n",
    "    if year%400 == 0:\n",
    "        print(f'{year} is a leap year')\n",
    "    else:\n",
    "        print(f'{year} is not a leap year')\n",
    "else:\n",
    "    if year%4 ==0:\n",
    "        print(f'{year} is a leap year')\n",
    "    else:\n",
    "        print(f'{year} is not a leap year')\n",
    "\n",
    "if month<=7:\n",
    "    if month%2!=0:\n",
    "        print('Month contains 31 days')\n",
    "    else:\n",
    "        print('Month contains 30 days')\n",
    "else:\n",
    "    if month%2==0:\n",
    "        print('Month contains 31 days')\n",
    "    else:\n",
    "        print('Month contains 30 days')\n",
    "    "
   ]
  },
  {
   "cell_type": "markdown",
   "id": "e8312fe0-8781-4520-9ea0-01bd9417396e",
   "metadata": {},
   "source": [
    "## Basic Level:"
   ]
  },
  {
   "cell_type": "markdown",
   "id": "77f25708-d03b-44ac-8bec-533421fc8f23",
   "metadata": {},
   "source": [
    "1. Write a Python program that checks if a given number is positive, negative, or zero."
   ]
  },
  {
   "cell_type": "code",
   "execution_count": null,
   "id": "4ee2137d-117e-4379-bc9f-2d106586dc33",
   "metadata": {},
   "outputs": [],
   "source": [
    "num =int(input('Enter the number'))\n",
    "if num>0:\n",
    "    print('Number is positive')\n",
    "elif num==0:\n",
    "    print('Number is zero')\n",
    "else:\n",
    "    print('Number is negative')"
   ]
  },
  {
   "cell_type": "markdown",
   "id": "2b15e2f5-7f79-43e9-a67c-f36de454f22a",
   "metadata": {},
   "source": [
    "2. Create a program to determine if a person is eligible to vote based on their age."
   ]
  },
  {
   "cell_type": "code",
   "execution_count": null,
   "id": "482be92b-bc08-409f-8b79-1c81cc751414",
   "metadata": {},
   "outputs": [],
   "source": [
    "age = int(input('Enter age'))\n",
    "if age > 18:\n",
    "    print('The person is eligible to vote')\n",
    "else:\n",
    "    print('The person is not eligible to vote')"
   ]
  },
  {
   "cell_type": "markdown",
   "id": "3578f774-f8d0-48d1-897a-ab8378cfe5a5",
   "metadata": {},
   "source": [
    "3. Write a program to find the maximum of two given numbers using conditional statements."
   ]
  },
  {
   "cell_type": "code",
   "execution_count": null,
   "id": "0831e591-bcc6-4945-9f62-a14a08e609fb",
   "metadata": {},
   "outputs": [],
   "source": [
    "num1 = int(input('Enter 1st number'))\n",
    "num2 = int(input('Enter 2nd number'))\n",
    "if num1>num2:\n",
    "    print(f'{num1} is greater than {num2}')\n",
    "else:\n",
    "    print('{} is greater than {}'.format(num2,num1))"
   ]
  },
  {
   "cell_type": "markdown",
   "id": "4f9a5826-551e-4822-b96d-d1d67ac9e91d",
   "metadata": {},
   "source": [
    "4. Develop a program that calculates the grade of a student based on their exam score."
   ]
  },
  {
   "cell_type": "code",
   "execution_count": null,
   "id": "88f570b5-21ed-4205-94bf-037bf144a075",
   "metadata": {},
   "outputs": [],
   "source": [
    "#A for >90 percentage\n",
    "#B for >80 %\n",
    "#C for > 70%\n",
    "#D for >60%\n",
    "#F for other\n",
    "#total score = 500\n",
    "\n",
    "score = int(input('Enter the score of students (max 500)'))\n",
    "per =(score/500)*100\n",
    "if per>90:\n",
    "    print('Grade is A')\n",
    "elif per >80:\n",
    "    print('Grade is B')\n",
    "elif per>70:\n",
    "    print('Grade is C')\n",
    "elif per>60:\n",
    "    print('Grade is D')\n",
    "else:\n",
    "    print('Grade is F')"
   ]
  },
  {
   "cell_type": "markdown",
   "id": "1d93070e-5404-4f94-aaae-0cc52d233d1d",
   "metadata": {},
   "source": [
    "5. Create a program that checks if a year is a leap year or not."
   ]
  },
  {
   "cell_type": "code",
   "execution_count": null,
   "id": "976c6a3f-73af-46f1-86f7-6d47e8638a70",
   "metadata": {},
   "outputs": [],
   "source": [
    "year = int(input('Enter the year'))\n",
    "\n",
    "if year%100 == 0:\n",
    "    if year%400 == 0:\n",
    "        print(f'{year} is a leap year')\n",
    "    else:\n",
    "        print(f'{year} is not a leap year')\n",
    "else:\n",
    "    if year%4 ==0:\n",
    "        print(f'{year} is a leap year')\n",
    "    else:\n",
    "        print(f'{year} is not a leap year')"
   ]
  },
  {
   "cell_type": "markdown",
   "id": "b9a3f786-0bbc-418e-8308-6905b10fa3c6",
   "metadata": {},
   "source": [
    "6. Write a program to classify a triangle based on its sides' lengths."
   ]
  },
  {
   "cell_type": "code",
   "execution_count": null,
   "id": "fac983c2-5284-482f-96c4-ca49d39df634",
   "metadata": {},
   "outputs": [],
   "source": [
    "#input sides of a triangle\n",
    "s1 = int(input('Enter 1st side'))\n",
    "s2 = int(input('Enter 2nd side'))\n",
    "s3 = int(input('Enter 3rd side'))\n",
    "\n",
    "if s1==s2 and s1==s3:\n",
    "    print('Triangle is equilateral')\n",
    "elif s1==s2 or s2==s3 or s3==s1:\n",
    "    print('Triangle is isosceles')\n",
    "else:\n",
    "    print('Triangle is scalene')"
   ]
  },
  {
   "cell_type": "markdown",
   "id": "5fbe0aa5-c70a-4530-8f8e-081cdcd694fd",
   "metadata": {},
   "source": [
    "7. Build a program that determines the largest of three given numbers."
   ]
  },
  {
   "cell_type": "code",
   "execution_count": null,
   "id": "7ac7ef3c-69a1-4e43-8936-0808a79c421a",
   "metadata": {},
   "outputs": [],
   "source": [
    "num1 = int(input('Enter 1st number'))\n",
    "num2 = int(input('Enter 2nd number'))\n",
    "num3 = int(input('Enter 3rd number'))\n",
    "if num1>num2 and num1>num3:\n",
    "    print(f'{num1} is largest number')\n",
    "else:\n",
    "    if num2>num3:\n",
    "        print(f'{num2} is largest number')\n",
    "    else:\n",
    "        print(f'{num3} is largest number')"
   ]
  },
  {
   "cell_type": "markdown",
   "id": "491f2bf6-696b-4693-b523-ea55af4cad7c",
   "metadata": {},
   "source": [
    "8. Develop a program that checks whether a character is a vowel or a consonant."
   ]
  },
  {
   "cell_type": "code",
   "execution_count": null,
   "id": "f9a2633e-5e4c-4aee-ab83-70955a90dcd4",
   "metadata": {},
   "outputs": [],
   "source": [
    "char = input('Enter a character')\n",
    "if char == 'a' or char=='e' or char=='i' or char =='o' or char== 'u':\n",
    "    print(f'{char} is a vowel')\n",
    "else:\n",
    "    print(f'{char} is a constant')"
   ]
  },
  {
   "cell_type": "markdown",
   "id": "155444ff-64f9-4098-a53f-701f5a4017f1",
   "metadata": {},
   "source": [
    "9. Create a program to calculate the total cost of a shopping cart based on discounts."
   ]
  },
  {
   "cell_type": "code",
   "execution_count": null,
   "id": "36c41147-10f0-47a4-a2a7-862cd7706820",
   "metadata": {},
   "outputs": [],
   "source": [
    "#price<100: No discount\n",
    "#100<price<=200: 5% discount\n",
    "#else 10% discount\n",
    "\n",
    "price = float(input('Enter the price'))\n",
    "if price <=100:\n",
    "    print(f'The discounted price is {price}')\n",
    "elif price>100 and price<=200:\n",
    "    print(f'The discounted price is {0.95*price}')\n",
    "else:\n",
    "    print(f'The discounted price is {0.90*price}')"
   ]
  },
  {
   "cell_type": "markdown",
   "id": "c4ea74d1-8bf8-4234-8213-6ae916624d79",
   "metadata": {},
   "source": [
    "10. Write a program that checks if a given number is even or odd."
   ]
  },
  {
   "cell_type": "code",
   "execution_count": null,
   "id": "09033922-7530-440e-8270-78a125806f4e",
   "metadata": {},
   "outputs": [],
   "source": [
    "num = int(input('Enter a number'))\n",
    "if num%2==0:\n",
    "    print(f'{num} is even')\n",
    "else:\n",
    "    print(f'{num} is odd')"
   ]
  },
  {
   "cell_type": "markdown",
   "id": "7fcd289e-b635-4d20-ab88-8dfc1ea350cb",
   "metadata": {},
   "source": [
    "## Intermediate Level:"
   ]
  },
  {
   "cell_type": "markdown",
   "id": "7a3f933d-7a49-49df-8863-bcedb1349492",
   "metadata": {},
   "source": [
    "11. Write a program that calculates the roots of a quadratic equation ."
   ]
  },
  {
   "cell_type": "code",
   "execution_count": null,
   "id": "c5d51942-d246-4af8-bbf3-00201f35bdb6",
   "metadata": {},
   "outputs": [],
   "source": [
    "# Solve the quadratic equation ax**2 + bx + c = 0\n",
    "\n",
    "# import complex math module\n",
    "import cmath\n",
    "\n",
    "#input coefficients of standard quadratic\n",
    "#1 -1 -6\n",
    "a= int(input('Enter 1st coeff'))\n",
    "b = int(input('Enter 2nd coeff'))\n",
    "c = int(input('Enter 3rd coeff'))\n",
    "# calculate the discriminant\n",
    "d = (b**2) - (4*a*c)\n",
    "\n",
    "# find two solutions\n",
    "sol1 = (-b-cmath.sqrt(d))/(2*a)\n",
    "sol2 = (-b+cmath.sqrt(d))/(2*a)\n",
    "\n",
    "print('The solution are {0} and {1}'.format(sol1,sol2))"
   ]
  },
  {
   "cell_type": "markdown",
   "id": "2d587938-e51d-47b9-8da9-1009dc07bfed",
   "metadata": {},
   "source": [
    "12. Create a program that determines the day of the week based on the day number (1-7)."
   ]
  },
  {
   "cell_type": "code",
   "execution_count": null,
   "id": "f0150ca4-3a63-48f4-956f-c3a3004bb4f7",
   "metadata": {},
   "outputs": [],
   "source": [
    "num = int(input('Enter a number'))\n",
    "if num == 1:\n",
    "    print('Monday')\n",
    "elif num==2:\n",
    "    print('Tueday')\n",
    "elif num==3:\n",
    "    print('Wednesday')\n",
    "elif num==4:\n",
    "    print('Thursday')\n",
    "elif num==5:\n",
    "    print('Friday')\n",
    "elif num==6:\n",
    "    print('Saturday')\n",
    "elif num==7:\n",
    "    print('Sunday')\n",
    "else:\n",
    "    print('Enter valid week day number')"
   ]
  },
  {
   "cell_type": "markdown",
   "id": "5e5ef5ed-9f4e-4520-93f1-a8d2f065d476",
   "metadata": {},
   "source": [
    "13. Develop a program that calculates the factorial of a given number using recursion."
   ]
  },
  {
   "cell_type": "code",
   "execution_count": null,
   "id": "3d9f0bf9-f046-4adb-b92f-d42399779b9f",
   "metadata": {},
   "outputs": [],
   "source": [
    "def fact(num,pr=1):\n",
    "    pr=pr*num\n",
    "    if num==1:\n",
    "        print(f'Factorial is {pr}')\n",
    "    else:\n",
    "        fact(num-1,pr)\n",
    "    \n",
    "fact(5) "
   ]
  },
  {
   "cell_type": "markdown",
   "id": "6c767d66-e3f3-4840-9dc5-f035f3a727c2",
   "metadata": {},
   "source": [
    "14. Write a program to find the largest among three numbers without using the `max()` function."
   ]
  },
  {
   "cell_type": "code",
   "execution_count": null,
   "id": "e8f0755d-e378-4b26-95e0-df019758708a",
   "metadata": {},
   "outputs": [],
   "source": [
    "num1 = int(input('Enter first number'))\n",
    "num2 = int(input('Enter second number'))\n",
    "num3 = int(input('Enter third number'))\n",
    "if num1>num2 and num1>num3:\n",
    "    print(f'{num1} is largest number')\n",
    "else:\n",
    "    if num2>num3:\n",
    "        print(f'{num2} is largest number')\n",
    "    else:\n",
    "        print(f'{num3} is largest number')"
   ]
  },
  {
   "cell_type": "markdown",
   "id": "10b1159d-041f-463b-9a31-e97abba9a093",
   "metadata": {},
   "source": [
    "15. Create a program that simulates a basic ATM transaction menu."
   ]
  },
  {
   "cell_type": "raw",
   "id": "82e7ead2-2012-4c54-b6b1-b54c54acb223",
   "metadata": {},
   "source": [
    "Following are the basic operations available in the ATM\n",
    "\n",
    "Withdraw\n",
    "Deposit\n",
    "Check Balance\n",
    "Exit\n",
    "A. Withdraw\n",
    "Take the amount user desires to withdraw as input.\n",
    "If the balance amount greater than or equal to the withdrawal amount then Perform the transaction and give the user the desired amount.\n",
    "Else print Insufficient Funds message.\n",
    "B. Deposit:\n",
    "\n",
    "Take the amount user desires to deposit as input.\n",
    "Add the received input from the user to balance and update its value.\n",
    "balance = balance + deposit.\n",
    "Print a message on screen stating deposit transaction has been successful.\n",
    "C. Check Balance:\n",
    "\n",
    "Print a message on screen showing the value of balance amount.\n",
    "D. Exit:\n",
    "\n",
    "Exit the current Transaction mode and return the user to the home page or initial screen."
   ]
  },
  {
   "cell_type": "code",
   "execution_count": null,
   "id": "a1f9e7ea-40df-4fce-be1f-c5f2d835075b",
   "metadata": {},
   "outputs": [],
   "source": [
    "print('Welcome to the ATM machine')\n",
    "c=True\n",
    "bl = 1000\n",
    "while c==True:\n",
    "    cd = int(input('Enter 1 to Withdraw, 2 to Deposit, 3 to Balance Check, 4 to Exit'))\n",
    "    \n",
    "    if cd==1:\n",
    "        wd = float(input('Enter amount you want to Withdraw'))\n",
    "        if wd<=bl:\n",
    "            print(f'Debited with {wd} amount')\n",
    "            bl = bl-wd\n",
    "        else:\n",
    "            print('Insufficient funds')\n",
    "    \n",
    "    elif cd==2:\n",
    "        dp = float(input('Enter the Deposit amount'))\n",
    "        bl=bl+dp\n",
    "        print('Transaction successful')\n",
    "    \n",
    "    elif cd==3:\n",
    "        print(f'Balance amount is {bl}')\n",
    "    \n",
    "    elif cd==4:\n",
    "        pass\n",
    "    val=int(input('Enter 4 to get back to main menu or other number to exit'))\n",
    "    if val==4:\n",
    "        c=True\n",
    "    else:\n",
    "        c=False\n",
    "        \n"
   ]
  },
  {
   "cell_type": "markdown",
   "id": "bc40a8a4-ff0f-47dd-a801-975c8af96a9a",
   "metadata": {},
   "source": [
    "16. Build a program that checks if a given string is a palindrome or not."
   ]
  },
  {
   "cell_type": "code",
   "execution_count": null,
   "id": "831bf0c7-d7e8-469c-bc01-1e9ddef10f38",
   "metadata": {},
   "outputs": [],
   "source": [
    "pal = input('Enter a string')\n",
    "pal = pal.upper()\n",
    "pal_rev = pal[::-1]   # reverse a string\n",
    "\n",
    "if pal_rev==pal:\n",
    "    print('It is a palindrome string')\n",
    "else:\n",
    "    print('It is not a palindrome string')\n",
    "    "
   ]
  },
  {
   "cell_type": "markdown",
   "id": "aa00644a-3a5d-4f31-a39d-e52602aa4db5",
   "metadata": {},
   "source": [
    "17. Write a program that calculates the average of a list of numbers, excluding the smallest and largest values."
   ]
  },
  {
   "cell_type": "code",
   "execution_count": null,
   "id": "74033e00-d0cc-404a-ac03-533e75d34f9e",
   "metadata": {},
   "outputs": [],
   "source": [
    "l=[1,3,4,2,5,9]\n",
    "s=0\n",
    "l.sort()\n",
    "print(l)\n",
    "l=l[1:len(l)-1]\n",
    "for i in l:\n",
    "    s=s+i\n",
    "avg = s/len(l)\n",
    "print(avg)"
   ]
  },
  {
   "cell_type": "markdown",
   "id": "24d5bfb2-174f-4c95-810e-d6bf58c7c09f",
   "metadata": {},
   "source": [
    "18. Develop a program that converts a given temperature from Celsius to Fahrenheit."
   ]
  },
  {
   "cell_type": "code",
   "execution_count": null,
   "id": "76c153c0-081d-4c31-ae3f-9913c975411b",
   "metadata": {},
   "outputs": [],
   "source": [
    "temp_C = input(\"Enter temperature in Celsius\")    #Asks user to input temperature in Celsius\n",
    "temp_C = float(temp_C)                            #Typecast to float datatype\n",
    "temp_F = (9/5)*temp_C + 32                        # Convert to Fahrenheit using standard formula\n",
    "print(\"The temperature in Fahrenheit is\", temp_F) #Display result in Fahrenheit"
   ]
  },
  {
   "cell_type": "markdown",
   "id": "eebdf721-2314-4d1d-843c-47d69267132a",
   "metadata": {},
   "source": [
    "19. Create a program that simulates a basic calculator for addition, subtraction, multiplication, and division."
   ]
  },
  {
   "cell_type": "code",
   "execution_count": null,
   "id": "85622ce3-99dc-4c84-a93c-0ce7671828e8",
   "metadata": {},
   "outputs": [],
   "source": [
    "print('Welcome to Calculator')\n",
    "print(f\"1. Addition  2. Substraction  3. Multiplication  4. Division\")\n",
    "c=True\n",
    "while c==True:\n",
    "    op = int(input('Enter which operation you want'))\n",
    "    num1=float(input('Enter 1st number'))\n",
    "    num2=float(input('Enter 2nd number'))\n",
    "    if op==1:\n",
    "        print(num1+num2)\n",
    "    elif op==2:\n",
    "        print(num1-num2)\n",
    "    elif op==3:\n",
    "        print(num1*num2)\n",
    "    elif op==4:\n",
    "        print(num1/num2)\n",
    "    else:\n",
    "        print('Enter Valid operation')\n",
    "    val=int(input('Enter 6 to continue to calculator or any other number to exit calculator'))\n",
    "    if val==6:\n",
    "        c=True\n",
    "    else:\n",
    "        c=False\n",
    "\n",
    "        \n",
    "      "
   ]
  },
  {
   "cell_type": "markdown",
   "id": "fcbcd10f-edf4-4ef9-9c1e-50e8b1f4e5a1",
   "metadata": {},
   "source": [
    "20. Write a program that determines the roots of a cubic equation using the Cardano formula."
   ]
  },
  {
   "cell_type": "raw",
   "id": "75c730ed-b051-4735-9926-824927246fca",
   "metadata": {},
   "source": [
    "Algorithm\n",
    "Eliminate the square term by the substitution y = x + b/3a.\n",
    "Letting x = u+v, rewrite the equation in terms of u and v.\n",
    "Setting 3uv + p = 0, the equation becomes u^3 + v^3 = -q.\n",
    "Solve for u and v using the quadratic formula.\n",
    "Substitute back to find x."
   ]
  },
  {
   "cell_type": "code",
   "execution_count": null,
   "id": "8bb340ec-7ce4-4d56-97a9-336582a1a124",
   "metadata": {},
   "outputs": [],
   "source": [
    "import math\n",
    "\n",
    "def cardano(a, b, c, d):\n",
    "    p = (3*a*c - b**2) / (3*a**2)\n",
    "    q = (2*b**3 - 9*a*b*c + 27*a**2*d) / (27*a**3)\n",
    "    delta = q**2/4 + p**3/27\n",
    "    if delta > 0:\n",
    "        u = math.pow(-q/2 + math.sqrt(delta), 1/3)\n",
    "        v = math.pow(-q/2 - math.sqrt(delta), 1/3)\n",
    "        x1 = u + v - b/(3*a)\n",
    "        return [x1]\n",
    "    elif delta == 0:\n",
    "        u = math.pow(-q/2, 1/3)\n",
    "        x1 = 2*u - b/(3*a)\n",
    "        x2 = -u - b/(3*a)\n",
    "        return [x1, x2]\n",
    "    else:\n",
    "        t = math.acos(-q/2 * math.sqrt(27/(p**3)))\n",
    "        x1 = 2*math.sqrt(-p/3) * math.cos(t/3) - b/(3*a)\n",
    "        x2 = 2*math.sqrt(-p/3) * math.cos((t+2*math.pi)/3) - b/(3*a)\n",
    "        x3 = 2*math.sqrt(-p/3) * math.cos((t-2*math.pi)/3) - b/(3*a)\n",
    "        return [x1, x2, x3]"
   ]
  },
  {
   "cell_type": "markdown",
   "id": "eb517b03-a0f5-48b2-885c-6ee063525244",
   "metadata": {},
   "source": [
    "## Advanced Level:"
   ]
  },
  {
   "cell_type": "markdown",
   "id": "b6b082cb-c9ab-4a6e-a091-d906f99e95cd",
   "metadata": {},
   "source": [
    "21. Create a program that calculates the income tax based on the user's income and tax brackets."
   ]
  },
  {
   "cell_type": "raw",
   "id": "4b5c38ed-1b99-4c5a-92b7-d3df9fe1e586",
   "metadata": {},
   "source": [
    "₹0 - ₹2,50,000\t–\n",
    "₹2,50,000 - ₹5,00,000\t5%        \n",
    "(tax rebate u/s 87A is available)\n",
    "₹5,00,000 - ₹7,50,000\t10%\n",
    "₹7,50,000 - ₹10,00,000\t15%\n",
    "₹10,00,000 - ₹12,50,000\t20%\n",
    "₹12,50,000 - ₹15,00,000\t25%\n",
    ">₹15,00,000\t30%"
   ]
  },
  {
   "cell_type": "code",
   "execution_count": null,
   "id": "5933ccbe-fbd7-4a79-86b6-03a9f29b36c3",
   "metadata": {},
   "outputs": [],
   "source": [
    "inc = float(input('Enter user income'))\n",
    "if inc<=250000:\n",
    "    t=0\n",
    "    print(f'Tax is {t}')\n",
    "elif inc>250000 and inc<=500000:\n",
    "    t=0.05*inc\n",
    "    print(f'Tax is {t}')\n",
    "elif inc>500000 and inc<=750000:\n",
    "    t=0.10*inc\n",
    "    print(f'Tax is {t}')\n",
    "elif inc>750000 and inc<=1000000:\n",
    "    t=0.15*inc\n",
    "    print(f'Tax is {t}')\n",
    "elif inc>1000000 and inc<=1250000:\n",
    "    t=0.20*inc\n",
    "    print(f'Tax is {t}')\n",
    "elif inc>1250000 and inc<=1500000:\n",
    "    t=0.25*inc\n",
    "    print(f'Tax is {t}')\n",
    "else:\n",
    "    t=0.30*inc\n",
    "    print(f'Tax is {t}')\n",
    "    \n",
    "    "
   ]
  },
  {
   "cell_type": "markdown",
   "id": "03b24320-5f9c-46f8-8f98-8417f274a0e2",
   "metadata": {},
   "source": [
    "22. Write a program that simulates a rock-paper-scissors game against the computer."
   ]
  },
  {
   "cell_type": "code",
   "execution_count": null,
   "id": "c5c50b6c-027e-4529-9174-d0fd4d3390c6",
   "metadata": {},
   "outputs": [],
   "source": [
    "import random   #import random library for random computer action\n",
    "#Take input of user action\n",
    "game =True\n",
    "while game==True:\n",
    "\n",
    "    user_act = int(input('Enter your choice: 1. Rock  2. Paper  3. Scissor \\n'))\n",
    "#Computer choose random action\n",
    "    possible_act = [1,2,3]  #1.Rock;2.Paper;3.Scissor\n",
    "    comp_action = random.choice(possible_act)\n",
    "\n",
    "#Print choices of user and computer\n",
    "    print(f'You have chosen {user_act} and computer has chosen {comp_action}')\n",
    "\n",
    "#Find winner\n",
    "    if user_act==comp_action:\n",
    "        print(f'It is a tie, both have chosen {user_act}')\n",
    "    elif user_act == 1:\n",
    "        if comp_action == 2:\n",
    "            print(f'Paper covers rock! You loose')\n",
    "        else:\n",
    "            print(f'Rock smashes scissor! You win')\n",
    "    elif user_act == 2:\n",
    "        if comp_action == 3:\n",
    "            print(f'Scissor cuts paper! You loose')\n",
    "        else:\n",
    "            print(f'Paper covers rock! You win')\n",
    "    elif user_act==3:\n",
    "        if comp_action==1:\n",
    "            print(f'Rock smashes scissor! You loose')\n",
    "        else:\n",
    "            print(f'Scissor cuts paper! You win')\n",
    "#Continuous looping game, user can exit if desired\n",
    "    val= int(input('Press 6 to continue or any other number to exit'))\n",
    "    if val==6:\n",
    "        game=True\n",
    "    else:\n",
    "        game=False\n"
   ]
  },
  {
   "cell_type": "markdown",
   "id": "c44c2948-729e-40bf-98e6-399a08fca23d",
   "metadata": {},
   "source": [
    "23. Develop a program that generates a random password based on user preferences (length, complexity)."
   ]
  },
  {
   "cell_type": "code",
   "execution_count": null,
   "id": "8985ba40-d8ed-49b7-9ad0-938dd00ae7ce",
   "metadata": {},
   "outputs": [],
   "source": [
    "#Import libraries for character and random generation\n",
    "#string.ascii_letters gives all AtoZ and then atoz\n",
    "#string.digits give 0123456789\n",
    "#string.punctuation gives all available punctuations as a string\n",
    "import string\n",
    "import random\n",
    "\n",
    "length = int(input('Enter the desired length of password'))\n",
    "pref = int(input('Choose what you want to enter: 1. Letters 2.Digits 3.Punctuation 4. Exit \\n'))\n",
    "\n",
    "chara_list =''\n",
    "while True:\n",
    "    if pref==1:\n",
    "        chara_list+=string.ascii_letters\n",
    "    elif pref==2:\n",
    "        chara_list+=string.digits\n",
    "    elif pref==3:\n",
    "        chara_list+=string.punctuation\n",
    "    elif pref==4:\n",
    "        break\n",
    "    else:\n",
    "        print('Enter valid choice')\n",
    "\n",
    "#generate password\n",
    "    password=''\n",
    "    for i in range(length):\n",
    "        random_char = random.choice(chara_list)\n",
    "        password+=random_char\n",
    "    print(password,'\\n')\n",
    "    val=int(input('Enter any number to generate other or 4 to exit \\n'))\n",
    "    if val==4:\n",
    "        break"
   ]
  },
  {
   "cell_type": "markdown",
   "id": "9d1b60e6-00f6-41e1-8cbb-e1cfded66780",
   "metadata": {},
   "source": [
    "24. Create a program that implements a simple text-based adventure game with branching scenarios."
   ]
  },
  {
   "cell_type": "code",
   "execution_count": null,
   "id": "88dfee9b-9ad0-4483-b7ee-0cc607437ac7",
   "metadata": {},
   "outputs": [],
   "source": [
    "print('Welcome to The Train Murder Mystery\\n')\n",
    "while True:\n",
    "    print('''A middle aged man Ramesh enters into the 1st class AC coach of train. He has large beard and is covered with muffler and heavy coat.\n",
    "          He is shivering. He enters his compartment. It is a compartment with only two seats. A middle-aged Jyoti lady is sitting. She is \n",
    "          wearing gloves and looks high class. \\n ''')\n",
    "    choice = input('Will Ramesh sit in the cabin with lady? Yes/No').lower()\n",
    "    \n",
    "    if choice=='yes':\n",
    "        print(''' Ramesh sat infront of her. He pressed button to call waiter. He ordered one\n",
    "        cup of tea. Lady was observing this. \n",
    "        ''')\n",
    "        choice = input('Will the lady order coffee too? Yes/No').lower()\n",
    "    else:\n",
    "        print(''' game over\n",
    "        ''')\n",
    "        break\n",
    "        \n",
    "    if choice=='yes':\n",
    "        print('''Lady orders coffee too. Waiter came back with tea and coffee. The man drank the coffee.\n",
    "               The lady removed her gloves. She sipped tea. Ramesh gets up and took out a knife''')\n",
    "        choice=input('Will Ramesh kill lady? Yes/No').lower()\n",
    "    else:\n",
    "        print('Game Over')\n",
    "        break\n",
    "    if choice=='yes':\n",
    "        print('Will continue next time!')\n",
    "    else:\n",
    "        print('Game Over')\n",
    "        break\n",
    "    val = int(input('Enter 1 to exit or other number to continue'))\n",
    "    if val==1:\n",
    "        break\n",
    "choice       \n"
   ]
  },
  {
   "cell_type": "markdown",
   "id": "2f20d60b-6f7f-48fd-a714-d39ff63c8a4f",
   "metadata": {},
   "source": [
    "25. Build a program that solves a linear equation for x, considering different cases."
   ]
  },
  {
   "cell_type": "code",
   "execution_count": null,
   "id": "f71113d6-51d9-421d-a9de-d171d39c8b91",
   "metadata": {},
   "outputs": [],
   "source": [
    "# Input coefficients from the user\n",
    "a = float(input(\"Enter the value of a: \"))\n",
    "b = float(input(\"Enter the value of b: \"))\n",
    "c = float(input(\"Enter the value of c: \"))\n",
    "\n",
    "# Case when a is 0\n",
    "if a == 0:\n",
    "    if b == c:\n",
    "        print(\"The equation is true for all values of x.\")\n",
    "    else:\n",
    "        print(\"The equation has no solution.\")\n",
    "else:\n",
    "    # Calculate the value of x\n",
    "    x = (c - b) / a\n",
    "    print(f\"The solution for x is: {x}\")"
   ]
  },
  {
   "cell_type": "markdown",
   "id": "0632e6c8-24a1-4e26-b920-88be66d23d64",
   "metadata": {},
   "source": [
    "26. Write a program that simulates a basic quiz game with multiple-choice questions and scoring."
   ]
  },
  {
   "cell_type": "code",
   "execution_count": null,
   "id": "ab612da1-b8d7-437c-bda0-e2b6c5730065",
   "metadata": {},
   "outputs": [],
   "source": [
    "print('Welcome to the Quiz \\n')\n",
    "score=0\n",
    "while True:\n",
    "    print(f'Q1: Which was first electronic computer?\\n')\n",
    "    ch= input('''\n",
    "    A. PONY\n",
    "    B. RAINIC\n",
    "    C. ENIAC\n",
    "    D. PLANEC''').upper()\n",
    "    \n",
    "    if ch=='C':\n",
    "        score=score+1\n",
    "    \n",
    "    print(f'Q2: Which was first Programming language?\\n')\n",
    "    ch= input('''\n",
    "    A. PONY\n",
    "    B. PASCAL\n",
    "    C. ENIAC\n",
    "    D. FORTRAN''').upper()\n",
    "    \n",
    "    if ch=='D':\n",
    "        score=score+1\n",
    "        \n",
    "    print(f'Q1: When was internet invented?\\n')\n",
    "    ch= input('''\n",
    "    A. 1950\n",
    "    B. 1960\n",
    "    C. 1970\n",
    "    D. 1990''').upper()\n",
    "    \n",
    "    if ch=='B':\n",
    "        score=score+1\n",
    "        \n",
    "    print(f'Your scored {score} out of 3 \\n')\n",
    "    val = int(input('Enter 6 to exit or other number to play again \\n'))\n",
    "    if val==6:\n",
    "        break\n",
    "    else:\n",
    "        continue\n",
    "    "
   ]
  },
  {
   "cell_type": "markdown",
   "id": "4ca29360-2753-44e4-9378-b87b13a150ac",
   "metadata": {},
   "source": [
    "27. Develop a program that determines whether a given year is a prime number or not."
   ]
  },
  {
   "cell_type": "code",
   "execution_count": null,
   "id": "c2dd0486-cca8-4257-ba85-671ac1fb6c0a",
   "metadata": {},
   "outputs": [],
   "source": [
    "yr = int(input('Enter year'))\n",
    "c=0\n",
    "\n",
    "for i in range(1,yr+1):\n",
    "    if yr%i==0:\n",
    "        c+=1\n",
    "if c==2:\n",
    "    print(f'{yr} is prime')\n",
    "else:\n",
    "    print(f'{yr} is not prime')"
   ]
  },
  {
   "cell_type": "markdown",
   "id": "d771228c-c091-45cd-8fb3-9defb750df89",
   "metadata": {},
   "source": [
    "28. Create a program that sorts three numbers in ascending order using conditional statements."
   ]
  },
  {
   "cell_type": "code",
   "execution_count": null,
   "id": "f68ec6b0-bcae-4960-9bd5-322184b85a0d",
   "metadata": {},
   "outputs": [],
   "source": [
    "num1 = int(input('Enter 1st number'))\n",
    "num2 = int(input('Enter 2nd number'))\n",
    "num3 = int(input('Enter 3rd number'))\n",
    "\n",
    "lowest=num1\n",
    "largest = num2\n",
    "sort_list=[]\n",
    "l=[num1,num2,num3]\n",
    "\n",
    "for i in l:\n",
    "    if i<lowest:\n",
    "        lowest=i\n",
    "sort_list.append(lowest)\n",
    "for i in l:\n",
    "    if i>largest:\n",
    "        largest=i\n",
    "sort_list.append(largest)\n",
    "for i in l:\n",
    "    if i!=lowest and i!=largest:\n",
    "        sort_list.insert(1,i)\n",
    "print(sort_list)\n",
    "        \n",
    "    "
   ]
  },
  {
   "cell_type": "markdown",
   "id": "708d4247-7acf-42fc-99ca-eaeb7d53e840",
   "metadata": {},
   "source": [
    "29. Build a program that determines the roots of a quadrtic equation using numerical methods."
   ]
  },
  {
   "cell_type": "code",
   "execution_count": null,
   "id": "72974873-cc85-4c2d-ac24-4297b02944c1",
   "metadata": {},
   "outputs": [],
   "source": [
    "# Coefficients for the quartic equation ax^4 + bx^3 + cx^2 + dx + e = 0\n",
    "a = float(input(\"Enter coefficient a: \"))\n",
    "b = float(input(\"Enter coefficient b: \"))\n",
    "c = float(input(\"Enter coefficient c: \"))\n",
    "d = float(input(\"Enter coefficient d: \"))\n",
    "e = float(input(\"Enter coefficient e: \"))\n",
    "\n",
    "# Initial guess\n",
    "x0 = float(input(\"Enter initial guess for the root: \"))\n",
    "tolerance = 1e-6\n",
    "max_iterations = 1000\n",
    "iteration = 0\n",
    "\n",
    "while iteration < max_iterations:\n",
    "    # Evaluate the polynomial at x0\n",
    "    f_x0 = a*(x0**4) + b*(x0**3) + c*(x0**2) + d*x0 + e\n",
    "    \n",
    "    # Evaluate the derivative of the polynomial at x0\n",
    "    df_x0 = 4*a*(x0**3) + 3*b*(x0**2) + 2*c*x0 + d\n",
    "\n",
    "    if abs(df_x0) < tolerance:\n",
    "        print(\"Derivative is too small. Try a different initial guess.\")\n",
    "        break\n",
    "\n",
    "    # Newton-Raphson update\n",
    "    x1 = x0 - f_x0/df_x0\n",
    "    \n",
    "    # Check for convergence\n",
    "    if abs(x1 - x0) < tolerance:\n",
    "        print(f\"Found a root after {iteration} iterations: {x1}\")\n",
    "        break\n",
    "\n",
    "    x0 = x1\n",
    "    iteration += 1\n",
    "else:\n",
    "    print(\"Newton-Raphson method did not converge.\")"
   ]
  },
  {
   "cell_type": "markdown",
   "id": "1afc5fc0-bfe0-40b4-bebb-ab348ed0e868",
   "metadata": {},
   "source": [
    "30. Write a program that calculates the BMI (Body Mass Index) and provides health recommendations based\n",
    "on the user's input."
   ]
  },
  {
   "cell_type": "code",
   "execution_count": null,
   "id": "0a69ee7b-b6d7-46b9-bad9-4728da85f4aa",
   "metadata": {},
   "outputs": [],
   "source": [
    "wt = float(input('Eter wt in kg'))\n",
    "ht = float(input('Enter height in cm'))\n",
    "\n",
    "bmi=wt/ht\n",
    "\n",
    "if bmi<18.5:\n",
    "    print('Underweight: Eat more')\n",
    "elif bmi>=18.5 and bmi<25:\n",
    "    print('Normal: Stay same')\n",
    "elif bmi>=25 and bmi<30:\n",
    "    print('Overweight: Do running')\n",
    "else:\n",
    "    print('Obese: Change lifestyle')"
   ]
  },
  {
   "cell_type": "markdown",
   "id": "cf23141c-178d-4901-bf13-195193f62d79",
   "metadata": {},
   "source": [
    "## Challenge Level:"
   ]
  },
  {
   "cell_type": "markdown",
   "id": "1fd15cd0-eb8c-42ef-87ae-0d210718332f",
   "metadata": {},
   "source": [
    "31. Create a program that validates a password based on complexity rules (length, characters, etc.)."
   ]
  },
  {
   "cell_type": "code",
   "execution_count": null,
   "id": "e7f6035d-1a46-4f71-a000-963e259b1a21",
   "metadata": {},
   "outputs": [],
   "source": [
    "import string\n",
    "\n",
    "password = input('Enter password for validation')\n",
    "\n",
    "#criteria for password validation\n",
    "#Minimum 8 characters\n",
    "#Atleast 1 numeral\n",
    "#atleast 1 uppercase\n",
    "#atleast 1 punctuation\n",
    "char_list=''  #to store all uppercharacters\n",
    "num_list=''  #to store all numerals\n",
    "punc_list = ''  #to store all punctuations\n",
    "\n",
    "char_list+=string.ascii_uppercase\n",
    "num_list+=string.digits\n",
    "punc_list+=string.punctuation\n",
    "\n",
    "val=0\n",
    "if len(password)>=8:\n",
    "    val+=1\n",
    "ch=0\n",
    "n=0\n",
    "p=0\n",
    "\n",
    "for i in password:\n",
    "    if i in char_list:\n",
    "        ch+=1\n",
    "    if i in num_list:\n",
    "        n+=1\n",
    "    if i in punc_list:\n",
    "        p+=1\n",
    "check = val+ch+n+p\n",
    "if val>=1 and ch>=1 and n>=1 and p>=1:\n",
    "    print('valid password')\n",
    "else:\n",
    "    print('Invalid password')\n",
    "    \n"
   ]
  },
  {
   "cell_type": "markdown",
   "id": "42cbaea5-7769-4d79-b386-74fe57e13f5e",
   "metadata": {},
   "source": [
    "32. Develop a program that performs matrix addition and subtraction based on user input."
   ]
  },
  {
   "cell_type": "code",
   "execution_count": null,
   "id": "c45660ef-2c05-41f5-a059-132551773954",
   "metadata": {},
   "outputs": [],
   "source": [
    "l1=[[1,2,3],\n",
    "   [4,5,6],\n",
    "   [7,8,9]\n",
    "]\n",
    "\n",
    "l2 =[[9,8,7],\n",
    "     [6,5,4],\n",
    "     [3,2,1]\n",
    "]\n",
    "a=[] #to store sum\n",
    "b=[]  #to store difference\n",
    "for i in range(3):\n",
    "    for j in range(3):\n",
    "        a.append(l1[i][j]+l2[i][j])\n",
    "        b.append(l2[i][j]-l1[i][j])\n",
    "\n",
    "addition_matrix =[a[0:3],\n",
    "                  a[3:6],\n",
    "                  a[6:9]\n",
    "                 ]\n",
    "substraction_matrix =[b[0:3],\n",
    "                  b[3:6],\n",
    "                  b[6:9]\n",
    "                 ]\n",
    "print(addition_matrix,'\\n')\n",
    "print(substraction_matrix,'\\n')\n",
    "        "
   ]
  },
  {
   "cell_type": "markdown",
   "id": "35455f47-dda3-465d-8259-784ca09313d7",
   "metadata": {},
   "source": [
    "33. Write a program that calculates the greatest common divisor (GCD) of two numbers using the Euclidean algorithm."
   ]
  },
  {
   "cell_type": "code",
   "execution_count": null,
   "id": "036a46ac-3706-4065-93b7-43bb161149f6",
   "metadata": {},
   "outputs": [],
   "source": [
    "#Input two numbers\n",
    "a= int(input('Enter 1st number'))\n",
    "b= int(input('Enter 2nd number'))\n",
    "#Check if any of the number is zero\n",
    "if a==0:\n",
    "    print(f'GCD is {b}')\n",
    "\n",
    "elif a!=0 and b!=0:\n",
    "    large =0\n",
    "    small=0\n",
    "    if a>b:\n",
    "        large=a\n",
    "        small=b\n",
    "    else:\n",
    "        large=b\n",
    "        small=a\n",
    "    while large%small!=0:\n",
    "        rem=large%small\n",
    "        large = small\n",
    "        small = rem\n",
    "    print(small)\n",
    "else:\n",
    "    print(f'GCD is {a}')\n",
    "    \n"
   ]
  },
  {
   "cell_type": "markdown",
   "id": "4a6d1c9d-8904-445b-88a2-14c4409f58e7",
   "metadata": {},
   "source": [
    "34. Build a program that performs matrix multiplication using nested loops and conditional statements."
   ]
  },
  {
   "cell_type": "code",
   "execution_count": null,
   "id": "87fdc5da-7f92-40e5-8d0c-3af7a53502bd",
   "metadata": {},
   "outputs": [],
   "source": [
    "# 3x3 matrix\n",
    "X = [[12,7,3],\n",
    "    [4 ,5,6],\n",
    "    [7 ,8,9]]\n",
    "# 3x4 matrix\n",
    "Y = [[5,8,1,2],\n",
    "    [6,7,3,0],\n",
    "    [4,5,9,1]]\n",
    "# result is 3x4\n",
    "result = [[0,0,0,0],\n",
    "         [0,0,0,0],\n",
    "         [0,0,0,0]]\n",
    "\n",
    "# iterate through rows of X\n",
    "for i in range(len(X)):\n",
    "   # iterate through columns of Y\n",
    "   for j in range(len(Y[0])):\n",
    "       # iterate through rows of Y\n",
    "       for k in range(len(Y)):\n",
    "            result[i][j] += X[i][k] * Y[k][j]\n",
    "\n",
    "for r in result:\n",
    "    print(r)"
   ]
  },
  {
   "cell_type": "markdown",
   "id": "63c4f772-df37-4e40-9fb4-0b7ee9461def",
   "metadata": {},
   "source": [
    "35. Create a program that simulates a basic text-based tic-tac-toe game against the computer."
   ]
  },
  {
   "cell_type": "code",
   "execution_count": null,
   "id": "e6d6d77d-12ac-46d9-b29d-40a7229bc5f0",
   "metadata": {},
   "outputs": [],
   "source": [
    "   # Tic Tac Toe\n",
    "\n",
    "\n",
    "\n",
    "import random\n",
    "\n",
    "  \n",
    "\n",
    "def drawBoard(board):\n",
    "\n",
    "       # This function prints out the board that it was passed.\n",
    "\n",
    "  \n",
    "\n",
    "       # \"board\" is a list of 10 strings representing the board (ignore index 0)\n",
    "\n",
    "      print('   |   |')\n",
    "\n",
    "      print(' ' + board[7] + ' | ' + board[8] + ' | ' + board[9])\n",
    "\n",
    "      print('   |   |')\n",
    "\n",
    "      print('-----------')\n",
    "\n",
    "      print('   |   |')\n",
    "\n",
    "      print(' ' + board[4] + ' | ' + board[5] + ' | ' + board[6])\n",
    "\n",
    "      print('   |   |')\n",
    "\n",
    "      print('-----------')\n",
    "\n",
    "      print('   |   |')\n",
    "\n",
    "      print(' ' + board[1] + ' | ' + board[2] + ' | ' + board[3])\n",
    "\n",
    "      print('   |   |')\n",
    "\n",
    " \n",
    "\n",
    "def inputPlayerLetter():\n",
    "\n",
    "      # Lets the player type which letter they want to be.\n",
    "\n",
    "      # Returns a list with the player’s letter as the first item, and the computer's letter as the second.\n",
    "\n",
    "      letter = ''\n",
    "\n",
    "      while not (letter == 'X' or letter == 'O'):\n",
    "\n",
    "          print('Do you want to be X or O?')\n",
    "\n",
    "          letter = input().upper()\n",
    "\n",
    " \n",
    "\n",
    "      # the first element in the list is the player’s letter, the second is the computer's letter.\n",
    "\n",
    "      if letter == 'X':\n",
    "\n",
    "          return ['X', 'O']\n",
    "\n",
    "      else:\n",
    "\n",
    "          return ['O', 'X']\n",
    "\n",
    " \n",
    "\n",
    "def whoGoesFirst():\n",
    "\n",
    "      # Randomly choose the player who goes first.\n",
    "\n",
    "      if random.randint(0, 1) == 0:\n",
    "\n",
    "          return 'computer'\n",
    "\n",
    "      else:\n",
    "\n",
    "          return 'player'\n",
    "\n",
    " \n",
    "\n",
    "def playAgain():\n",
    "\n",
    "      # This function returns True if the player wants to play again, otherwise it returns False.\n",
    "\n",
    "      print('Do you want to play again? (yes or no)')\n",
    "\n",
    "      return input().lower().startswith('y')\n",
    "\n",
    " \n",
    "\n",
    "def makeMove(board, letter, move):\n",
    "\n",
    "      board[move] = letter\n",
    "\n",
    " \n",
    "\n",
    "def isWinner(bo, le):\n",
    "\n",
    "      # Given a board and a player’s letter, this function returns True if that player has won.\n",
    "\n",
    "      # We use bo instead of board and le instead of letter so we don’t have to type as much.\n",
    "\n",
    "      return ((bo[7] == le and bo[8] == le and bo[9] == le) or # across the top\n",
    "\n",
    "      (bo[4] == le and bo[5] == le and bo[6] == le) or # across the middle\n",
    "\n",
    "      (bo[1] == le and bo[2] == le and bo[3] == le) or # across the bottom\n",
    "\n",
    "      (bo[7] == le and bo[4] == le and bo[1] == le) or # down the left side\n",
    "\n",
    "      (bo[8] == le and bo[5] == le and bo[2] == le) or # down the middle\n",
    "\n",
    "      (bo[9] == le and bo[6] == le and bo[3] == le) or # down the right side\n",
    "\n",
    "      (bo[7] == le and bo[5] == le and bo[3] == le) or # diagonal\n",
    "\n",
    "      (bo[9] == le and bo[5] == le and bo[1] == le)) # diagonal\n",
    "\n",
    " \n",
    "\n",
    "def getBoardCopy(board):\n",
    "\n",
    "      # Make a duplicate of the board list and return it the duplicate.\n",
    "\n",
    "      dupeBoard = []\n",
    "\n",
    " \n",
    "\n",
    "      for i in board:\n",
    "\n",
    "          dupeBoard.append(i)\n",
    "\n",
    " \n",
    "\n",
    "      return dupeBoard\n",
    "\n",
    " \n",
    "\n",
    "def isSpaceFree(board, move):\n",
    "\n",
    "      # Return true if the passed move is free on the passed board.\n",
    "\n",
    "      return board[move] == ' '\n",
    "\n",
    " \n",
    "\n",
    "def getPlayerMove(board):\n",
    "\n",
    "      # Let the player type in their move.\n",
    "\n",
    "      move = ' '\n",
    "\n",
    "      while move not in '1 2 3 4 5 6 7 8 9'.split() or not isSpaceFree(board, int(move)):\n",
    "\n",
    "          print('What is your next move? (1-9)')\n",
    "\n",
    "          move = input()\n",
    "\n",
    "      return int(move)\n",
    "\n",
    " \n",
    "\n",
    "def chooseRandomMoveFromList(board, movesList):\n",
    "\n",
    "      # Returns a valid move from the passed list on the passed board.\n",
    "\n",
    "      # Returns None if there is no valid move.\n",
    "     possibleMoves = []\n",
    "\n",
    "     for i in movesList:\n",
    "\n",
    "         if isSpaceFree(board, i):\n",
    "\n",
    "             possibleMoves.append(i)\n",
    "\n",
    "\n",
    "\n",
    "     if len(possibleMoves) != 0:\n",
    "\n",
    "         return random.choice(possibleMoves)\n",
    "\n",
    "     else:\n",
    "\n",
    "         return None\n",
    "\n",
    "\n",
    "\n",
    "def getComputerMove(board, computerLetter):\n",
    "\n",
    "     # Given a board and the computer's letter, determine where to move and return that move.\n",
    "\n",
    "     if computerLetter == 'X':\n",
    "\n",
    "         playerLetter = 'O'\n",
    "\n",
    "     else:\n",
    "\n",
    "         playerLetter = 'X'\n",
    "\n",
    "\n",
    "\n",
    "     # Here is our algorithm for our Tic Tac Toe AI:\n",
    "\n",
    "     # First, check if we can win in the next move\n",
    "\n",
    "     for i in range(1, 10):\n",
    "\n",
    "         copy = getBoardCopy(board)\n",
    "         if isSpaceFree(copy, i):\n",
    "\n",
    "             makeMove(copy, computerLetter, i)\n",
    "\n",
    "             if isWinner(copy, computerLetter):\n",
    "\n",
    "                 return i\n",
    "\n",
    "\n",
    "\n",
    "     # Check if the player could win on their next move, and block them.\n",
    "\n",
    "     for i in range(1, 10):\n",
    "\n",
    "         copy = getBoardCopy(board)\n",
    "         if isSpaceFree(copy, i):\n",
    "             makeMove(copy, playerLetter, i)\n",
    "\n",
    "             if isWinner(copy, playerLetter):\n",
    "\n",
    "                 return i\n",
    "\n",
    "\n",
    "\n",
    "     # Try to take one of the corners, if they are free.\n",
    "\n",
    "     move = chooseRandomMoveFromList(board, [1, 3, 7, 9])\n",
    "\n",
    "     if move != None:\n",
    "\n",
    "         return move\n",
    "\n",
    "\n",
    "\n",
    "     # Try to take the center, if it is free.\n",
    "\n",
    "     if isSpaceFree(board, 5):\n",
    "\n",
    "         return 5\n",
    "\n",
    "\n",
    "\n",
    "     # Move on one of the sides.\n",
    "\n",
    "     return chooseRandomMoveFromList(board, [2, 4, 6, 8])\n",
    "\n",
    "\n",
    "\n",
    "def isBoardFull(board):\n",
    "\n",
    "     # Return True if every space on the board has been taken. Otherwise return False.\n",
    "\n",
    "     for i in range(1, 10):\n",
    "\n",
    "         if isSpaceFree(board, i):\n",
    "\n",
    "             return False\n",
    "\n",
    "     return True\n",
    "\n",
    "\n",
    "\n",
    "\n",
    "print('Welcome to Tic Tac Toe!')\n",
    "\n",
    "\n",
    "\n",
    "while True:\n",
    "\n",
    "     # Reset the board\n",
    "\n",
    "     theBoard = [' '] * 10\n",
    "\n",
    "     playerLetter, computerLetter = inputPlayerLetter()\n",
    "\n",
    "     turn = whoGoesFirst()\n",
    "\n",
    "     print('The ' + turn + ' will go first.')\n",
    "\n",
    "     gameIsPlaying = True\n",
    "\n",
    "\n",
    "\n",
    "     while gameIsPlaying:\n",
    "\n",
    "         if turn == 'player':\n",
    "\n",
    "             # Player’s turn.\n",
    "\n",
    "             drawBoard(theBoard)\n",
    "\n",
    "             move = getPlayerMove(theBoard)\n",
    "\n",
    "             makeMove(theBoard, playerLetter, move)\n",
    "\n",
    "\n",
    "\n",
    "             if isWinner(theBoard, playerLetter):\n",
    "\n",
    "                 drawBoard(theBoard)\n",
    "\n",
    "                 print('Hooray! You have won the game!')\n",
    "\n",
    "                 gameIsPlaying = False\n",
    "\n",
    "             else:\n",
    "\n",
    "                 if isBoardFull(theBoard):\n",
    "\n",
    "                     drawBoard(theBoard)\n",
    "\n",
    "                     print('The game is a tie!')\n",
    "\n",
    "                     break\n",
    "\n",
    "                 else:\n",
    "\n",
    "                     turn = 'computer'\n",
    "\n",
    "\n",
    "\n",
    "         else:\n",
    "\n",
    "             # Computer’s turn.\n",
    "\n",
    "             move = getComputerMove(theBoard, computerLetter)\n",
    "\n",
    "             makeMove(theBoard, computerLetter, move)\n",
    "\n",
    "\n",
    "\n",
    "             if isWinner(theBoard, computerLetter):\n",
    "\n",
    "                 drawBoard(theBoard)\n",
    "                 print('The computer has beaten you! You lose.')\n",
    "\n",
    "                 gameIsPlaying = False\n",
    "\n",
    "             else:\n",
    "\n",
    "                 if isBoardFull(theBoard):\n",
    "\n",
    "                     drawBoard(theBoard)\n",
    "\n",
    "                     print('The game is a tie!')\n",
    "\n",
    "                     break\n",
    "\n",
    "                 else:\n",
    "\n",
    "                     turn = 'player'\n",
    "\n",
    "\n",
    "\n",
    "     if not playAgain():\n",
    "\n",
    "         break"
   ]
  },
  {
   "cell_type": "markdown",
   "id": "ae3ccbd8-fe67-40d7-8d46-dfb58d08e076",
   "metadata": {},
   "source": [
    "36. Write a program that generates Fibonacci numbers up to a specified term using iterative methods."
   ]
  },
  {
   "cell_type": "code",
   "execution_count": null,
   "id": "1b5605ae-88eb-4f88-9ccf-ff758323c969",
   "metadata": {},
   "outputs": [],
   "source": [
    "n=int(input('Enter a number'))\n",
    "a=0\n",
    "b=1\n",
    "f=[]\n",
    "for i in range(n):\n",
    "    if i ==0 or i==1:\n",
    "        f.append(i)\n",
    "    else:\n",
    "        s=f[i-2]+f[i-1]\n",
    "        f.append(s)\n",
    "print(f)"
   ]
  },
  {
   "cell_type": "markdown",
   "id": "34c033be-bdfa-41c8-8e97-0bb92ddec3a1",
   "metadata": {},
   "source": [
    "37. Develop a program that calculates the nth term of the Fibonacci sequence using memoization."
   ]
  },
  {
   "cell_type": "code",
   "execution_count": null,
   "id": "10ad9dd0-850f-43ec-80bd-bafc7cdeec70",
   "metadata": {},
   "outputs": [],
   "source": [
    "#memoization is storing already calculated values in a cache so that they can be used again for faster results\n",
    "\n",
    "fibonacci_cache = {}\n",
    "def fibonacci(n):\n",
    "    if n in fibonacci_cache:\n",
    "        return fibonacci_cache[n]\n",
    "    #compute nth term\n",
    "    if n==1:\n",
    "        value=1\n",
    "    elif n==2:\n",
    "        value=1\n",
    "    elif n>2:\n",
    "        value = fibonacci(n-1) + fibonacci(n-2)\n",
    "        \n",
    "    #cache value in dictionary and then return\n",
    "    fibonacci_cache[n] = value\n",
    "    return value\n",
    "\n",
    "for n in range(1,51):\n",
    "    print(n,':',fibonacci(n))\n",
    "    "
   ]
  },
  {
   "cell_type": "markdown",
   "id": "ce14cb91-4f2b-4bec-bd13-9eb668987e25",
   "metadata": {},
   "source": [
    "38. Create a program that generates a calendar for a given month and year using conditional statements."
   ]
  },
  {
   "cell_type": "code",
   "execution_count": null,
   "id": "3017705c-f661-4760-9a52-1e6247c5407e",
   "metadata": {},
   "outputs": [],
   "source": [
    "import calendar\n",
    "\n",
    "def generate_calendar(month, year):\n",
    "    # List of month names for display\n",
    "    months = [\n",
    "        \"\", \"January\", \"February\", \"March\", \"April\", \"May\", \"June\",\n",
    "        \"July\", \"August\", \"September\", \"October\", \"November\", \"December\"\n",
    "    ]\n",
    "    \n",
    "    # Days in most months\n",
    "    month_days = [0, 31, 28, 31, 30, 31, 30, 31, 31, 30, 31, 30, 31]\n",
    "\n",
    "    # Check for leap year for February\n",
    "    if month == 2 and (year % 4 == 0 and (year % 100 != 0 or year % 400 == 0)):\n",
    "        month_days[month] = 29\n",
    "\n",
    "    # Start the calendar display\n",
    "    print(f\"Calendar for {months[month]} {year}\")\n",
    "    print(\"Mo Tu We Th Fr Sa Su\")\n",
    "    start_day = calendar.monthrange(year, month)[0]\n",
    "    for _ in range(start_day):\n",
    "        print(\"   \", end='')\n",
    "\n",
    "    # Print the days of the month\n",
    "    for day in range(1, month_days[month] + 1):\n",
    "        print(f\"{day:2} \", end='')\n",
    "        start_day += 1\n",
    "        if start_day == 7:\n",
    "            # Start a new week\n",
    "            print()\n",
    "            start_day = 0\n",
    "    print(\"\\n\")\n",
    "\n",
    "# Test the function\n",
    "generate_calendar(2, 2020)"
   ]
  },
  {
   "cell_type": "markdown",
   "id": "f17686fb-0245-452c-8c1e-595383648f46",
   "metadata": {},
   "source": [
    "39. Build a program that simulates a basic text-based blackjack game against the computer."
   ]
  },
  {
   "cell_type": "code",
   "execution_count": null,
   "id": "f9467715-0d7f-4f9a-b2e9-02d5a8408a67",
   "metadata": {},
   "outputs": [],
   "source": [
    "import random\n",
    "\n",
    "def deal_card():\n",
    "    \"\"\"Return a randomly chosen card.\"\"\"\n",
    "    cards = [2, 3, 4, 5, 6, 7, 8, 9, 10, 10, 10, 10, 11]  # Values of cards, with 10s for face cards and 11 for Ace\n",
    "    return random.choice(cards)\n",
    "\n",
    "def score(hand):\n",
    "    \"\"\"Return the total score of the hand.\"\"\"\n",
    "    total = sum(hand)\n",
    "    # Adjust for Ace if necessary\n",
    "    if total > 21 and 11 in hand:\n",
    "        hand.remove(11)\n",
    "        hand.append(1)\n",
    "        total = sum(hand)\n",
    "    return total\n",
    "\n",
    "def blackjack():\n",
    "    player_hand = [deal_card(), deal_card()]\n",
    "    computer_hand = [deal_card(), deal_card()]\n",
    "\n",
    "    while True:\n",
    "        player_score = score(player_hand)\n",
    "        computer_score = score(computer_hand)\n",
    "\n",
    "        print(f\"Your cards: {player_hand}, current score: {player_score}\")\n",
    "        print(f\"Computer's first card: {computer_hand[0]}\")\n",
    "\n",
    "        if player_score == 21 or computer_score == 21 or player_score > 21:\n",
    "            break\n",
    "\n",
    "        should_continue = input(\"Type 'y' to get another card, 'n' to pass: \")\n",
    "\n",
    "        if should_continue == 'y':\n",
    "            player_hand.append(deal_card())\n",
    "        else:\n",
    "            break\n",
    "\n",
    "    while computer_score < 17 and computer_score != 21:\n",
    "        computer_hand.append(deal_card())\n",
    "        computer_score = score(computer_hand)\n",
    "\n",
    "    print(f\"Your final hand: {player_hand}, final score: {player_score}\")\n",
    "    print(f\"Computer's final hand: {computer_hand}, final score: {computer_score}\")\n",
    "\n",
    "    if player_score > 21:\n",
    "        return \"You went over. You lose!\"\n",
    "    elif computer_score > 21:\n",
    "        return \"Computer went over. You win!\"\n",
    "    elif player_score > computer_score:\n",
    "        return \"You win!\"\n",
    "    elif player_score < computer_score:\n",
    "        return \"You lose!\"\n",
    "    else:\n",
    "        return \"It's a draw!\"\n",
    "\n",
    "print(blackjack())"
   ]
  },
  {
   "cell_type": "markdown",
   "id": "4187ac8c-b4af-44b0-b9b3-cf2dd9b9f0f2",
   "metadata": {},
   "source": [
    "40. Write a program that generates the prime factors of a given number using trial division."
   ]
  },
  {
   "cell_type": "code",
   "execution_count": null,
   "id": "32550911-9413-47ea-89f6-2654832a2a2d",
   "metadata": {},
   "outputs": [],
   "source": [
    "def trial_division(n):\n",
    "    factors = []\n",
    "    while n % 2 == 0:\n",
    "        factors.append(2)\n",
    "        n //= 2\n",
    "    i = 3\n",
    "    while i <= n**0.5:\n",
    "        if n % i == 0:\n",
    "            factors.append(i)\n",
    "            n //= i\n",
    "        else:\n",
    "            i += 2\n",
    "    if n > 2:\n",
    "        factors.append(n)\n",
    "    return factors\n",
    "trial_division(15)"
   ]
  },
  {
   "cell_type": "code",
   "execution_count": null,
   "id": "55453e88-0938-4891-9981-b04fa01d0fc0",
   "metadata": {},
   "outputs": [],
   "source": []
  },
  {
   "cell_type": "code",
   "execution_count": null,
   "id": "9686d917-c06f-4dfe-815f-ef05484248ea",
   "metadata": {},
   "outputs": [],
   "source": []
  }
 ],
 "metadata": {
  "kernelspec": {
   "display_name": "Python 3 (ipykernel)",
   "language": "python",
   "name": "python3"
  },
  "language_info": {
   "codemirror_mode": {
    "name": "ipython",
    "version": 3
   },
   "file_extension": ".py",
   "mimetype": "text/x-python",
   "name": "python",
   "nbconvert_exporter": "python",
   "pygments_lexer": "ipython3",
   "version": "3.10.8"
  }
 },
 "nbformat": 4,
 "nbformat_minor": 5
}
